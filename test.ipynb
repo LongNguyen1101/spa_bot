{
 "cells": [
  {
   "cell_type": "code",
   "execution_count": 1,
   "metadata": {},
   "outputs": [],
   "source": [
    "from core.graph.build_graph import create_main_graph\n",
    "from core.graph.state import init_state\n",
    "from core.utils.function import test_bot\n",
    "from langchain_core.messages import HumanMessage, AIMessage\n",
    "\n",
    "\n",
    "graph = create_main_graph()\n",
    "state = init_state()\n",
    "\n",
    "config = {\n",
    "    \"configurable\": \n",
    "    {\n",
    "        \"thread_id\": \"1\"\n",
    "    }\n",
    "}"
   ]
  },
  {
   "cell_type": "code",
   "execution_count": 2,
   "metadata": {},
   "outputs": [
    {
     "data": {
      "text/html": [
       "<pre style=\"white-space:pre;overflow-x:auto;line-height:normal;font-family:Menlo,'DejaVu Sans Mono',consolas,'Courier New',monospace\"><span style=\"color: #7fbfbf; text-decoration-color: #7fbfbf\">[09/24/25 16:32:20] </span><span style=\"color: #000080; text-decoration-color: #000080\">INFO    </span> ℹ️  <span style=\"color: #ff00ff; text-decoration-color: #ff00ff\">Tạo mới hoặc lấy thông tin khách: </span><span style=\"color: #ff00ff; text-decoration-color: #ff00ff; font-weight: bold\">{</span><span style=\"color: #008000; text-decoration-color: #008000\">'id'</span><span style=\"color: #ff00ff; text-decoration-color: #ff00ff\">: </span><span style=\"color: #008080; text-decoration-color: #008080; font-weight: bold\">210</span><span style=\"color: #ff00ff; text-decoration-color: #ff00ff\">, </span><span style=\"color: #008000; text-decoration-color: #008000\">'name'</span><span style=\"color: #ff00ff; text-decoration-color: #ff00ff\">: </span><span style=\"color: #008000; text-decoration-color: #008000\">'Long'</span><span style=\"color: #ff00ff; text-decoration-color: #ff00ff\">, </span><span style=\"color: #008000; text-decoration-color: #008000\">'phone'</span><span style=\"color: #ff00ff; text-decoration-color: #ff00ff\">: </span><span style=\"color: #008000; text-decoration-color: #008000\">'123'</span><span style=\"color: #ff00ff; text-decoration-color: #ff00ff\">, </span><span style=\"color: #008000; text-decoration-color: #008000\">'email'</span><span style=\"color: #ff00ff; text-decoration-color: #ff00ff\">: </span> \n",
       "<span style=\"color: #7fbfbf; text-decoration-color: #7fbfbf\">                    </span>         <span style=\"color: #800080; text-decoration-color: #800080; font-style: italic\">None</span><span style=\"color: #ff00ff; text-decoration-color: #ff00ff\">, </span><span style=\"color: #008000; text-decoration-color: #008000\">'chat_id'</span><span style=\"color: #ff00ff; text-decoration-color: #ff00ff\">: </span><span style=\"color: #008000; text-decoration-color: #008000\">'10'</span><span style=\"color: #ff00ff; text-decoration-color: #ff00ff\">, </span><span style=\"color: #008000; text-decoration-color: #008000\">'uuid'</span><span style=\"color: #ff00ff; text-decoration-color: #ff00ff\">: </span><span style=\"color: #008000; text-decoration-color: #008000\">'086f9b0e-d4e0-42b1-b474-95bc3c9bdc6c'</span><span style=\"color: #ff00ff; text-decoration-color: #ff00ff; font-weight: bold\">}</span>                     \n",
       "</pre>\n"
      ],
      "text/plain": [
       "\u001b[2;36m[09/24/25 16:32:20]\u001b[0m\u001b[2;36m \u001b[0m\u001b[34mINFO    \u001b[0m ℹ️  \u001b[95mTạo mới hoặc lấy thông tin khách: \u001b[0m\u001b[1;95m{\u001b[0m\u001b[32m'id'\u001b[0m\u001b[95m: \u001b[0m\u001b[1;36m210\u001b[0m\u001b[95m, \u001b[0m\u001b[32m'name'\u001b[0m\u001b[95m: \u001b[0m\u001b[32m'Long'\u001b[0m\u001b[95m, \u001b[0m\u001b[32m'phone'\u001b[0m\u001b[95m: \u001b[0m\u001b[32m'123'\u001b[0m\u001b[95m, \u001b[0m\u001b[32m'email'\u001b[0m\u001b[95m: \u001b[0m \n",
       "\u001b[2;36m                    \u001b[0m         \u001b[3;35mNone\u001b[0m\u001b[95m, \u001b[0m\u001b[32m'chat_id'\u001b[0m\u001b[95m: \u001b[0m\u001b[32m'10'\u001b[0m\u001b[95m, \u001b[0m\u001b[32m'uuid'\u001b[0m\u001b[95m: \u001b[0m\u001b[32m'086f9b0e-d4e0-42b1-b474-95bc3c9bdc6c'\u001b[0m\u001b[1;95m}\u001b[0m                     \n"
      ]
     },
     "metadata": {},
     "output_type": "display_data"
    },
    {
     "data": {
      "text/html": [
       "<pre style=\"white-space:pre;overflow-x:auto;line-height:normal;font-family:Menlo,'DejaVu Sans Mono',consolas,'Courier New',monospace\"><span style=\"color: #7fbfbf; text-decoration-color: #7fbfbf\">[09/24/25 16:32:21] </span><span style=\"color: #000080; text-decoration-color: #000080\">INFO    </span> ℹ️  <span style=\"color: #ff00ff; text-decoration-color: #ff00ff\">New customer: </span><span style=\"color: #ff0000; text-decoration-color: #ff0000; font-style: italic\">False</span>                                                                     \n",
       "</pre>\n"
      ],
      "text/plain": [
       "\u001b[2;36m[09/24/25 16:32:21]\u001b[0m\u001b[2;36m \u001b[0m\u001b[34mINFO    \u001b[0m ℹ️  \u001b[95mNew customer: \u001b[0m\u001b[3;91mFalse\u001b[0m                                                                     \n"
      ]
     },
     "metadata": {},
     "output_type": "display_data"
    },
    {
     "data": {
      "text/html": [
       "<pre style=\"white-space:pre;overflow-x:auto;line-height:normal;font-family:Menlo,'DejaVu Sans Mono',consolas,'Courier New',monospace\"><span style=\"color: #7fbfbf; text-decoration-color: #7fbfbf\">                    </span><span style=\"color: #000080; text-decoration-color: #000080\">INFO    </span> ℹ️  <span style=\"color: #ff00ff; text-decoration-color: #ff00ff\">Yêu cầu của khách: cám ơn em nhé</span>                                                        \n",
       "</pre>\n"
      ],
      "text/plain": [
       "\u001b[2;36m                   \u001b[0m\u001b[2;36m \u001b[0m\u001b[34mINFO    \u001b[0m ℹ️  \u001b[95mYêu cầu của khách: cám ơn em nhé\u001b[0m                                                        \n"
      ]
     },
     "metadata": {},
     "output_type": "display_data"
    },
    {
     "data": {
      "text/html": [
       "<pre style=\"white-space:pre;overflow-x:auto;line-height:normal;font-family:Menlo,'DejaVu Sans Mono',consolas,'Courier New',monospace\"><span style=\"color: #7fbfbf; text-decoration-color: #7fbfbf\">[09/24/25 16:32:22] </span><span style=\"color: #000080; text-decoration-color: #000080\">INFO    </span> ℹ️  <span style=\"color: #ff00ff; text-decoration-color: #ff00ff\">Agent tiếp theo: service_agent</span>                                                          \n",
       "</pre>\n"
      ],
      "text/plain": [
       "\u001b[2;36m[09/24/25 16:32:22]\u001b[0m\u001b[2;36m \u001b[0m\u001b[34mINFO    \u001b[0m ℹ️  \u001b[95mAgent tiếp theo: service_agent\u001b[0m                                                          \n"
      ]
     },
     "metadata": {},
     "output_type": "display_data"
    },
    {
     "name": "stdout",
     "output_type": "stream",
     "text": [
      "================================\u001b[1m Human Message \u001b[0m=================================\n",
      "\n",
      "cám ơn em nhé\n",
      "None\n",
      "==================================\u001b[1m Ai Message \u001b[0m==================================\n",
      "\n",
      "Dạ, không có gì ạ! Nếu anh/chị cần tư vấn hay hỗ trợ gì thêm, cứ thoải mái nhắn em nhé. Chúc anh/chị một ngày thật thư giãn và vui vẻ tại SPA AnVie!\n",
      "None\n",
      "==================================\u001b[1m Ai Message \u001b[0m==================================\n",
      "Name: services_agent_node\n",
      "\n",
      "Dạ, không có gì ạ! Nếu anh/chị cần tư vấn hay hỗ trợ gì thêm, cứ thoải mái nhắn em nhé. Chúc anh/chị một ngày thật thư giãn và vui vẻ tại SPA AnVie!\n",
      "None\n"
     ]
    }
   ],
   "source": [
    "state[\"user_input\"] = (\n",
    "    \"cám ơn em nhé\"\n",
    ")\n",
    "state[\"chat_id\"] = \"10\"\n",
    "\n",
    "await test_bot(graph, state, config, \"updates\")"
   ]
  },
  {
   "cell_type": "code",
   "execution_count": null,
   "metadata": {},
   "outputs": [],
   "source": [
    "state[\"user_input\"] = (\n",
    "    \"bên em có dịch vụ nào\"\n",
    ")\n",
    "state[\"chat_id\"] = \"10\"\n",
    "\n",
    "await test_bot(graph, state, config, \"updates\")"
   ]
  },
  {
   "cell_type": "code",
   "execution_count": null,
   "metadata": {},
   "outputs": [],
   "source": [
    "state[\"user_input\"] = (\n",
    "    \"cái trị liệu thư giãn đôi chân 60p khác 90p ra so vậy em\"\n",
    ")\n",
    "state[\"chat_id\"] = \"10\"\n",
    "\n",
    "await test_bot(graph, state, config, \"updates\")"
   ]
  },
  {
   "cell_type": "code",
   "execution_count": null,
   "metadata": {},
   "outputs": [],
   "source": [
    "state[\"user_input\"] = (\n",
    "    \"vậy còn bể sục nóng lạnh là sao em\"\n",
    ")\n",
    "state[\"chat_id\"] = \"10\"\n",
    "\n",
    "await test_bot(graph, state, config, \"updates\")"
   ]
  },
  {
   "cell_type": "code",
   "execution_count": null,
   "metadata": {},
   "outputs": [],
   "source": [
    "state[\"user_input\"] = (\n",
    "    \"vậy cho anh đăng ký bể sục nóng lạnh 30p với trị liệu thư giãn chân 60p nhé em\"\n",
    ")\n",
    "state[\"chat_id\"] = \"10\"\n",
    "\n",
    "await test_bot(graph, state, config, \"updates\")"
   ]
  },
  {
   "cell_type": "code",
   "execution_count": 3,
   "metadata": {},
   "outputs": [
    {
     "data": {
      "text/html": [
       "<pre style=\"white-space:pre;overflow-x:auto;line-height:normal;font-family:Menlo,'DejaVu Sans Mono',consolas,'Courier New',monospace\"><span style=\"color: #7fbfbf; text-decoration-color: #7fbfbf\">[09/24/25 16:03:53] </span><span style=\"color: #000080; text-decoration-color: #000080\">INFO    </span> ℹ️  <span style=\"color: #ff00ff; text-decoration-color: #ff00ff\">Thông tin của khách: - Tên: Long | - Số điện thoại: </span><span style=\"color: #008080; text-decoration-color: #008080; font-weight: bold\">123</span><span style=\"color: #ff00ff; text-decoration-color: #ff00ff\"> | - Email: </span><span style=\"color: #800080; text-decoration-color: #800080; font-style: italic\">None</span>                 \n",
       "</pre>\n"
      ],
      "text/plain": [
       "\u001b[2;36m[09/24/25 16:03:53]\u001b[0m\u001b[2;36m \u001b[0m\u001b[34mINFO    \u001b[0m ℹ️  \u001b[95mThông tin của khách: - Tên: Long | - Số điện thoại: \u001b[0m\u001b[1;36m123\u001b[0m\u001b[95m | - Email: \u001b[0m\u001b[3;35mNone\u001b[0m                 \n"
      ]
     },
     "metadata": {},
     "output_type": "display_data"
    },
    {
     "data": {
      "text/html": [
       "<pre style=\"white-space:pre;overflow-x:auto;line-height:normal;font-family:Menlo,'DejaVu Sans Mono',consolas,'Courier New',monospace\"><span style=\"color: #7fbfbf; text-decoration-color: #7fbfbf\">                    </span><span style=\"color: #000080; text-decoration-color: #000080\">INFO    </span> ℹ️  <span style=\"color: #ff00ff; text-decoration-color: #ff00ff\">New customer: </span><span style=\"color: #ff0000; text-decoration-color: #ff0000; font-style: italic\">False</span>                                                                     \n",
       "</pre>\n"
      ],
      "text/plain": [
       "\u001b[2;36m                   \u001b[0m\u001b[2;36m \u001b[0m\u001b[34mINFO    \u001b[0m ℹ️  \u001b[95mNew customer: \u001b[0m\u001b[3;91mFalse\u001b[0m                                                                     \n"
      ]
     },
     "metadata": {},
     "output_type": "display_data"
    },
    {
     "data": {
      "text/html": [
       "<pre style=\"white-space:pre;overflow-x:auto;line-height:normal;font-family:Menlo,'DejaVu Sans Mono',consolas,'Courier New',monospace\"><span style=\"color: #7fbfbf; text-decoration-color: #7fbfbf\">                    </span><span style=\"color: #000080; text-decoration-color: #000080\">INFO    </span> ℹ️  <span style=\"color: #ff00ff; text-decoration-color: #ff00ff\">Yêu cầu của khách: à hay cho anh đổi bể sục nóng lạnh 30p thành 60p đi em</span>               \n",
       "</pre>\n"
      ],
      "text/plain": [
       "\u001b[2;36m                   \u001b[0m\u001b[2;36m \u001b[0m\u001b[34mINFO    \u001b[0m ℹ️  \u001b[95mYêu cầu của khách: à hay cho anh đổi bể sục nóng lạnh 30p thành 60p đi em\u001b[0m               \n"
      ]
     },
     "metadata": {},
     "output_type": "display_data"
    },
    {
     "data": {
      "text/html": [
       "<pre style=\"white-space:pre;overflow-x:auto;line-height:normal;font-family:Menlo,'DejaVu Sans Mono',consolas,'Courier New',monospace\"><span style=\"color: #7fbfbf; text-decoration-color: #7fbfbf\">[09/24/25 16:03:54] </span><span style=\"color: #000080; text-decoration-color: #000080\">INFO    </span> ℹ️  <span style=\"color: #ff00ff; text-decoration-color: #ff00ff\">Agent tiếp theo: booking_agent</span>                                                          \n",
       "</pre>\n"
      ],
      "text/plain": [
       "\u001b[2;36m[09/24/25 16:03:54]\u001b[0m\u001b[2;36m \u001b[0m\u001b[34mINFO    \u001b[0m ℹ️  \u001b[95mAgent tiếp theo: booking_agent\u001b[0m                                                          \n"
      ]
     },
     "metadata": {},
     "output_type": "display_data"
    },
    {
     "name": "stdout",
     "output_type": "stream",
     "text": [
      "================================\u001b[1m Human Message \u001b[0m=================================\n",
      "\n",
      "à hay cho anh đổi bể sục nóng lạnh 30p thành 60p đi em\n",
      "None\n",
      "==================================\u001b[1m Ai Message \u001b[0m==================================\n",
      "Tool Calls:\n",
      "  remove_service_tool (call_yzkuQkhewTeA6rVsuV46dYvD)\n",
      " Call ID: call_yzkuQkhewTeA6rVsuV46dYvD\n",
      "  Args:\n",
      "    service_id_list: [28]\n",
      "None\n"
     ]
    },
    {
     "data": {
      "text/html": [
       "<pre style=\"white-space:pre;overflow-x:auto;line-height:normal;font-family:Menlo,'DejaVu Sans Mono',consolas,'Courier New',monospace\"><span style=\"color: #7fbfbf; text-decoration-color: #7fbfbf\">[09/24/25 16:03:56] </span><span style=\"color: #000080; text-decoration-color: #000080\">INFO    </span> ℹ️  <span style=\"color: #ff00ff; text-decoration-color: #ff00ff\">remove_service_tool được gọi</span>                                                            \n",
       "</pre>\n"
      ],
      "text/plain": [
       "\u001b[2;36m[09/24/25 16:03:56]\u001b[0m\u001b[2;36m \u001b[0m\u001b[34mINFO    \u001b[0m ℹ️  \u001b[95mremove_service_tool được gọi\u001b[0m                                                            \n"
      ]
     },
     "metadata": {},
     "output_type": "display_data"
    },
    {
     "data": {
      "text/html": [
       "<pre style=\"white-space:pre;overflow-x:auto;line-height:normal;font-family:Menlo,'DejaVu Sans Mono',consolas,'Courier New',monospace\"><span style=\"color: #7fbfbf; text-decoration-color: #7fbfbf\">                    </span><span style=\"color: #000080; text-decoration-color: #000080\">INFO    </span> ℹ️  <span style=\"color: #ff00ff; text-decoration-color: #ff00ff\">&gt;&gt;&gt;&gt;&gt; Dịch vụ hiện tại trong state: </span><span style=\"color: #ff00ff; text-decoration-color: #ff00ff; font-weight: bold\">{</span><span style=\"color: #008080; text-decoration-color: #008080; font-weight: bold\">28</span><span style=\"color: #ff00ff; text-decoration-color: #ff00ff\">: </span><span style=\"color: #ff00ff; text-decoration-color: #ff00ff; font-weight: bold\">{</span><span style=\"color: #008000; text-decoration-color: #008000\">'service_id'</span><span style=\"color: #ff00ff; text-decoration-color: #ff00ff\">: </span><span style=\"color: #008080; text-decoration-color: #008080; font-weight: bold\">28</span><span style=\"color: #ff00ff; text-decoration-color: #ff00ff\">, </span><span style=\"color: #008000; text-decoration-color: #008000\">'service_type'</span><span style=\"color: #ff00ff; text-decoration-color: #ff00ff\">: </span><span style=\"color: #008000; text-decoration-color: #008000\">'nam'</span><span style=\"color: #ff00ff; text-decoration-color: #ff00ff\">, </span>     \n",
       "<span style=\"color: #7fbfbf; text-decoration-color: #7fbfbf\">                    </span>         <span style=\"color: #008000; text-decoration-color: #008000\">'service_name'</span><span style=\"color: #ff00ff; text-decoration-color: #ff00ff\">: </span><span style=\"color: #008000; text-decoration-color: #008000\">'Bể sục nóng lạnh'</span><span style=\"color: #ff00ff; text-decoration-color: #ff00ff\">, </span><span style=\"color: #008000; text-decoration-color: #008000\">'duration_minutes'</span><span style=\"color: #ff00ff; text-decoration-color: #ff00ff\">: </span><span style=\"color: #008080; text-decoration-color: #008080; font-weight: bold\">30</span><span style=\"color: #ff00ff; text-decoration-color: #ff00ff\">, </span><span style=\"color: #008000; text-decoration-color: #008000\">'price'</span><span style=\"color: #ff00ff; text-decoration-color: #ff00ff\">: </span><span style=\"color: #008080; text-decoration-color: #008080; font-weight: bold\">220000</span><span style=\"color: #ff00ff; text-decoration-color: #ff00ff; font-weight: bold\">}</span><span style=\"color: #ff00ff; text-decoration-color: #ff00ff\">, </span><span style=\"color: #008080; text-decoration-color: #008080; font-weight: bold\">24</span><span style=\"color: #ff00ff; text-decoration-color: #ff00ff\">: </span>         \n",
       "<span style=\"color: #7fbfbf; text-decoration-color: #7fbfbf\">                    </span>         <span style=\"color: #ff00ff; text-decoration-color: #ff00ff; font-weight: bold\">{</span><span style=\"color: #008000; text-decoration-color: #008000\">'service_id'</span><span style=\"color: #ff00ff; text-decoration-color: #ff00ff\">: </span><span style=\"color: #008080; text-decoration-color: #008080; font-weight: bold\">24</span><span style=\"color: #ff00ff; text-decoration-color: #ff00ff\">, </span><span style=\"color: #008000; text-decoration-color: #008000\">'service_type'</span><span style=\"color: #ff00ff; text-decoration-color: #ff00ff\">: </span><span style=\"color: #008000; text-decoration-color: #008000\">'nam'</span><span style=\"color: #ff00ff; text-decoration-color: #ff00ff\">, </span><span style=\"color: #008000; text-decoration-color: #008000\">'service_name'</span><span style=\"color: #ff00ff; text-decoration-color: #ff00ff\">: </span><span style=\"color: #008000; text-decoration-color: #008000\">'Trị liệu thư giãn đôi chân'</span><span style=\"color: #ff00ff; text-decoration-color: #ff00ff\">, </span>   \n",
       "<span style=\"color: #7fbfbf; text-decoration-color: #7fbfbf\">                    </span>         <span style=\"color: #008000; text-decoration-color: #008000\">'duration_minutes'</span><span style=\"color: #ff00ff; text-decoration-color: #ff00ff\">: </span><span style=\"color: #008080; text-decoration-color: #008080; font-weight: bold\">90</span><span style=\"color: #ff00ff; text-decoration-color: #ff00ff\">, </span><span style=\"color: #008000; text-decoration-color: #008000\">'price'</span><span style=\"color: #ff00ff; text-decoration-color: #ff00ff\">: </span><span style=\"color: #008080; text-decoration-color: #008080; font-weight: bold\">350000</span><span style=\"color: #ff00ff; text-decoration-color: #ff00ff; font-weight: bold\">}}</span>                                                  \n",
       "</pre>\n"
      ],
      "text/plain": [
       "\u001b[2;36m                   \u001b[0m\u001b[2;36m \u001b[0m\u001b[34mINFO    \u001b[0m ℹ️  \u001b[95m>>>>> Dịch vụ hiện tại trong state: \u001b[0m\u001b[1;95m{\u001b[0m\u001b[1;36m28\u001b[0m\u001b[95m: \u001b[0m\u001b[1;95m{\u001b[0m\u001b[32m'service_id'\u001b[0m\u001b[95m: \u001b[0m\u001b[1;36m28\u001b[0m\u001b[95m, \u001b[0m\u001b[32m'service_type'\u001b[0m\u001b[95m: \u001b[0m\u001b[32m'nam'\u001b[0m\u001b[95m, \u001b[0m     \n",
       "\u001b[2;36m                    \u001b[0m         \u001b[32m'service_name'\u001b[0m\u001b[95m: \u001b[0m\u001b[32m'Bể sục nóng lạnh'\u001b[0m\u001b[95m, \u001b[0m\u001b[32m'duration_minutes'\u001b[0m\u001b[95m: \u001b[0m\u001b[1;36m30\u001b[0m\u001b[95m, \u001b[0m\u001b[32m'price'\u001b[0m\u001b[95m: \u001b[0m\u001b[1;36m220000\u001b[0m\u001b[1;95m}\u001b[0m\u001b[95m, \u001b[0m\u001b[1;36m24\u001b[0m\u001b[95m: \u001b[0m         \n",
       "\u001b[2;36m                    \u001b[0m         \u001b[1;95m{\u001b[0m\u001b[32m'service_id'\u001b[0m\u001b[95m: \u001b[0m\u001b[1;36m24\u001b[0m\u001b[95m, \u001b[0m\u001b[32m'service_type'\u001b[0m\u001b[95m: \u001b[0m\u001b[32m'nam'\u001b[0m\u001b[95m, \u001b[0m\u001b[32m'service_name'\u001b[0m\u001b[95m: \u001b[0m\u001b[32m'Trị liệu thư giãn đôi chân'\u001b[0m\u001b[95m, \u001b[0m   \n",
       "\u001b[2;36m                    \u001b[0m         \u001b[32m'duration_minutes'\u001b[0m\u001b[95m: \u001b[0m\u001b[1;36m90\u001b[0m\u001b[95m, \u001b[0m\u001b[32m'price'\u001b[0m\u001b[95m: \u001b[0m\u001b[1;36m350000\u001b[0m\u001b[1;95m}\u001b[0m\u001b[1;95m}\u001b[0m                                                  \n"
      ]
     },
     "metadata": {},
     "output_type": "display_data"
    },
    {
     "data": {
      "text/html": [
       "<pre style=\"white-space:pre;overflow-x:auto;line-height:normal;font-family:Menlo,'DejaVu Sans Mono',consolas,'Courier New',monospace\"><span style=\"color: #7fbfbf; text-decoration-color: #7fbfbf\">                    </span><span style=\"color: #000080; text-decoration-color: #000080\">INFO    </span> ℹ️  <span style=\"color: #ff00ff; text-decoration-color: #ff00ff\">&gt;&gt;&gt;&gt;&gt; Dịch vụ sau khi xóa trong state: </span><span style=\"color: #ff00ff; text-decoration-color: #ff00ff; font-weight: bold\">{</span><span style=\"color: #008080; text-decoration-color: #008080; font-weight: bold\">24</span><span style=\"color: #ff00ff; text-decoration-color: #ff00ff\">: </span><span style=\"color: #ff00ff; text-decoration-color: #ff00ff; font-weight: bold\">{</span><span style=\"color: #008000; text-decoration-color: #008000\">'service_id'</span><span style=\"color: #ff00ff; text-decoration-color: #ff00ff\">: </span><span style=\"color: #008080; text-decoration-color: #008080; font-weight: bold\">24</span><span style=\"color: #ff00ff; text-decoration-color: #ff00ff\">, </span><span style=\"color: #008000; text-decoration-color: #008000\">'service_type'</span><span style=\"color: #ff00ff; text-decoration-color: #ff00ff\">: </span><span style=\"color: #008000; text-decoration-color: #008000\">'nam'</span><span style=\"color: #ff00ff; text-decoration-color: #ff00ff\">, </span>  \n",
       "<span style=\"color: #7fbfbf; text-decoration-color: #7fbfbf\">                    </span>         <span style=\"color: #008000; text-decoration-color: #008000\">'service_name'</span><span style=\"color: #ff00ff; text-decoration-color: #ff00ff\">: </span><span style=\"color: #008000; text-decoration-color: #008000\">'Trị liệu thư giãn đôi chân'</span><span style=\"color: #ff00ff; text-decoration-color: #ff00ff\">, </span><span style=\"color: #008000; text-decoration-color: #008000\">'duration_minutes'</span><span style=\"color: #ff00ff; text-decoration-color: #ff00ff\">: </span><span style=\"color: #008080; text-decoration-color: #008080; font-weight: bold\">90</span><span style=\"color: #ff00ff; text-decoration-color: #ff00ff\">, </span><span style=\"color: #008000; text-decoration-color: #008000\">'price'</span><span style=\"color: #ff00ff; text-decoration-color: #ff00ff\">: </span><span style=\"color: #008080; text-decoration-color: #008080; font-weight: bold\">350000</span><span style=\"color: #ff00ff; text-decoration-color: #ff00ff; font-weight: bold\">}}</span>    \n",
       "</pre>\n"
      ],
      "text/plain": [
       "\u001b[2;36m                   \u001b[0m\u001b[2;36m \u001b[0m\u001b[34mINFO    \u001b[0m ℹ️  \u001b[95m>>>>> Dịch vụ sau khi xóa trong state: \u001b[0m\u001b[1;95m{\u001b[0m\u001b[1;36m24\u001b[0m\u001b[95m: \u001b[0m\u001b[1;95m{\u001b[0m\u001b[32m'service_id'\u001b[0m\u001b[95m: \u001b[0m\u001b[1;36m24\u001b[0m\u001b[95m, \u001b[0m\u001b[32m'service_type'\u001b[0m\u001b[95m: \u001b[0m\u001b[32m'nam'\u001b[0m\u001b[95m, \u001b[0m  \n",
       "\u001b[2;36m                    \u001b[0m         \u001b[32m'service_name'\u001b[0m\u001b[95m: \u001b[0m\u001b[32m'Trị liệu thư giãn đôi chân'\u001b[0m\u001b[95m, \u001b[0m\u001b[32m'duration_minutes'\u001b[0m\u001b[95m: \u001b[0m\u001b[1;36m90\u001b[0m\u001b[95m, \u001b[0m\u001b[32m'price'\u001b[0m\u001b[95m: \u001b[0m\u001b[1;36m350000\u001b[0m\u001b[1;95m}\u001b[0m\u001b[1;95m}\u001b[0m    \n"
      ]
     },
     "metadata": {},
     "output_type": "display_data"
    },
    {
     "data": {
      "text/html": [
       "<pre style=\"white-space:pre;overflow-x:auto;line-height:normal;font-family:Menlo,'DejaVu Sans Mono',consolas,'Courier New',monospace\"><span style=\"color: #7fbfbf; text-decoration-color: #7fbfbf\">                    </span><span style=\"color: #000080; text-decoration-color: #000080\">INFO    </span> ℹ️  <span style=\"color: #ff00ff; text-decoration-color: #ff00ff\">Xóa dịch vụ khách không muốn làm nữa thành công</span>                                         \n",
       "</pre>\n"
      ],
      "text/plain": [
       "\u001b[2;36m                   \u001b[0m\u001b[2;36m \u001b[0m\u001b[34mINFO    \u001b[0m ℹ️  \u001b[95mXóa dịch vụ khách không muốn làm nữa thành công\u001b[0m                                         \n"
      ]
     },
     "metadata": {},
     "output_type": "display_data"
    },
    {
     "name": "stdout",
     "output_type": "stream",
     "text": [
      "=================================\u001b[1m Tool Message \u001b[0m=================================\n",
      "Name: remove_service_tool\n",
      "\n",
      "Đây là thông tin các dịch vụ còn lại mà khách chọn:\n",
      "STT: 1\n",
      "Loại dịch vụ: nam\n",
      "Tên dịch vụ: Trị liệu thư giãn đôi chân\n",
      "Thời gian: 90\n",
      "Giá: 350000\n",
      "\n",
      "Tổng thời gian: 90\n",
      "Tổng giá tiền: 350000\n",
      "\n",
      "\n",
      "None\n"
     ]
    },
    {
     "data": {
      "text/html": [
       "<pre style=\"white-space:pre;overflow-x:auto;line-height:normal;font-family:Menlo,'DejaVu Sans Mono',consolas,'Courier New',monospace\"><span style=\"color: #7fbfbf; text-decoration-color: #7fbfbf\">[09/24/25 16:03:57] </span><span style=\"color: #000080; text-decoration-color: #000080\">INFO    </span> ℹ️  <span style=\"color: #ff00ff; text-decoration-color: #ff00ff\">add_service_tool được gọi</span>                                                               \n",
       "</pre>\n"
      ],
      "text/plain": [
       "\u001b[2;36m[09/24/25 16:03:57]\u001b[0m\u001b[2;36m \u001b[0m\u001b[34mINFO    \u001b[0m ℹ️  \u001b[95madd_service_tool được gọi\u001b[0m                                                               \n"
      ]
     },
     "metadata": {},
     "output_type": "display_data"
    },
    {
     "name": "stdout",
     "output_type": "stream",
     "text": [
      "==================================\u001b[1m Ai Message \u001b[0m==================================\n",
      "Tool Calls:\n",
      "  add_service_tool (call_TaePRMfluGEEkzDwBAf6hZV7)\n",
      " Call ID: call_TaePRMfluGEEkzDwBAf6hZV7\n",
      "  Args:\n",
      "    service_id_list: [29]\n",
      "None\n"
     ]
    },
    {
     "data": {
      "text/html": [
       "<pre style=\"white-space:pre;overflow-x:auto;line-height:normal;font-family:Menlo,'DejaVu Sans Mono',consolas,'Courier New',monospace\"><span style=\"color: #7fbfbf; text-decoration-color: #7fbfbf\">                    </span><span style=\"color: #000080; text-decoration-color: #000080\">INFO    </span> ℹ️  <span style=\"color: #ff00ff; text-decoration-color: #ff00ff\">Thêm dịch vụ khách chọn vào state thành công</span>                                            \n",
       "</pre>\n"
      ],
      "text/plain": [
       "\u001b[2;36m                   \u001b[0m\u001b[2;36m \u001b[0m\u001b[34mINFO    \u001b[0m ℹ️  \u001b[95mThêm dịch vụ khách chọn vào state thành công\u001b[0m                                            \n"
      ]
     },
     "metadata": {},
     "output_type": "display_data"
    },
    {
     "name": "stdout",
     "output_type": "stream",
     "text": [
      "=================================\u001b[1m Tool Message \u001b[0m=================================\n",
      "Name: add_service_tool\n",
      "\n",
      "Đây là thông tin các dịch vụ mà khách chọn:\n",
      "STT: 1\n",
      "Loại dịch vụ: nam\n",
      "Tên dịch vụ: Trị liệu thư giãn đôi chân\n",
      "Thời gian: 90\n",
      "Giá: 350000\n",
      "\n",
      "STT: 2\n",
      "Loại dịch vụ: nam\n",
      "Tên dịch vụ: Bể sục nóng lạnh\n",
      "Thời gian: 60\n",
      "Giá: 350000\n",
      "\n",
      "Tổng thời gian: 150\n",
      "Tổng giá tiền: 700000\n",
      "Giảm giá: 5.0%\n",
      "Chi tiết giảm giá: \n",
      "- Sử dụng 2 dịch vụ được giảm 5.0%\n",
      "- Tổng giảm giá: 5.0%\n",
      "\n",
      "Tổng tiền sau giảm: 665000\n",
      "\n",
      "\n",
      "None\n",
      "==================================\u001b[1m Ai Message \u001b[0m==================================\n",
      "\n",
      "Anh đã đổi sang dịch vụ Bể sục nóng lạnh 60 phút cùng với Trị liệu thư giãn đôi chân 90 phút. Tổng thời gian là 150 phút, tổng giá tiền sau giảm 5% là 665.000 đồng.\n",
      "\n",
      "Anh muốn đặt lịch vào ngày nào và giờ nào để em kiểm tra lịch trống giúp anh nhé?\n",
      "None\n",
      "==================================\u001b[1m Ai Message \u001b[0m==================================\n",
      "Name: booking_agent_node\n",
      "\n",
      "Anh đã đổi sang dịch vụ Bể sục nóng lạnh 60 phút cùng với Trị liệu thư giãn đôi chân 90 phút. Tổng thời gian là 150 phút, tổng giá tiền sau giảm 5% là 665.000 đồng.\n",
      "\n",
      "Anh muốn đặt lịch vào ngày nào và giờ nào để em kiểm tra lịch trống giúp anh nhé?\n",
      "None\n"
     ]
    }
   ],
   "source": [
    "state[\"user_input\"] = (\n",
    "    \"à hay cho anh đổi bể sục nóng lạnh 30p thành 60p đi em\"\n",
    ")\n",
    "state[\"chat_id\"] = \"10\"\n",
    "\n",
    "await test_bot(graph, state, config, \"updates\")"
   ]
  },
  {
   "cell_type": "code",
   "execution_count": null,
   "metadata": {},
   "outputs": [],
   "source": [
    "state[\"user_input\"] = (\n",
    "    \"chiều t7 tuần này 3h được không em\"\n",
    ")\n",
    "state[\"chat_id\"] = \"10\"\n",
    "\n",
    "await test_bot(graph, state, config, \"updates\")"
   ]
  },
  {
   "cell_type": "code",
   "execution_count": null,
   "metadata": {},
   "outputs": [],
   "source": [
    "state[\"user_input\"] = (\n",
    "    \"ok em\"\n",
    ")\n",
    "state[\"chat_id\"] = \"10\"\n",
    "\n",
    "await test_bot(graph, state, config, \"updates\")"
   ]
  },
  {
   "cell_type": "code",
   "execution_count": null,
   "metadata": {},
   "outputs": [],
   "source": [
    "graph.get_state(config).values"
   ]
  },
  {
   "cell_type": "markdown",
   "metadata": {},
   "source": [
    "----"
   ]
  },
  {
   "cell_type": "code",
   "execution_count": 1,
   "metadata": {},
   "outputs": [],
   "source": [
    "from database.connection import supabase_client, embeddings_model\n",
    "from repository.sync_repo import AppointmentRepo, CustomerRepo, RoomRepo, StaffRepo, ServiceRepo\n",
    "from core.utils.function import free_slots_with_staff\n",
    "from dotenv import load_dotenv\n",
    "from datetime import date, time, datetime\n",
    "import random\n",
    "import os\n",
    "\n",
    "load_dotenv(override=True)\n",
    "\n",
    "appointment_repo = AppointmentRepo(supabase_client=supabase_client)\n",
    "room_repo = RoomRepo(supabase_client=supabase_client)\n",
    "staff_repo = StaffRepo(supabase_client=supabase_client)\n",
    "service_repo = ServiceRepo(supabase_client=supabase_client)\n",
    "customer_repo = CustomerRepo(supabase_client=supabase_client)\n",
    "\n",
    "OPEN_TIME_STR = os.getenv(\"OPEN_TIME_STR\", \"08:00:00\")\n",
    "CLOSE_TIME_STR = os.getenv(\"CLOSE_TIME_STR\", \"21:00:00\")"
   ]
  },
  {
   "cell_type": "code",
   "execution_count": null,
   "metadata": {},
   "outputs": [],
   "source": [
    "test = customer_repo.is_new_customer(100)\n",
    "test"
   ]
  },
  {
   "cell_type": "code",
   "execution_count": 13,
   "metadata": {},
   "outputs": [],
   "source": [
    "staffs = staff_repo.get_all_staff_return_dict()\n",
    "rooms = room_repo.get_all_rooms_return_dict()\n",
    "orders = appointment_repo.get_appointment_by_booking_date(\n",
    "    booking_date=\"2025-09-20\"\n",
    ")"
   ]
  },
  {
   "cell_type": "code",
   "execution_count": null,
   "metadata": {},
   "outputs": [],
   "source": [
    "pre_booking_info = {\n",
    "    1: \n",
    "        {\n",
    "            \"booking_date\": \"abc\",\n",
    "            \"start_time\": \"abc\",\n",
    "            \"end_time\": \"abc\",\n",
    "            \"total_time\": 80,\n",
    "            \"total_price\": 850000,\n",
    "            \"note\": None,\n",
    "            \n",
    "            \"customer\": \n",
    "                {\n",
    "                    \"name\": \"abc\",\n",
    "                    \"phone\": \"123\",\n",
    "                    \"email\": None\n",
    "                },\n",
    "            \"staff\": \n",
    "                {\n",
    "                    \"staff_id\": 1,\n",
    "                    \"staff_name\": \"abc\"\n",
    "                },\n",
    "            \"room\":\n",
    "                {\n",
    "                    \"room_id\": 1,\n",
    "                    \"room_name\": \"101\"\n",
    "                },\n",
    "            \n",
    "            \"services\": \n",
    "                {\n",
    "                    15: \n",
    "                        {\n",
    "                            'service_id': 15,\n",
    "                            'service_type': 'nam',\n",
    "                            'service_name': 'massage',\n",
    "                            'duration_minutes': 80,\n",
    "                            'price': 850000\n",
    "                        }\n",
    "                }\n",
    "        },\n",
    "    2: \n",
    "        {\n",
    "            \"customer\": \n",
    "                {\n",
    "                    \"name\": \"abc\",\n",
    "                    \"phone\": \"123\",\n",
    "                    \"email\": None\n",
    "                },\n",
    "            \n",
    "            \"staff_id\": 2,\n",
    "            \"staff_name\": \"abc\",\n",
    "            \"room_id\": 1,\n",
    "            \"room_name\": \"101\",\n",
    "            \"start_time\": \"abc\",\n",
    "            \"end_time\": \"abc\",\n",
    "            \"total_time\": 80,\n",
    "            \"total_price\": 850000,\n",
    "            \"note\": None,\n",
    "            \"services\": \n",
    "                {\n",
    "                    16: \n",
    "                        {\n",
    "                            'service_id': 16,\n",
    "                            'service_type': 'nữ',\n",
    "                            'service_name': 'Chăm Sóc Body Cao Cấp',\n",
    "                            'duration_minutes': 80,\n",
    "                            'price': 850000\n",
    "                        }\n",
    "                }\n",
    "        }\n",
    "}"
   ]
  },
  {
   "cell_type": "code",
   "execution_count": 8,
   "metadata": {},
   "outputs": [],
   "source": [
    "services = {28: {'service_id': 28,\n",
    "   'service_type': 'nam',\n",
    "   'service_name': 'Bể sục nóng lạnh',\n",
    "   'duration_minutes': 30,\n",
    "   'price': 220000},\n",
    "  24: {'service_id': 24,\n",
    "   'service_type': 'nam',\n",
    "   'service_name': 'Trị liệu thư giãn đôi chân',\n",
    "   'duration_minutes': 90,\n",
    "   'price': 350000},\n",
    "  29: {'service_id': 29,\n",
    "   'service_type': 'nam',\n",
    "   'service_name': 'Bể sục nóng lạnh',\n",
    "   'duration_minutes': 60,\n",
    "   'price': 350000}}"
   ]
  },
  {
   "cell_type": "code",
   "execution_count": null,
   "metadata": {},
   "outputs": [],
   "source": [
    "service_id_list = [28, 29]\n",
    "for id in service_id_list:\n",
    "    if id in services:\n",
    "        del services[id]\n",
    "\n",
    "services"
   ]
  }
 ],
 "metadata": {
  "kernelspec": {
   "display_name": ".sellbot",
   "language": "python",
   "name": "python3"
  },
  "language_info": {
   "codemirror_mode": {
    "name": "ipython",
    "version": 3
   },
   "file_extension": ".py",
   "mimetype": "text/x-python",
   "name": "python",
   "nbconvert_exporter": "python",
   "pygments_lexer": "ipython3",
   "version": "3.12.5"
  }
 },
 "nbformat": 4,
 "nbformat_minor": 2
}
