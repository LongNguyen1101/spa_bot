{
 "cells": [
  {
   "cell_type": "code",
   "execution_count": 1,
   "metadata": {},
   "outputs": [],
   "source": [
    "from core.graph.build_graph import create_main_graph\n",
    "from core.graph.state import init_state\n",
    "from core.utils.function import test_bot\n",
    "from langchain_core.messages import HumanMessage, AIMessage\n",
    "\n",
    "\n",
    "graph = create_main_graph()\n",
    "state = init_state()\n",
    "\n",
    "config = {\n",
    "    \"configurable\": \n",
    "    {\n",
    "        \"thread_id\": \"1\"\n",
    "    }\n",
    "}"
   ]
  },
  {
   "cell_type": "code",
   "execution_count": 2,
   "metadata": {},
   "outputs": [
    {
     "data": {
      "text/html": [
       "<pre style=\"white-space:pre;overflow-x:auto;line-height:normal;font-family:Menlo,'DejaVu Sans Mono',consolas,'Courier New',monospace\"><span style=\"color: #7fbfbf; text-decoration-color: #7fbfbf\">[10/08/25 14:35:54] </span><span style=\"color: #000080; text-decoration-color: #000080\">INFO    </span> ℹ️  Tạo mới hoặc lấy thông tin khách: <span style=\"font-weight: bold\">{</span><span style=\"color: #008000; text-decoration-color: #008000\">'id'</span>: <span style=\"color: #008080; text-decoration-color: #008080; font-weight: bold\">464</span>, <span style=\"color: #008000; text-decoration-color: #008000\">'name'</span>: <span style=\"color: #800080; text-decoration-color: #800080; font-style: italic\">None</span>, <span style=\"color: #008000; text-decoration-color: #008000\">'phone'</span>: <span style=\"color: #800080; text-decoration-color: #800080; font-style: italic\">None</span>, <span style=\"color: #008000; text-decoration-color: #008000\">'email'</span>:     \n",
       "<span style=\"color: #7fbfbf; text-decoration-color: #7fbfbf\">                    </span>         <span style=\"color: #800080; text-decoration-color: #800080; font-style: italic\">None</span>, <span style=\"color: #008000; text-decoration-color: #008000\">'chat_id'</span>: <span style=\"color: #008000; text-decoration-color: #008000\">'10'</span>, <span style=\"color: #008000; text-decoration-color: #008000\">'uuid'</span>: <span style=\"color: #800080; text-decoration-color: #800080; font-style: italic\">None</span><span style=\"font-weight: bold\">}</span>                                                       \n",
       "</pre>\n"
      ],
      "text/plain": [
       "\u001b[2;36m[10/08/25 14:35:54]\u001b[0m\u001b[2;36m \u001b[0m\u001b[34mINFO    \u001b[0m ℹ️  Tạo mới hoặc lấy thông tin khách: \u001b[1m{\u001b[0m\u001b[32m'id'\u001b[0m: \u001b[1;36m464\u001b[0m, \u001b[32m'name'\u001b[0m: \u001b[3;35mNone\u001b[0m, \u001b[32m'phone'\u001b[0m: \u001b[3;35mNone\u001b[0m, \u001b[32m'email'\u001b[0m:     \n",
       "\u001b[2;36m                    \u001b[0m         \u001b[3;35mNone\u001b[0m, \u001b[32m'chat_id'\u001b[0m: \u001b[32m'10'\u001b[0m, \u001b[32m'uuid'\u001b[0m: \u001b[3;35mNone\u001b[0m\u001b[1m}\u001b[0m                                                       \n"
      ]
     },
     "metadata": {},
     "output_type": "display_data"
    },
    {
     "data": {
      "text/html": [
       "<pre style=\"white-space:pre;overflow-x:auto;line-height:normal;font-family:Menlo,'DejaVu Sans Mono',consolas,'Courier New',monospace\"><span style=\"color: #7fbfbf; text-decoration-color: #7fbfbf\">[10/08/25 14:35:55] </span><span style=\"color: #000080; text-decoration-color: #000080\">INFO    </span> ℹ️  New customer: <span style=\"color: #00ff00; text-decoration-color: #00ff00; font-style: italic\">True</span>                                                                      \n",
       "</pre>\n"
      ],
      "text/plain": [
       "\u001b[2;36m[10/08/25 14:35:55]\u001b[0m\u001b[2;36m \u001b[0m\u001b[34mINFO    \u001b[0m ℹ️  New customer: \u001b[3;92mTrue\u001b[0m                                                                      \n"
      ]
     },
     "metadata": {},
     "output_type": "display_data"
    },
    {
     "data": {
      "text/html": [
       "<pre style=\"white-space:pre;overflow-x:auto;line-height:normal;font-family:Menlo,'DejaVu Sans Mono',consolas,'Courier New',monospace\"><span style=\"color: #7fbfbf; text-decoration-color: #7fbfbf\">                    </span><span style=\"color: #000080; text-decoration-color: #000080\">INFO    </span> ℹ️  Yêu cầu của khách: hi sop                                                               \n",
       "</pre>\n"
      ],
      "text/plain": [
       "\u001b[2;36m                   \u001b[0m\u001b[2;36m \u001b[0m\u001b[34mINFO    \u001b[0m ℹ️  Yêu cầu của khách: hi sop                                                               \n"
      ]
     },
     "metadata": {},
     "output_type": "display_data"
    },
    {
     "data": {
      "text/html": [
       "<pre style=\"white-space:pre;overflow-x:auto;line-height:normal;font-family:Menlo,'DejaVu Sans Mono',consolas,'Courier New',monospace\"><span style=\"color: #7fbfbf; text-decoration-color: #7fbfbf\">[10/08/25 14:35:56] </span><span style=\"color: #000080; text-decoration-color: #000080\">INFO    </span> ℹ️  Agent tiếp theo: service_agent                                                          \n",
       "</pre>\n"
      ],
      "text/plain": [
       "\u001b[2;36m[10/08/25 14:35:56]\u001b[0m\u001b[2;36m \u001b[0m\u001b[34mINFO    \u001b[0m ℹ️  Agent tiếp theo: service_agent                                                          \n"
      ]
     },
     "metadata": {},
     "output_type": "display_data"
    },
    {
     "name": "stdout",
     "output_type": "stream",
     "text": [
      "================================\u001b[1m Human Message \u001b[0m=================================\n",
      "\n",
      "hi sop\n",
      "None\n",
      "==================================\u001b[1m Ai Message \u001b[0m==================================\n",
      "\n",
      "Chào khách! Em là tư vấn viên của SPA AnVie, rất vui được hỗ trợ anh/chị hôm nay. Anh/chị cần em giúp gì ạ?\n",
      "None\n",
      "==================================\u001b[1m Ai Message \u001b[0m==================================\n",
      "Name: services_agent_node\n",
      "\n",
      "Chào khách! Em là tư vấn viên của SPA AnVie, rất vui được hỗ trợ anh/chị hôm nay. Anh/chị cần em giúp gì ạ?\n",
      "None\n"
     ]
    }
   ],
   "source": [
    "state[\"user_input\"] = (\n",
    "    \"hi sop\"\n",
    ")\n",
    "state[\"chat_id\"] = \"10\"\n",
    "\n",
    "await test_bot(graph, state, config, \"updates\")"
   ]
  },
  {
   "cell_type": "code",
   "execution_count": null,
   "metadata": {},
   "outputs": [],
   "source": [
    "state[\"user_input\"] = (\n",
    "    \"à thôi cho chị đổi lại 90p đi\"\n",
    ")\n",
    "state[\"chat_id\"] = \"10\"\n",
    "\n",
    "await test_bot(graph, state, config, \"updates\")"
   ]
  },
  {
   "cell_type": "code",
   "execution_count": null,
   "metadata": {},
   "outputs": [],
   "source": [
    "state[\"user_input\"] = (\n",
    "    \"cho anh t2 tuần sau 10h sáng nhe\"\n",
    ")\n",
    "state[\"chat_id\"] = \"10\"\n",
    "\n",
    "await test_bot(graph, state, config, \"updates\")"
   ]
  },
  {
   "cell_type": "code",
   "execution_count": null,
   "metadata": {},
   "outputs": [],
   "source": [
    "state[\"user_input\"] = (\n",
    "    \"anh ko có ghi chú j\"\n",
    ")\n",
    "state[\"chat_id\"] = \"10\"\n",
    "\n",
    "await test_bot(graph, state, config, \"updates\")"
   ]
  },
  {
   "cell_type": "code",
   "execution_count": null,
   "metadata": {},
   "outputs": [],
   "source": [
    "state[\"user_input\"] = (\n",
    "    \"ko anh ko có ghi chú gì\"\n",
    ")\n",
    "state[\"chat_id\"] = \"10\"\n",
    "\n",
    "await test_bot(graph, state, config, \"updates\")"
   ]
  },
  {
   "cell_type": "code",
   "execution_count": null,
   "metadata": {},
   "outputs": [],
   "source": [
    "state[\"user_input\"] = (\n",
    "    \"à hay cho anh đổi bể sục nóng lạnh 30p thành 60p đi em\"\n",
    ")\n",
    "state[\"chat_id\"] = \"10\"\n",
    "\n",
    "await test_bot(graph, state, config, \"updates\")"
   ]
  },
  {
   "cell_type": "code",
   "execution_count": null,
   "metadata": {},
   "outputs": [],
   "source": [
    "state[\"user_input\"] = (\n",
    "    \"chiều t7 tuần này 3h được không em\"\n",
    ")\n",
    "state[\"chat_id\"] = \"10\"\n",
    "\n",
    "await test_bot(graph, state, config, \"updates\")"
   ]
  },
  {
   "cell_type": "code",
   "execution_count": null,
   "metadata": {},
   "outputs": [],
   "source": [
    "state[\"user_input\"] = (\n",
    "    \"ok em\"\n",
    ")\n",
    "state[\"chat_id\"] = \"10\"\n",
    "\n",
    "await test_bot(graph, state, config, \"updates\")"
   ]
  },
  {
   "cell_type": "code",
   "execution_count": null,
   "metadata": {},
   "outputs": [],
   "source": [
    "graph.get_state(config).values"
   ]
  },
  {
   "cell_type": "markdown",
   "metadata": {},
   "source": [
    "----"
   ]
  },
  {
   "cell_type": "code",
   "execution_count": 1,
   "metadata": {},
   "outputs": [],
   "source": [
    "from database.connection import supabase_client, embeddings_model\n",
    "from repository.sync_repo import AppointmentRepo, CustomerRepo, RoomRepo, StaffRepo, ServiceRepo\n",
    "from repository.async_repo import AsyncCustomerRepo\n",
    "from dotenv import load_dotenv\n",
    "from datetime import date, time, datetime, timedelta\n",
    "from langchain_core.messages import HumanMessage, AIMessage\n",
    "import os\n",
    "\n",
    "load_dotenv(override=True)\n",
    "\n",
    "appointment_repo = AppointmentRepo(supabase_client=supabase_client)\n",
    "room_repo = RoomRepo(supabase_client=supabase_client)\n",
    "staff_repo = StaffRepo(supabase_client=supabase_client)\n",
    "service_repo = ServiceRepo(supabase_client=supabase_client)\n",
    "customer_repo = CustomerRepo(supabase_client=supabase_client)\n",
    "\n",
    "async_customer_repo = AsyncCustomerRepo(supabase_client=supabase_client)\n",
    "\n",
    "OPEN_TIME_STR = os.getenv(\"OPEN_TIME_STR\", \"08:00:00\")\n",
    "CLOSE_TIME_STR = os.getenv(\"CLOSE_TIME_STR\", \"21:00:00\")"
   ]
  },
  {
   "cell_type": "code",
   "execution_count": 2,
   "metadata": {},
   "outputs": [],
   "source": [
    "from datetime import datetime, timezone, timedelta\n",
    "from zoneinfo import ZoneInfo\n",
    "\n",
    "def _get_time_vn() -> str:\n",
    "    tz_vn = ZoneInfo(\"Asia/Ho_Chi_Minh\")\n",
    "    now_vn = datetime.now(tz_vn)\n",
    "\n",
    "    now_vn = now_vn.replace(microsecond=0)\n",
    "    now_vn = now_vn.strftime(\"%Y-%m-%d %H:%M:%S+07\")\n",
    "    \n",
    "    return now_vn\n",
    "\n",
    "def _to_vn(dt_str_or_dt):\n",
    "    if isinstance(dt_str_or_dt, str):\n",
    "        # parse chuỗi ISO (UTC)\n",
    "        dt = datetime.fromisoformat(dt_str_or_dt)\n",
    "    else:\n",
    "        dt = dt_str_or_dt\n",
    "    # nếu dt không có tzinfo, giả sử là UTC\n",
    "    if dt.tzinfo is None:\n",
    "        dt = dt.replace(tzinfo=timezone.utc)\n",
    "    # chuyển sang giờ VN\n",
    "    dt_vn = dt.astimezone(ZoneInfo(\"Asia/Ho_Chi_Minh\"))\n",
    "    dt_vn = dt_vn.strftime(\"%Y-%m-%d %H:%M:%S+07\")\n",
    "    return dt_vn\n",
    "\n",
    "data = await async_customer_repo.find_customer(\"test_1\")"
   ]
  },
  {
   "cell_type": "code",
   "execution_count": null,
   "metadata": {},
   "outputs": [],
   "source": [
    "data"
   ]
  },
  {
   "cell_type": "code",
   "execution_count": 14,
   "metadata": {},
   "outputs": [],
   "source": [
    "state = {'messages': [HumanMessage(content='cho chị đặt chăm sóc da mặt thiên nhiên 60p', additional_kwargs={}, response_metadata={}, id='0856d5a5-ffbf-4df5-a866-deb57346d4e7'),\n",
    "  AIMessage(content='Chị đã chọn dịch vụ \"Chăm sóc da thiên nhiên\" thời gian 60 phút, giá sau giảm còn 342.450 VNĐ. \\n\\nChị muốn đặt lịch vào ngày nào và giờ nào ạ? Em sẽ giúp chị kiểm tra lịch trống và đặt lịch luôn nhé!', additional_kwargs={}, response_metadata={}, name='booking_agent_node', id='13da2a13-3dd5-43de-b7a8-d24ae829d639')],\n",
    " 'user_input': 'cho chị đặt chăm sóc da mặt thiên nhiên 60p',\n",
    " 'chat_id': '10',\n",
    " 'next': '__end__',\n",
    " 'current_date': 'Tuesday, 07-10-2025',\n",
    " 'customer_id': 464,\n",
    " 'name': None,\n",
    " 'phone': None,\n",
    " 'email': None,\n",
    " 'new_customer': True,\n",
    " 'session_id': None,\n",
    " 'seen_services': {35: {'service_id': 35,\n",
    "   'service_type': 'nữ',\n",
    "   'service_name': 'Trắng sáng tảo thiên nhiên',\n",
    "   'duration_minutes': 60,\n",
    "   'price': 550000,\n",
    "   'discount_value': 17.0,\n",
    "   'price_after_discount': 456500.0},\n",
    "  36: {'service_id': 36,\n",
    "   'service_type': 'nữ',\n",
    "   'service_name': 'Trắng sáng tảo thiên nhiên',\n",
    "   'duration_minutes': 90,\n",
    "   'price': 700000,\n",
    "   'discount_value': 19.5,\n",
    "   'price_after_discount': 563500.0},\n",
    "  38: {'service_id': 38,\n",
    "   'service_type': 'nữ',\n",
    "   'service_name': 'Dưỡng ẩm Linseed chuyên sâu',\n",
    "   'duration_minutes': 90,\n",
    "   'price': 650000,\n",
    "   'discount_value': 22.25,\n",
    "   'price_after_discount': 505375.0},\n",
    "  39: {'service_id': 39,\n",
    "   'service_type': 'nữ',\n",
    "   'service_name': 'Chăm sóc da thiên nhiên',\n",
    "   'duration_minutes': 60,\n",
    "   'price': 450000,\n",
    "   'discount_value': 23.9,\n",
    "   'price_after_discount': 342450.0},\n",
    "  40: {'service_id': 40,\n",
    "   'service_type': 'nữ',\n",
    "   'service_name': 'Chăm sóc da thiên nhiên',\n",
    "   'duration_minutes': 90,\n",
    "   'price': 600000,\n",
    "   'discount_value': 25.0,\n",
    "   'price_after_discount': 450000.0}},\n",
    " 'services': {39: {'service_id': 39,\n",
    "   'service_type': 'nữ',\n",
    "   'service_name': 'Chăm sóc da thiên nhiên',\n",
    "   'duration_minutes': 60,\n",
    "   'price': 450000,\n",
    "   'discount_value': 23.9,\n",
    "   'price_after_discount': 342450.0}},\n",
    " 'staff_id': None,\n",
    " 'staff_name': None,\n",
    " 'room_id': None,\n",
    " 'room_name': None,\n",
    " 'booking_date': None,\n",
    " 'start_time': None,\n",
    " 'end_time': None,\n",
    " 'total_time': 60,\n",
    " 'total_price': 342450.0,\n",
    " 'note': None,\n",
    " 'total_discount': None,\n",
    " 'price_after_discount': None,\n",
    " 'explain': None,\n",
    " 'pre_bookings': None,\n",
    " 'book_info': None}"
   ]
  },
  {
   "cell_type": "code",
   "execution_count": 16,
   "metadata": {},
   "outputs": [],
   "source": [
    "import pickle\n",
    "import base64\n",
    "\n",
    "dumps = pickle.dumps(state)\n",
    "encoded = base64.b64encode(dumps).decode(\"utf-8\")  "
   ]
  },
  {
   "cell_type": "code",
   "execution_count": null,
   "metadata": {},
   "outputs": [],
   "source": [
    "encoded"
   ]
  },
  {
   "cell_type": "code",
   "execution_count": 18,
   "metadata": {},
   "outputs": [],
   "source": [
    "import pickle\n",
    "import base64\n",
    "\n",
    "dumps = pickle.dumps(state)\n",
    "encoded = base64.b64encode(dumps).decode(\"utf-8\")  \n",
    "\n",
    "response = (\n",
    "    supabase_client.table(\"sessions\")\n",
    "    .update(\n",
    "        {\n",
    "            \"state_base64\": encoded\n",
    "        }\n",
    "    )\n",
    "    .eq(\"id\", 16)\n",
    "    .execute()\n",
    ")"
   ]
  },
  {
   "cell_type": "code",
   "execution_count": null,
   "metadata": {},
   "outputs": [],
   "source": [
    "response.data"
   ]
  },
  {
   "cell_type": "code",
   "execution_count": null,
   "metadata": {},
   "outputs": [],
   "source": [
    "data = response.data[0][\"state_base64\"]\n",
    "dumps = base64.b64decode(data.encode(\"utf-8\"))\n",
    "state = pickle.loads(dumps)\n",
    "state"
   ]
  },
  {
   "cell_type": "code",
   "execution_count": 28,
   "metadata": {},
   "outputs": [],
   "source": [
    "response = (\n",
    "    supabase_client.table(\"sessions\")\n",
    "    .select(\"state_base64\")\n",
    "    .eq(\"id\", 7)\n",
    "    .execute()\n",
    ")\n",
    "\n",
    "response.data[0][\"state_base64\"]"
   ]
  },
  {
   "cell_type": "code",
   "execution_count": null,
   "metadata": {},
   "outputs": [],
   "source": [
    "\n",
    "if not response.data[0][\"state_base64\"]:\n",
    "    print(True)"
   ]
  },
  {
   "cell_type": "code",
   "execution_count": 7,
   "metadata": {},
   "outputs": [
    {
     "data": {
      "text/plain": [
       "\"\\x1bTạo mới hoặc lấy thông tin khách: {'id': 464, 'name': None, 'phone': None, 'email': None, 'chat_id': '10', 'uuid': None}\\x1b[0m\""
      ]
     },
     "execution_count": 7,
     "metadata": {},
     "output_type": "execute_result"
    }
   ],
   "source": [
    "import re\n",
    "text = \"\u001b[32m2025-10-08 14:13:18 - core.graph.supervisor - INFO - ℹ️  [bright_magenta]Tạo mới hoặc lấy thông tin khách: {'id': 464, 'name': None, 'phone': None, 'email': None, 'chat_id': '10', 'uuid': None}[/bright_magenta]\u001b[0m\"\n",
    "\n",
    "pattern = r\"\\[[^\\]]*\\]\"\n",
    "cleaned = re.sub(pattern, \"\", text)\n",
    "cleaned"
   ]
  }
 ],
 "metadata": {
  "kernelspec": {
   "display_name": ".sellbot",
   "language": "python",
   "name": "python3"
  },
  "language_info": {
   "codemirror_mode": {
    "name": "ipython",
    "version": 3
   },
   "file_extension": ".py",
   "mimetype": "text/x-python",
   "name": "python",
   "nbconvert_exporter": "python",
   "pygments_lexer": "ipython3",
   "version": "3.12.5"
  }
 },
 "nbformat": 4,
 "nbformat_minor": 2
}
