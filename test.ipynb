{
 "cells": [
  {
   "cell_type": "code",
   "execution_count": 1,
   "metadata": {},
   "outputs": [],
   "source": [
    "from core.graph.build_graph import create_main_graph\n",
    "from core.graph.state import init_state\n",
    "from core.utils.function import test_bot\n",
    "from langchain_core.messages import HumanMessage, AIMessage\n",
    "\n",
    "\n",
    "graph = create_main_graph()\n",
    "state = init_state()\n",
    "\n",
    "config = {\n",
    "    \"configurable\": \n",
    "    {\n",
    "        \"thread_id\": \"1\"\n",
    "    }\n",
    "}"
   ]
  },
  {
   "cell_type": "code",
   "execution_count": 2,
   "metadata": {},
   "outputs": [
    {
     "data": {
      "text/html": [
       "<pre style=\"white-space:pre;overflow-x:auto;line-height:normal;font-family:Menlo,'DejaVu Sans Mono',consolas,'Courier New',monospace\"><span style=\"color: #7fbfbf; text-decoration-color: #7fbfbf\">[10/03/25 15:24:37] </span><span style=\"color: #000080; text-decoration-color: #000080\">INFO    </span> ℹ️  <span style=\"color: #ff00ff; text-decoration-color: #ff00ff\">Tạo mới hoặc lấy thông tin khách: </span><span style=\"color: #ff00ff; text-decoration-color: #ff00ff; font-weight: bold\">{</span><span style=\"color: #008000; text-decoration-color: #008000\">'id'</span><span style=\"color: #ff00ff; text-decoration-color: #ff00ff\">: </span><span style=\"color: #008080; text-decoration-color: #008080; font-weight: bold\">464</span><span style=\"color: #ff00ff; text-decoration-color: #ff00ff\">, </span><span style=\"color: #008000; text-decoration-color: #008000\">'name'</span><span style=\"color: #ff00ff; text-decoration-color: #ff00ff\">: </span><span style=\"color: #800080; text-decoration-color: #800080; font-style: italic\">None</span><span style=\"color: #ff00ff; text-decoration-color: #ff00ff\">, </span><span style=\"color: #008000; text-decoration-color: #008000\">'phone'</span><span style=\"color: #ff00ff; text-decoration-color: #ff00ff\">: </span><span style=\"color: #800080; text-decoration-color: #800080; font-style: italic\">None</span><span style=\"color: #ff00ff; text-decoration-color: #ff00ff\">, </span><span style=\"color: #008000; text-decoration-color: #008000\">'email'</span><span style=\"color: #ff00ff; text-decoration-color: #ff00ff\">: </span>    \n",
       "<span style=\"color: #7fbfbf; text-decoration-color: #7fbfbf\">                    </span>         <span style=\"color: #800080; text-decoration-color: #800080; font-style: italic\">None</span><span style=\"color: #ff00ff; text-decoration-color: #ff00ff\">, </span><span style=\"color: #008000; text-decoration-color: #008000\">'chat_id'</span><span style=\"color: #ff00ff; text-decoration-color: #ff00ff\">: </span><span style=\"color: #008000; text-decoration-color: #008000\">'10'</span><span style=\"color: #ff00ff; text-decoration-color: #ff00ff\">, </span><span style=\"color: #008000; text-decoration-color: #008000\">'uuid'</span><span style=\"color: #ff00ff; text-decoration-color: #ff00ff\">: </span><span style=\"color: #800080; text-decoration-color: #800080; font-style: italic\">None</span><span style=\"color: #ff00ff; text-decoration-color: #ff00ff; font-weight: bold\">}</span>                                                       \n",
       "</pre>\n"
      ],
      "text/plain": [
       "\u001b[2;36m[10/03/25 15:24:37]\u001b[0m\u001b[2;36m \u001b[0m\u001b[34mINFO    \u001b[0m ℹ️  \u001b[95mTạo mới hoặc lấy thông tin khách: \u001b[0m\u001b[1;95m{\u001b[0m\u001b[32m'id'\u001b[0m\u001b[95m: \u001b[0m\u001b[1;36m464\u001b[0m\u001b[95m, \u001b[0m\u001b[32m'name'\u001b[0m\u001b[95m: \u001b[0m\u001b[3;35mNone\u001b[0m\u001b[95m, \u001b[0m\u001b[32m'phone'\u001b[0m\u001b[95m: \u001b[0m\u001b[3;35mNone\u001b[0m\u001b[95m, \u001b[0m\u001b[32m'email'\u001b[0m\u001b[95m: \u001b[0m    \n",
       "\u001b[2;36m                    \u001b[0m         \u001b[3;35mNone\u001b[0m\u001b[95m, \u001b[0m\u001b[32m'chat_id'\u001b[0m\u001b[95m: \u001b[0m\u001b[32m'10'\u001b[0m\u001b[95m, \u001b[0m\u001b[32m'uuid'\u001b[0m\u001b[95m: \u001b[0m\u001b[3;35mNone\u001b[0m\u001b[1;95m}\u001b[0m                                                       \n"
      ]
     },
     "metadata": {},
     "output_type": "display_data"
    },
    {
     "data": {
      "text/html": [
       "<pre style=\"white-space:pre;overflow-x:auto;line-height:normal;font-family:Menlo,'DejaVu Sans Mono',consolas,'Courier New',monospace\"><span style=\"color: #7fbfbf; text-decoration-color: #7fbfbf\">[10/03/25 15:24:38] </span><span style=\"color: #000080; text-decoration-color: #000080\">INFO    </span> ℹ️  <span style=\"color: #ff00ff; text-decoration-color: #ff00ff\">New customer: </span><span style=\"color: #00ff00; text-decoration-color: #00ff00; font-style: italic\">True</span>                                                                      \n",
       "</pre>\n"
      ],
      "text/plain": [
       "\u001b[2;36m[10/03/25 15:24:38]\u001b[0m\u001b[2;36m \u001b[0m\u001b[34mINFO    \u001b[0m ℹ️  \u001b[95mNew customer: \u001b[0m\u001b[3;92mTrue\u001b[0m                                                                      \n"
      ]
     },
     "metadata": {},
     "output_type": "display_data"
    },
    {
     "data": {
      "text/html": [
       "<pre style=\"white-space:pre;overflow-x:auto;line-height:normal;font-family:Menlo,'DejaVu Sans Mono',consolas,'Courier New',monospace\"><span style=\"color: #7fbfbf; text-decoration-color: #7fbfbf\">                    </span><span style=\"color: #000080; text-decoration-color: #000080\">INFO    </span> ℹ️  <span style=\"color: #ff00ff; text-decoration-color: #ff00ff\">Yêu cầu của khách: cho chị đặt chăm sóc da mặt thiên nhiên 60p</span>                          \n",
       "</pre>\n"
      ],
      "text/plain": [
       "\u001b[2;36m                   \u001b[0m\u001b[2;36m \u001b[0m\u001b[34mINFO    \u001b[0m ℹ️  \u001b[95mYêu cầu của khách: cho chị đặt chăm sóc da mặt thiên nhiên 60p\u001b[0m                          \n"
      ]
     },
     "metadata": {},
     "output_type": "display_data"
    },
    {
     "data": {
      "text/html": [
       "<pre style=\"white-space:pre;overflow-x:auto;line-height:normal;font-family:Menlo,'DejaVu Sans Mono',consolas,'Courier New',monospace\"><span style=\"color: #7fbfbf; text-decoration-color: #7fbfbf\">[10/03/25 15:24:39] </span><span style=\"color: #000080; text-decoration-color: #000080\">INFO    </span> ℹ️  <span style=\"color: #ff00ff; text-decoration-color: #ff00ff\">Agent tiếp theo: booking_agent</span>                                                          \n",
       "</pre>\n"
      ],
      "text/plain": [
       "\u001b[2;36m[10/03/25 15:24:39]\u001b[0m\u001b[2;36m \u001b[0m\u001b[34mINFO    \u001b[0m ℹ️  \u001b[95mAgent tiếp theo: booking_agent\u001b[0m                                                          \n"
      ]
     },
     "metadata": {},
     "output_type": "display_data"
    },
    {
     "name": "stdout",
     "output_type": "stream",
     "text": [
      "================================ Human Message =================================\n",
      "\n",
      "cho chị đặt chăm sóc da mặt thiên nhiên 60p\n",
      "None\n",
      "================================== Ai Message ==================================\n",
      "Tool Calls:\n",
      "  get_services_tool (call_0OLlTVA2p4hwdWg1jtwcXKcH)\n",
      " Call ID: call_0OLlTVA2p4hwdWg1jtwcXKcH\n",
      "  Args:\n",
      "    keyword: chăm sóc da mặt thiên nhiên"
     ]
    },
    {
     "data": {
      "text/html": [
       "<pre style=\"white-space:pre;overflow-x:auto;line-height:normal;font-family:Menlo,'DejaVu Sans Mono',consolas,'Courier New',monospace\"><span style=\"color: #7fbfbf; text-decoration-color: #7fbfbf\">[10/03/25 15:24:40] </span><span style=\"color: #000080; text-decoration-color: #000080\">INFO    </span> ℹ️  <span style=\"color: #ff00ff; text-decoration-color: #ff00ff\">get_services_tool called with keyword: chăm sóc da mặt thiên nhiên</span>                      \n",
       "</pre>\n"
      ],
      "text/plain": [
       "\u001b[2;36m[10/03/25 15:24:40]\u001b[0m\u001b[2;36m \u001b[0m\u001b[34mINFO    \u001b[0m ℹ️  \u001b[95mget_services_tool called with keyword: chăm sóc da mặt thiên nhiên\u001b[0m                      \n"
      ]
     },
     "metadata": {},
     "output_type": "display_data"
    },
    {
     "name": "stdout",
     "output_type": "stream",
     "text": [
      "\n",
      "None\n"
     ]
    },
    {
     "data": {
      "text/html": [
       "<pre style=\"white-space:pre;overflow-x:auto;line-height:normal;font-family:Menlo,'DejaVu Sans Mono',consolas,'Courier New',monospace\"><span style=\"color: #7fbfbf; text-decoration-color: #7fbfbf\">                    </span><span style=\"color: #000080; text-decoration-color: #000080\">INFO    </span> ℹ️  <span style=\"color: #ff00ff; text-decoration-color: #ff00ff\">No results from SQL, switching to RAG search</span>                                            \n",
       "</pre>\n"
      ],
      "text/plain": [
       "\u001b[2;36m                   \u001b[0m\u001b[2;36m \u001b[0m\u001b[34mINFO    \u001b[0m ℹ️  \u001b[95mNo results from SQL, switching to RAG search\u001b[0m                                            \n"
      ]
     },
     "metadata": {},
     "output_type": "display_data"
    },
    {
     "data": {
      "text/html": [
       "<pre style=\"white-space:pre;overflow-x:auto;line-height:normal;font-family:Menlo,'DejaVu Sans Mono',consolas,'Courier New',monospace\"><span style=\"color: #7fbfbf; text-decoration-color: #7fbfbf\">[10/03/25 15:24:43] </span><span style=\"color: #000080; text-decoration-color: #000080\">INFO    </span> ℹ️  <span style=\"color: #ff00ff; text-decoration-color: #ff00ff\">Results returned from RAG</span>                                                               \n",
       "</pre>\n"
      ],
      "text/plain": [
       "\u001b[2;36m[10/03/25 15:24:43]\u001b[0m\u001b[2;36m \u001b[0m\u001b[34mINFO    \u001b[0m ℹ️  \u001b[95mResults returned from RAG\u001b[0m                                                               \n"
      ]
     },
     "metadata": {},
     "output_type": "display_data"
    },
    {
     "data": {
      "text/html": [
       "<pre style=\"white-space:pre;overflow-x:auto;line-height:normal;font-family:Menlo,'DejaVu Sans Mono',consolas,'Courier New',monospace\"><span style=\"color: #7fbfbf; text-decoration-color: #7fbfbf\">                    </span><span style=\"color: #000080; text-decoration-color: #000080\">INFO    </span> ℹ️  <span style=\"color: #ff00ff; text-decoration-color: #ff00ff\">Returning results from RAG</span>                                                              \n",
       "</pre>\n"
      ],
      "text/plain": [
       "\u001b[2;36m                   \u001b[0m\u001b[2;36m \u001b[0m\u001b[34mINFO    \u001b[0m ℹ️  \u001b[95mReturning results from RAG\u001b[0m                                                              \n"
      ]
     },
     "metadata": {},
     "output_type": "display_data"
    },
    {
     "name": "stdout",
     "output_type": "stream",
     "text": [
      "================================= Tool Message =================================\n",
      "Name: get_services_tool\n",
      "\n",
      "Here are the services returned based on the customer's request:\n",
      "\n",
      "[{'id': 35, 'type': 'nữ', 'name': 'Trắng sáng tảo thiên nhiên', 'duration_minutes': 60, 'price': 550000, 'description': 'Đắp tảo thiên nhiên + dưỡng sáng da mặt', 'long_description': 'Quy trình 60 phút bao gồm các bước làm sạch da mặt (tẩy trang, rửa mặt, xông hơi nhẹ) sau đó đắp tảo thiên nhiên lên mặt + cổ để cung cấp dưỡng chất và vi khoáng. \\\\n\\nTảo thiên nhiên giúp làm sáng da, giảm thâm nhẹ, cải thiện độ đều màu và độ sáng của da từ bên ngoài. \\\\n\\nMassage mặt nhẹ nhàng trong khi đắp tảo để tăng cường lưu thông máu, thúc đẩy da hấp thụ dưỡng chất. \\\\n\\nThời gian 60 phút phù hợp cho người muốn thử liệu trình trắng sáng nhanh mà không muốn nằm lâu, hoặc có lịch bận.\\n', 'service_discounts': [{'discount_value': 17.0}]}, {'id': 36, 'type': 'nữ', 'name': 'Trắng sáng tảo thiên nhiên', 'duration_minutes': 90, 'price': 700000, 'description': 'Đắp tảo + chăm sóc da toàn diện kéo dài', 'long_description': 'Bản 90 phút bao gồm toàn bộ bước của 60 phút + thêm phần đắp mặt nạ chuyên sâu sau khi tảo + sử dụng serum hoặc ampoule đặc trị để tăng hiệu quả làm sáng và chống oxi hóa. \\\\n\\nCó massage vùng cổ – vai gáy nhẹ để thư giãn tổng thể, giúp giải phóng mỏi và căng thẳng, làm cho làn da được “nghỉ ngơi” tốt hơn. \\\\n\\nThời gian dài hơn cũng cho phép tảo thiên nhiên và các dưỡng chất đặc trị thẩm thấu sâu hơn, làm đều màu da, giảm thâm rõ rệt hơn và duy trì hiệu quả trắng sáng lâu hơn. \\\\n\\nPhù hợp khi bạn muốn liệu trình trắng sáng “chuyên sâu”, chăm sóc da tổng thể hơn.\\n', 'service_discounts': [{'discount_value': 19.5}]}, {'id': 38, 'type': 'nữ', 'name': 'Dưỡng ẩm Linseed chuyên sâu', 'duration_minutes': 90, 'price': 650000, 'description': 'Chăm sóc da lâu hơn + đắp mặt nạ dưỡng cao cấp', 'long_description': 'Bản 90 phút bao gồm các bước của bản 60 phút + thêm bước tẩy tế bào chết nhẹ trước khi dưỡng ẩm để loại bỏ tế bào già giúp dưỡng chất thẩm thấu tốt hơn. \\\\n\\nCó thêm massage vùng cổ, vai, gáy để giảm mỏi và hỗ trợ tuần hoàn máu, giúp da được thư giãn toàn diện. \\\\n\\nSử dụng mặt nạ dưỡng chuyên sâu hơn (ví dụ mask chứa linseed cô đặc hoặc hỗn hợp dầu dưỡng cao cấp) để cấp ẩm sâu và kéo dài hiệu quả giữ ẩm. \\\\n\\nThời gian dài hơn giúp da duy trì độ ẩm lâu hơn, giảm cảm giác căng da sau khi rửa mặt hoặc tiếp xúc môi trường khô, phù hợp cho da rất khô hoặc sau khí hậu hanh khô.\\n', 'service_discounts': [{'discount_value': 22.25}]}, {'id': 39, 'type': 'nữ', 'name': 'Chăm sóc da thiên nhiên', 'duration_minutes': 60, 'price': 450000, 'description': 'Sản phẩm thiên nhiên + nhẹ nhàng cho da nhạy cảm', 'long_description': 'Liệu trình 60 phút với sản phẩm chiết xuất thiên nhiên – rửa mặt nhẹ, xông hơi, tẩy tế bào chết tự nhiên (ví dụ từ bột yến mạch, trà xanh, hoặc nguyên liệu thực vật nhẹ nhàng), đắp mask thiên nhiên + massage mặt + cổ nhẹ. \\\\n\\nTập trung làm dịu da, cân bằng độ pH, giảm sưng đỏ và kích ứng – phù hợp cho da nhạy cảm hoặc muốn liệu trình nhẹ nhàng. \\\\n\\nThời gian 60 phút đủ để da được làm sạch, thư giãn và nhận được dưỡng chất nhẹ mà không gây áp lực hoặc quá kích ứng.\\n', 'service_discounts': [{'discount_value': 23.9}]}, {'id': 40, 'type': 'nữ', 'name': 'Chăm sóc da thiên nhiên', 'duration_minutes': 90, 'price': 600000, 'description': 'Làm sáng + dưỡng sâu vùng da nhạy cảm', 'long_description': 'Bản 90 phút gồm các bước của bản 60 phút + thêm massage chuyên sâu vùng cổ vai gáy, sử dụng mặt nạ thiên nhiên đặc trị (ví dụ có kết hợp Vitamin C tự nhiên, tinh dầu thực vật), đắp mask lâu hơn để dưỡng sâu hơn. \\\\n\\nCó thêm bước làm mát da hoặc đắp mặt nạ phụ hỗ trợ chống oxi hóa, giúp da phục hồi sau ánh nắng hoặc stress môi trường. \\\\n\\nThời gian dài hơn giúp các bước nhẹ nhàng được thư giãn hơn, dưỡng chất thấm sâu, giảm kích ứng rõ rệt, cải thiện độ đàn hồi và làm đều màu da tốt hơn. \\\\n\\nPhù hợp cho người muốn trải nghiệm liệu trình chăm sóc đầy đủ, dành thời gian cho bản thân, đặc biệt nếu có da nhạy cảm hoặc da bị tổn hại nhẹ.\\n', 'service_discounts': [{'discount_value': 25.0}]}]\n",
      "\n",
      "None\n",
      "=================================="
     ]
    },
    {
     "data": {
      "text/html": [
       "<pre style=\"white-space:pre;overflow-x:auto;line-height:normal;font-family:Menlo,'DejaVu Sans Mono',consolas,'Courier New',monospace\"><span style=\"color: #7fbfbf; text-decoration-color: #7fbfbf\">[10/03/25 15:24:43] </span><span style=\"color: #000080; text-decoration-color: #000080\">INFO    </span> ℹ️  <span style=\"color: #ff00ff; text-decoration-color: #ff00ff\">add_service_tool được gọi</span>                                                               \n",
       "</pre>\n"
      ],
      "text/plain": [
       "\u001b[2;36m[10/03/25 15:24:43]\u001b[0m\u001b[2;36m \u001b[0m\u001b[34mINFO    \u001b[0m ℹ️  \u001b[95madd_service_tool được gọi\u001b[0m                                                               \n"
      ]
     },
     "metadata": {},
     "output_type": "display_data"
    },
    {
     "name": "stdout",
     "output_type": "stream",
     "text": [
      " Ai Message ==================================\n",
      "Tool Calls:\n",
      "  add_service_tool (call_hfkJ0QQ1DQHHeNeFJHV3zgO1)\n",
      " Call ID: call_hfkJ0QQ1DQHHeNeFJHV3zgO1\n",
      "  Args:\n",
      "    service_id_list: [39]"
     ]
    },
    {
     "data": {
      "text/html": [
       "<pre style=\"white-space:pre;overflow-x:auto;line-height:normal;font-family:Menlo,'DejaVu Sans Mono',consolas,'Courier New',monospace\"><span style=\"color: #7fbfbf; text-decoration-color: #7fbfbf\">[10/03/25 15:24:44] </span><span style=\"color: #000080; text-decoration-color: #000080\">INFO    </span> ℹ️  <span style=\"color: #ff00ff; text-decoration-color: #ff00ff\">Thêm dịch vụ khách chọn vào state thành công</span>                                            \n",
       "</pre>\n"
      ],
      "text/plain": [
       "\u001b[2;36m[10/03/25 15:24:44]\u001b[0m\u001b[2;36m \u001b[0m\u001b[34mINFO    \u001b[0m ℹ️  \u001b[95mThêm dịch vụ khách chọn vào state thành công\u001b[0m                                            \n"
      ]
     },
     "metadata": {},
     "output_type": "display_data"
    },
    {
     "name": "stdout",
     "output_type": "stream",
     "text": [
      "\n",
      "None\n",
      "================================= Tool Message =================================\n",
      "Name: add_service_tool\n",
      "\n",
      "Đây là thông tin các dịch vụ mà khách chọn:\n",
      "STT: 1\n",
      "Loại dịch vụ: nữ\n",
      "Tên dịch vụ: Chăm sóc da thiên nhiên\n",
      "Thời gian: 60\n",
      "Giá: 450000 VNĐ\n",
      "Giảm giá: 23.9%\n",
      "Giá sau giảm: 342450 VNĐ\n",
      "\n",
      "Tổng thời gian: 60\n",
      "Tổng giá tiền: 342450 VNĐ\n",
      "\n",
      "\n",
      "None\n",
      "================================== Ai Message ==================================\n",
      "\n",
      "Chị đã chọn dịch vụ \"Chăm sóc da thiên nhiên\" thời gian 60 phút, giá sau giảm còn 342.450 VNĐ. Chị muốn đặt lịch vào ngày nào và giờ nào ạ? Em sẽ giúp chị kiểm tra lịch trống ngay.\n",
      "None\n",
      "================================== Ai Message ==================================\n",
      "Name: booking_agent_node\n",
      "\n",
      "Chị đã chọn dịch vụ \"Chăm sóc da thiên nhiên\" thời gian 60 phút, giá sau giảm còn 342.450 VNĐ. Chị muốn đặt lịch vào ngày nào và giờ nào ạ? Em sẽ giúp chị kiểm tra lịch trống ngay.\n",
      "None\n"
     ]
    }
   ],
   "source": [
    "state[\"user_input\"] = (\n",
    "    \"cho chị đặt chăm sóc da mặt thiên nhiên 60p\"\n",
    ")\n",
    "state[\"chat_id\"] = \"10\"\n",
    "\n",
    "await test_bot(graph, state, config, \"updates\")"
   ]
  },
  {
   "cell_type": "code",
   "execution_count": 3,
   "metadata": {},
   "outputs": [
    {
     "data": {
      "text/html": [
       "<pre style=\"white-space:pre;overflow-x:auto;line-height:normal;font-family:Menlo,'DejaVu Sans Mono',consolas,'Courier New',monospace\"><span style=\"color: #7fbfbf; text-decoration-color: #7fbfbf\">[10/03/25 15:24:57] </span><span style=\"color: #000080; text-decoration-color: #000080\">INFO    </span> ℹ️  <span style=\"color: #ff00ff; text-decoration-color: #ff00ff\">Thông tin của khách: - Tên: </span><span style=\"color: #800080; text-decoration-color: #800080; font-style: italic\">None</span><span style=\"color: #ff00ff; text-decoration-color: #ff00ff\"> | - Số điện thoại: </span><span style=\"color: #800080; text-decoration-color: #800080; font-style: italic\">None</span><span style=\"color: #ff00ff; text-decoration-color: #ff00ff\"> | - Email: </span><span style=\"color: #800080; text-decoration-color: #800080; font-style: italic\">None</span>                \n",
       "</pre>\n"
      ],
      "text/plain": [
       "\u001b[2;36m[10/03/25 15:24:57]\u001b[0m\u001b[2;36m \u001b[0m\u001b[34mINFO    \u001b[0m ℹ️  \u001b[95mThông tin của khách: - Tên: \u001b[0m\u001b[3;35mNone\u001b[0m\u001b[95m | - Số điện thoại: \u001b[0m\u001b[3;35mNone\u001b[0m\u001b[95m | - Email: \u001b[0m\u001b[3;35mNone\u001b[0m                \n"
      ]
     },
     "metadata": {},
     "output_type": "display_data"
    },
    {
     "data": {
      "text/html": [
       "<pre style=\"white-space:pre;overflow-x:auto;line-height:normal;font-family:Menlo,'DejaVu Sans Mono',consolas,'Courier New',monospace\"><span style=\"color: #7fbfbf; text-decoration-color: #7fbfbf\">                    </span><span style=\"color: #000080; text-decoration-color: #000080\">INFO    </span> ℹ️  <span style=\"color: #ff00ff; text-decoration-color: #ff00ff\">New customer: </span><span style=\"color: #00ff00; text-decoration-color: #00ff00; font-style: italic\">True</span>                                                                      \n",
       "</pre>\n"
      ],
      "text/plain": [
       "\u001b[2;36m                   \u001b[0m\u001b[2;36m \u001b[0m\u001b[34mINFO    \u001b[0m ℹ️  \u001b[95mNew customer: \u001b[0m\u001b[3;92mTrue\u001b[0m                                                                      \n"
      ]
     },
     "metadata": {},
     "output_type": "display_data"
    },
    {
     "data": {
      "text/html": [
       "<pre style=\"white-space:pre;overflow-x:auto;line-height:normal;font-family:Menlo,'DejaVu Sans Mono',consolas,'Courier New',monospace\"><span style=\"color: #7fbfbf; text-decoration-color: #7fbfbf\">                    </span><span style=\"color: #000080; text-decoration-color: #000080\">INFO    </span> ℹ️  <span style=\"color: #ff00ff; text-decoration-color: #ff00ff\">Yêu cầu của khách: à thôi cho chị đổi lại 90p đi</span>                                        \n",
       "</pre>\n"
      ],
      "text/plain": [
       "\u001b[2;36m                   \u001b[0m\u001b[2;36m \u001b[0m\u001b[34mINFO    \u001b[0m ℹ️  \u001b[95mYêu cầu của khách: à thôi cho chị đổi lại 90p đi\u001b[0m                                        \n"
      ]
     },
     "metadata": {},
     "output_type": "display_data"
    },
    {
     "data": {
      "text/html": [
       "<pre style=\"white-space:pre;overflow-x:auto;line-height:normal;font-family:Menlo,'DejaVu Sans Mono',consolas,'Courier New',monospace\"><span style=\"color: #7fbfbf; text-decoration-color: #7fbfbf\">[10/03/25 15:24:58] </span><span style=\"color: #000080; text-decoration-color: #000080\">INFO    </span> ℹ️  <span style=\"color: #ff00ff; text-decoration-color: #ff00ff\">Agent tiếp theo: booking_agent</span>                                                          \n",
       "</pre>\n"
      ],
      "text/plain": [
       "\u001b[2;36m[10/03/25 15:24:58]\u001b[0m\u001b[2;36m \u001b[0m\u001b[34mINFO    \u001b[0m ℹ️  \u001b[95mAgent tiếp theo: booking_agent\u001b[0m                                                          \n"
      ]
     },
     "metadata": {},
     "output_type": "display_data"
    },
    {
     "name": "stdout",
     "output_type": "stream",
     "text": [
      "================================ Human Message =================================\n",
      "\n",
      "à thôi cho chị đổi lại 90p đi\n",
      "None\n",
      "=================================="
     ]
    },
    {
     "data": {
      "text/html": [
       "<pre style=\"white-space:pre;overflow-x:auto;line-height:normal;font-family:Menlo,'DejaVu Sans Mono',consolas,'Courier New',monospace\"><span style=\"color: #7fbfbf; text-decoration-color: #7fbfbf\">[10/03/25 15:24:59] </span><span style=\"color: #000080; text-decoration-color: #000080\">INFO    </span> ℹ️  <span style=\"color: #ff00ff; text-decoration-color: #ff00ff\">remove_service_tool được gọi</span>                                                            \n",
       "</pre>\n"
      ],
      "text/plain": [
       "\u001b[2;36m[10/03/25 15:24:59]\u001b[0m\u001b[2;36m \u001b[0m\u001b[34mINFO    \u001b[0m ℹ️  \u001b[95mremove_service_tool được gọi\u001b[0m                                                            \n"
      ]
     },
     "metadata": {},
     "output_type": "display_data"
    },
    {
     "name": "stdout",
     "output_type": "stream",
     "text": [
      " Ai Message ==================================\n",
      "Tool Calls:\n",
      "  remove_service_tool (call_FVcwyOm8hXyCguLBRumbmiLt)\n",
      " Call ID: call_FVcwyOm8hXyCguLBRumbmiLt\n",
      "  Args:\n",
      "    service_id_list: [39]\n"
     ]
    },
    {
     "data": {
      "text/html": [
       "<pre style=\"white-space:pre;overflow-x:auto;line-height:normal;font-family:Menlo,'DejaVu Sans Mono',consolas,'Courier New',monospace\"><span style=\"color: #7fbfbf; text-decoration-color: #7fbfbf\">                    </span><span style=\"color: #000080; text-decoration-color: #000080\">INFO    </span> ℹ️  <span style=\"color: #ff00ff; text-decoration-color: #ff00ff\">Xóa dịch vụ khách không muốn làm nữa thành công</span>                                         \n",
       "</pre>\n"
      ],
      "text/plain": [
       "\u001b[2;36m                   \u001b[0m\u001b[2;36m \u001b[0m\u001b[34mINFO    \u001b[0m ℹ️  \u001b[95mXóa dịch vụ khách không muốn làm nữa thành công\u001b[0m                                         \n"
      ]
     },
     "metadata": {},
     "output_type": "display_data"
    },
    {
     "name": "stdout",
     "output_type": "stream",
     "text": [
      "None\n",
      "================================= Tool Message =================================\n",
      "Name: remove_service_tool\n",
      "\n",
      "Đây là thông tin các dịch vụ còn lại mà khách chọn:\n",
      "Tổng thời gian: 0\n",
      "Tổng giá tiền: 0 VNĐ\n",
      "\n",
      "\n",
      "None\n",
      "================================== Ai Message "
     ]
    },
    {
     "data": {
      "text/html": [
       "<pre style=\"white-space:pre;overflow-x:auto;line-height:normal;font-family:Menlo,'DejaVu Sans Mono',consolas,'Courier New',monospace\"><span style=\"color: #7fbfbf; text-decoration-color: #7fbfbf\">[10/03/25 15:25:00] </span><span style=\"color: #000080; text-decoration-color: #000080\">INFO    </span> ℹ️  <span style=\"color: #ff00ff; text-decoration-color: #ff00ff\">add_service_tool được gọi</span>                                                               \n",
       "</pre>\n"
      ],
      "text/plain": [
       "\u001b[2;36m[10/03/25 15:25:00]\u001b[0m\u001b[2;36m \u001b[0m\u001b[34mINFO    \u001b[0m ℹ️  \u001b[95madd_service_tool được gọi\u001b[0m                                                               \n"
      ]
     },
     "metadata": {},
     "output_type": "display_data"
    },
    {
     "name": "stdout",
     "output_type": "stream",
     "text": [
      "==================================\n",
      "Tool Calls:\n",
      "  add_service_tool (call_z3VPjhpdwsHGzAL2LqwdnLRB)\n",
      " Call ID: call_z3VPjhpdwsHGzAL2LqwdnLRB\n",
      "  Args:\n",
      "    service_id_list: [40]\n",
      "None"
     ]
    },
    {
     "data": {
      "text/html": [
       "<pre style=\"white-space:pre;overflow-x:auto;line-height:normal;font-family:Menlo,'DejaVu Sans Mono',consolas,'Courier New',monospace\"><span style=\"color: #7fbfbf; text-decoration-color: #7fbfbf\">                    </span><span style=\"color: #000080; text-decoration-color: #000080\">INFO    </span> ℹ️  <span style=\"color: #ff00ff; text-decoration-color: #ff00ff\">Thêm dịch vụ khách chọn vào state thành công</span>                                            \n",
       "</pre>\n"
      ],
      "text/plain": [
       "\u001b[2;36m                   \u001b[0m\u001b[2;36m \u001b[0m\u001b[34mINFO    \u001b[0m ℹ️  \u001b[95mThêm dịch vụ khách chọn vào state thành công\u001b[0m                                            \n"
      ]
     },
     "metadata": {},
     "output_type": "display_data"
    },
    {
     "name": "stdout",
     "output_type": "stream",
     "text": [
      "\n",
      "================================= Tool Message =================================\n",
      "Name: add_service_tool\n",
      "\n",
      "Đây là thông tin các dịch vụ mà khách chọn:\n",
      "STT: 1\n",
      "Loại dịch vụ: nữ\n",
      "Tên dịch vụ: Chăm sóc da thiên nhiên\n",
      "Thời gian: 90\n",
      "Giá: 600000 VNĐ\n",
      "Giảm giá: 25.0%\n",
      "Giá sau giảm: 450000 VNĐ\n",
      "\n",
      "Tổng thời gian: 90\n",
      "Tổng giá tiền: 450000 VNĐ\n",
      "\n",
      "\n",
      "None\n",
      "================================== Ai Message ==================================\n",
      "\n",
      "Chị đã đổi sang dịch vụ \"Chăm sóc da thiên nhiên\" thời gian 90 phút, giá sau giảm còn 450.000 VNĐ. Chị muốn đặt lịch vào ngày nào và giờ nào ạ? Em sẽ giúp chị kiểm tra lịch trống ngay.\n",
      "None\n",
      "================================== Ai Message ==================================\n",
      "Name: booking_agent_node\n",
      "\n",
      "Chị đã đổi sang dịch vụ \"Chăm sóc da thiên nhiên\" thời gian 90 phút, giá sau giảm còn 450.000 VNĐ. Chị muốn đặt lịch vào ngày nào và giờ nào ạ? Em sẽ giúp chị kiểm tra lịch trống ngay.\n",
      "None\n"
     ]
    }
   ],
   "source": [
    "state[\"user_input\"] = (\n",
    "    \"à thôi cho chị đổi lại 90p đi\"\n",
    ")\n",
    "state[\"chat_id\"] = \"10\"\n",
    "\n",
    "await test_bot(graph, state, config, \"updates\")"
   ]
  },
  {
   "cell_type": "code",
   "execution_count": null,
   "metadata": {},
   "outputs": [],
   "source": [
    "state[\"user_input\"] = (\n",
    "    \"cho anh t2 tuần sau 10h sáng nhe\"\n",
    ")\n",
    "state[\"chat_id\"] = \"10\"\n",
    "\n",
    "await test_bot(graph, state, config, \"updates\")"
   ]
  },
  {
   "cell_type": "code",
   "execution_count": null,
   "metadata": {},
   "outputs": [],
   "source": [
    "state[\"user_input\"] = (\n",
    "    \"anh ko có ghi chú j\"\n",
    ")\n",
    "state[\"chat_id\"] = \"10\"\n",
    "\n",
    "await test_bot(graph, state, config, \"updates\")"
   ]
  },
  {
   "cell_type": "code",
   "execution_count": null,
   "metadata": {},
   "outputs": [],
   "source": [
    "state[\"user_input\"] = (\n",
    "    \"ko anh ko có ghi chú gì\"\n",
    ")\n",
    "state[\"chat_id\"] = \"10\"\n",
    "\n",
    "await test_bot(graph, state, config, \"updates\")"
   ]
  },
  {
   "cell_type": "code",
   "execution_count": null,
   "metadata": {},
   "outputs": [],
   "source": [
    "state[\"user_input\"] = (\n",
    "    \"à hay cho anh đổi bể sục nóng lạnh 30p thành 60p đi em\"\n",
    ")\n",
    "state[\"chat_id\"] = \"10\"\n",
    "\n",
    "await test_bot(graph, state, config, \"updates\")"
   ]
  },
  {
   "cell_type": "code",
   "execution_count": null,
   "metadata": {},
   "outputs": [],
   "source": [
    "state[\"user_input\"] = (\n",
    "    \"chiều t7 tuần này 3h được không em\"\n",
    ")\n",
    "state[\"chat_id\"] = \"10\"\n",
    "\n",
    "await test_bot(graph, state, config, \"updates\")"
   ]
  },
  {
   "cell_type": "code",
   "execution_count": null,
   "metadata": {},
   "outputs": [],
   "source": [
    "state[\"user_input\"] = (\n",
    "    \"ok em\"\n",
    ")\n",
    "state[\"chat_id\"] = \"10\"\n",
    "\n",
    "await test_bot(graph, state, config, \"updates\")"
   ]
  },
  {
   "cell_type": "code",
   "execution_count": null,
   "metadata": {},
   "outputs": [],
   "source": [
    "graph.get_state(config).values"
   ]
  },
  {
   "cell_type": "markdown",
   "metadata": {},
   "source": [
    "----"
   ]
  },
  {
   "cell_type": "code",
   "execution_count": 8,
   "metadata": {},
   "outputs": [],
   "source": [
    "from database.connection import supabase_client, embeddings_model\n",
    "from repository.sync_repo import AppointmentRepo, CustomerRepo, RoomRepo, StaffRepo, ServiceRepo\n",
    "from repository.async_repo import AsyncCustomerRepo\n",
    "from dotenv import load_dotenv\n",
    "from datetime import date, time, datetime, timedelta\n",
    "import random\n",
    "import os\n",
    "\n",
    "load_dotenv(override=True)\n",
    "\n",
    "appointment_repo = AppointmentRepo(supabase_client=supabase_client)\n",
    "room_repo = RoomRepo(supabase_client=supabase_client)\n",
    "staff_repo = StaffRepo(supabase_client=supabase_client)\n",
    "service_repo = ServiceRepo(supabase_client=supabase_client)\n",
    "customer_repo = CustomerRepo(supabase_client=supabase_client)\n",
    "\n",
    "async_customer_repo = AsyncCustomerRepo(supabase_client=supabase_client)\n",
    "\n",
    "OPEN_TIME_STR = os.getenv(\"OPEN_TIME_STR\", \"08:00:00\")\n",
    "CLOSE_TIME_STR = os.getenv(\"CLOSE_TIME_STR\", \"21:00:00\")"
   ]
  },
  {
   "cell_type": "code",
   "execution_count": 10,
   "metadata": {},
   "outputs": [],
   "source": [
    "from datetime import datetime, timezone, timedelta\n",
    "from zoneinfo import ZoneInfo\n",
    "\n",
    "def _get_time_vn() -> str:\n",
    "    tz_vn = ZoneInfo(\"Asia/Ho_Chi_Minh\")\n",
    "    now_vn = datetime.now(tz_vn)\n",
    "\n",
    "    now_vn = now_vn.replace(microsecond=0)\n",
    "    now_vn = now_vn.strftime(\"%Y-%m-%d %H:%M:%S+07\")\n",
    "    \n",
    "    return now_vn\n",
    "\n",
    "def _to_vn(dt_str_or_dt):\n",
    "    if isinstance(dt_str_or_dt, str):\n",
    "        # parse chuỗi ISO (UTC)\n",
    "        dt = datetime.fromisoformat(dt_str_or_dt)\n",
    "    else:\n",
    "        dt = dt_str_or_dt\n",
    "    # nếu dt không có tzinfo, giả sử là UTC\n",
    "    if dt.tzinfo is None:\n",
    "        dt = dt.replace(tzinfo=timezone.utc)\n",
    "    # chuyển sang giờ VN\n",
    "    dt_vn = dt.astimezone(ZoneInfo(\"Asia/Ho_Chi_Minh\"))\n",
    "    dt_vn = dt_vn.strftime(\"%Y-%m-%d %H:%M:%S+07\")\n",
    "    return dt_vn\n",
    "\n",
    "data = await async_customer_repo.find_customer(chat_id=\"1199687758\")"
   ]
  },
  {
   "cell_type": "code",
   "execution_count": 11,
   "metadata": {},
   "outputs": [
    {
     "data": {
      "text/plain": [
       "{'id': 467,\n",
       " 'name': 'Mai',\n",
       " 'phone': '0908547964',\n",
       " 'email': None,\n",
       " 'chat_id': '1199687758',\n",
       " 'uuid': '5a95c362-00ba-43ac-abfd-c21bb6742aa9',\n",
       " 'sessions': [{'id': 7,\n",
       "   'status': 'active',\n",
       "   'ended_at': None,\n",
       "   'thread_id': '1234',\n",
       "   'started_at': '2025-10-06 09:34:28+07',\n",
       "   'customer_id': 467,\n",
       "   'last_active_at': '2025-10-02 09:34:28+07'}]}"
      ]
     },
     "execution_count": 11,
     "metadata": {},
     "output_type": "execute_result"
    }
   ],
   "source": [
    "data"
   ]
  },
  {
   "cell_type": "code",
   "execution_count": 12,
   "metadata": {},
   "outputs": [],
   "source": [
    "def is_expired_over_n_days_vn(last_active_at: str, n_days: int) -> bool:\n",
    "    \"\"\"\n",
    "    Returns:\n",
    "        - True: Pass n days\n",
    "        - False: Not pass n days\n",
    "    \"\"\"\n",
    "    dt = datetime.fromisoformat(last_active_at)\n",
    "    if dt.tzinfo is None:\n",
    "        dt = dt.replace(tzinfo=timezone.utc)\n",
    "\n",
    "    tz_vn = ZoneInfo(\"Asia/Ho_Chi_Minh\")\n",
    "    now_vn = datetime.now(tz_vn)\n",
    "    # hoặc convert dt sang tz_vn trước khi so\n",
    "    dt_vn = dt.astimezone(tz_vn)\n",
    "    delta = now_vn - dt_vn\n",
    "    \n",
    "    return delta > timedelta(days=n_days)"
   ]
  },
  {
   "cell_type": "code",
   "execution_count": 13,
   "metadata": {},
   "outputs": [
    {
     "data": {
      "text/plain": [
       "True"
      ]
     },
     "execution_count": 13,
     "metadata": {},
     "output_type": "execute_result"
    }
   ],
   "source": [
    "is_expired_over_n_days_vn(data[\"sessions\"][0][\"last_active_at\"], 3)"
   ]
  }
 ],
 "metadata": {
  "kernelspec": {
   "display_name": ".sellbot",
   "language": "python",
   "name": "python3"
  },
  "language_info": {
   "codemirror_mode": {
    "name": "ipython",
    "version": 3
   },
   "file_extension": ".py",
   "mimetype": "text/x-python",
   "name": "python",
   "nbconvert_exporter": "python",
   "pygments_lexer": "ipython3",
   "version": "3.12.5"
  }
 },
 "nbformat": 4,
 "nbformat_minor": 2
}
