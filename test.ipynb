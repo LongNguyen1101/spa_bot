{
 "cells": [
  {
   "cell_type": "code",
   "execution_count": 1,
   "metadata": {},
   "outputs": [],
   "source": [
    "from core.graph.build_graph import create_main_graph\n",
    "from core.graph.state import init_state\n",
    "from core.utils.function import test_bot\n",
    "from langchain_core.messages import HumanMessage, AIMessage\n",
    "\n",
    "\n",
    "graph = create_main_graph()\n",
    "state = init_state()\n",
    "\n",
    "config = {\n",
    "    \"configurable\": \n",
    "    {\n",
    "        \"thread_id\": \"1\"\n",
    "    }\n",
    "}"
   ]
  },
  {
   "cell_type": "code",
   "execution_count": 2,
   "metadata": {},
   "outputs": [],
   "source": [
    "state = {'messages': [HumanMessage(content='cho anh Trị liệu giác quan bằng mùi hương 60p và Trị liệu thư giãn đôi chân 60p', additional_kwargs={}, response_metadata={}, id='a95c76d6-36f1-440f-82a8-76590eb7cb14'),\n",
    "  AIMessage(content='Anh đã chọn 2 dịch vụ gồm:\\n- Trị liệu giác quan bằng mùi hương 60 phút, giá 360.000 VNĐ (đã giảm 10%)\\n- Trị liệu thư giãn đôi chân 60 phút, giá 212.500 VNĐ (đã giảm 15%)\\n\\nTổng thời gian là 120 phút, tổng chi phí sau giảm là 572.500 VNĐ.\\n\\nAnh muốn đặt lịch vào ngày nào và giờ nào ạ? Em sẽ kiểm tra giúp anh lịch trống ngay.', additional_kwargs={}, response_metadata={}, name='booking_agent_node', id='5293310f-070a-4f81-b99f-688ec6d12aa3'),\n",
    "  HumanMessage(content='cho anh chiều mốt 3h nhe', additional_kwargs={}, response_metadata={}, id='b6366595-fff3-4ac0-a2ee-ea4dc8da6bce'),\n",
    "  AIMessage(content='Anh Long muốn đặt dịch vụ Trị liệu giác quan bằng mùi hương 60 phút và Trị liệu thư giãn đôi chân 60 phút vào chiều mốt, ngày 03/10/2025 lúc 15h. Lịch này hiện đang còn trống ạ.\\n\\nAnh có muốn để em đặt lịch giúp anh luôn không ạ? Nếu có, anh có muốn để lại ghi chú gì cho lịch hẹn không?', additional_kwargs={}, response_metadata={}, name='booking_agent_node', id='e101b65c-f788-4420-aa69-721206d9f7ca')],\n",
    " 'user_input': 'cho anh chiều mốt 3h nhe',\n",
    " 'chat_id': '10',\n",
    " 'next': '__end__',\n",
    " 'current_date': 'Wednesday, 01-10-2025',\n",
    " 'customer_id': 387,\n",
    " 'name': 'Long',\n",
    " 'phone': '123',\n",
    " 'email': None,\n",
    " 'new_customer': False,\n",
    " 'seen_services': {21: {'service_id': 21,\n",
    "   'service_type': 'nam',\n",
    "   'service_name': 'Trị liệu giác quan bằng mùi hương',\n",
    "   'duration_minutes': 60,\n",
    "   'price': 400000,\n",
    "   'discount_value': 10.0,\n",
    "   'price_after_discount': 360000.0},\n",
    "  22: {'service_id': 22,\n",
    "   'service_type': 'nam',\n",
    "   'service_name': 'Trị liệu giác quan bằng mùi hương',\n",
    "   'duration_minutes': 90,\n",
    "   'price': 500000,\n",
    "...\n",
    " 'total_discount': None,\n",
    " 'price_after_discount': None,\n",
    " 'explain': None,\n",
    " 'pre_bookings': None,\n",
    " 'book_info': None}\n",
    "Output is truncated. View as a scrollable element or open in a text editor. Adjust cell output settings..."
   ]
  },
  {
   "cell_type": "code",
   "execution_count": 2,
   "metadata": {},
   "outputs": [
    {
     "data": {
      "text/html": [
       "<pre style=\"white-space:pre;overflow-x:auto;line-height:normal;font-family:Menlo,'DejaVu Sans Mono',consolas,'Courier New',monospace\"><span style=\"color: #7fbfbf; text-decoration-color: #7fbfbf\">[10/01/25 15:06:14] </span><span style=\"color: #000080; text-decoration-color: #000080\">INFO    </span> ℹ️  <span style=\"color: #ff00ff; text-decoration-color: #ff00ff\">Tạo mới hoặc lấy thông tin khách: </span><span style=\"color: #ff00ff; text-decoration-color: #ff00ff; font-weight: bold\">{</span><span style=\"color: #008000; text-decoration-color: #008000\">'id'</span><span style=\"color: #ff00ff; text-decoration-color: #ff00ff\">: </span><span style=\"color: #008080; text-decoration-color: #008080; font-weight: bold\">387</span><span style=\"color: #ff00ff; text-decoration-color: #ff00ff\">, </span><span style=\"color: #008000; text-decoration-color: #008000\">'name'</span><span style=\"color: #ff00ff; text-decoration-color: #ff00ff\">: </span><span style=\"color: #008000; text-decoration-color: #008000\">'Long'</span><span style=\"color: #ff00ff; text-decoration-color: #ff00ff\">, </span><span style=\"color: #008000; text-decoration-color: #008000\">'phone'</span><span style=\"color: #ff00ff; text-decoration-color: #ff00ff\">: </span><span style=\"color: #008000; text-decoration-color: #008000\">'123'</span><span style=\"color: #ff00ff; text-decoration-color: #ff00ff\">, </span><span style=\"color: #008000; text-decoration-color: #008000\">'email'</span><span style=\"color: #ff00ff; text-decoration-color: #ff00ff\">: </span> \n",
       "<span style=\"color: #7fbfbf; text-decoration-color: #7fbfbf\">                    </span>         <span style=\"color: #800080; text-decoration-color: #800080; font-style: italic\">None</span><span style=\"color: #ff00ff; text-decoration-color: #ff00ff\">, </span><span style=\"color: #008000; text-decoration-color: #008000\">'chat_id'</span><span style=\"color: #ff00ff; text-decoration-color: #ff00ff\">: </span><span style=\"color: #008000; text-decoration-color: #008000\">'10'</span><span style=\"color: #ff00ff; text-decoration-color: #ff00ff\">, </span><span style=\"color: #008000; text-decoration-color: #008000\">'uuid'</span><span style=\"color: #ff00ff; text-decoration-color: #ff00ff\">: </span><span style=\"color: #800080; text-decoration-color: #800080; font-style: italic\">None</span><span style=\"color: #ff00ff; text-decoration-color: #ff00ff; font-weight: bold\">}</span>                                                       \n",
       "</pre>\n"
      ],
      "text/plain": [
       "\u001b[2;36m[10/01/25 15:06:14]\u001b[0m\u001b[2;36m \u001b[0m\u001b[34mINFO    \u001b[0m ℹ️  \u001b[95mTạo mới hoặc lấy thông tin khách: \u001b[0m\u001b[1;95m{\u001b[0m\u001b[32m'id'\u001b[0m\u001b[95m: \u001b[0m\u001b[1;36m387\u001b[0m\u001b[95m, \u001b[0m\u001b[32m'name'\u001b[0m\u001b[95m: \u001b[0m\u001b[32m'Long'\u001b[0m\u001b[95m, \u001b[0m\u001b[32m'phone'\u001b[0m\u001b[95m: \u001b[0m\u001b[32m'123'\u001b[0m\u001b[95m, \u001b[0m\u001b[32m'email'\u001b[0m\u001b[95m: \u001b[0m \n",
       "\u001b[2;36m                    \u001b[0m         \u001b[3;35mNone\u001b[0m\u001b[95m, \u001b[0m\u001b[32m'chat_id'\u001b[0m\u001b[95m: \u001b[0m\u001b[32m'10'\u001b[0m\u001b[95m, \u001b[0m\u001b[32m'uuid'\u001b[0m\u001b[95m: \u001b[0m\u001b[3;35mNone\u001b[0m\u001b[1;95m}\u001b[0m                                                       \n"
      ]
     },
     "metadata": {},
     "output_type": "display_data"
    },
    {
     "data": {
      "text/html": [
       "<pre style=\"white-space:pre;overflow-x:auto;line-height:normal;font-family:Menlo,'DejaVu Sans Mono',consolas,'Courier New',monospace\"><span style=\"color: #7fbfbf; text-decoration-color: #7fbfbf\">[10/01/25 15:06:15] </span><span style=\"color: #000080; text-decoration-color: #000080\">INFO    </span> ℹ️  <span style=\"color: #ff00ff; text-decoration-color: #ff00ff\">New customer: </span><span style=\"color: #ff0000; text-decoration-color: #ff0000; font-style: italic\">False</span>                                                                     \n",
       "</pre>\n"
      ],
      "text/plain": [
       "\u001b[2;36m[10/01/25 15:06:15]\u001b[0m\u001b[2;36m \u001b[0m\u001b[34mINFO    \u001b[0m ℹ️  \u001b[95mNew customer: \u001b[0m\u001b[3;91mFalse\u001b[0m                                                                     \n"
      ]
     },
     "metadata": {},
     "output_type": "display_data"
    },
    {
     "data": {
      "text/html": [
       "<pre style=\"white-space:pre;overflow-x:auto;line-height:normal;font-family:Menlo,'DejaVu Sans Mono',consolas,'Courier New',monospace\"><span style=\"color: #7fbfbf; text-decoration-color: #7fbfbf\">                    </span><span style=\"color: #000080; text-decoration-color: #000080\">INFO    </span> ℹ️  <span style=\"color: #ff00ff; text-decoration-color: #ff00ff\">Yêu cầu của khách: bên em có dịch vụ gì</span>                                                 \n",
       "</pre>\n"
      ],
      "text/plain": [
       "\u001b[2;36m                   \u001b[0m\u001b[2;36m \u001b[0m\u001b[34mINFO    \u001b[0m ℹ️  \u001b[95mYêu cầu của khách: bên em có dịch vụ gì\u001b[0m                                                 \n"
      ]
     },
     "metadata": {},
     "output_type": "display_data"
    },
    {
     "data": {
      "text/html": [
       "<pre style=\"white-space:pre;overflow-x:auto;line-height:normal;font-family:Menlo,'DejaVu Sans Mono',consolas,'Courier New',monospace\"><span style=\"color: #7fbfbf; text-decoration-color: #7fbfbf\">[10/01/25 15:06:16] </span><span style=\"color: #000080; text-decoration-color: #000080\">INFO    </span> ℹ️  <span style=\"color: #ff00ff; text-decoration-color: #ff00ff\">Agent tiếp theo: service_agent</span>                                                          \n",
       "</pre>\n"
      ],
      "text/plain": [
       "\u001b[2;36m[10/01/25 15:06:16]\u001b[0m\u001b[2;36m \u001b[0m\u001b[34mINFO    \u001b[0m ℹ️  \u001b[95mAgent tiếp theo: service_agent\u001b[0m                                                          \n"
      ]
     },
     "metadata": {},
     "output_type": "display_data"
    },
    {
     "name": "stdout",
     "output_type": "stream",
     "text": [
      "================================ Human Message =================================\n",
      "\n",
      "bên em có dịch vụ gì\n",
      "None\n",
      "================================== Ai Message "
     ]
    },
    {
     "data": {
      "text/html": [
       "<pre style=\"white-space:pre;overflow-x:auto;line-height:normal;font-family:Menlo,'DejaVu Sans Mono',consolas,'Courier New',monospace\"><span style=\"color: #7fbfbf; text-decoration-color: #7fbfbf\">[10/01/25 15:06:17] </span><span style=\"color: #000080; text-decoration-color: #000080\">INFO    </span> ℹ️  <span style=\"color: #ff00ff; text-decoration-color: #ff00ff\">get_qna_tool called with query: bên em có dịch vụ gì</span>                                    \n",
       "</pre>\n"
      ],
      "text/plain": [
       "\u001b[2;36m[10/01/25 15:06:17]\u001b[0m\u001b[2;36m \u001b[0m\u001b[34mINFO    \u001b[0m ℹ️  \u001b[95mget_qna_tool called with query: bên em có dịch vụ gì\u001b[0m                                    \n"
      ]
     },
     "metadata": {},
     "output_type": "display_data"
    },
    {
     "name": "stdout",
     "output_type": "stream",
     "text": [
      "==================================\n",
      "Tool Calls:\n",
      "  get_qna_tool (call_fE6APyEhH5PZsBVMjwJntRwe)\n",
      " Call ID: call_fE6APyEhH5PZsBVMjwJntRwe\n",
      "  Args:\n",
      "None\n"
     ]
    },
    {
     "data": {
      "text/html": [
       "<pre style=\"white-space:pre;overflow-x:auto;line-height:normal;font-family:Menlo,'DejaVu Sans Mono',consolas,'Courier New',monospace\"><span style=\"color: #7fbfbf; text-decoration-color: #7fbfbf\">[10/01/25 15:06:19] </span><span style=\"color: #000080; text-decoration-color: #000080\">INFO    </span> ℹ️  <span style=\"color: #ff00ff; text-decoration-color: #ff00ff\">Found </span><span style=\"color: #008080; text-decoration-color: #008080; font-weight: bold\">3</span><span style=\"color: #ff00ff; text-decoration-color: #ff00ff\"> Q&amp;A documents</span>                                                                   \n",
       "</pre>\n"
      ],
      "text/plain": [
       "\u001b[2;36m[10/01/25 15:06:19]\u001b[0m\u001b[2;36m \u001b[0m\u001b[34mINFO    \u001b[0m ℹ️  \u001b[95mFound \u001b[0m\u001b[1;36m3\u001b[0m\u001b[95m Q&A documents\u001b[0m                                                                   \n"
      ]
     },
     "metadata": {},
     "output_type": "display_data"
    },
    {
     "name": "stdout",
     "output_type": "stream",
     "text": [
      "================================= Tool Message =================================\n",
      "Name: get_qna_tool\n",
      "\n",
      "Here is the information found related to the customer's question: \n",
      "[{'id': 14, 'question': 'Cung cấp dịch vụ', 'answer': '**Danh sách dịch vụ AnVie Spa**\\n\\n---\\n\\n**Dành cho nam:**\\n\\n* Trị liệu giác quan bằng mùi hương (60 phút, 90 phút)\\n* Trị liệu thư giãn đôi chân (60 phút, 90 phút)\\n* Liệu pháp đả thông kinh mạch (60 phút, 90 phút)\\n* Trị liệu bóng thảo dược (90 phút)\\n* Bể sục nóng lạnh (30 phút, 60 phút)\\n* Trị liệu đôi chân với đá nóng (90 phút)\\n\\n---\\n\\n**Dành cho nữ:**\\n\\n* Trị liệu oxy tươi tinh khiết (60 phút, 90 phút)\\n* Trị liệu đàn hồi Thạch anh (60 phút, 90 phút)\\n* Trắng sáng tảo thiên nhiên (60 phút, 90 phút)\\n* Dưỡng ẩm Linseed chuyên sâu (60 phút, 90 phút)\\n* Chăm sóc da thiên nhiên (60 phút, 90 phút)\\n\\nHiện tại đang có chương trình giảm giá như sau:\\n- Giảm 10% cho khách mới \\n- Giảm 5% khi sử dụng 2 dịch vụ\\n- Giảm 10% khi sử dụng 3 dịch vụ\\n- Giảm 15% khi sử dụng từ 4 dịch vụ trờ lên\\n\\nNgoài ra có thể tích lũy giảm giá khi là người mới và đặt từ 2 dịch vụ trở lên (ví dụ người mới (10%) đặt 3 dịch vụ (10%) thì tổng giảm giá là 20%)'}, {'id': 15, 'question': 'Khuyến mãi', 'answer': 'Hiện tại đang có chương trình giảm giá như sau:\\n- Giảm 10% cho khách mới \\n- Giảm 5% khi sử dụng 2 dịch vụ\\n- Giảm 10% khi sử dụng 3 dịch vụ\\n- Giảm 15% khi sử dụng từ 4 dịch vụ trờ lên\\n\\nNgoài ra có thể tích lũy giảm giá khi là người mới và đặt từ 2 dịch vụ trở lên (ví dụ người mới (10%) đặt 3 dịch vụ (10%) thì tổng giảm giá là 20%)'}, {'id': 6, 'question': 'Có dịch vụ tẩy tế bào chết thân (body scrub) không?', 'answer': 'Có, spa có dịch vụ Body Scrub + dưỡng da, thời gian khoảng 75 phút.'}]\n",
      "None\n",
      "================================== Ai Message ==================================\n",
      "\n",
      "Chào anh Long, bên AnVie Spa có các dịch vụ dành cho nam và nữ như sau:\n",
      "\n",
      "Dành cho nam:\n",
      "- Trị liệu giác quan bằng mùi hương (60 phút, 90 phút)\n",
      "- Trị liệu thư giãn đôi chân (60 phút, 90 phút)\n",
      "- Liệu pháp đả thông kinh mạch (60 phút, 90 phút)\n",
      "- Trị liệu bóng thảo dược (90 phút)\n",
      "- Bể sục nóng lạnh (30 phút, 60 phút)\n",
      "- Trị liệu đôi chân với đá nóng (90 phút)\n",
      "\n",
      "Dành cho nữ:\n",
      "- Trị liệu oxy tươi tinh khiết (60 phút, 90 phút)\n",
      "- Trị liệu đàn hồi Thạch anh (60 phút, 90 phút)\n",
      "- Trắng sáng tảo thiên nhiên (60 phút, 90 phút)\n",
      "- Dưỡng ẩm Linseed chuyên sâu (60 phút, 90 phút)\n",
      "- Chăm sóc da thiên nhiên (60 phút, 90 phút)\n",
      "\n",
      "Ngoài ra, spa còn có chương trình giảm giá hấp dẫn cho khách mới và khi sử dụng nhiều dịch vụ. Anh có muốn em tư vấn chi tiết hơn về dịch vụ nào không ạ?\n",
      "None\n",
      "================================== Ai Message ==================================\n",
      "Name: services_agent_node\n",
      "\n",
      "Chào anh Long, bên AnVie Spa có các dịch vụ dành cho nam và nữ như sau:\n",
      "\n",
      "Dành cho nam:\n",
      "- Trị liệu giác quan bằng mùi hương (60 phút, 90 phút)\n",
      "- Trị liệu thư giãn đôi chân (60 phút, 90 phút)\n",
      "- Liệu pháp đả thông kinh mạch (60 phút, 90 phút)\n",
      "- Trị liệu bóng thảo dược (90 phút)\n",
      "- Bể sục nóng lạnh (30 phút, 60 phút)\n",
      "- Trị liệu đôi chân với đá nóng (90 phút)\n",
      "\n",
      "Dành cho nữ:\n",
      "- Trị liệu oxy tươi tinh khiết (60 phút, 90 phút)\n",
      "- Trị liệu đàn hồi Thạch anh (60 phút, 90 phút)\n",
      "- Trắng sáng tảo thiên nhiên (60 phút, 90 phút)\n",
      "- Dưỡng ẩm Linseed chuyên sâu (60 phút, 90 phút)\n",
      "- Chăm sóc da thiên nhiên (60 phút, 90 phút)\n",
      "\n",
      "Ngoài ra, spa còn có chương trình giảm giá hấp dẫn cho khách mới và khi sử dụng nhiều dịch vụ. Anh có muốn em tư vấn chi tiết hơn về dịch vụ nào không ạ?\n",
      "None\n"
     ]
    }
   ],
   "source": [
    "state[\"user_input\"] = (\n",
    "    \"bên em có dịch vụ gì\"\n",
    ")\n",
    "state[\"chat_id\"] = \"10\"\n",
    "\n",
    "await test_bot(graph, state, config, \"updates\")"
   ]
  },
  {
   "cell_type": "code",
   "execution_count": 2,
   "metadata": {},
   "outputs": [
    {
     "data": {
      "text/html": [
       "<pre style=\"white-space:pre;overflow-x:auto;line-height:normal;font-family:Menlo,'DejaVu Sans Mono',consolas,'Courier New',monospace\"><span style=\"color: #7fbfbf; text-decoration-color: #7fbfbf\">[10/01/25 15:09:49] </span><span style=\"color: #000080; text-decoration-color: #000080\">INFO    </span> ℹ️  <span style=\"color: #ff00ff; text-decoration-color: #ff00ff\">Tạo mới hoặc lấy thông tin khách: </span><span style=\"color: #ff00ff; text-decoration-color: #ff00ff; font-weight: bold\">{</span><span style=\"color: #008000; text-decoration-color: #008000\">'id'</span><span style=\"color: #ff00ff; text-decoration-color: #ff00ff\">: </span><span style=\"color: #008080; text-decoration-color: #008080; font-weight: bold\">387</span><span style=\"color: #ff00ff; text-decoration-color: #ff00ff\">, </span><span style=\"color: #008000; text-decoration-color: #008000\">'name'</span><span style=\"color: #ff00ff; text-decoration-color: #ff00ff\">: </span><span style=\"color: #008000; text-decoration-color: #008000\">'Long'</span><span style=\"color: #ff00ff; text-decoration-color: #ff00ff\">, </span><span style=\"color: #008000; text-decoration-color: #008000\">'phone'</span><span style=\"color: #ff00ff; text-decoration-color: #ff00ff\">: </span><span style=\"color: #008000; text-decoration-color: #008000\">'123'</span><span style=\"color: #ff00ff; text-decoration-color: #ff00ff\">, </span><span style=\"color: #008000; text-decoration-color: #008000\">'email'</span><span style=\"color: #ff00ff; text-decoration-color: #ff00ff\">: </span> \n",
       "<span style=\"color: #7fbfbf; text-decoration-color: #7fbfbf\">                    </span>         <span style=\"color: #800080; text-decoration-color: #800080; font-style: italic\">None</span><span style=\"color: #ff00ff; text-decoration-color: #ff00ff\">, </span><span style=\"color: #008000; text-decoration-color: #008000\">'chat_id'</span><span style=\"color: #ff00ff; text-decoration-color: #ff00ff\">: </span><span style=\"color: #008000; text-decoration-color: #008000\">'10'</span><span style=\"color: #ff00ff; text-decoration-color: #ff00ff\">, </span><span style=\"color: #008000; text-decoration-color: #008000\">'uuid'</span><span style=\"color: #ff00ff; text-decoration-color: #ff00ff\">: </span><span style=\"color: #800080; text-decoration-color: #800080; font-style: italic\">None</span><span style=\"color: #ff00ff; text-decoration-color: #ff00ff; font-weight: bold\">}</span>                                                       \n",
       "</pre>\n"
      ],
      "text/plain": [
       "\u001b[2;36m[10/01/25 15:09:49]\u001b[0m\u001b[2;36m \u001b[0m\u001b[34mINFO    \u001b[0m ℹ️  \u001b[95mTạo mới hoặc lấy thông tin khách: \u001b[0m\u001b[1;95m{\u001b[0m\u001b[32m'id'\u001b[0m\u001b[95m: \u001b[0m\u001b[1;36m387\u001b[0m\u001b[95m, \u001b[0m\u001b[32m'name'\u001b[0m\u001b[95m: \u001b[0m\u001b[32m'Long'\u001b[0m\u001b[95m, \u001b[0m\u001b[32m'phone'\u001b[0m\u001b[95m: \u001b[0m\u001b[32m'123'\u001b[0m\u001b[95m, \u001b[0m\u001b[32m'email'\u001b[0m\u001b[95m: \u001b[0m \n",
       "\u001b[2;36m                    \u001b[0m         \u001b[3;35mNone\u001b[0m\u001b[95m, \u001b[0m\u001b[32m'chat_id'\u001b[0m\u001b[95m: \u001b[0m\u001b[32m'10'\u001b[0m\u001b[95m, \u001b[0m\u001b[32m'uuid'\u001b[0m\u001b[95m: \u001b[0m\u001b[3;35mNone\u001b[0m\u001b[1;95m}\u001b[0m                                                       \n"
      ]
     },
     "metadata": {},
     "output_type": "display_data"
    },
    {
     "data": {
      "text/html": [
       "<pre style=\"white-space:pre;overflow-x:auto;line-height:normal;font-family:Menlo,'DejaVu Sans Mono',consolas,'Courier New',monospace\"><span style=\"color: #7fbfbf; text-decoration-color: #7fbfbf\">[10/01/25 15:09:50] </span><span style=\"color: #000080; text-decoration-color: #000080\">INFO    </span> ℹ️  <span style=\"color: #ff00ff; text-decoration-color: #ff00ff\">New customer: </span><span style=\"color: #ff0000; text-decoration-color: #ff0000; font-style: italic\">False</span>                                                                     \n",
       "</pre>\n"
      ],
      "text/plain": [
       "\u001b[2;36m[10/01/25 15:09:50]\u001b[0m\u001b[2;36m \u001b[0m\u001b[34mINFO    \u001b[0m ℹ️  \u001b[95mNew customer: \u001b[0m\u001b[3;91mFalse\u001b[0m                                                                     \n"
      ]
     },
     "metadata": {},
     "output_type": "display_data"
    },
    {
     "data": {
      "text/html": [
       "<pre style=\"white-space:pre;overflow-x:auto;line-height:normal;font-family:Menlo,'DejaVu Sans Mono',consolas,'Courier New',monospace\"><span style=\"color: #7fbfbf; text-decoration-color: #7fbfbf\">                    </span><span style=\"color: #000080; text-decoration-color: #000080\">INFO    </span> ℹ️  <span style=\"color: #ff00ff; text-decoration-color: #ff00ff\">Yêu cầu của khách: cho anh Trị liệu giác quan bằng mùi hương 60p và Trị liệu thư giãn </span>  \n",
       "<span style=\"color: #7fbfbf; text-decoration-color: #7fbfbf\">                    </span>         <span style=\"color: #ff00ff; text-decoration-color: #ff00ff\">đôi chân 60p</span>                                                                               \n",
       "</pre>\n"
      ],
      "text/plain": [
       "\u001b[2;36m                   \u001b[0m\u001b[2;36m \u001b[0m\u001b[34mINFO    \u001b[0m ℹ️  \u001b[95mYêu cầu của khách: cho anh Trị liệu giác quan bằng mùi hương 60p và Trị liệu thư giãn \u001b[0m  \n",
       "\u001b[2;36m                    \u001b[0m         \u001b[95mđôi chân 60p\u001b[0m                                                                               \n"
      ]
     },
     "metadata": {},
     "output_type": "display_data"
    },
    {
     "data": {
      "text/html": [
       "<pre style=\"white-space:pre;overflow-x:auto;line-height:normal;font-family:Menlo,'DejaVu Sans Mono',consolas,'Courier New',monospace\"><span style=\"color: #7fbfbf; text-decoration-color: #7fbfbf\">[10/01/25 15:09:51] </span><span style=\"color: #000080; text-decoration-color: #000080\">INFO    </span> ℹ️  <span style=\"color: #ff00ff; text-decoration-color: #ff00ff\">Agent tiếp theo: booking_agent</span>                                                          \n",
       "</pre>\n"
      ],
      "text/plain": [
       "\u001b[2;36m[10/01/25 15:09:51]\u001b[0m\u001b[2;36m \u001b[0m\u001b[34mINFO    \u001b[0m ℹ️  \u001b[95mAgent tiếp theo: booking_agent\u001b[0m                                                          \n"
      ]
     },
     "metadata": {},
     "output_type": "display_data"
    },
    {
     "name": "stdout",
     "output_type": "stream",
     "text": [
      "================================ Human Message =================================\n",
      "\n",
      "cho anh Trị liệu giác quan bằng mùi hương 60p và Trị liệu thư giãn đôi chân 60p\n",
      "None\n",
      "================================== Ai Message ==================================\n",
      "Tool Calls:\n",
      "  get_services_tool (call_pFVu7TjfHiZlW9bhR9PQPekr)\n",
      " Call ID: call_pFVu7TjfHiZlW9bhR9PQPekr\n",
      "  Args:\n",
      "    keyword: Trị liệu giác quan bằng mùi hương"
     ]
    },
    {
     "data": {
      "text/html": [
       "<pre style=\"white-space:pre;overflow-x:auto;line-height:normal;font-family:Menlo,'DejaVu Sans Mono',consolas,'Courier New',monospace\"><span style=\"color: #7fbfbf; text-decoration-color: #7fbfbf\">[10/01/25 15:09:52] </span><span style=\"color: #000080; text-decoration-color: #000080\">INFO    </span> ℹ️  <span style=\"color: #ff00ff; text-decoration-color: #ff00ff\">get_services_tool called with keyword: Trị liệu giác quan bằng mùi hương</span>                \n",
       "</pre>\n"
      ],
      "text/plain": [
       "\u001b[2;36m[10/01/25 15:09:52]\u001b[0m\u001b[2;36m \u001b[0m\u001b[34mINFO    \u001b[0m ℹ️  \u001b[95mget_services_tool called with keyword: Trị liệu giác quan bằng mùi hương\u001b[0m                \n"
      ]
     },
     "metadata": {},
     "output_type": "display_data"
    },
    {
     "name": "stdout",
     "output_type": "stream",
     "text": [
      "\n",
      "None\n"
     ]
    },
    {
     "data": {
      "text/html": [
       "<pre style=\"white-space:pre;overflow-x:auto;line-height:normal;font-family:Menlo,'DejaVu Sans Mono',consolas,'Courier New',monospace\"><span style=\"color: #7fbfbf; text-decoration-color: #7fbfbf\">                    </span><span style=\"color: #000080; text-decoration-color: #000080\">INFO    </span> ℹ️  <span style=\"color: #ff00ff; text-decoration-color: #ff00ff\">Data returned from SQL</span>                                                                  \n",
       "</pre>\n"
      ],
      "text/plain": [
       "\u001b[2;36m                   \u001b[0m\u001b[2;36m \u001b[0m\u001b[34mINFO    \u001b[0m ℹ️  \u001b[95mData returned from SQL\u001b[0m                                                                  \n"
      ]
     },
     "metadata": {},
     "output_type": "display_data"
    },
    {
     "data": {
      "text/html": [
       "<pre style=\"white-space:pre;overflow-x:auto;line-height:normal;font-family:Menlo,'DejaVu Sans Mono',consolas,'Courier New',monospace\"><span style=\"color: #7fbfbf; text-decoration-color: #7fbfbf\">                    </span><span style=\"color: #000080; text-decoration-color: #000080\">INFO    </span> ℹ️  <span style=\"color: #ff00ff; text-decoration-color: #ff00ff\">Returning results from SQL</span>                                                              \n",
       "</pre>\n"
      ],
      "text/plain": [
       "\u001b[2;36m                   \u001b[0m\u001b[2;36m \u001b[0m\u001b[34mINFO    \u001b[0m ℹ️  \u001b[95mReturning results from SQL\u001b[0m                                                              \n"
      ]
     },
     "metadata": {},
     "output_type": "display_data"
    },
    {
     "name": "stdout",
     "output_type": "stream",
     "text": [
      "================================= Tool Message =================================\n",
      "Name: get_services_tool\n",
      "\n",
      "Here are the services found based on the customer's request:\n",
      "[{'id': 21, 'type': 'nam', 'name': 'Trị liệu giác quan bằng mùi hương', 'duration_minutes': 60, 'price': 400000, 'description': 'Massage với tinh dầu thơm + kích thích khứu giác, giảm stress', 'long_description': 'Bản 60 phút bao gồm lựa chọn tinh dầu thiên nhiên được ưa thích, massage nhẹ nhàng toàn thân để thư giãn khứu giác, giảm căng thẳng thần kinh.\\\\n\\nTập trung vào vùng vai, lưng, cổ để giúp khởi động quy trình thư giãn.\\\\n\\nThời gian 60 phút phù hợp nếu muốn thư giãn ngắn, có lịch làm việc dày đặc; hiệu ứng thư giãn sẽ đạt ở mức cơ bản nhưng vẫn rõ rệt.\\\\n\\nCác kỹ thuật áp lực được điều chỉnh nhẹ nhàng để không gây mỏi khi kết thúc liệu trình.\\n', 'service_discounts': [{'discount_value': 10.0}]}, {'id': 22, 'type': 'nam', 'name': 'Trị liệu giác quan bằng mùi hương', 'duration_minutes': 90, 'price': 500000, 'description': 'Mùi hương + massage sâu hơn, kéo dài thư giãn', 'long_description': 'Ngoài các bước của bản 60 phút, bản 90 mở rộng massage sâu hơn vùng chân, tay và cổ vai gáy, áp lực tinh dầu mạnh hơn để thấm sâu vào lớp cơ bắp.\\\\n\\nThêm massage đầu và gáy để giảm đau mỏi tích tụ, hỗ trợ ngủ ngon hơn và giảm stress lâu dài.\\\\n\\nTinh dầu có thời gian tiếp xúc da lâu hơn -> khả năng hấp thu tốt hơn, hiệu quả thư giãn được duy trì lâu sau khi kết thúc.\\\\n\\nThời lượng kéo dài giúp lưu thông máu tốt hơn, hỗ trợ giảm căng cơ và mang lại cảm giác sảng khoái hơn.\\n', 'service_discounts': [{'discount_value': 12.5}]}]\n",
      "\n",
      "None\n"
     ]
    },
    {
     "data": {
      "text/html": [
       "<pre style=\"white-space:pre;overflow-x:auto;line-height:normal;font-family:Menlo,'DejaVu Sans Mono',consolas,'Courier New',monospace\"><span style=\"color: #7fbfbf; text-decoration-color: #7fbfbf\">[10/01/25 15:09:53] </span><span style=\"color: #000080; text-decoration-color: #000080\">INFO    </span> ℹ️  <span style=\"color: #ff00ff; text-decoration-color: #ff00ff\">get_services_tool called with keyword: Trị liệu thư giãn đôi chân</span>                       \n",
       "</pre>\n"
      ],
      "text/plain": [
       "\u001b[2;36m[10/01/25 15:09:53]\u001b[0m\u001b[2;36m \u001b[0m\u001b[34mINFO    \u001b[0m ℹ️  \u001b[95mget_services_tool called with keyword: Trị liệu thư giãn đôi chân\u001b[0m                       \n"
      ]
     },
     "metadata": {},
     "output_type": "display_data"
    },
    {
     "name": "stdout",
     "output_type": "stream",
     "text": [
      "================================== Ai Message ==================================\n",
      "Tool Calls:\n",
      "  get_services_tool (call_l9I0DgRNejDW6TcH0RYZaG72)\n",
      " Call ID: call_l9I0DgRNejDW6TcH0RYZaG72\n",
      "  Args:\n",
      "    keyword: Trị liệu thư giãn đôi chân\n",
      "None\n"
     ]
    },
    {
     "data": {
      "text/html": [
       "<pre style=\"white-space:pre;overflow-x:auto;line-height:normal;font-family:Menlo,'DejaVu Sans Mono',consolas,'Courier New',monospace\"><span style=\"color: #7fbfbf; text-decoration-color: #7fbfbf\">                    </span><span style=\"color: #000080; text-decoration-color: #000080\">INFO    </span> ℹ️  <span style=\"color: #ff00ff; text-decoration-color: #ff00ff\">Data returned from SQL</span>                                                                  \n",
       "</pre>\n"
      ],
      "text/plain": [
       "\u001b[2;36m                   \u001b[0m\u001b[2;36m \u001b[0m\u001b[34mINFO    \u001b[0m ℹ️  \u001b[95mData returned from SQL\u001b[0m                                                                  \n"
      ]
     },
     "metadata": {},
     "output_type": "display_data"
    },
    {
     "data": {
      "text/html": [
       "<pre style=\"white-space:pre;overflow-x:auto;line-height:normal;font-family:Menlo,'DejaVu Sans Mono',consolas,'Courier New',monospace\"><span style=\"color: #7fbfbf; text-decoration-color: #7fbfbf\">                    </span><span style=\"color: #000080; text-decoration-color: #000080\">INFO    </span> ℹ️  <span style=\"color: #ff00ff; text-decoration-color: #ff00ff\">Returning results from SQL</span>                                                              \n",
       "</pre>\n"
      ],
      "text/plain": [
       "\u001b[2;36m                   \u001b[0m\u001b[2;36m \u001b[0m\u001b[34mINFO    \u001b[0m ℹ️  \u001b[95mReturning results from SQL\u001b[0m                                                              \n"
      ]
     },
     "metadata": {},
     "output_type": "display_data"
    },
    {
     "name": "stdout",
     "output_type": "stream",
     "text": [
      "================================= Tool Message =================================\n",
      "Name: get_services_tool\n",
      "\n",
      "Here are the services found based on the customer's request:\n",
      "[{'id': 23, 'type': 'nam', 'name': 'Trị liệu thư giãn đôi chân', 'duration_minutes': 60, 'price': 250000, 'description': 'Ngâm chân & massage chân nhẹ, giảm mỏi', 'long_description': 'Ngâm chân với muối biển, sả, gừng, trà xanh + massage nhẹ và bấm huyệt cơ bản để giảm đau mỏi.\\\\n\\nTập trung vào phần bàn chân, mắt cá chân; loại bỏ cảm giác căng, mỏi nhanh.\\\\n\\nHiệu quả rõ sau một ngày làm việc nhiều, đi lại nhiều; phù hợp với ai muốn thư giãn nhẹ mà không mất nhiều thời gian.\\\\n\\nKhông có các bước như tẩy tế bào chết hay massage sâu vùng cẳng chân, hạn chế kích ứng nếu da nhạy cảm.\\n', 'service_discounts': [{'discount_value': 15.0}]}, {'id': 24, 'type': 'nam', 'name': 'Trị liệu thư giãn đôi chân', 'duration_minutes': 90, 'price': 350000, 'description': 'Massage chân + bấm huyệt sâu hơn & kéo dài', 'long_description': 'Bao gồm toàn bộ bước của bản 60 phút + massage sâu vùng cẳng chân, bắp chân, ngâm chân lâu hơn để gia tăng hiệu ứng thải độc.\\\\n\\nThêm bước tẩy tế bào chết nhẹ và chăm sóc da chân để làm mềm da và tăng cảm giác thoải mái.\\\\n\\nThời gian kéo dài giúp các cơ chân được thư giãn sâu hơn, giảm sưng mắt cá, hỗ trợ phục hồi nếu bạn đứng/ đi nhiều.\\\\n\\nDành cho người muốn trải nghiệm thư giãn trọn vẹn, không chỉ đơn thuần thư giãn nhanh.\\n', 'service_discounts': [{'discount_value': 5.0}]}]\n",
      "\n",
      "None\n",
      "=================================="
     ]
    },
    {
     "data": {
      "text/html": [
       "<pre style=\"white-space:pre;overflow-x:auto;line-height:normal;font-family:Menlo,'DejaVu Sans Mono',consolas,'Courier New',monospace\"><span style=\"color: #7fbfbf; text-decoration-color: #7fbfbf\">[10/01/25 15:09:54] </span><span style=\"color: #000080; text-decoration-color: #000080\">INFO    </span> ℹ️  <span style=\"color: #ff00ff; text-decoration-color: #ff00ff\">add_service_tool được gọi</span>                                                               \n",
       "</pre>\n"
      ],
      "text/plain": [
       "\u001b[2;36m[10/01/25 15:09:54]\u001b[0m\u001b[2;36m \u001b[0m\u001b[34mINFO    \u001b[0m ℹ️  \u001b[95madd_service_tool được gọi\u001b[0m                                                               \n"
      ]
     },
     "metadata": {},
     "output_type": "display_data"
    },
    {
     "name": "stdout",
     "output_type": "stream",
     "text": [
      " Ai Message ==================================\n",
      "Tool Calls:\n",
      "  add_service_tool (call_EStq3f2uIxxqQZ5WhrUKM1eS)\n",
      " Call ID: call_EStq3f2uIxxqQZ5WhrUKM1eS\n",
      "  Args:\n",
      "    service_id_list: [21, 23]\n"
     ]
    },
    {
     "data": {
      "text/html": [
       "<pre style=\"white-space:pre;overflow-x:auto;line-height:normal;font-family:Menlo,'DejaVu Sans Mono',consolas,'Courier New',monospace\"><span style=\"color: #7fbfbf; text-decoration-color: #7fbfbf\">                    </span><span style=\"color: #000080; text-decoration-color: #000080\">INFO    </span> ℹ️  <span style=\"color: #ff00ff; text-decoration-color: #ff00ff\">Thêm dịch vụ khách chọn vào state thành công</span>                                            \n",
       "</pre>\n"
      ],
      "text/plain": [
       "\u001b[2;36m                   \u001b[0m\u001b[2;36m \u001b[0m\u001b[34mINFO    \u001b[0m ℹ️  \u001b[95mThêm dịch vụ khách chọn vào state thành công\u001b[0m                                            \n"
      ]
     },
     "metadata": {},
     "output_type": "display_data"
    },
    {
     "name": "stdout",
     "output_type": "stream",
     "text": [
      "None\n",
      "================================= Tool Message =================================\n",
      "Name: add_service_tool\n",
      "\n",
      "Đây là thông tin các dịch vụ mà khách chọn:\n",
      "STT: 1\n",
      "Loại dịch vụ: nam\n",
      "Tên dịch vụ: Trị liệu giác quan bằng mùi hương\n",
      "Thời gian: 60\n",
      "Giá: 400000 VNĐ\n",
      "Giảm giá: 10.0%\n",
      "Giá sau giảm: 360000 VNĐ\n",
      "\n",
      "STT: 2\n",
      "Loại dịch vụ: nam\n",
      "Tên dịch vụ: Trị liệu thư giãn đôi chân\n",
      "Thời gian: 60\n",
      "Giá: 250000 VNĐ\n",
      "Giảm giá: 15.0%\n",
      "Giá sau giảm: 212500 VNĐ\n",
      "\n",
      "Tổng thời gian: 120\n",
      "Tổng giá tiền: 572500 VNĐ\n",
      "\n",
      "\n",
      "None\n",
      "================================== Ai Message ==================================\n",
      "\n",
      "Anh đã chọn 2 dịch vụ gồm:\n",
      "- Trị liệu giác quan bằng mùi hương 60 phút, giá 360.000 VNĐ (đã giảm 10%)\n",
      "- Trị liệu thư giãn đôi chân 60 phút, giá 212.500 VNĐ (đã giảm 15%)\n",
      "\n",
      "Tổng thời gian là 120 phút, tổng chi phí sau giảm là 572.500 VNĐ.\n",
      "\n",
      "Anh muốn đặt lịch vào ngày nào và giờ nào ạ? Em sẽ kiểm tra giúp anh lịch trống ngay.\n",
      "None\n",
      "================================== Ai Message ==================================\n",
      "Name: booking_agent_node\n",
      "\n",
      "Anh đã chọn 2 dịch vụ gồm:\n",
      "- Trị liệu giác quan bằng mùi hương 60 phút, giá 360.000 VNĐ (đã giảm 10%)\n",
      "- Trị liệu thư giãn đôi chân 60 phút, giá 212.500 VNĐ (đã giảm 15%)\n",
      "\n",
      "Tổng thời gian là 120 phút, tổng chi phí sau giảm là 572.500 VNĐ.\n",
      "\n",
      "Anh muốn đặt lịch vào ngày nào và giờ nào ạ? Em sẽ kiểm tra giúp anh lịch trống ngay.\n",
      "None\n"
     ]
    }
   ],
   "source": [
    "state[\"user_input\"] = (\n",
    "    \"cho anh Trị liệu giác quan bằng mùi hương 60p và Trị liệu thư giãn đôi chân 60p\"\n",
    ")\n",
    "state[\"chat_id\"] = \"10\"\n",
    "\n",
    "await test_bot(graph, state, config, \"updates\")"
   ]
  },
  {
   "cell_type": "code",
   "execution_count": null,
   "metadata": {},
   "outputs": [],
   "source": [
    "state[\"user_input\"] = (\n",
    "    \"tên Long, sđt là 123\"\n",
    ")\n",
    "state[\"chat_id\"] = \"10\"\n",
    "\n",
    "await test_bot(graph, state, config, \"updates\")"
   ]
  },
  {
   "cell_type": "code",
   "execution_count": 3,
   "metadata": {},
   "outputs": [
    {
     "data": {
      "text/html": [
       "<pre style=\"white-space:pre;overflow-x:auto;line-height:normal;font-family:Menlo,'DejaVu Sans Mono',consolas,'Courier New',monospace\"><span style=\"color: #7fbfbf; text-decoration-color: #7fbfbf\">[10/01/25 15:10:01] </span><span style=\"color: #000080; text-decoration-color: #000080\">INFO    </span> ℹ️  <span style=\"color: #ff00ff; text-decoration-color: #ff00ff\">Thông tin của khách: - Tên: Long | - Số điện thoại: </span><span style=\"color: #008080; text-decoration-color: #008080; font-weight: bold\">123</span><span style=\"color: #ff00ff; text-decoration-color: #ff00ff\"> | - Email: </span><span style=\"color: #800080; text-decoration-color: #800080; font-style: italic\">None</span>                 \n",
       "</pre>\n"
      ],
      "text/plain": [
       "\u001b[2;36m[10/01/25 15:10:01]\u001b[0m\u001b[2;36m \u001b[0m\u001b[34mINFO    \u001b[0m ℹ️  \u001b[95mThông tin của khách: - Tên: Long | - Số điện thoại: \u001b[0m\u001b[1;36m123\u001b[0m\u001b[95m | - Email: \u001b[0m\u001b[3;35mNone\u001b[0m                 \n"
      ]
     },
     "metadata": {},
     "output_type": "display_data"
    },
    {
     "data": {
      "text/html": [
       "<pre style=\"white-space:pre;overflow-x:auto;line-height:normal;font-family:Menlo,'DejaVu Sans Mono',consolas,'Courier New',monospace\"><span style=\"color: #7fbfbf; text-decoration-color: #7fbfbf\">                    </span><span style=\"color: #000080; text-decoration-color: #000080\">INFO    </span> ℹ️  <span style=\"color: #ff00ff; text-decoration-color: #ff00ff\">New customer: </span><span style=\"color: #ff0000; text-decoration-color: #ff0000; font-style: italic\">False</span>                                                                     \n",
       "</pre>\n"
      ],
      "text/plain": [
       "\u001b[2;36m                   \u001b[0m\u001b[2;36m \u001b[0m\u001b[34mINFO    \u001b[0m ℹ️  \u001b[95mNew customer: \u001b[0m\u001b[3;91mFalse\u001b[0m                                                                     \n"
      ]
     },
     "metadata": {},
     "output_type": "display_data"
    },
    {
     "data": {
      "text/html": [
       "<pre style=\"white-space:pre;overflow-x:auto;line-height:normal;font-family:Menlo,'DejaVu Sans Mono',consolas,'Courier New',monospace\"><span style=\"color: #7fbfbf; text-decoration-color: #7fbfbf\">                    </span><span style=\"color: #000080; text-decoration-color: #000080\">INFO    </span> ℹ️  <span style=\"color: #ff00ff; text-decoration-color: #ff00ff\">Yêu cầu của khách: cho anh chiều mốt 3h nhe</span>                                             \n",
       "</pre>\n"
      ],
      "text/plain": [
       "\u001b[2;36m                   \u001b[0m\u001b[2;36m \u001b[0m\u001b[34mINFO    \u001b[0m ℹ️  \u001b[95mYêu cầu của khách: cho anh chiều mốt 3h nhe\u001b[0m                                             \n"
      ]
     },
     "metadata": {},
     "output_type": "display_data"
    },
    {
     "data": {
      "text/html": [
       "<pre style=\"white-space:pre;overflow-x:auto;line-height:normal;font-family:Menlo,'DejaVu Sans Mono',consolas,'Courier New',monospace\"><span style=\"color: #7fbfbf; text-decoration-color: #7fbfbf\">[10/01/25 15:10:02] </span><span style=\"color: #000080; text-decoration-color: #000080\">INFO    </span> ℹ️  <span style=\"color: #ff00ff; text-decoration-color: #ff00ff\">Agent tiếp theo: booking_agent</span>                                                          \n",
       "</pre>\n"
      ],
      "text/plain": [
       "\u001b[2;36m[10/01/25 15:10:02]\u001b[0m\u001b[2;36m \u001b[0m\u001b[34mINFO    \u001b[0m ℹ️  \u001b[95mAgent tiếp theo: booking_agent\u001b[0m                                                          \n"
      ]
     },
     "metadata": {},
     "output_type": "display_data"
    },
    {
     "name": "stdout",
     "output_type": "stream",
     "text": [
      "================================ Human Message =================================\n",
      "\n",
      "cho anh chiều mốt 3h nhe\n",
      "None\n"
     ]
    },
    {
     "data": {
      "text/html": [
       "<pre style=\"white-space:pre;overflow-x:auto;line-height:normal;font-family:Menlo,'DejaVu Sans Mono',consolas,'Courier New',monospace\"><span style=\"color: #7fbfbf; text-decoration-color: #7fbfbf\">[10/01/25 15:10:04] </span><span style=\"color: #000080; text-decoration-color: #000080\">INFO    </span> ℹ️  <span style=\"color: #ff00ff; text-decoration-color: #ff00ff\">Ngày khách đặt: </span><span style=\"color: #008080; text-decoration-color: #008080; font-weight: bold\">2025</span><span style=\"color: #ff00ff; text-decoration-color: #ff00ff\">-</span><span style=\"color: #008080; text-decoration-color: #008080; font-weight: bold\">10</span><span style=\"color: #ff00ff; text-decoration-color: #ff00ff\">-</span><span style=\"color: #008080; text-decoration-color: #008080; font-weight: bold\">03</span>                                                              \n",
       "</pre>\n"
      ],
      "text/plain": [
       "\u001b[2;36m[10/01/25 15:10:04]\u001b[0m\u001b[2;36m \u001b[0m\u001b[34mINFO    \u001b[0m ℹ️  \u001b[95mNgày khách đặt: \u001b[0m\u001b[1;36m2025\u001b[0m\u001b[95m-\u001b[0m\u001b[1;36m10\u001b[0m\u001b[95m-\u001b[0m\u001b[1;36m03\u001b[0m                                                              \n"
      ]
     },
     "metadata": {},
     "output_type": "display_data"
    },
    {
     "name": "stdout",
     "output_type": "stream",
     "text": [
      "================================== Ai Message ==================================\n",
      "Tool Calls:\n",
      "  resolve_weekday_to_date_tool (call_2DwY2BWw0yPlJuipaRICA8A5)\n",
      " Call ID: call_2DwY2BWw0yPlJuipaRICA8A5\n",
      "  Args:\n",
      "    weekday: Friday\n",
      "    next_week: 1\n",
      "None\n",
      "================================= Tool Message =================================\n",
      "Name: resolve_weekday_to_date_tool\n",
      "\n",
      "Ngày khách đặt: 2025-10-03\n",
      "None\n",
      "================================== Ai Message "
     ]
    },
    {
     "data": {
      "text/html": [
       "<pre style=\"white-space:pre;overflow-x:auto;line-height:normal;font-family:Menlo,'DejaVu Sans Mono',consolas,'Courier New',monospace\"><span style=\"color: #7fbfbf; text-decoration-color: #7fbfbf\">[10/01/25 15:10:05] </span><span style=\"color: #000080; text-decoration-color: #000080\">INFO    </span> ℹ️  <span style=\"color: #ff00ff; text-decoration-color: #ff00ff\">check_available_booking được gọi</span>                                                        \n",
       "</pre>\n"
      ],
      "text/plain": [
       "\u001b[2;36m[10/01/25 15:10:05]\u001b[0m\u001b[2;36m \u001b[0m\u001b[34mINFO    \u001b[0m ℹ️  \u001b[95mcheck_available_booking được gọi\u001b[0m                                                        \n"
      ]
     },
     "metadata": {},
     "output_type": "display_data"
    },
    {
     "name": "stdout",
     "output_type": "stream",
     "text": [
      "==================================\n",
      "Tool Calls:\n",
      "  check_available_booking_tool (call_AWZtXNdALfAg8SYwzTjNGDFJ)\n",
      " Call ID: call_AWZtXNdALfAg8SYwzTjNGDFJ\n",
      "  Args:\n",
      "    booking_date_new: 2025-10-03\n",
      "    start_time_new: 15:00:00\n",
      "    total_time: 120\n",
      "    k: 1\n",
      "None\n"
     ]
    },
    {
     "data": {
      "text/html": [
       "<pre style=\"white-space:pre;overflow-x:auto;line-height:normal;font-family:Menlo,'DejaVu Sans Mono',consolas,'Courier New',monospace\"><span style=\"color: #7fbfbf; text-decoration-color: #7fbfbf\">[10/01/25 15:10:07] </span><span style=\"color: #000080; text-decoration-color: #000080\">INFO    </span> ℹ️  <span style=\"color: #ff00ff; text-decoration-color: #ff00ff\">Khách đặt ngày: </span><span style=\"color: #008080; text-decoration-color: #008080; font-weight: bold\">2025</span><span style=\"color: #ff00ff; text-decoration-color: #ff00ff\">-</span><span style=\"color: #008080; text-decoration-color: #008080; font-weight: bold\">10</span><span style=\"color: #ff00ff; text-decoration-color: #ff00ff\">-</span><span style=\"color: #008080; text-decoration-color: #008080; font-weight: bold\">03</span><span style=\"color: #ff00ff; text-decoration-color: #ff00ff\"> vào lúc: </span><span style=\"color: #00ff00; text-decoration-color: #00ff00; font-weight: bold\">15:00:00</span>                                            \n",
       "</pre>\n"
      ],
      "text/plain": [
       "\u001b[2;36m[10/01/25 15:10:07]\u001b[0m\u001b[2;36m \u001b[0m\u001b[34mINFO    \u001b[0m ℹ️  \u001b[95mKhách đặt ngày: \u001b[0m\u001b[1;36m2025\u001b[0m\u001b[95m-\u001b[0m\u001b[1;36m10\u001b[0m\u001b[95m-\u001b[0m\u001b[1;36m03\u001b[0m\u001b[95m vào lúc: \u001b[0m\u001b[1;92m15:00:00\u001b[0m                                            \n"
      ]
     },
     "metadata": {},
     "output_type": "display_data"
    },
    {
     "data": {
      "text/html": [
       "<pre style=\"white-space:pre;overflow-x:auto;line-height:normal;font-family:Menlo,'DejaVu Sans Mono',consolas,'Courier New',monospace\"><span style=\"color: #7fbfbf; text-decoration-color: #7fbfbf\">                    </span><span style=\"color: #000080; text-decoration-color: #000080\">INFO    </span> ℹ️  <span style=\"color: #ff00ff; text-decoration-color: #ff00ff\">Thời gian kết thúc: </span><span style=\"color: #00ff00; text-decoration-color: #00ff00; font-weight: bold\">17:00:00</span>                                                            \n",
       "</pre>\n"
      ],
      "text/plain": [
       "\u001b[2;36m                   \u001b[0m\u001b[2;36m \u001b[0m\u001b[34mINFO    \u001b[0m ℹ️  \u001b[95mThời gian kết thúc: \u001b[0m\u001b[1;92m17:00:00\u001b[0m                                                            \n"
      ]
     },
     "metadata": {},
     "output_type": "display_data"
    },
    {
     "data": {
      "text/html": [
       "<pre style=\"white-space:pre;overflow-x:auto;line-height:normal;font-family:Menlo,'DejaVu Sans Mono',consolas,'Courier New',monospace\"><span style=\"color: #7fbfbf; text-decoration-color: #7fbfbf\">                    </span><span style=\"color: #000080; text-decoration-color: #000080\">INFO    </span> ℹ️  <span style=\"color: #ff00ff; text-decoration-color: #ff00ff\">Tìm thấy phòng và nhân viên khả dụng</span>                                                    \n",
       "</pre>\n"
      ],
      "text/plain": [
       "\u001b[2;36m                   \u001b[0m\u001b[2;36m \u001b[0m\u001b[34mINFO    \u001b[0m ℹ️  \u001b[95mTìm thấy phòng và nhân viên khả dụng\u001b[0m                                                    \n"
      ]
     },
     "metadata": {},
     "output_type": "display_data"
    },
    {
     "data": {
      "text/html": [
       "<pre style=\"white-space:pre;overflow-x:auto;line-height:normal;font-family:Menlo,'DejaVu Sans Mono',consolas,'Courier New',monospace\"><span style=\"color: #7fbfbf; text-decoration-color: #7fbfbf\">                    </span><span style=\"color: #000080; text-decoration-color: #000080\">INFO    </span> ℹ️  <span style=\"color: #ff00ff; text-decoration-color: #ff00ff\">ID phòng khả dụng: </span><span style=\"color: #008080; text-decoration-color: #008080; font-weight: bold\">1</span><span style=\"color: #ff00ff; text-decoration-color: #ff00ff\"> | ID nhân viên khả dụng: </span><span style=\"color: #008080; text-decoration-color: #008080; font-weight: bold\">3</span>                                         \n",
       "</pre>\n"
      ],
      "text/plain": [
       "\u001b[2;36m                   \u001b[0m\u001b[2;36m \u001b[0m\u001b[34mINFO    \u001b[0m ℹ️  \u001b[95mID phòng khả dụng: \u001b[0m\u001b[1;36m1\u001b[0m\u001b[95m | ID nhân viên khả dụng: \u001b[0m\u001b[1;36m3\u001b[0m                                         \n"
      ]
     },
     "metadata": {},
     "output_type": "display_data"
    },
    {
     "data": {
      "text/html": [
       "<pre style=\"white-space:pre;overflow-x:auto;line-height:normal;font-family:Menlo,'DejaVu Sans Mono',consolas,'Courier New',monospace\"><span style=\"color: #7fbfbf; text-decoration-color: #7fbfbf\">                    </span><span style=\"color: #000080; text-decoration-color: #000080\">INFO    </span> ℹ️  <span style=\"color: #ff00ff; text-decoration-color: #ff00ff\">Kiểm tra phòng và nhân viên thành công</span>                                                  \n",
       "</pre>\n"
      ],
      "text/plain": [
       "\u001b[2;36m                   \u001b[0m\u001b[2;36m \u001b[0m\u001b[34mINFO    \u001b[0m ℹ️  \u001b[95mKiểm tra phòng và nhân viên thành công\u001b[0m                                                  \n"
      ]
     },
     "metadata": {},
     "output_type": "display_data"
    },
    {
     "name": "stdout",
     "output_type": "stream",
     "text": [
      "================================= Tool Message =================================\n",
      "Name: check_available_booking_tool\n",
      "\n",
      "Thông báo khách có lịch trống\n",
      "None\n",
      "================================== Ai Message ==================================\n",
      "\n",
      "Anh Long muốn đặt dịch vụ Trị liệu giác quan bằng mùi hương 60 phút và Trị liệu thư giãn đôi chân 60 phút vào chiều mốt, ngày 03/10/2025 lúc 15h. Lịch này hiện đang còn trống ạ.\n",
      "\n",
      "Anh có muốn để em đặt lịch giúp anh luôn không ạ? Nếu có, anh có muốn để lại ghi chú gì cho lịch hẹn không?\n",
      "None\n",
      "================================== Ai Message ==================================\n",
      "Name: booking_agent_node\n",
      "\n",
      "Anh Long muốn đặt dịch vụ Trị liệu giác quan bằng mùi hương 60 phút và Trị liệu thư giãn đôi chân 60 phút vào chiều mốt, ngày 03/10/2025 lúc 15h. Lịch này hiện đang còn trống ạ.\n",
      "\n",
      "Anh có muốn để em đặt lịch giúp anh luôn không ạ? Nếu có, anh có muốn để lại ghi chú gì cho lịch hẹn không?\n",
      "None\n"
     ]
    }
   ],
   "source": [
    "state[\"user_input\"] = (\n",
    "    \"cho anh chiều mốt 3h nhe\"\n",
    ")\n",
    "state[\"chat_id\"] = \"10\"\n",
    "\n",
    "await test_bot(graph, state, config, \"updates\")"
   ]
  },
  {
   "cell_type": "code",
   "execution_count": 5,
   "metadata": {},
   "outputs": [
    {
     "data": {
      "text/html": [
       "<pre style=\"white-space:pre;overflow-x:auto;line-height:normal;font-family:Menlo,'DejaVu Sans Mono',consolas,'Courier New',monospace\"><span style=\"color: #7fbfbf; text-decoration-color: #7fbfbf\">[10/01/25 15:10:35] </span><span style=\"color: #000080; text-decoration-color: #000080\">INFO    </span> ℹ️  <span style=\"color: #ff00ff; text-decoration-color: #ff00ff\">Thông tin của khách: - Tên: Long | - Số điện thoại: </span><span style=\"color: #008080; text-decoration-color: #008080; font-weight: bold\">123</span><span style=\"color: #ff00ff; text-decoration-color: #ff00ff\"> | - Email: </span><span style=\"color: #800080; text-decoration-color: #800080; font-style: italic\">None</span>                 \n",
       "</pre>\n"
      ],
      "text/plain": [
       "\u001b[2;36m[10/01/25 15:10:35]\u001b[0m\u001b[2;36m \u001b[0m\u001b[34mINFO    \u001b[0m ℹ️  \u001b[95mThông tin của khách: - Tên: Long | - Số điện thoại: \u001b[0m\u001b[1;36m123\u001b[0m\u001b[95m | - Email: \u001b[0m\u001b[3;35mNone\u001b[0m                 \n"
      ]
     },
     "metadata": {},
     "output_type": "display_data"
    },
    {
     "data": {
      "text/html": [
       "<pre style=\"white-space:pre;overflow-x:auto;line-height:normal;font-family:Menlo,'DejaVu Sans Mono',consolas,'Courier New',monospace\"><span style=\"color: #7fbfbf; text-decoration-color: #7fbfbf\">                    </span><span style=\"color: #000080; text-decoration-color: #000080\">INFO    </span> ℹ️  <span style=\"color: #ff00ff; text-decoration-color: #ff00ff\">New customer: </span><span style=\"color: #ff0000; text-decoration-color: #ff0000; font-style: italic\">False</span>                                                                     \n",
       "</pre>\n"
      ],
      "text/plain": [
       "\u001b[2;36m                   \u001b[0m\u001b[2;36m \u001b[0m\u001b[34mINFO    \u001b[0m ℹ️  \u001b[95mNew customer: \u001b[0m\u001b[3;91mFalse\u001b[0m                                                                     \n"
      ]
     },
     "metadata": {},
     "output_type": "display_data"
    },
    {
     "data": {
      "text/html": [
       "<pre style=\"white-space:pre;overflow-x:auto;line-height:normal;font-family:Menlo,'DejaVu Sans Mono',consolas,'Courier New',monospace\"><span style=\"color: #7fbfbf; text-decoration-color: #7fbfbf\">                    </span><span style=\"color: #000080; text-decoration-color: #000080\">INFO    </span> ℹ️  <span style=\"color: #ff00ff; text-decoration-color: #ff00ff\">Yêu cầu của khách: ko anh ko có ghi chú gì</span>                                              \n",
       "</pre>\n"
      ],
      "text/plain": [
       "\u001b[2;36m                   \u001b[0m\u001b[2;36m \u001b[0m\u001b[34mINFO    \u001b[0m ℹ️  \u001b[95mYêu cầu của khách: ko anh ko có ghi chú gì\u001b[0m                                              \n"
      ]
     },
     "metadata": {},
     "output_type": "display_data"
    },
    {
     "data": {
      "text/html": [
       "<pre style=\"white-space:pre;overflow-x:auto;line-height:normal;font-family:Menlo,'DejaVu Sans Mono',consolas,'Courier New',monospace\"><span style=\"color: #7fbfbf; text-decoration-color: #7fbfbf\">[10/01/25 15:10:36] </span><span style=\"color: #000080; text-decoration-color: #000080\">INFO    </span> ℹ️  <span style=\"color: #ff00ff; text-decoration-color: #ff00ff\">Agent tiếp theo: booking_agent</span>                                                          \n",
       "</pre>\n"
      ],
      "text/plain": [
       "\u001b[2;36m[10/01/25 15:10:36]\u001b[0m\u001b[2;36m \u001b[0m\u001b[34mINFO    \u001b[0m ℹ️  \u001b[95mAgent tiếp theo: booking_agent\u001b[0m                                                          \n"
      ]
     },
     "metadata": {},
     "output_type": "display_data"
    },
    {
     "name": "stdout",
     "output_type": "stream",
     "text": [
      "================================ Human Message =================================\n",
      "\n",
      "ko anh ko có ghi chú gì\n",
      "None\n",
      "================================== Ai Message "
     ]
    },
    {
     "data": {
      "text/html": [
       "<pre style=\"white-space:pre;overflow-x:auto;line-height:normal;font-family:Menlo,'DejaVu Sans Mono',consolas,'Courier New',monospace\"><span style=\"color: #7fbfbf; text-decoration-color: #7fbfbf\">[10/01/25 15:10:37] </span><span style=\"color: #000080; text-decoration-color: #000080\">INFO    </span> ℹ️  <span style=\"color: #ff00ff; text-decoration-color: #ff00ff\">create_appointment_tool được gọi</span>                                                        \n",
       "</pre>\n"
      ],
      "text/plain": [
       "\u001b[2;36m[10/01/25 15:10:37]\u001b[0m\u001b[2;36m \u001b[0m\u001b[34mINFO    \u001b[0m ℹ️  \u001b[95mcreate_appointment_tool được gọi\u001b[0m                                                        \n"
      ]
     },
     "metadata": {},
     "output_type": "display_data"
    },
    {
     "name": "stdout",
     "output_type": "stream",
     "text": [
      "==================================\n",
      "Tool Calls:\n",
      "  create_appointment_tool (call_YZvHtyKsXX8idlI4s3aOGmN3)\n",
      " Call ID: call_YZvHtyKsXX8idlI4s3aOGmN3\n",
      "  Args:\n",
      "    note: Không có\n",
      "    companion_name: None\n",
      "    companion_phone: None\n",
      "None\n"
     ]
    },
    {
     "data": {
      "text/html": [
       "<pre style=\"white-space:pre;overflow-x:auto;line-height:normal;font-family:Menlo,'DejaVu Sans Mono',consolas,'Courier New',monospace\"><span style=\"color: #7fbfbf; text-decoration-color: #7fbfbf\">                    </span><span style=\"color: #000080; text-decoration-color: #000080\">INFO    </span> ℹ️  <span style=\"color: #ff00ff; text-decoration-color: #ff00ff\">Service có thông tin</span>                                                                    \n",
       "</pre>\n"
      ],
      "text/plain": [
       "\u001b[2;36m                   \u001b[0m\u001b[2;36m \u001b[0m\u001b[34mINFO    \u001b[0m ℹ️  \u001b[95mService có thông tin\u001b[0m                                                                    \n"
      ]
     },
     "metadata": {},
     "output_type": "display_data"
    },
    {
     "data": {
      "text/html": [
       "<pre style=\"white-space:pre;overflow-x:auto;line-height:normal;font-family:Menlo,'DejaVu Sans Mono',consolas,'Courier New',monospace\"><span style=\"color: #7fbfbf; text-decoration-color: #7fbfbf\">                    </span><span style=\"color: #000080; text-decoration-color: #000080\">INFO    </span> ℹ️  <span style=\"color: #ff00ff; text-decoration-color: #ff00ff\">Đã đủ thông tin của khách -&gt; tạo lịch hẹn</span>                                               \n",
       "</pre>\n"
      ],
      "text/plain": [
       "\u001b[2;36m                   \u001b[0m\u001b[2;36m \u001b[0m\u001b[34mINFO    \u001b[0m ℹ️  \u001b[95mĐã đủ thông tin của khách -> tạo lịch hẹn\u001b[0m                                               \n"
      ]
     },
     "metadata": {},
     "output_type": "display_data"
    },
    {
     "data": {
      "text/html": [
       "<pre style=\"white-space:pre;overflow-x:auto;line-height:normal;font-family:Menlo,'DejaVu Sans Mono',consolas,'Courier New',monospace\"><span style=\"color: #7fbfbf; text-decoration-color: #7fbfbf\">[10/01/25 15:10:38] </span><span style=\"color: #000080; text-decoration-color: #000080\">INFO    </span> ℹ️  <span style=\"color: #ff00ff; text-decoration-color: #ff00ff\">Tạo bản ghi trong appointments thành công với ID: </span><span style=\"color: #008080; text-decoration-color: #008080; font-weight: bold\">62</span>                                    \n",
       "</pre>\n"
      ],
      "text/plain": [
       "\u001b[2;36m[10/01/25 15:10:38]\u001b[0m\u001b[2;36m \u001b[0m\u001b[34mINFO    \u001b[0m ℹ️  \u001b[95mTạo bản ghi trong appointments thành công với ID: \u001b[0m\u001b[1;36m62\u001b[0m                                    \n"
      ]
     },
     "metadata": {},
     "output_type": "display_data"
    },
    {
     "data": {
      "text/html": [
       "<pre style=\"white-space:pre;overflow-x:auto;line-height:normal;font-family:Menlo,'DejaVu Sans Mono',consolas,'Courier New',monospace\"><span style=\"color: #7fbfbf; text-decoration-color: #7fbfbf\">[10/01/25 15:10:39] </span><span style=\"color: #000080; text-decoration-color: #000080\">INFO    </span> ℹ️  <span style=\"color: #ff00ff; text-decoration-color: #ff00ff\">Thêm các bản ghi vào trong appointment_services thành công</span>                              \n",
       "</pre>\n"
      ],
      "text/plain": [
       "\u001b[2;36m[10/01/25 15:10:39]\u001b[0m\u001b[2;36m \u001b[0m\u001b[34mINFO    \u001b[0m ℹ️  \u001b[95mThêm các bản ghi vào trong appointment_services thành công\u001b[0m                              \n"
      ]
     },
     "metadata": {},
     "output_type": "display_data"
    },
    {
     "data": {
      "text/html": [
       "<pre style=\"white-space:pre;overflow-x:auto;line-height:normal;font-family:Menlo,'DejaVu Sans Mono',consolas,'Courier New',monospace\"><span style=\"color: #7fbfbf; text-decoration-color: #7fbfbf\">[10/01/25 15:10:40] </span><span style=\"color: #000080; text-decoration-color: #000080\">INFO    </span> ℹ️  <span style=\"color: #ff00ff; text-decoration-color: #ff00ff\">Send to demo logger successfully</span>                                                        \n",
       "</pre>\n"
      ],
      "text/plain": [
       "\u001b[2;36m[10/01/25 15:10:40]\u001b[0m\u001b[2;36m \u001b[0m\u001b[34mINFO    \u001b[0m ℹ️  \u001b[95mSend to demo logger successfully\u001b[0m                                                        \n"
      ]
     },
     "metadata": {},
     "output_type": "display_data"
    },
    {
     "data": {
      "text/html": [
       "<pre style=\"white-space:pre;overflow-x:auto;line-height:normal;font-family:Menlo,'DejaVu Sans Mono',consolas,'Courier New',monospace\"><span style=\"color: #7fbfbf; text-decoration-color: #7fbfbf\">                    </span><span style=\"color: #000080; text-decoration-color: #000080\">INFO    </span> ℹ️  <span style=\"color: #ff00ff; text-decoration-color: #ff00ff\">Đặt lịch thành công</span>                                                                     \n",
       "</pre>\n"
      ],
      "text/plain": [
       "\u001b[2;36m                   \u001b[0m\u001b[2;36m \u001b[0m\u001b[34mINFO    \u001b[0m ℹ️  \u001b[95mĐặt lịch thành công\u001b[0m                                                                     \n"
      ]
     },
     "metadata": {},
     "output_type": "display_data"
    },
    {
     "name": "stdout",
     "output_type": "stream",
     "text": [
      "================================= Tool Message =================================\n",
      "Name: create_appointment_tool\n",
      "\n",
      "Đặt lịch cho khách thành công, đây là chi tiết đặt lịch của khách:\n",
      "Thời gian đặt: 2025-10-03\n",
      "Thơi gian bắt đầu: 15:00:00\n",
      "Thời gian kết thúc: 17:00:00\n",
      "Tổng thời gian: 120 phút\n",
      "Ghi chú: Không có\n",
      "\n",
      "Tên khách: Long\n",
      "SĐT khách: 123\n",
      "Email khách: Không có\n",
      "\n",
      "Nhân viên thực hiện: Trần Ngọc Anh\n",
      "Phòng: Phòng 101\n",
      "\n",
      "Các dịch vụ khách đã đăng ký:\n",
      "STT: 1\n",
      "Loại dịch vụ: nam\n",
      "Tên dịch vụ: Trị liệu giác quan bằng mùi hương\n",
      "Thời gian: 60\n",
      "Giá: 400000VNĐ\n",
      "Giảm giá: 10.0%\n",
      "Giá sau giảm: 360000VNĐ\n",
      "\n",
      "STT: 2\n",
      "Loại dịch vụ: nam\n",
      "Tên dịch vụ: Trị liệu thư giãn đôi chân\n",
      "Thời gian: 60\n",
      "Giá: 250000VNĐ\n",
      "Giảm giá: 15.0%\n",
      "Giá sau giảm: 212500VNĐ\n",
      "\n",
      "Tổng giá tiền: 572500VNĐ\n",
      "\n",
      "\n",
      "None\n",
      "================================== Ai Message ==================================\n",
      "\n",
      "Anh Long đã đặt thành công lịch hẹn vào chiều mốt, ngày 03/10/2025 lúc 15h với 2 dịch vụ: Trị liệu giác quan bằng mùi hương 60 phút và Trị liệu thư giãn đôi chân 60 phút. Tổng chi phí sau giảm là 572.500 VNĐ. Nhân viên thực hiện là chị Trần Ngọc Anh tại phòng 101.\n",
      "\n",
      "Anh có cần em hỗ trợ thêm gì khác không ạ?\n",
      "None\n",
      "================================== Ai Message ==================================\n",
      "Name: booking_agent_node\n",
      "\n",
      "Anh Long đã đặt thành công lịch hẹn vào chiều mốt, ngày 03/10/2025 lúc 15h với 2 dịch vụ: Trị liệu giác quan bằng mùi hương 60 phút và Trị liệu thư giãn đôi chân 60 phút. Tổng chi phí sau giảm là 572.500 VNĐ. Nhân viên thực hiện là chị Trần Ngọc Anh tại phòng 101.\n",
      "\n",
      "Anh có cần em hỗ trợ thêm gì khác không ạ?\n",
      "None\n"
     ]
    }
   ],
   "source": [
    "state[\"user_input\"] = (\n",
    "    \"ko anh ko có ghi chú gì\"\n",
    ")\n",
    "state[\"chat_id\"] = \"10\"\n",
    "\n",
    "await test_bot(graph, state, config, \"updates\")"
   ]
  },
  {
   "cell_type": "code",
   "execution_count": null,
   "metadata": {},
   "outputs": [],
   "source": [
    "state[\"user_input\"] = (\n",
    "    \"à hay cho anh đổi bể sục nóng lạnh 30p thành 60p đi em\"\n",
    ")\n",
    "state[\"chat_id\"] = \"10\"\n",
    "\n",
    "await test_bot(graph, state, config, \"updates\")"
   ]
  },
  {
   "cell_type": "code",
   "execution_count": null,
   "metadata": {},
   "outputs": [],
   "source": [
    "state[\"user_input\"] = (\n",
    "    \"chiều t7 tuần này 3h được không em\"\n",
    ")\n",
    "state[\"chat_id\"] = \"10\"\n",
    "\n",
    "await test_bot(graph, state, config, \"updates\")"
   ]
  },
  {
   "cell_type": "code",
   "execution_count": null,
   "metadata": {},
   "outputs": [],
   "source": [
    "state[\"user_input\"] = (\n",
    "    \"ok em\"\n",
    ")\n",
    "state[\"chat_id\"] = \"10\"\n",
    "\n",
    "await test_bot(graph, state, config, \"updates\")"
   ]
  },
  {
   "cell_type": "code",
   "execution_count": 4,
   "metadata": {},
   "outputs": [
    {
     "data": {
      "text/plain": [
       "{'messages': [HumanMessage(content='cho anh Trị liệu giác quan bằng mùi hương 60p và Trị liệu thư giãn đôi chân 60p', additional_kwargs={}, response_metadata={}, id='a95c76d6-36f1-440f-82a8-76590eb7cb14'),\n",
       "  AIMessage(content='Anh đã chọn 2 dịch vụ gồm:\\n- Trị liệu giác quan bằng mùi hương 60 phút, giá 360.000 VNĐ (đã giảm 10%)\\n- Trị liệu thư giãn đôi chân 60 phút, giá 212.500 VNĐ (đã giảm 15%)\\n\\nTổng thời gian là 120 phút, tổng chi phí sau giảm là 572.500 VNĐ.\\n\\nAnh muốn đặt lịch vào ngày nào và giờ nào ạ? Em sẽ kiểm tra giúp anh lịch trống ngay.', additional_kwargs={}, response_metadata={}, name='booking_agent_node', id='5293310f-070a-4f81-b99f-688ec6d12aa3'),\n",
       "  HumanMessage(content='cho anh chiều mốt 3h nhe', additional_kwargs={}, response_metadata={}, id='b6366595-fff3-4ac0-a2ee-ea4dc8da6bce'),\n",
       "  AIMessage(content='Anh Long muốn đặt dịch vụ Trị liệu giác quan bằng mùi hương 60 phút và Trị liệu thư giãn đôi chân 60 phút vào chiều mốt, ngày 03/10/2025 lúc 15h. Lịch này hiện đang còn trống ạ.\\n\\nAnh có muốn để em đặt lịch giúp anh luôn không ạ? Nếu có, anh có muốn để lại ghi chú gì cho lịch hẹn không?', additional_kwargs={}, response_metadata={}, name='booking_agent_node', id='e101b65c-f788-4420-aa69-721206d9f7ca')],\n",
       " 'user_input': 'cho anh chiều mốt 3h nhe',\n",
       " 'chat_id': '10',\n",
       " 'next': '__end__',\n",
       " 'current_date': 'Wednesday, 01-10-2025',\n",
       " 'customer_id': 387,\n",
       " 'name': 'Long',\n",
       " 'phone': '123',\n",
       " 'email': None,\n",
       " 'new_customer': False,\n",
       " 'seen_services': {21: {'service_id': 21,\n",
       "   'service_type': 'nam',\n",
       "   'service_name': 'Trị liệu giác quan bằng mùi hương',\n",
       "   'duration_minutes': 60,\n",
       "   'price': 400000,\n",
       "   'discount_value': 10.0,\n",
       "   'price_after_discount': 360000.0},\n",
       "  22: {'service_id': 22,\n",
       "   'service_type': 'nam',\n",
       "   'service_name': 'Trị liệu giác quan bằng mùi hương',\n",
       "   'duration_minutes': 90,\n",
       "   'price': 500000,\n",
       "   'discount_value': 12.5,\n",
       "   'price_after_discount': 437500.0},\n",
       "  23: {'service_id': 23,\n",
       "   'service_type': 'nam',\n",
       "   'service_name': 'Trị liệu thư giãn đôi chân',\n",
       "   'duration_minutes': 60,\n",
       "   'price': 250000,\n",
       "   'discount_value': 15.0,\n",
       "   'price_after_discount': 212500.0},\n",
       "  24: {'service_id': 24,\n",
       "   'service_type': 'nam',\n",
       "   'service_name': 'Trị liệu thư giãn đôi chân',\n",
       "   'duration_minutes': 90,\n",
       "   'price': 350000,\n",
       "   'discount_value': 5.0,\n",
       "   'price_after_discount': 332500.0}},\n",
       " 'services': {21: {'service_id': 21,\n",
       "   'service_type': 'nam',\n",
       "   'service_name': 'Trị liệu giác quan bằng mùi hương',\n",
       "   'duration_minutes': 60,\n",
       "   'price': 400000,\n",
       "   'discount_value': 10.0,\n",
       "   'price_after_discount': 360000.0},\n",
       "  23: {'service_id': 23,\n",
       "   'service_type': 'nam',\n",
       "   'service_name': 'Trị liệu thư giãn đôi chân',\n",
       "   'duration_minutes': 60,\n",
       "   'price': 250000,\n",
       "   'discount_value': 15.0,\n",
       "   'price_after_discount': 212500.0}},\n",
       " 'staff_id': 3,\n",
       " 'staff_name': 'Trần Ngọc Anh',\n",
       " 'room_id': 1,\n",
       " 'room_name': 'Phòng 101',\n",
       " 'booking_date': '2025-10-03',\n",
       " 'start_time': '15:00:00',\n",
       " 'end_time': '17:00:00',\n",
       " 'total_time': 120,\n",
       " 'total_price': 572500.0,\n",
       " 'note': None,\n",
       " 'total_discount': None,\n",
       " 'price_after_discount': None,\n",
       " 'explain': None,\n",
       " 'pre_bookings': None,\n",
       " 'book_info': None}"
      ]
     },
     "execution_count": 4,
     "metadata": {},
     "output_type": "execute_result"
    }
   ],
   "source": [
    "graph.get_state(config).values"
   ]
  },
  {
   "cell_type": "markdown",
   "metadata": {},
   "source": [
    "----"
   ]
  },
  {
   "cell_type": "code",
   "execution_count": 1,
   "metadata": {},
   "outputs": [],
   "source": [
    "from database.connection import supabase_client, embeddings_model\n",
    "from repository.sync_repo import AppointmentRepo, CustomerRepo, RoomRepo, StaffRepo, ServiceRepo\n",
    "from core.utils.function import free_slots_with_staff\n",
    "from dotenv import load_dotenv\n",
    "from datetime import date, time, datetime\n",
    "import random\n",
    "import os\n",
    "\n",
    "load_dotenv(override=True)\n",
    "\n",
    "appointment_repo = AppointmentRepo(supabase_client=supabase_client)\n",
    "room_repo = RoomRepo(supabase_client=supabase_client)\n",
    "staff_repo = StaffRepo(supabase_client=supabase_client)\n",
    "service_repo = ServiceRepo(supabase_client=supabase_client)\n",
    "customer_repo = CustomerRepo(supabase_client=supabase_client)\n",
    "\n",
    "OPEN_TIME_STR = os.getenv(\"OPEN_TIME_STR\", \"08:00:00\")\n",
    "CLOSE_TIME_STR = os.getenv(\"CLOSE_TIME_STR\", \"21:00:00\")"
   ]
  },
  {
   "cell_type": "code",
   "execution_count": 9,
   "metadata": {},
   "outputs": [],
   "source": [
    "from datetime import datetime\n",
    "\n",
    "def convert_date_str(date_str: str) -> str:\n",
    "    # Chuyển từ định dạng ISO “YYYY-MM-DD” sang “DD-MM-YYYY”\n",
    "    dt = datetime.strptime(date_str, \"%Y-%m-%d\")\n",
    "    return dt.strftime(\"%d-%m-%Y\")"
   ]
  },
  {
   "cell_type": "code",
   "execution_count": null,
   "metadata": {},
   "outputs": [],
   "source": [
    "test = convert_date_str(str(\"2025-10-02\"))\n",
    "test"
   ]
  }
 ],
 "metadata": {
  "kernelspec": {
   "display_name": ".sellbot",
   "language": "python",
   "name": "python3"
  },
  "language_info": {
   "codemirror_mode": {
    "name": "ipython",
    "version": 3
   },
   "file_extension": ".py",
   "mimetype": "text/x-python",
   "name": "python",
   "nbconvert_exporter": "python",
   "pygments_lexer": "ipython3",
   "version": "3.12.5"
  }
 },
 "nbformat": 4,
 "nbformat_minor": 2
}
