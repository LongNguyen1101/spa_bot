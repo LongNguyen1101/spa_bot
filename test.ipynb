{
 "cells": [
  {
   "cell_type": "code",
   "execution_count": 1,
   "metadata": {},
   "outputs": [],
   "source": [
    "from core.graph.build_graph import create_main_graph\n",
    "from core.graph.state import init_state\n",
    "from core.utils.function import test_bot\n",
    "\n",
    "\n",
    "graph = create_main_graph()\n",
    "state = init_state()\n",
    "\n",
    "config = {\n",
    "    \"configurable\": \n",
    "    {\n",
    "        \"thread_id\": \"1\"\n",
    "    }\n",
    "}"
   ]
  },
  {
   "cell_type": "code",
   "execution_count": 2,
   "metadata": {},
   "outputs": [
    {
     "data": {
      "text/html": [
       "<pre style=\"white-space:pre;overflow-x:auto;line-height:normal;font-family:Menlo,'DejaVu Sans Mono',consolas,'Courier New',monospace\"><span style=\"color: #7fbfbf; text-decoration-color: #7fbfbf\">[09/16/25 08:16:21] </span><span style=\"color: #000080; text-decoration-color: #000080\">INFO    </span> ℹ️  <span style=\"color: #ff00ff; text-decoration-color: #ff00ff\">Tạo mới hoặc lấy thông tin khách: </span><span style=\"color: #ff00ff; text-decoration-color: #ff00ff; font-weight: bold\">{</span><span style=\"color: #008000; text-decoration-color: #008000\">'id'</span><span style=\"color: #ff00ff; text-decoration-color: #ff00ff\">: </span><span style=\"color: #008080; text-decoration-color: #008080; font-weight: bold\">8</span><span style=\"color: #ff00ff; text-decoration-color: #ff00ff\">, </span><span style=\"color: #008000; text-decoration-color: #008000\">'name'</span><span style=\"color: #ff00ff; text-decoration-color: #ff00ff\">: </span><span style=\"color: #008000; text-decoration-color: #008000\">'Long'</span><span style=\"color: #ff00ff; text-decoration-color: #ff00ff\">, </span><span style=\"color: #008000; text-decoration-color: #008000\">'phone'</span><span style=\"color: #ff00ff; text-decoration-color: #ff00ff\">: </span><span style=\"color: #008000; text-decoration-color: #008000\">'123'</span><span style=\"color: #ff00ff; text-decoration-color: #ff00ff\">, </span><span style=\"color: #008000; text-decoration-color: #008000\">'email'</span><span style=\"color: #ff00ff; text-decoration-color: #ff00ff\">: </span>   \n",
       "<span style=\"color: #7fbfbf; text-decoration-color: #7fbfbf\">                    </span>         <span style=\"color: #800080; text-decoration-color: #800080; font-style: italic\">None</span><span style=\"color: #ff00ff; text-decoration-color: #ff00ff\">, </span><span style=\"color: #008000; text-decoration-color: #008000\">'chat_id'</span><span style=\"color: #ff00ff; text-decoration-color: #ff00ff\">: </span><span style=\"color: #008000; text-decoration-color: #008000\">'10'</span><span style=\"color: #ff00ff; text-decoration-color: #ff00ff; font-weight: bold\">}</span>                                                                     \n",
       "</pre>\n"
      ],
      "text/plain": [
       "\u001b[2;36m[09/16/25 08:16:21]\u001b[0m\u001b[2;36m \u001b[0m\u001b[34mINFO    \u001b[0m ℹ️  \u001b[95mTạo mới hoặc lấy thông tin khách: \u001b[0m\u001b[1;95m{\u001b[0m\u001b[32m'id'\u001b[0m\u001b[95m: \u001b[0m\u001b[1;36m8\u001b[0m\u001b[95m, \u001b[0m\u001b[32m'name'\u001b[0m\u001b[95m: \u001b[0m\u001b[32m'Long'\u001b[0m\u001b[95m, \u001b[0m\u001b[32m'phone'\u001b[0m\u001b[95m: \u001b[0m\u001b[32m'123'\u001b[0m\u001b[95m, \u001b[0m\u001b[32m'email'\u001b[0m\u001b[95m: \u001b[0m   \n",
       "\u001b[2;36m                    \u001b[0m         \u001b[3;35mNone\u001b[0m\u001b[95m, \u001b[0m\u001b[32m'chat_id'\u001b[0m\u001b[95m: \u001b[0m\u001b[32m'10'\u001b[0m\u001b[1;95m}\u001b[0m                                                                     \n"
      ]
     },
     "metadata": {},
     "output_type": "display_data"
    },
    {
     "data": {
      "text/html": [
       "<pre style=\"white-space:pre;overflow-x:auto;line-height:normal;font-family:Menlo,'DejaVu Sans Mono',consolas,'Courier New',monospace\"><span style=\"color: #7fbfbf; text-decoration-color: #7fbfbf\">                    </span><span style=\"color: #000080; text-decoration-color: #000080\">INFO    </span> ℹ️  <span style=\"color: #ff00ff; text-decoration-color: #ff00ff\">Yêu cầu của khách: cn tuần này 3h bên em có trống ko</span>                                    \n",
       "</pre>\n"
      ],
      "text/plain": [
       "\u001b[2;36m                   \u001b[0m\u001b[2;36m \u001b[0m\u001b[34mINFO    \u001b[0m ℹ️  \u001b[95mYêu cầu của khách: cn tuần này 3h bên em có trống ko\u001b[0m                                    \n"
      ]
     },
     "metadata": {},
     "output_type": "display_data"
    },
    {
     "data": {
      "text/html": [
       "<pre style=\"white-space:pre;overflow-x:auto;line-height:normal;font-family:Menlo,'DejaVu Sans Mono',consolas,'Courier New',monospace\"><span style=\"color: #7fbfbf; text-decoration-color: #7fbfbf\">[09/16/25 08:16:22] </span><span style=\"color: #000080; text-decoration-color: #000080\">INFO    </span> ℹ️  <span style=\"color: #ff00ff; text-decoration-color: #ff00ff\">Agent tiếp theo: booking_agent</span>                                                          \n",
       "</pre>\n"
      ],
      "text/plain": [
       "\u001b[2;36m[09/16/25 08:16:22]\u001b[0m\u001b[2;36m \u001b[0m\u001b[34mINFO    \u001b[0m ℹ️  \u001b[95mAgent tiếp theo: booking_agent\u001b[0m                                                          \n"
      ]
     },
     "metadata": {},
     "output_type": "display_data"
    },
    {
     "name": "stdout",
     "output_type": "stream",
     "text": [
      "================================\u001b[1m Human Message \u001b[0m=================================\n",
      "\n",
      "cn tuần này 3h bên em có trống ko\n",
      "None\n",
      "==================================\u001b[1m Ai Message \u001b[0m==================================\n",
      "Tool Calls:\n",
      "  check_available_booking_tool (call_AW3sprgMkH6nTh1Y7hu1FQkO)\n",
      " Call ID: call_AW3sprgMkH6nTh1Y7hu1FQkO\n",
      "  Args:\n",
      "    booking_date_new: 21-09-2025\n",
      "    start_time_new: 15:00:00\n",
      "None\n"
     ]
    },
    {
     "data": {
      "text/html": [
       "<pre style=\"white-space:pre;overflow-x:auto;line-height:normal;font-family:Menlo,'DejaVu Sans Mono',consolas,'Courier New',monospace\"><span style=\"color: #7fbfbf; text-decoration-color: #7fbfbf\">[09/16/25 08:16:23] </span><span style=\"color: #000080; text-decoration-color: #000080\">INFO    </span> ℹ️  <span style=\"color: #ff00ff; text-decoration-color: #ff00ff\">check_available_booking được gọi</span>                                                        \n",
       "</pre>\n"
      ],
      "text/plain": [
       "\u001b[2;36m[09/16/25 08:16:23]\u001b[0m\u001b[2;36m \u001b[0m\u001b[34mINFO    \u001b[0m ℹ️  \u001b[95mcheck_available_booking được gọi\u001b[0m                                                        \n"
      ]
     },
     "metadata": {},
     "output_type": "display_data"
    },
    {
     "data": {
      "text/html": [
       "<pre style=\"white-space:pre;overflow-x:auto;line-height:normal;font-family:Menlo,'DejaVu Sans Mono',consolas,'Courier New',monospace\"><span style=\"color: #7fbfbf; text-decoration-color: #7fbfbf\">                    </span><span style=\"color: #000080; text-decoration-color: #000080\">INFO    </span> ℹ️  <span style=\"color: #ff00ff; text-decoration-color: #ff00ff\">Khách đặt ngày: </span><span style=\"color: #008080; text-decoration-color: #008080; font-weight: bold\">2025</span><span style=\"color: #ff00ff; text-decoration-color: #ff00ff\">-</span><span style=\"color: #008080; text-decoration-color: #008080; font-weight: bold\">09</span><span style=\"color: #ff00ff; text-decoration-color: #ff00ff\">-</span><span style=\"color: #008080; text-decoration-color: #008080; font-weight: bold\">21</span><span style=\"color: #ff00ff; text-decoration-color: #ff00ff\"> vào lúc: </span><span style=\"color: #00ff00; text-decoration-color: #00ff00; font-weight: bold\">15:00:00</span>                                            \n",
       "</pre>\n"
      ],
      "text/plain": [
       "\u001b[2;36m                   \u001b[0m\u001b[2;36m \u001b[0m\u001b[34mINFO    \u001b[0m ℹ️  \u001b[95mKhách đặt ngày: \u001b[0m\u001b[1;36m2025\u001b[0m\u001b[95m-\u001b[0m\u001b[1;36m09\u001b[0m\u001b[95m-\u001b[0m\u001b[1;36m21\u001b[0m\u001b[95m vào lúc: \u001b[0m\u001b[1;92m15:00:00\u001b[0m                                            \n"
      ]
     },
     "metadata": {},
     "output_type": "display_data"
    },
    {
     "data": {
      "text/html": [
       "<pre style=\"white-space:pre;overflow-x:auto;line-height:normal;font-family:Menlo,'DejaVu Sans Mono',consolas,'Courier New',monospace\"><span style=\"color: #7fbfbf; text-decoration-color: #7fbfbf\">[09/16/25 08:16:25] </span><span style=\"color: #000080; text-decoration-color: #000080\">INFO    </span> ℹ️  <span style=\"color: #ff00ff; text-decoration-color: #ff00ff\">Tìm thấy phòng và nhân viên khả dụng</span>                                                    \n",
       "</pre>\n"
      ],
      "text/plain": [
       "\u001b[2;36m[09/16/25 08:16:25]\u001b[0m\u001b[2;36m \u001b[0m\u001b[34mINFO    \u001b[0m ℹ️  \u001b[95mTìm thấy phòng và nhân viên khả dụng\u001b[0m                                                    \n"
      ]
     },
     "metadata": {},
     "output_type": "display_data"
    },
    {
     "data": {
      "text/html": [
       "<pre style=\"white-space:pre;overflow-x:auto;line-height:normal;font-family:Menlo,'DejaVu Sans Mono',consolas,'Courier New',monospace\"><span style=\"color: #7fbfbf; text-decoration-color: #7fbfbf\">                    </span><span style=\"color: #000080; text-decoration-color: #000080\">INFO    </span> ℹ️  <span style=\"color: #ff00ff; text-decoration-color: #ff00ff\">ID phòng khả dụng: </span><span style=\"color: #008080; text-decoration-color: #008080; font-weight: bold\">1</span><span style=\"color: #ff00ff; text-decoration-color: #ff00ff\"> | ID nhân viên khả dụng: </span><span style=\"color: #008080; text-decoration-color: #008080; font-weight: bold\">2</span>                                         \n",
       "</pre>\n"
      ],
      "text/plain": [
       "\u001b[2;36m                   \u001b[0m\u001b[2;36m \u001b[0m\u001b[34mINFO    \u001b[0m ℹ️  \u001b[95mID phòng khả dụng: \u001b[0m\u001b[1;36m1\u001b[0m\u001b[95m | ID nhân viên khả dụng: \u001b[0m\u001b[1;36m2\u001b[0m                                         \n"
      ]
     },
     "metadata": {},
     "output_type": "display_data"
    },
    {
     "data": {
      "text/html": [
       "<pre style=\"white-space:pre;overflow-x:auto;line-height:normal;font-family:Menlo,'DejaVu Sans Mono',consolas,'Courier New',monospace\"><span style=\"color: #7fbfbf; text-decoration-color: #7fbfbf\">                    </span><span style=\"color: #000080; text-decoration-color: #000080\">INFO    </span> ℹ️  <span style=\"color: #ff00ff; text-decoration-color: #ff00ff\">Kiểm tra phòng và nhân viên thành công</span>                                                  \n",
       "</pre>\n"
      ],
      "text/plain": [
       "\u001b[2;36m                   \u001b[0m\u001b[2;36m \u001b[0m\u001b[34mINFO    \u001b[0m ℹ️  \u001b[95mKiểm tra phòng và nhân viên thành công\u001b[0m                                                  \n"
      ]
     },
     "metadata": {},
     "output_type": "display_data"
    },
    {
     "name": "stdout",
     "output_type": "stream",
     "text": [
      "=================================\u001b[1m Tool Message \u001b[0m=================================\n",
      "Name: check_available_booking_tool\n",
      "\n",
      "Thông báo khách có lịch trống\n",
      "Đây là tên phòng của khách: Phòng 101\n",
      "Đây là tên nhân viên: Nguyen Thi Lan\n",
      "None\n",
      "==================================\u001b[1m Ai Message \u001b[0m==================================\n",
      "\n",
      "Chào khách, bên em còn lịch trống vào lúc 3 giờ chiều ngày 21 tháng 9 tuần này ạ. Khách có muốn đặt lịch vào thời gian này không ạ? Nếu có, khách vui lòng cho em biết dịch vụ muốn sử dụng để em hỗ trợ đặt lịch nhé!\n",
      "None\n",
      "==================================\u001b[1m Ai Message \u001b[0m==================================\n",
      "Name: booking_agent_node\n",
      "\n",
      "Chào khách, bên em còn lịch trống vào lúc 3 giờ chiều ngày 21 tháng 9 tuần này ạ. Khách có muốn đặt lịch vào thời gian này không ạ? Nếu có, khách vui lòng cho em biết dịch vụ muốn sử dụng để em hỗ trợ đặt lịch nhé!\n",
      "None\n"
     ]
    }
   ],
   "source": [
    "state[\"user_input\"] = (\n",
    "    \"cn tuần này 3h bên em có trống ko\"\n",
    ")\n",
    "state[\"chat_id\"] = \"10\"\n",
    "\n",
    "await test_bot(graph, state, config, \"updates\")"
   ]
  },
  {
   "cell_type": "code",
   "execution_count": 3,
   "metadata": {},
   "outputs": [
    {
     "data": {
      "text/html": [
       "<pre style=\"white-space:pre;overflow-x:auto;line-height:normal;font-family:Menlo,'DejaVu Sans Mono',consolas,'Courier New',monospace\"><span style=\"color: #7fbfbf; text-decoration-color: #7fbfbf\">[09/16/25 08:16:29] </span><span style=\"color: #000080; text-decoration-color: #000080\">INFO    </span> ℹ️  <span style=\"color: #ff00ff; text-decoration-color: #ff00ff\">Thông tin của khách: - Tên: Long | - Số điện thoại: </span><span style=\"color: #008080; text-decoration-color: #008080; font-weight: bold\">123</span><span style=\"color: #ff00ff; text-decoration-color: #ff00ff\"> | - Email: </span><span style=\"color: #800080; text-decoration-color: #800080; font-style: italic\">None</span>                 \n",
       "</pre>\n"
      ],
      "text/plain": [
       "\u001b[2;36m[09/16/25 08:16:29]\u001b[0m\u001b[2;36m \u001b[0m\u001b[34mINFO    \u001b[0m ℹ️  \u001b[95mThông tin của khách: - Tên: Long | - Số điện thoại: \u001b[0m\u001b[1;36m123\u001b[0m\u001b[95m | - Email: \u001b[0m\u001b[3;35mNone\u001b[0m                 \n"
      ]
     },
     "metadata": {},
     "output_type": "display_data"
    },
    {
     "data": {
      "text/html": [
       "<pre style=\"white-space:pre;overflow-x:auto;line-height:normal;font-family:Menlo,'DejaVu Sans Mono',consolas,'Courier New',monospace\"><span style=\"color: #7fbfbf; text-decoration-color: #7fbfbf\">                    </span><span style=\"color: #000080; text-decoration-color: #000080\">INFO    </span> ℹ️  <span style=\"color: #ff00ff; text-decoration-color: #ff00ff\">Yêu cầu của khách: bên em có dịch vụ gì</span>                                                 \n",
       "</pre>\n"
      ],
      "text/plain": [
       "\u001b[2;36m                   \u001b[0m\u001b[2;36m \u001b[0m\u001b[34mINFO    \u001b[0m ℹ️  \u001b[95mYêu cầu của khách: bên em có dịch vụ gì\u001b[0m                                                 \n"
      ]
     },
     "metadata": {},
     "output_type": "display_data"
    },
    {
     "data": {
      "text/html": [
       "<pre style=\"white-space:pre;overflow-x:auto;line-height:normal;font-family:Menlo,'DejaVu Sans Mono',consolas,'Courier New',monospace\"><span style=\"color: #7fbfbf; text-decoration-color: #7fbfbf\">[09/16/25 08:16:30] </span><span style=\"color: #000080; text-decoration-color: #000080\">INFO    </span> ℹ️  <span style=\"color: #ff00ff; text-decoration-color: #ff00ff\">Agent tiếp theo: service_agent</span>                                                          \n",
       "</pre>\n"
      ],
      "text/plain": [
       "\u001b[2;36m[09/16/25 08:16:30]\u001b[0m\u001b[2;36m \u001b[0m\u001b[34mINFO    \u001b[0m ℹ️  \u001b[95mAgent tiếp theo: service_agent\u001b[0m                                                          \n"
      ]
     },
     "metadata": {},
     "output_type": "display_data"
    },
    {
     "name": "stdout",
     "output_type": "stream",
     "text": [
      "================================\u001b[1m Human Message \u001b[0m=================================\n",
      "\n",
      "bên em có dịch vụ gì\n",
      "None\n",
      "==================================\u001b[1m Ai Message \u001b[0m==================================\n",
      "\n",
      "Chào anh Long, bên AnVie Spa có nhiều dịch vụ dành cho cả nam và nữ như sau:\n",
      "\n",
      "Dành cho Nam:\n",
      "- Massage thư giãn toàn thân\n",
      "- Chăm sóc da mặt\n",
      "- Tắm hơi thảo dược\n",
      "- Massage đá nóng\n",
      "- Chăm sóc tóc và da đầu\n",
      "- Tẩy tế bào chết toàn thân\n",
      "- Massage thể thao\n",
      "- Dưỡng da toàn thân\n",
      "- Ngâm chân thảo dược\n",
      "- Trị liệu cột sống\n",
      "\n",
      "Dành cho Nữ:\n",
      "- Massage thư giãn hương thơm\n",
      "- Chăm sóc da mặt cao cấp\n",
      "- Trắng da toàn thân\n",
      "- Massage đá nóng thư giãn\n",
      "- Chăm sóc cơ thể cao cấp\n",
      "- Trị liệu mụn\n",
      "- Massage cho bà bầu\n",
      "- Ngâm chân hoa hồng\n",
      "- Tẩy tế bào chết toàn thân\n",
      "- Trị liệu chống lão hóa\n",
      "\n",
      "Anh Long quan tâm dịch vụ nào để em tư vấn chi tiết hơn và báo giá cho anh nhé?\n",
      "None\n",
      "==================================\u001b[1m Ai Message \u001b[0m==================================\n",
      "Name: services_agent_node\n",
      "\n",
      "Chào anh Long, bên AnVie Spa có nhiều dịch vụ dành cho cả nam và nữ như sau:\n",
      "\n",
      "Dành cho Nam:\n",
      "- Massage thư giãn toàn thân\n",
      "- Chăm sóc da mặt\n",
      "- Tắm hơi thảo dược\n",
      "- Massage đá nóng\n",
      "- Chăm sóc tóc và da đầu\n",
      "- Tẩy tế bào chết toàn thân\n",
      "- Massage thể thao\n",
      "- Dưỡng da toàn thân\n",
      "- Ngâm chân thảo dược\n",
      "- Trị liệu cột sống\n",
      "\n",
      "Dành cho Nữ:\n",
      "- Massage thư giãn hương thơm\n",
      "- Chăm sóc da mặt cao cấp\n",
      "- Trắng da toàn thân\n",
      "- Massage đá nóng thư giãn\n",
      "- Chăm sóc cơ thể cao cấp\n",
      "- Trị liệu mụn\n",
      "- Massage cho bà bầu\n",
      "- Ngâm chân hoa hồng\n",
      "- Tẩy tế bào chết toàn thân\n",
      "- Trị liệu chống lão hóa\n",
      "\n",
      "Anh Long quan tâm dịch vụ nào để em tư vấn chi tiết hơn và báo giá cho anh nhé?\n",
      "None\n"
     ]
    }
   ],
   "source": [
    "state[\"user_input\"] = (\n",
    "    \"bên em có dịch vụ gì\"\n",
    ")\n",
    "state[\"chat_id\"] = \"10\"\n",
    "\n",
    "await test_bot(graph, state, config, \"updates\")"
   ]
  },
  {
   "cell_type": "code",
   "execution_count": 4,
   "metadata": {},
   "outputs": [
    {
     "data": {
      "text/html": [
       "<pre style=\"white-space:pre;overflow-x:auto;line-height:normal;font-family:Menlo,'DejaVu Sans Mono',consolas,'Courier New',monospace\"><span style=\"color: #7fbfbf; text-decoration-color: #7fbfbf\">[09/16/25 08:16:56] </span><span style=\"color: #000080; text-decoration-color: #000080\">INFO    </span> ℹ️  <span style=\"color: #ff00ff; text-decoration-color: #ff00ff\">Thông tin của khách: - Tên: Long | - Số điện thoại: </span><span style=\"color: #008080; text-decoration-color: #008080; font-weight: bold\">123</span><span style=\"color: #ff00ff; text-decoration-color: #ff00ff\"> | - Email: </span><span style=\"color: #800080; text-decoration-color: #800080; font-style: italic\">None</span>                 \n",
       "</pre>\n"
      ],
      "text/plain": [
       "\u001b[2;36m[09/16/25 08:16:56]\u001b[0m\u001b[2;36m \u001b[0m\u001b[34mINFO    \u001b[0m ℹ️  \u001b[95mThông tin của khách: - Tên: Long | - Số điện thoại: \u001b[0m\u001b[1;36m123\u001b[0m\u001b[95m | - Email: \u001b[0m\u001b[3;35mNone\u001b[0m                 \n"
      ]
     },
     "metadata": {},
     "output_type": "display_data"
    },
    {
     "data": {
      "text/html": [
       "<pre style=\"white-space:pre;overflow-x:auto;line-height:normal;font-family:Menlo,'DejaVu Sans Mono',consolas,'Courier New',monospace\"><span style=\"color: #7fbfbf; text-decoration-color: #7fbfbf\">                    </span><span style=\"color: #000080; text-decoration-color: #000080\">INFO    </span> ℹ️  <span style=\"color: #ff00ff; text-decoration-color: #ff00ff\">Yêu cầu của khách: cho anh hỏi cái Massage đá nóng cho nam đi</span>                           \n",
       "</pre>\n"
      ],
      "text/plain": [
       "\u001b[2;36m                   \u001b[0m\u001b[2;36m \u001b[0m\u001b[34mINFO    \u001b[0m ℹ️  \u001b[95mYêu cầu của khách: cho anh hỏi cái Massage đá nóng cho nam đi\u001b[0m                           \n"
      ]
     },
     "metadata": {},
     "output_type": "display_data"
    },
    {
     "data": {
      "text/html": [
       "<pre style=\"white-space:pre;overflow-x:auto;line-height:normal;font-family:Menlo,'DejaVu Sans Mono',consolas,'Courier New',monospace\"><span style=\"color: #7fbfbf; text-decoration-color: #7fbfbf\">[09/16/25 08:16:58] </span><span style=\"color: #000080; text-decoration-color: #000080\">INFO    </span> ℹ️  <span style=\"color: #ff00ff; text-decoration-color: #ff00ff\">Agent tiếp theo: service_agent</span>                                                          \n",
       "</pre>\n"
      ],
      "text/plain": [
       "\u001b[2;36m[09/16/25 08:16:58]\u001b[0m\u001b[2;36m \u001b[0m\u001b[34mINFO    \u001b[0m ℹ️  \u001b[95mAgent tiếp theo: service_agent\u001b[0m                                                          \n"
      ]
     },
     "metadata": {},
     "output_type": "display_data"
    },
    {
     "name": "stdout",
     "output_type": "stream",
     "text": [
      "================================\u001b[1m Human Message \u001b[0m=================================\n",
      "\n",
      "cho anh hỏi cái Massage đá nóng cho nam đi\n",
      "None\n"
     ]
    },
    {
     "data": {
      "text/html": [
       "<pre style=\"white-space:pre;overflow-x:auto;line-height:normal;font-family:Menlo,'DejaVu Sans Mono',consolas,'Courier New',monospace\"><span style=\"color: #7fbfbf; text-decoration-color: #7fbfbf\">[09/16/25 08:17:00] </span><span style=\"color: #000080; text-decoration-color: #000080\">INFO    </span> ℹ️  <span style=\"color: #ff00ff; text-decoration-color: #ff00ff\">get_services_tool called with keyword: Massage đá nóng nam</span>                              \n",
       "</pre>\n"
      ],
      "text/plain": [
       "\u001b[2;36m[09/16/25 08:17:00]\u001b[0m\u001b[2;36m \u001b[0m\u001b[34mINFO    \u001b[0m ℹ️  \u001b[95mget_services_tool called with keyword: Massage đá nóng nam\u001b[0m                              \n"
      ]
     },
     "metadata": {},
     "output_type": "display_data"
    },
    {
     "name": "stdout",
     "output_type": "stream",
     "text": [
      "==================================\u001b[1m Ai Message \u001b[0m==================================\n",
      "Tool Calls:\n",
      "  get_services_tool (call_j6mYGyyMVB6GixYB0TFcfv6z)\n",
      " Call ID: call_j6mYGyyMVB6GixYB0TFcfv6z\n",
      "  Args:\n",
      "    keyword: Massage đá nóng nam\n",
      "None\n"
     ]
    },
    {
     "data": {
      "text/html": [
       "<pre style=\"white-space:pre;overflow-x:auto;line-height:normal;font-family:Menlo,'DejaVu Sans Mono',consolas,'Courier New',monospace\"><span style=\"color: #7fbfbf; text-decoration-color: #7fbfbf\">                    </span><span style=\"color: #000080; text-decoration-color: #000080\">INFO    </span> ℹ️  <span style=\"color: #ff00ff; text-decoration-color: #ff00ff\">No results from SQL, switching to RAG search</span>                                            \n",
       "</pre>\n"
      ],
      "text/plain": [
       "\u001b[2;36m                   \u001b[0m\u001b[2;36m \u001b[0m\u001b[34mINFO    \u001b[0m ℹ️  \u001b[95mNo results from SQL, switching to RAG search\u001b[0m                                            \n"
      ]
     },
     "metadata": {},
     "output_type": "display_data"
    },
    {
     "data": {
      "text/html": [
       "<pre style=\"white-space:pre;overflow-x:auto;line-height:normal;font-family:Menlo,'DejaVu Sans Mono',consolas,'Courier New',monospace\"><span style=\"color: #7fbfbf; text-decoration-color: #7fbfbf\">[09/16/25 08:17:07] </span><span style=\"color: #000080; text-decoration-color: #000080\">INFO    </span> ℹ️  <span style=\"color: #ff00ff; text-decoration-color: #ff00ff\">Results returned from RAG</span>                                                               \n",
       "</pre>\n"
      ],
      "text/plain": [
       "\u001b[2;36m[09/16/25 08:17:07]\u001b[0m\u001b[2;36m \u001b[0m\u001b[34mINFO    \u001b[0m ℹ️  \u001b[95mResults returned from RAG\u001b[0m                                                               \n"
      ]
     },
     "metadata": {},
     "output_type": "display_data"
    },
    {
     "data": {
      "text/html": [
       "<pre style=\"white-space:pre;overflow-x:auto;line-height:normal;font-family:Menlo,'DejaVu Sans Mono',consolas,'Courier New',monospace\"><span style=\"color: #7fbfbf; text-decoration-color: #7fbfbf\">                    </span><span style=\"color: #000080; text-decoration-color: #000080\">INFO    </span> ℹ️  <span style=\"color: #ff00ff; text-decoration-color: #ff00ff\">Returning results from RAG</span>                                                              \n",
       "</pre>\n"
      ],
      "text/plain": [
       "\u001b[2;36m                   \u001b[0m\u001b[2;36m \u001b[0m\u001b[34mINFO    \u001b[0m ℹ️  \u001b[95mReturning results from RAG\u001b[0m                                                              \n"
      ]
     },
     "metadata": {},
     "output_type": "display_data"
    },
    {
     "name": "stdout",
     "output_type": "stream",
     "text": [
      "=================================\u001b[1m Tool Message \u001b[0m=================================\n",
      "Name: get_services_tool\n",
      "\n",
      "Here are the services returned based on the customer's request:\n",
      "\n",
      "[{'id': 14, 'type': 'nữ', 'name': 'Massage Đá Nóng Thư Giãn', 'duration_minutes': 75, 'price': 650000, 'description': 'Massage đá nóng đặc biệt dành cho nữ giúp cải thiện lưu thông máu, giảm đau nhức cơ thể và mang lại sự cân bằng năng lượng. Liệu trình mang lại sự thư thái và giấc ngủ ngon hơn.'}, {'id': 4, 'type': 'nam', 'name': 'Massage Đá Nóng', 'duration_minutes': 75, 'price': 650000, 'description': 'Massage đá nóng giúp làm dịu cơ bắp căng cứng, giảm đau nhức xương khớp và phục hồi năng lượng. Liệu trình kết hợp giữa kỹ thuật xoa bóp truyền thống và năng lượng từ đá nóng tự nhiên.'}, {'id': 7, 'type': 'nam', 'name': 'Massage Thể Thao', 'duration_minutes': 60, 'price': 550000, 'description': 'Phù hợp cho nam giới sau khi tập luyện thể thao, dịch vụ massage này tập trung vào các nhóm cơ lớn, giúp giảm căng cơ, hỗ trợ phục hồi và nâng cao hiệu suất luyện tập.'}, {'id': 1, 'type': 'nam', 'name': 'Massage Thư Giãn Toàn Thân', 'duration_minutes': 60, 'price': 500000, 'description': 'Liệu trình massage toàn thân dành cho nam giúp thư giãn cơ bắp, cải thiện tuần hoàn máu và giải tỏa căng thẳng sau những giờ làm việc căng thẳng. Sử dụng tinh dầu thiên nhiên cao cấp mang lại cảm giác dễ chịu và phục hồi năng lượng.'}, {'id': 11, 'type': 'nữ', 'name': 'Massage Thư Giãn Aroma', 'duration_minutes': 60, 'price': 500000, 'description': 'Liệu trình massage toàn thân sử dụng tinh dầu thiên nhiên cao cấp, mang lại cảm giác thư giãn tuyệt đối cho phụ nữ sau ngày dài làm việc. Giúp giảm căng thẳng, tái tạo năng lượng và cân bằng tinh thần.'}]\n",
      "\n",
      "None\n",
      "==================================\u001b[1m Ai Message \u001b[0m==================================\n",
      "\n",
      "Dịch vụ Massage Đá Nóng dành cho nam tại AnVie Spa có thời gian 75 phút, giá 650.000 đồng. Liệu trình này giúp làm dịu cơ bắp căng cứng, giảm đau nhức xương khớp và phục hồi năng lượng. Kỹ thuật kết hợp giữa xoa bóp truyền thống và năng lượng từ đá nóng tự nhiên, mang lại cảm giác thư thái và khỏe khoắn cho anh.\n",
      "\n",
      "Anh Long có muốn em hỗ trợ đặt lịch hoặc tư vấn thêm về dịch vụ này không ạ?\n",
      "None\n",
      "==================================\u001b[1m Ai Message \u001b[0m==================================\n",
      "Name: services_agent_node\n",
      "\n",
      "Dịch vụ Massage Đá Nóng dành cho nam tại AnVie Spa có thời gian 75 phút, giá 650.000 đồng. Liệu trình này giúp làm dịu cơ bắp căng cứng, giảm đau nhức xương khớp và phục hồi năng lượng. Kỹ thuật kết hợp giữa xoa bóp truyền thống và năng lượng từ đá nóng tự nhiên, mang lại cảm giác thư thái và khỏe khoắn cho anh.\n",
      "\n",
      "Anh Long có muốn em hỗ trợ đặt lịch hoặc tư vấn thêm về dịch vụ này không ạ?\n",
      "None\n"
     ]
    }
   ],
   "source": [
    "state[\"user_input\"] = (\n",
    "    \"cho anh hỏi cái Massage đá nóng cho nam đi\"\n",
    ")\n",
    "state[\"chat_id\"] = \"10\"\n",
    "\n",
    "await test_bot(graph, state, config, \"updates\")"
   ]
  },
  {
   "cell_type": "code",
   "execution_count": 5,
   "metadata": {},
   "outputs": [
    {
     "data": {
      "text/html": [
       "<pre style=\"white-space:pre;overflow-x:auto;line-height:normal;font-family:Menlo,'DejaVu Sans Mono',consolas,'Courier New',monospace\"><span style=\"color: #7fbfbf; text-decoration-color: #7fbfbf\">[09/16/25 08:17:24] </span><span style=\"color: #000080; text-decoration-color: #000080\">INFO    </span> ℹ️  <span style=\"color: #ff00ff; text-decoration-color: #ff00ff\">Thông tin của khách: - Tên: Long | - Số điện thoại: </span><span style=\"color: #008080; text-decoration-color: #008080; font-weight: bold\">123</span><span style=\"color: #ff00ff; text-decoration-color: #ff00ff\"> | - Email: </span><span style=\"color: #800080; text-decoration-color: #800080; font-style: italic\">None</span>                 \n",
       "</pre>\n"
      ],
      "text/plain": [
       "\u001b[2;36m[09/16/25 08:17:24]\u001b[0m\u001b[2;36m \u001b[0m\u001b[34mINFO    \u001b[0m ℹ️  \u001b[95mThông tin của khách: - Tên: Long | - Số điện thoại: \u001b[0m\u001b[1;36m123\u001b[0m\u001b[95m | - Email: \u001b[0m\u001b[3;35mNone\u001b[0m                 \n"
      ]
     },
     "metadata": {},
     "output_type": "display_data"
    },
    {
     "data": {
      "text/html": [
       "<pre style=\"white-space:pre;overflow-x:auto;line-height:normal;font-family:Menlo,'DejaVu Sans Mono',consolas,'Courier New',monospace\"><span style=\"color: #7fbfbf; text-decoration-color: #7fbfbf\">                    </span><span style=\"color: #000080; text-decoration-color: #000080\">INFO    </span> ℹ️  <span style=\"color: #ff00ff; text-decoration-color: #ff00ff\">Yêu cầu của khách: uk cho anh cái đó đi</span>                                                 \n",
       "</pre>\n"
      ],
      "text/plain": [
       "\u001b[2;36m                   \u001b[0m\u001b[2;36m \u001b[0m\u001b[34mINFO    \u001b[0m ℹ️  \u001b[95mYêu cầu của khách: uk cho anh cái đó đi\u001b[0m                                                 \n"
      ]
     },
     "metadata": {},
     "output_type": "display_data"
    },
    {
     "data": {
      "text/html": [
       "<pre style=\"white-space:pre;overflow-x:auto;line-height:normal;font-family:Menlo,'DejaVu Sans Mono',consolas,'Courier New',monospace\"><span style=\"color: #7fbfbf; text-decoration-color: #7fbfbf\">[09/16/25 08:17:26] </span><span style=\"color: #000080; text-decoration-color: #000080\">INFO    </span> ℹ️  <span style=\"color: #ff00ff; text-decoration-color: #ff00ff\">Agent tiếp theo: booking_agent</span>                                                          \n",
       "</pre>\n"
      ],
      "text/plain": [
       "\u001b[2;36m[09/16/25 08:17:26]\u001b[0m\u001b[2;36m \u001b[0m\u001b[34mINFO    \u001b[0m ℹ️  \u001b[95mAgent tiếp theo: booking_agent\u001b[0m                                                          \n"
      ]
     },
     "metadata": {},
     "output_type": "display_data"
    },
    {
     "name": "stdout",
     "output_type": "stream",
     "text": [
      "================================\u001b[1m Human Message \u001b[0m=================================\n",
      "\n",
      "uk cho anh cái đó đi\n",
      "None\n"
     ]
    },
    {
     "data": {
      "text/html": [
       "<pre style=\"white-space:pre;overflow-x:auto;line-height:normal;font-family:Menlo,'DejaVu Sans Mono',consolas,'Courier New',monospace\"><span style=\"color: #7fbfbf; text-decoration-color: #7fbfbf\">[09/16/25 08:17:27] </span><span style=\"color: #000080; text-decoration-color: #000080\">INFO    </span> ℹ️  <span style=\"color: #ff00ff; text-decoration-color: #ff00ff\">add_service_tool được gọi</span>                                                               \n",
       "</pre>\n"
      ],
      "text/plain": [
       "\u001b[2;36m[09/16/25 08:17:27]\u001b[0m\u001b[2;36m \u001b[0m\u001b[34mINFO    \u001b[0m ℹ️  \u001b[95madd_service_tool được gọi\u001b[0m                                                               \n"
      ]
     },
     "metadata": {},
     "output_type": "display_data"
    },
    {
     "name": "stdout",
     "output_type": "stream",
     "text": [
      "==================================\u001b[1m Ai Message \u001b[0m==================================\n",
      "Tool Calls:\n",
      "  add_service_tool (call_L87osVecQCSHBalykhE44gL7)\n",
      " Call ID: call_L87osVecQCSHBalykhE44gL7\n",
      "  Args:\n",
      "    service_id_list: [4]\n",
      "None\n"
     ]
    },
    {
     "data": {
      "text/html": [
       "<pre style=\"white-space:pre;overflow-x:auto;line-height:normal;font-family:Menlo,'DejaVu Sans Mono',consolas,'Courier New',monospace\"><span style=\"color: #7fbfbf; text-decoration-color: #7fbfbf\">                    </span><span style=\"color: #000080; text-decoration-color: #000080\">INFO    </span> ℹ️  <span style=\"color: #ff00ff; text-decoration-color: #ff00ff\">Thêm dịch vụ khách chọn vào state thành công</span>                                            \n",
       "</pre>\n"
      ],
      "text/plain": [
       "\u001b[2;36m                   \u001b[0m\u001b[2;36m \u001b[0m\u001b[34mINFO    \u001b[0m ℹ️  \u001b[95mThêm dịch vụ khách chọn vào state thành công\u001b[0m                                            \n"
      ]
     },
     "metadata": {},
     "output_type": "display_data"
    },
    {
     "name": "stdout",
     "output_type": "stream",
     "text": [
      "=================================\u001b[1m Tool Message \u001b[0m=================================\n",
      "Name: add_service_tool\n",
      "\n",
      "Đây là thông tin các dịch vụ mà khách chọn:\n",
      "STT: 1\n",
      "Loại dịch vụ: nam\n",
      "Tên dịch vụ: Massage Đá Nóng\n",
      "Thời gian: 75\n",
      "Giá: 650000\n",
      "Tổng thời gian: 75\n",
      "Tổng giá tiền: 650000\n",
      "\n",
      "\n",
      "None\n",
      "==================================\u001b[1m Ai Message \u001b[0m==================================\n",
      "Tool Calls:\n",
      "  check_available_booking_tool (call_KMIhJTGzZFY7Z9SvxnXtmYO4)\n",
      " Call ID: call_KMIhJTGzZFY7Z9SvxnXtmYO4\n",
      "  Args:\n",
      "    booking_date_new: 21-09-2025\n",
      "    start_time_new: 15:00:00\n",
      "None\n"
     ]
    },
    {
     "data": {
      "text/html": [
       "<pre style=\"white-space:pre;overflow-x:auto;line-height:normal;font-family:Menlo,'DejaVu Sans Mono',consolas,'Courier New',monospace\"><span style=\"color: #7fbfbf; text-decoration-color: #7fbfbf\">[09/16/25 08:17:28] </span><span style=\"color: #000080; text-decoration-color: #000080\">INFO    </span> ℹ️  <span style=\"color: #ff00ff; text-decoration-color: #ff00ff\">check_available_booking được gọi</span>                                                        \n",
       "</pre>\n"
      ],
      "text/plain": [
       "\u001b[2;36m[09/16/25 08:17:28]\u001b[0m\u001b[2;36m \u001b[0m\u001b[34mINFO    \u001b[0m ℹ️  \u001b[95mcheck_available_booking được gọi\u001b[0m                                                        \n"
      ]
     },
     "metadata": {},
     "output_type": "display_data"
    },
    {
     "data": {
      "text/html": [
       "<pre style=\"white-space:pre;overflow-x:auto;line-height:normal;font-family:Menlo,'DejaVu Sans Mono',consolas,'Courier New',monospace\"><span style=\"color: #7fbfbf; text-decoration-color: #7fbfbf\">                    </span><span style=\"color: #000080; text-decoration-color: #000080\">INFO    </span> ℹ️  <span style=\"color: #ff00ff; text-decoration-color: #ff00ff\">Khách đặt ngày: </span><span style=\"color: #008080; text-decoration-color: #008080; font-weight: bold\">2025</span><span style=\"color: #ff00ff; text-decoration-color: #ff00ff\">-</span><span style=\"color: #008080; text-decoration-color: #008080; font-weight: bold\">09</span><span style=\"color: #ff00ff; text-decoration-color: #ff00ff\">-</span><span style=\"color: #008080; text-decoration-color: #008080; font-weight: bold\">21</span><span style=\"color: #ff00ff; text-decoration-color: #ff00ff\"> vào lúc: </span><span style=\"color: #00ff00; text-decoration-color: #00ff00; font-weight: bold\">15:00:00</span>                                            \n",
       "</pre>\n"
      ],
      "text/plain": [
       "\u001b[2;36m                   \u001b[0m\u001b[2;36m \u001b[0m\u001b[34mINFO    \u001b[0m ℹ️  \u001b[95mKhách đặt ngày: \u001b[0m\u001b[1;36m2025\u001b[0m\u001b[95m-\u001b[0m\u001b[1;36m09\u001b[0m\u001b[95m-\u001b[0m\u001b[1;36m21\u001b[0m\u001b[95m vào lúc: \u001b[0m\u001b[1;92m15:00:00\u001b[0m                                            \n"
      ]
     },
     "metadata": {},
     "output_type": "display_data"
    },
    {
     "data": {
      "text/html": [
       "<pre style=\"white-space:pre;overflow-x:auto;line-height:normal;font-family:Menlo,'DejaVu Sans Mono',consolas,'Courier New',monospace\"><span style=\"color: #7fbfbf; text-decoration-color: #7fbfbf\">[09/16/25 08:17:31] </span><span style=\"color: #000080; text-decoration-color: #000080\">INFO    </span> ℹ️  <span style=\"color: #ff00ff; text-decoration-color: #ff00ff\">Tìm thấy phòng và nhân viên khả dụng</span>                                                    \n",
       "</pre>\n"
      ],
      "text/plain": [
       "\u001b[2;36m[09/16/25 08:17:31]\u001b[0m\u001b[2;36m \u001b[0m\u001b[34mINFO    \u001b[0m ℹ️  \u001b[95mTìm thấy phòng và nhân viên khả dụng\u001b[0m                                                    \n"
      ]
     },
     "metadata": {},
     "output_type": "display_data"
    },
    {
     "data": {
      "text/html": [
       "<pre style=\"white-space:pre;overflow-x:auto;line-height:normal;font-family:Menlo,'DejaVu Sans Mono',consolas,'Courier New',monospace\"><span style=\"color: #7fbfbf; text-decoration-color: #7fbfbf\">                    </span><span style=\"color: #000080; text-decoration-color: #000080\">INFO    </span> ℹ️  <span style=\"color: #ff00ff; text-decoration-color: #ff00ff\">ID phòng khả dụng: </span><span style=\"color: #008080; text-decoration-color: #008080; font-weight: bold\">1</span><span style=\"color: #ff00ff; text-decoration-color: #ff00ff\"> | ID nhân viên khả dụng: </span><span style=\"color: #008080; text-decoration-color: #008080; font-weight: bold\">2</span>                                         \n",
       "</pre>\n"
      ],
      "text/plain": [
       "\u001b[2;36m                   \u001b[0m\u001b[2;36m \u001b[0m\u001b[34mINFO    \u001b[0m ℹ️  \u001b[95mID phòng khả dụng: \u001b[0m\u001b[1;36m1\u001b[0m\u001b[95m | ID nhân viên khả dụng: \u001b[0m\u001b[1;36m2\u001b[0m                                         \n"
      ]
     },
     "metadata": {},
     "output_type": "display_data"
    },
    {
     "data": {
      "text/html": [
       "<pre style=\"white-space:pre;overflow-x:auto;line-height:normal;font-family:Menlo,'DejaVu Sans Mono',consolas,'Courier New',monospace\"><span style=\"color: #7fbfbf; text-decoration-color: #7fbfbf\">                    </span><span style=\"color: #000080; text-decoration-color: #000080\">INFO    </span> ℹ️  <span style=\"color: #ff00ff; text-decoration-color: #ff00ff\">Kiểm tra phòng và nhân viên thành công</span>                                                  \n",
       "</pre>\n"
      ],
      "text/plain": [
       "\u001b[2;36m                   \u001b[0m\u001b[2;36m \u001b[0m\u001b[34mINFO    \u001b[0m ℹ️  \u001b[95mKiểm tra phòng và nhân viên thành công\u001b[0m                                                  \n"
      ]
     },
     "metadata": {},
     "output_type": "display_data"
    },
    {
     "name": "stdout",
     "output_type": "stream",
     "text": [
      "=================================\u001b[1m Tool Message \u001b[0m=================================\n",
      "Name: check_available_booking_tool\n",
      "\n",
      "Thông báo khách có lịch trống\n",
      "Đây là tên phòng của khách: Phòng 101\n",
      "Đây là tên nhân viên: Nguyen Thi Lan\n",
      "None\n",
      "==================================\u001b[1m Ai Message \u001b[0m==================================\n",
      "\n",
      "Anh Long đã chọn dịch vụ Massage Đá Nóng dành cho nam, thời gian 75 phút, giá 650.000 đồng. Lịch vào lúc 3 giờ chiều ngày 21 tháng 9 bên em còn trống, phòng 101 và nhân viên Nguyen Thi Lan sẽ phục vụ anh.\n",
      "\n",
      "Hiện tại em thấy mình đã có tên và số điện thoại của anh rồi. Anh có muốn em tiến hành đặt lịch luôn không ạ? Nếu anh muốn bổ sung email hoặc thông tin khác cũng có thể nói em nhé!\n",
      "None\n",
      "==================================\u001b[1m Ai Message \u001b[0m==================================\n",
      "Name: booking_agent_node\n",
      "\n",
      "Anh Long đã chọn dịch vụ Massage Đá Nóng dành cho nam, thời gian 75 phút, giá 650.000 đồng. Lịch vào lúc 3 giờ chiều ngày 21 tháng 9 bên em còn trống, phòng 101 và nhân viên Nguyen Thi Lan sẽ phục vụ anh.\n",
      "\n",
      "Hiện tại em thấy mình đã có tên và số điện thoại của anh rồi. Anh có muốn em tiến hành đặt lịch luôn không ạ? Nếu anh muốn bổ sung email hoặc thông tin khác cũng có thể nói em nhé!\n",
      "None\n"
     ]
    }
   ],
   "source": [
    "state[\"user_input\"] = (\n",
    "    \"uk cho anh cái đó đi\"\n",
    ")\n",
    "state[\"chat_id\"] = \"10\"\n",
    "\n",
    "await test_bot(graph, state, config, \"updates\")"
   ]
  },
  {
   "cell_type": "code",
   "execution_count": 7,
   "metadata": {},
   "outputs": [
    {
     "data": {
      "text/html": [
       "<pre style=\"white-space:pre;overflow-x:auto;line-height:normal;font-family:Menlo,'DejaVu Sans Mono',consolas,'Courier New',monospace\"><span style=\"color: #7fbfbf; text-decoration-color: #7fbfbf\">[09/16/25 08:19:33] </span><span style=\"color: #000080; text-decoration-color: #000080\">INFO    </span> ℹ️  <span style=\"color: #ff00ff; text-decoration-color: #ff00ff\">Thông tin của khách: - Tên: Long | - Số điện thoại: </span><span style=\"color: #008080; text-decoration-color: #008080; font-weight: bold\">123</span><span style=\"color: #ff00ff; text-decoration-color: #ff00ff\"> | - Email: </span><span style=\"color: #800080; text-decoration-color: #800080; font-style: italic\">None</span>                 \n",
       "</pre>\n"
      ],
      "text/plain": [
       "\u001b[2;36m[09/16/25 08:19:33]\u001b[0m\u001b[2;36m \u001b[0m\u001b[34mINFO    \u001b[0m ℹ️  \u001b[95mThông tin của khách: - Tên: Long | - Số điện thoại: \u001b[0m\u001b[1;36m123\u001b[0m\u001b[95m | - Email: \u001b[0m\u001b[3;35mNone\u001b[0m                 \n"
      ]
     },
     "metadata": {},
     "output_type": "display_data"
    },
    {
     "data": {
      "text/html": [
       "<pre style=\"white-space:pre;overflow-x:auto;line-height:normal;font-family:Menlo,'DejaVu Sans Mono',consolas,'Courier New',monospace\"><span style=\"color: #7fbfbf; text-decoration-color: #7fbfbf\">                    </span><span style=\"color: #000080; text-decoration-color: #000080\">INFO    </span> ℹ️  <span style=\"color: #ff00ff; text-decoration-color: #ff00ff\">Yêu cầu của khách: đặt lịch đi</span>                                                          \n",
       "</pre>\n"
      ],
      "text/plain": [
       "\u001b[2;36m                   \u001b[0m\u001b[2;36m \u001b[0m\u001b[34mINFO    \u001b[0m ℹ️  \u001b[95mYêu cầu của khách: đặt lịch đi\u001b[0m                                                          \n"
      ]
     },
     "metadata": {},
     "output_type": "display_data"
    },
    {
     "data": {
      "text/html": [
       "<pre style=\"white-space:pre;overflow-x:auto;line-height:normal;font-family:Menlo,'DejaVu Sans Mono',consolas,'Courier New',monospace\"><span style=\"color: #7fbfbf; text-decoration-color: #7fbfbf\">[09/16/25 08:19:34] </span><span style=\"color: #000080; text-decoration-color: #000080\">INFO    </span> ℹ️  <span style=\"color: #ff00ff; text-decoration-color: #ff00ff\">Agent tiếp theo: booking_agent</span>                                                          \n",
       "</pre>\n"
      ],
      "text/plain": [
       "\u001b[2;36m[09/16/25 08:19:34]\u001b[0m\u001b[2;36m \u001b[0m\u001b[34mINFO    \u001b[0m ℹ️  \u001b[95mAgent tiếp theo: booking_agent\u001b[0m                                                          \n"
      ]
     },
     "metadata": {},
     "output_type": "display_data"
    },
    {
     "name": "stdout",
     "output_type": "stream",
     "text": [
      "================================\u001b[1m Human Message \u001b[0m=================================\n",
      "\n",
      "đặt lịch đi\n",
      "None\n",
      "==================================\u001b[1m Ai Message \u001b[0m==================================\n",
      "Tool Calls:\n",
      "  check_available_booking_tool (call_5LQFMBpeWpbEJeTgWbrEtwuM)\n",
      " Call ID: call_5LQFMBpeWpbEJeTgWbrEtwuM\n",
      "  Args:\n",
      "    booking_date_new: 21-09-2025\n",
      "    start_time_new: 15:00:00\n",
      "None\n"
     ]
    },
    {
     "data": {
      "text/html": [
       "<pre style=\"white-space:pre;overflow-x:auto;line-height:normal;font-family:Menlo,'DejaVu Sans Mono',consolas,'Courier New',monospace\"><span style=\"color: #7fbfbf; text-decoration-color: #7fbfbf\">[09/16/25 08:19:35] </span><span style=\"color: #000080; text-decoration-color: #000080\">INFO    </span> ℹ️  <span style=\"color: #ff00ff; text-decoration-color: #ff00ff\">check_available_booking được gọi</span>                                                        \n",
       "</pre>\n"
      ],
      "text/plain": [
       "\u001b[2;36m[09/16/25 08:19:35]\u001b[0m\u001b[2;36m \u001b[0m\u001b[34mINFO    \u001b[0m ℹ️  \u001b[95mcheck_available_booking được gọi\u001b[0m                                                        \n"
      ]
     },
     "metadata": {},
     "output_type": "display_data"
    },
    {
     "data": {
      "text/html": [
       "<pre style=\"white-space:pre;overflow-x:auto;line-height:normal;font-family:Menlo,'DejaVu Sans Mono',consolas,'Courier New',monospace\"><span style=\"color: #7fbfbf; text-decoration-color: #7fbfbf\">                    </span><span style=\"color: #000080; text-decoration-color: #000080\">INFO    </span> ℹ️  <span style=\"color: #ff00ff; text-decoration-color: #ff00ff\">Khách đặt ngày: </span><span style=\"color: #008080; text-decoration-color: #008080; font-weight: bold\">2025</span><span style=\"color: #ff00ff; text-decoration-color: #ff00ff\">-</span><span style=\"color: #008080; text-decoration-color: #008080; font-weight: bold\">09</span><span style=\"color: #ff00ff; text-decoration-color: #ff00ff\">-</span><span style=\"color: #008080; text-decoration-color: #008080; font-weight: bold\">21</span><span style=\"color: #ff00ff; text-decoration-color: #ff00ff\"> vào lúc: </span><span style=\"color: #00ff00; text-decoration-color: #00ff00; font-weight: bold\">15:00:00</span>                                            \n",
       "</pre>\n"
      ],
      "text/plain": [
       "\u001b[2;36m                   \u001b[0m\u001b[2;36m \u001b[0m\u001b[34mINFO    \u001b[0m ℹ️  \u001b[95mKhách đặt ngày: \u001b[0m\u001b[1;36m2025\u001b[0m\u001b[95m-\u001b[0m\u001b[1;36m09\u001b[0m\u001b[95m-\u001b[0m\u001b[1;36m21\u001b[0m\u001b[95m vào lúc: \u001b[0m\u001b[1;92m15:00:00\u001b[0m                                            \n"
      ]
     },
     "metadata": {},
     "output_type": "display_data"
    },
    {
     "data": {
      "text/html": [
       "<pre style=\"white-space:pre;overflow-x:auto;line-height:normal;font-family:Menlo,'DejaVu Sans Mono',consolas,'Courier New',monospace\"><span style=\"color: #7fbfbf; text-decoration-color: #7fbfbf\">[09/16/25 08:19:38] </span><span style=\"color: #000080; text-decoration-color: #000080\">INFO    </span> ℹ️  <span style=\"color: #ff00ff; text-decoration-color: #ff00ff\">Tìm thấy phòng và nhân viên khả dụng</span>                                                    \n",
       "</pre>\n"
      ],
      "text/plain": [
       "\u001b[2;36m[09/16/25 08:19:38]\u001b[0m\u001b[2;36m \u001b[0m\u001b[34mINFO    \u001b[0m ℹ️  \u001b[95mTìm thấy phòng và nhân viên khả dụng\u001b[0m                                                    \n"
      ]
     },
     "metadata": {},
     "output_type": "display_data"
    },
    {
     "data": {
      "text/html": [
       "<pre style=\"white-space:pre;overflow-x:auto;line-height:normal;font-family:Menlo,'DejaVu Sans Mono',consolas,'Courier New',monospace\"><span style=\"color: #7fbfbf; text-decoration-color: #7fbfbf\">                    </span><span style=\"color: #000080; text-decoration-color: #000080\">INFO    </span> ℹ️  <span style=\"color: #ff00ff; text-decoration-color: #ff00ff\">ID phòng khả dụng: </span><span style=\"color: #008080; text-decoration-color: #008080; font-weight: bold\">1</span><span style=\"color: #ff00ff; text-decoration-color: #ff00ff\"> | ID nhân viên khả dụng: </span><span style=\"color: #008080; text-decoration-color: #008080; font-weight: bold\">2</span>                                         \n",
       "</pre>\n"
      ],
      "text/plain": [
       "\u001b[2;36m                   \u001b[0m\u001b[2;36m \u001b[0m\u001b[34mINFO    \u001b[0m ℹ️  \u001b[95mID phòng khả dụng: \u001b[0m\u001b[1;36m1\u001b[0m\u001b[95m | ID nhân viên khả dụng: \u001b[0m\u001b[1;36m2\u001b[0m                                         \n"
      ]
     },
     "metadata": {},
     "output_type": "display_data"
    },
    {
     "data": {
      "text/html": [
       "<pre style=\"white-space:pre;overflow-x:auto;line-height:normal;font-family:Menlo,'DejaVu Sans Mono',consolas,'Courier New',monospace\"><span style=\"color: #7fbfbf; text-decoration-color: #7fbfbf\">                    </span><span style=\"color: #000080; text-decoration-color: #000080\">INFO    </span> ℹ️  <span style=\"color: #ff00ff; text-decoration-color: #ff00ff\">Kiểm tra phòng và nhân viên thành công</span>                                                  \n",
       "</pre>\n"
      ],
      "text/plain": [
       "\u001b[2;36m                   \u001b[0m\u001b[2;36m \u001b[0m\u001b[34mINFO    \u001b[0m ℹ️  \u001b[95mKiểm tra phòng và nhân viên thành công\u001b[0m                                                  \n"
      ]
     },
     "metadata": {},
     "output_type": "display_data"
    },
    {
     "name": "stdout",
     "output_type": "stream",
     "text": [
      "=================================\u001b[1m Tool Message \u001b[0m=================================\n",
      "Name: check_available_booking_tool\n",
      "\n",
      "Thông báo khách có lịch trống\n",
      "Đây là tên phòng của khách: Phòng 101\n",
      "Đây là tên nhân viên: Nguyen Thi Lan\n",
      "None\n"
     ]
    },
    {
     "data": {
      "text/html": [
       "<pre style=\"white-space:pre;overflow-x:auto;line-height:normal;font-family:Menlo,'DejaVu Sans Mono',consolas,'Courier New',monospace\"><span style=\"color: #7fbfbf; text-decoration-color: #7fbfbf\">[09/16/25 08:19:39] </span><span style=\"color: #000080; text-decoration-color: #000080\">INFO    </span> ℹ️  <span style=\"color: #ff00ff; text-decoration-color: #ff00ff\">create_appointment_tool được gọi</span>                                                        \n",
       "</pre>\n"
      ],
      "text/plain": [
       "\u001b[2;36m[09/16/25 08:19:39]\u001b[0m\u001b[2;36m \u001b[0m\u001b[34mINFO    \u001b[0m ℹ️  \u001b[95mcreate_appointment_tool được gọi\u001b[0m                                                        \n"
      ]
     },
     "metadata": {},
     "output_type": "display_data"
    },
    {
     "name": "stdout",
     "output_type": "stream",
     "text": [
      "==================================\u001b[1m Ai Message \u001b[0m==================================\n",
      "Tool Calls:\n",
      "  create_appointment_tool (call_vRd68g3n1bjxKx45CKmVcYZS)\n",
      " Call ID: call_vRd68g3n1bjxKx45CKmVcYZS\n",
      "  Args:\n",
      "None\n"
     ]
    },
    {
     "data": {
      "text/html": [
       "<pre style=\"white-space:pre;overflow-x:auto;line-height:normal;font-family:Menlo,'DejaVu Sans Mono',consolas,'Courier New',monospace\"><span style=\"color: #7fbfbf; text-decoration-color: #7fbfbf\">                    </span><span style=\"color: #000080; text-decoration-color: #000080\">INFO    </span> ℹ️  <span style=\"color: #ff00ff; text-decoration-color: #ff00ff\">Service có thông tin</span>                                                                    \n",
       "</pre>\n"
      ],
      "text/plain": [
       "\u001b[2;36m                   \u001b[0m\u001b[2;36m \u001b[0m\u001b[34mINFO    \u001b[0m ℹ️  \u001b[95mService có thông tin\u001b[0m                                                                    \n"
      ]
     },
     "metadata": {},
     "output_type": "display_data"
    },
    {
     "data": {
      "text/html": [
       "<pre style=\"white-space:pre;overflow-x:auto;line-height:normal;font-family:Menlo,'DejaVu Sans Mono',consolas,'Courier New',monospace\"><span style=\"color: #7fbfbf; text-decoration-color: #7fbfbf\">                    </span><span style=\"color: #000080; text-decoration-color: #000080\">INFO    </span> ℹ️  <span style=\"color: #ff00ff; text-decoration-color: #ff00ff\">Đã đủ thông tin của khách -&gt; tạo lịch hẹn</span>                                               \n",
       "</pre>\n"
      ],
      "text/plain": [
       "\u001b[2;36m                   \u001b[0m\u001b[2;36m \u001b[0m\u001b[34mINFO    \u001b[0m ℹ️  \u001b[95mĐã đủ thông tin của khách -> tạo lịch hẹn\u001b[0m                                               \n"
      ]
     },
     "metadata": {},
     "output_type": "display_data"
    },
    {
     "data": {
      "text/html": [
       "<pre style=\"white-space:pre;overflow-x:auto;line-height:normal;font-family:Menlo,'DejaVu Sans Mono',consolas,'Courier New',monospace\"><span style=\"color: #7fbfbf; text-decoration-color: #7fbfbf\">                    </span><span style=\"color: #000080; text-decoration-color: #000080\">INFO    </span> ℹ️  <span style=\"color: #ff00ff; text-decoration-color: #ff00ff\">Tạo bản ghi trong appointments thành công với ID: </span><span style=\"color: #008080; text-decoration-color: #008080; font-weight: bold\">23</span>                                    \n",
       "</pre>\n"
      ],
      "text/plain": [
       "\u001b[2;36m                   \u001b[0m\u001b[2;36m \u001b[0m\u001b[34mINFO    \u001b[0m ℹ️  \u001b[95mTạo bản ghi trong appointments thành công với ID: \u001b[0m\u001b[1;36m23\u001b[0m                                    \n"
      ]
     },
     "metadata": {},
     "output_type": "display_data"
    },
    {
     "data": {
      "text/html": [
       "<pre style=\"white-space:pre;overflow-x:auto;line-height:normal;font-family:Menlo,'DejaVu Sans Mono',consolas,'Courier New',monospace\"><span style=\"color: #7fbfbf; text-decoration-color: #7fbfbf\">[09/16/25 08:19:40] </span><span style=\"color: #000080; text-decoration-color: #000080\">INFO    </span> ℹ️  <span style=\"color: #ff00ff; text-decoration-color: #ff00ff\">Thêm các bản ghi vào trong appointment_services thành công</span>                              \n",
       "</pre>\n"
      ],
      "text/plain": [
       "\u001b[2;36m[09/16/25 08:19:40]\u001b[0m\u001b[2;36m \u001b[0m\u001b[34mINFO    \u001b[0m ℹ️  \u001b[95mThêm các bản ghi vào trong appointment_services thành công\u001b[0m                              \n"
      ]
     },
     "metadata": {},
     "output_type": "display_data"
    },
    {
     "data": {
      "text/html": [
       "<pre style=\"white-space:pre;overflow-x:auto;line-height:normal;font-family:Menlo,'DejaVu Sans Mono',consolas,'Courier New',monospace\"><span style=\"color: #7fbfbf; text-decoration-color: #7fbfbf\">[09/16/25 08:19:41] </span><span style=\"color: #000080; text-decoration-color: #000080\">INFO    </span> ℹ️  <span style=\"color: #ff00ff; text-decoration-color: #ff00ff\">Lên đơn thành công</span>                                                                      \n",
       "</pre>\n"
      ],
      "text/plain": [
       "\u001b[2;36m[09/16/25 08:19:41]\u001b[0m\u001b[2;36m \u001b[0m\u001b[34mINFO    \u001b[0m ℹ️  \u001b[95mLên đơn thành công\u001b[0m                                                                      \n"
      ]
     },
     "metadata": {},
     "output_type": "display_data"
    },
    {
     "name": "stdout",
     "output_type": "stream",
     "text": [
      "=================================\u001b[1m Tool Message \u001b[0m=================================\n",
      "Name: create_appointment_tool\n",
      "\n",
      "Đặt lịch cho khách thành công, đây là chi tiết đặt lịch của khách:\n",
      "Thời gian đặt: 2025-09-21\n",
      "Thơi gian bắt đầu: 15:00:00\n",
      "Thời gian kết thúc: 16:15:00\n",
      "\n",
      "Tên khách: Long\n",
      "SĐT khách: 123\n",
      "Email khách: Không có\n",
      "\n",
      "Nhân viên thực hiện: Nguyen Thi Lan\n",
      "Phòng: Phòng 101\n",
      "\n",
      "Các dịch vụ khách đã đăng ký:\n",
      "STT: 1\n",
      "Loại dịch vụ: nam\n",
      "Tên dịch vụ: Massage Đá Nóng\n",
      "Thời gian: 75\n",
      "Giá: 650000\n",
      "\n",
      "Tổng giá tiền: 650000\n",
      "\n",
      "Không được tóm gọn, phải liệt kê chi tiết, đầy đủ, không bịa đặt không tạo phản hồi các thông tin dư thừa\n",
      "None\n",
      "==================================\u001b[1m Ai Message \u001b[0m==================================\n",
      "\n",
      "Anh Long thân mến, em đã đặt lịch thành công cho anh với các thông tin chi tiết như sau:\n",
      "\n",
      "- Thời gian đặt: ngày 21 tháng 9 năm 2025\n",
      "- Thời gian bắt đầu: 15:00\n",
      "- Thời gian kết thúc: 16:15\n",
      "- Tên khách: Long\n",
      "- Số điện thoại: 123\n",
      "- Email: Không có\n",
      "- Nhân viên phục vụ: Nguyen Thi Lan\n",
      "- Phòng: Phòng 101\n",
      "\n",
      "Dịch vụ đã đăng ký:\n",
      "1. Massage Đá Nóng dành cho nam\n",
      "   - Thời gian: 75 phút\n",
      "   - Giá: 650.000 đồng\n",
      "\n",
      "Tổng giá tiền: 650.000 đồng\n",
      "\n",
      "Anh có cần em hỗ trợ thêm gì không ạ? Em rất mong được phục vụ anh!\n",
      "None\n",
      "==================================\u001b[1m Ai Message \u001b[0m==================================\n",
      "Name: booking_agent_node\n",
      "\n",
      "Anh Long thân mến, em đã đặt lịch thành công cho anh với các thông tin chi tiết như sau:\n",
      "\n",
      "- Thời gian đặt: ngày 21 tháng 9 năm 2025\n",
      "- Thời gian bắt đầu: 15:00\n",
      "- Thời gian kết thúc: 16:15\n",
      "- Tên khách: Long\n",
      "- Số điện thoại: 123\n",
      "- Email: Không có\n",
      "- Nhân viên phục vụ: Nguyen Thi Lan\n",
      "- Phòng: Phòng 101\n",
      "\n",
      "Dịch vụ đã đăng ký:\n",
      "1. Massage Đá Nóng dành cho nam\n",
      "   - Thời gian: 75 phút\n",
      "   - Giá: 650.000 đồng\n",
      "\n",
      "Tổng giá tiền: 650.000 đồng\n",
      "\n",
      "Anh có cần em hỗ trợ thêm gì không ạ? Em rất mong được phục vụ anh!\n",
      "None\n"
     ]
    }
   ],
   "source": [
    "state[\"user_input\"] = (\n",
    "    \"đặt lịch đi\"\n",
    ")\n",
    "state[\"chat_id\"] = \"10\"\n",
    "\n",
    "await test_bot(graph, state, config, \"updates\")"
   ]
  },
  {
   "cell_type": "code",
   "execution_count": 6,
   "metadata": {},
   "outputs": [
    {
     "data": {
      "text/plain": [
       "{'messages': [HumanMessage(content='cn tuần này 3h bên em có trống ko', additional_kwargs={}, response_metadata={}, id='777a7fac-5a48-444d-b1d9-cca0474759b2'),\n",
       "  AIMessage(content='Chào khách, bên em còn lịch trống vào lúc 3 giờ chiều ngày 21 tháng 9 tuần này ạ. Khách có muốn đặt lịch vào thời gian này không ạ? Nếu có, khách vui lòng cho em biết dịch vụ muốn sử dụng để em hỗ trợ đặt lịch nhé!', additional_kwargs={}, response_metadata={}, name='booking_agent_node', id='3988abb3-f97c-4718-98e3-172b086cd984'),\n",
       "  HumanMessage(content='bên em có dịch vụ gì', additional_kwargs={}, response_metadata={}, id='28f0596b-f35f-4bfc-a43d-ee833f4bb6d6'),\n",
       "  AIMessage(content='Chào anh Long, bên AnVie Spa có nhiều dịch vụ dành cho cả nam và nữ như sau:\\n\\nDành cho Nam:\\n- Massage thư giãn toàn thân\\n- Chăm sóc da mặt\\n- Tắm hơi thảo dược\\n- Massage đá nóng\\n- Chăm sóc tóc và da đầu\\n- Tẩy tế bào chết toàn thân\\n- Massage thể thao\\n- Dưỡng da toàn thân\\n- Ngâm chân thảo dược\\n- Trị liệu cột sống\\n\\nDành cho Nữ:\\n- Massage thư giãn hương thơm\\n- Chăm sóc da mặt cao cấp\\n- Trắng da toàn thân\\n- Massage đá nóng thư giãn\\n- Chăm sóc cơ thể cao cấp\\n- Trị liệu mụn\\n- Massage cho bà bầu\\n- Ngâm chân hoa hồng\\n- Tẩy tế bào chết toàn thân\\n- Trị liệu chống lão hóa\\n\\nAnh Long quan tâm dịch vụ nào để em tư vấn chi tiết hơn và báo giá cho anh nhé?', additional_kwargs={}, response_metadata={}, name='services_agent_node', id='6cc9e9fc-e14f-4208-9ef1-7c662adb076c'),\n",
       "  HumanMessage(content='cho anh hỏi cái Massage đá nóng cho nam đi', additional_kwargs={}, response_metadata={}, id='8736b631-baed-4b17-b4ea-ae7643196208'),\n",
       "  AIMessage(content='Dịch vụ Massage Đá Nóng dành cho nam tại AnVie Spa có thời gian 75 phút, giá 650.000 đồng. Liệu trình này giúp làm dịu cơ bắp căng cứng, giảm đau nhức xương khớp và phục hồi năng lượng. Kỹ thuật kết hợp giữa xoa bóp truyền thống và năng lượng từ đá nóng tự nhiên, mang lại cảm giác thư thái và khỏe khoắn cho anh.\\n\\nAnh Long có muốn em hỗ trợ đặt lịch hoặc tư vấn thêm về dịch vụ này không ạ?', additional_kwargs={}, response_metadata={}, name='services_agent_node', id='618d8f87-32f2-4267-9100-91c616322e74'),\n",
       "  HumanMessage(content='uk cho anh cái đó đi', additional_kwargs={}, response_metadata={}, id='f6da5d70-f110-4927-af3e-a8fd6ba5c21d'),\n",
       "  AIMessage(content='Anh Long đã chọn dịch vụ Massage Đá Nóng dành cho nam, thời gian 75 phút, giá 650.000 đồng. Lịch vào lúc 3 giờ chiều ngày 21 tháng 9 bên em còn trống, phòng 101 và nhân viên Nguyen Thi Lan sẽ phục vụ anh.\\n\\nHiện tại em thấy mình đã có tên và số điện thoại của anh rồi. Anh có muốn em tiến hành đặt lịch luôn không ạ? Nếu anh muốn bổ sung email hoặc thông tin khác cũng có thể nói em nhé!', additional_kwargs={}, response_metadata={}, name='booking_agent_node', id='23f292c7-099e-405d-b7ab-ebb9cb41ac55')],\n",
       " 'user_input': 'uk cho anh cái đó đi',\n",
       " 'chat_id': '10',\n",
       " 'next': '__end__',\n",
       " 'current_date': 'Tuesday, 16-09-2025',\n",
       " 'customer_id': 8,\n",
       " 'name': 'Long',\n",
       " 'phone': '123',\n",
       " 'email': None,\n",
       " 'seen_services': {14: {'service_id': 14,\n",
       "   'service_type': 'nữ',\n",
       "   'service_name': 'Massage Đá Nóng Thư Giãn',\n",
       "   'duration_minutes': 75,\n",
       "   'price': 650000},\n",
       "  4: {'service_id': 4,\n",
       "   'service_type': 'nam',\n",
       "   'service_name': 'Massage Đá Nóng',\n",
       "   'duration_minutes': 75,\n",
       "   'price': 650000},\n",
       "  7: {'service_id': 7,\n",
       "   'service_type': 'nam',\n",
       "   'service_name': 'Massage Thể Thao',\n",
       "   'duration_minutes': 60,\n",
       "   'price': 550000},\n",
       "  1: {'service_id': 1,\n",
       "   'service_type': 'nam',\n",
       "   'service_name': 'Massage Thư Giãn Toàn Thân',\n",
       "   'duration_minutes': 60,\n",
       "   'price': 500000},\n",
       "  11: {'service_id': 11,\n",
       "   'service_type': 'nữ',\n",
       "   'service_name': 'Massage Thư Giãn Aroma',\n",
       "   'duration_minutes': 60,\n",
       "   'price': 500000}},\n",
       " 'services': {4: {'service_id': 4,\n",
       "   'service_type': 'nam',\n",
       "   'service_name': 'Massage Đá Nóng',\n",
       "   'duration_minutes': 75,\n",
       "   'price': 650000}},\n",
       " 'staff_id': 2,\n",
       " 'staff_name': 'Nguyen Thi Lan',\n",
       " 'room_id': 1,\n",
       " 'room_name': 'Phòng 101',\n",
       " 'booking_date': datetime.date(2025, 9, 21),\n",
       " 'start_time': datetime.time(15, 0),\n",
       " 'end_time': datetime.time(16, 15),\n",
       " 'total_time': 75,\n",
       " 'total_price': 650000,\n",
       " 'book_info': None}"
      ]
     },
     "execution_count": 6,
     "metadata": {},
     "output_type": "execute_result"
    }
   ],
   "source": [
    "graph.get_state(config).values"
   ]
  },
  {
   "cell_type": "code",
   "execution_count": 1,
   "metadata": {},
   "outputs": [],
   "source": [
    "from database.connection import supabase_client, embeddings_model\n",
    "from repository.sync_repo import AppointmentRepo, RoomRepo, StaffRepo, ServiceRepo\n",
    "\n",
    "appointment_repo = AppointmentRepo(supabase_client=supabase_client)\n",
    "room_repo = RoomRepo(supabase_client=supabase_client)\n",
    "staff_repo = StaffRepo(supabase_client=supabase_client)\n",
    "service_repo = ServiceRepo(supabase_client=supabase_client)"
   ]
  },
  {
   "cell_type": "code",
   "execution_count": 2,
   "metadata": {},
   "outputs": [
    {
     "data": {
      "text/plain": [
       "{'id': 22,\n",
       " 'customer_id': 8,\n",
       " 'staff_id': 1,\n",
       " 'room_id': 1,\n",
       " 'booking_date': '2025-09-21',\n",
       " 'start_time': '15:00:00',\n",
       " 'end_time': '15:45:00',\n",
       " 'status': 'booked',\n",
       " 'total_price': 400000,\n",
       " 'create_date': '2025-09-15T15:46:38.419886+00:00',\n",
       " 'appointment_services': [{'services': {'id': 2,\n",
       "    'name': 'Chăm Sóc Da Mặt Nam',\n",
       "    'type': 'nam',\n",
       "    'price': 400000,\n",
       "    'duration_minutes': 45}}],\n",
       " 'customer': {'id': 8, 'name': 'Long', 'email': None, 'phone': '123'},\n",
       " 'staff': {'id': 1, 'name': 'Pham Van Nhan'},\n",
       " 'room': {'id': 1, 'name': 'Phòng 101'}}"
      ]
     },
     "execution_count": 2,
     "metadata": {},
     "output_type": "execute_result"
    }
   ],
   "source": [
    "appointment_details = appointment_repo.get_appointment_details(\n",
    "    appointment_id=22\n",
    ")\n",
    "\n",
    "appointment_details"
   ]
  },
  {
   "cell_type": "code",
   "execution_count": 3,
   "metadata": {},
   "outputs": [
    {
     "name": "stdout",
     "output_type": "stream",
     "text": [
      "Thời gian đặt: 2025-09-21\n",
      "Thơi gian bắt đầu: 15:00:00\n",
      "Thời gian kết thúc: 15:45:00\n",
      "\n",
      "Tên khách: Long\n",
      "SĐT khách: 123\n",
      "Email khách: Không có\n",
      "\n",
      "Nhân viên thực hiện: Pham Van Nhan\n",
      "Phòng: Phòng 101\n",
      "\n",
      "Các dịch vụ khách đã đăng ký:\n",
      "STT: 1\n",
      "Loại dịch vụ: nam\n",
      "Tên dịch vụ: Chăm Sóc Da Mặt Nam\n",
      "Thời gian: 45\n",
      "Giá: 400000\n",
      "Tổng giá tiền: 400000\n",
      "\n"
     ]
    }
   ],
   "source": [
    "from core.tools.booking_tool import _return_appoointments\n",
    "\n",
    "print(_return_appoointments(appointment_details))"
   ]
  },
  {
   "cell_type": "code",
   "execution_count": null,
   "metadata": {},
   "outputs": [],
   "source": [
    "from datetime import datetime\n",
    "\n",
    "str(datetime.now().strftime(\"%A, %d-%m-%Y\"))"
   ]
  }
 ],
 "metadata": {
  "kernelspec": {
   "display_name": ".sellbot",
   "language": "python",
   "name": "python3"
  },
  "language_info": {
   "codemirror_mode": {
    "name": "ipython",
    "version": 3
   },
   "file_extension": ".py",
   "mimetype": "text/x-python",
   "name": "python",
   "nbconvert_exporter": "python",
   "pygments_lexer": "ipython3",
   "version": "3.12.5"
  }
 },
 "nbformat": 4,
 "nbformat_minor": 2
}
