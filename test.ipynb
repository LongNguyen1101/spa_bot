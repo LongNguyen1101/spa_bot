{
 "cells": [
  {
   "cell_type": "code",
   "execution_count": 1,
   "metadata": {},
   "outputs": [],
   "source": [
    "from core.graph.build_graph import create_main_graph\n",
    "from core.graph.state import init_state\n",
    "from core.utils.function import test_bot\n",
    "\n",
    "\n",
    "graph = create_main_graph()\n",
    "state = init_state()\n",
    "\n",
    "config = {\n",
    "    \"configurable\": \n",
    "    {\n",
    "        \"thread_id\": \"1\"\n",
    "    }\n",
    "}"
   ]
  },
  {
   "cell_type": "code",
   "execution_count": 2,
   "metadata": {},
   "outputs": [
    {
     "data": {
      "text/html": [
       "<pre style=\"white-space:pre;overflow-x:auto;line-height:normal;font-family:Menlo,'DejaVu Sans Mono',consolas,'Courier New',monospace\"><span style=\"color: #7fbfbf; text-decoration-color: #7fbfbf\">[09/16/25 15:48:19] </span><span style=\"color: #000080; text-decoration-color: #000080\">INFO    </span> ℹ️  <span style=\"color: #ff00ff; text-decoration-color: #ff00ff\">Tạo mới hoặc lấy thông tin khách: </span><span style=\"color: #ff00ff; text-decoration-color: #ff00ff; font-weight: bold\">{</span><span style=\"color: #008000; text-decoration-color: #008000\">'id'</span><span style=\"color: #ff00ff; text-decoration-color: #ff00ff\">: </span><span style=\"color: #008080; text-decoration-color: #008080; font-weight: bold\">8</span><span style=\"color: #ff00ff; text-decoration-color: #ff00ff\">, </span><span style=\"color: #008000; text-decoration-color: #008000\">'name'</span><span style=\"color: #ff00ff; text-decoration-color: #ff00ff\">: </span><span style=\"color: #008000; text-decoration-color: #008000\">'Long'</span><span style=\"color: #ff00ff; text-decoration-color: #ff00ff\">, </span><span style=\"color: #008000; text-decoration-color: #008000\">'phone'</span><span style=\"color: #ff00ff; text-decoration-color: #ff00ff\">: </span><span style=\"color: #008000; text-decoration-color: #008000\">'123'</span><span style=\"color: #ff00ff; text-decoration-color: #ff00ff\">, </span><span style=\"color: #008000; text-decoration-color: #008000\">'email'</span><span style=\"color: #ff00ff; text-decoration-color: #ff00ff\">: </span>   \n",
       "<span style=\"color: #7fbfbf; text-decoration-color: #7fbfbf\">                    </span>         <span style=\"color: #800080; text-decoration-color: #800080; font-style: italic\">None</span><span style=\"color: #ff00ff; text-decoration-color: #ff00ff\">, </span><span style=\"color: #008000; text-decoration-color: #008000\">'chat_id'</span><span style=\"color: #ff00ff; text-decoration-color: #ff00ff\">: </span><span style=\"color: #008000; text-decoration-color: #008000\">'10'</span><span style=\"color: #ff00ff; text-decoration-color: #ff00ff\">, </span><span style=\"color: #008000; text-decoration-color: #008000\">'uuid'</span><span style=\"color: #ff00ff; text-decoration-color: #ff00ff\">: </span><span style=\"color: #008000; text-decoration-color: #008000\">'c1908b18-6254-41f7-bda5-267b3ee9de4c'</span><span style=\"color: #ff00ff; text-decoration-color: #ff00ff; font-weight: bold\">}</span>                     \n",
       "</pre>\n"
      ],
      "text/plain": [
       "\u001b[2;36m[09/16/25 15:48:19]\u001b[0m\u001b[2;36m \u001b[0m\u001b[34mINFO    \u001b[0m ℹ️  \u001b[95mTạo mới hoặc lấy thông tin khách: \u001b[0m\u001b[1;95m{\u001b[0m\u001b[32m'id'\u001b[0m\u001b[95m: \u001b[0m\u001b[1;36m8\u001b[0m\u001b[95m, \u001b[0m\u001b[32m'name'\u001b[0m\u001b[95m: \u001b[0m\u001b[32m'Long'\u001b[0m\u001b[95m, \u001b[0m\u001b[32m'phone'\u001b[0m\u001b[95m: \u001b[0m\u001b[32m'123'\u001b[0m\u001b[95m, \u001b[0m\u001b[32m'email'\u001b[0m\u001b[95m: \u001b[0m   \n",
       "\u001b[2;36m                    \u001b[0m         \u001b[3;35mNone\u001b[0m\u001b[95m, \u001b[0m\u001b[32m'chat_id'\u001b[0m\u001b[95m: \u001b[0m\u001b[32m'10'\u001b[0m\u001b[95m, \u001b[0m\u001b[32m'uuid'\u001b[0m\u001b[95m: \u001b[0m\u001b[32m'c1908b18-6254-41f7-bda5-267b3ee9de4c'\u001b[0m\u001b[1;95m}\u001b[0m                     \n"
      ]
     },
     "metadata": {},
     "output_type": "display_data"
    },
    {
     "data": {
      "text/html": [
       "<pre style=\"white-space:pre;overflow-x:auto;line-height:normal;font-family:Menlo,'DejaVu Sans Mono',consolas,'Courier New',monospace\"><span style=\"color: #7fbfbf; text-decoration-color: #7fbfbf\">                    </span><span style=\"color: #000080; text-decoration-color: #000080\">INFO    </span> ℹ️  <span style=\"color: #ff00ff; text-decoration-color: #ff00ff\">Yêu cầu của khách: anh muốn huỷ cái lịch bữa anh đặt</span>                                    \n",
       "</pre>\n"
      ],
      "text/plain": [
       "\u001b[2;36m                   \u001b[0m\u001b[2;36m \u001b[0m\u001b[34mINFO    \u001b[0m ℹ️  \u001b[95mYêu cầu của khách: anh muốn huỷ cái lịch bữa anh đặt\u001b[0m                                    \n"
      ]
     },
     "metadata": {},
     "output_type": "display_data"
    },
    {
     "data": {
      "text/html": [
       "<pre style=\"white-space:pre;overflow-x:auto;line-height:normal;font-family:Menlo,'DejaVu Sans Mono',consolas,'Courier New',monospace\"><span style=\"color: #7fbfbf; text-decoration-color: #7fbfbf\">[09/16/25 15:48:20] </span><span style=\"color: #000080; text-decoration-color: #000080\">INFO    </span> ℹ️  <span style=\"color: #ff00ff; text-decoration-color: #ff00ff\">Agent tiếp theo: modify_booking_agent</span>                                                   \n",
       "</pre>\n"
      ],
      "text/plain": [
       "\u001b[2;36m[09/16/25 15:48:20]\u001b[0m\u001b[2;36m \u001b[0m\u001b[34mINFO    \u001b[0m ℹ️  \u001b[95mAgent tiếp theo: modify_booking_agent\u001b[0m                                                   \n"
      ]
     },
     "metadata": {},
     "output_type": "display_data"
    },
    {
     "name": "stdout",
     "output_type": "stream",
     "text": [
      "================================\u001b[1m Human Message \u001b[0m=================================\n",
      "\n",
      "anh muốn huỷ cái lịch bữa anh đặt\n",
      "None\n",
      "==================================\u001b[1m Ai Message \u001b[0m==================================\n",
      "\n",
      "Dạ, để em hỗ trợ anh hủy lịch hẹn, em sẽ kiểm tra lại các lịch hẹn hiện có của anh trước nhé. Anh vui lòng chờ một chút ạ.\n",
      "Tool Calls:\n",
      "  get_all_editable_booking (call_yYuYOsDxwWtkyhANPsrrnhUA)\n",
      " Call ID: call_yYuYOsDxwWtkyhANPsrrnhUA\n",
      "  Args:\n",
      "None\n"
     ]
    },
    {
     "data": {
      "text/html": [
       "<pre style=\"white-space:pre;overflow-x:auto;line-height:normal;font-family:Menlo,'DejaVu Sans Mono',consolas,'Courier New',monospace\"><span style=\"color: #7fbfbf; text-decoration-color: #7fbfbf\">[09/16/25 15:48:22] </span><span style=\"color: #000080; text-decoration-color: #000080\">INFO    </span> ℹ️  <span style=\"color: #ff00ff; text-decoration-color: #ff00ff\">get_all_editable_booking được gọi</span>                                                       \n",
       "</pre>\n"
      ],
      "text/plain": [
       "\u001b[2;36m[09/16/25 15:48:22]\u001b[0m\u001b[2;36m \u001b[0m\u001b[34mINFO    \u001b[0m ℹ️  \u001b[95mget_all_editable_booking được gọi\u001b[0m                                                       \n"
      ]
     },
     "metadata": {},
     "output_type": "display_data"
    },
    {
     "data": {
      "text/html": [
       "<pre style=\"white-space:pre;overflow-x:auto;line-height:normal;font-family:Menlo,'DejaVu Sans Mono',consolas,'Courier New',monospace\"><span style=\"color: #7fbfbf; text-decoration-color: #7fbfbf\">                    </span><span style=\"color: #000080; text-decoration-color: #000080\">INFO    </span> ℹ️  <span style=\"color: #ff00ff; text-decoration-color: #ff00ff\">Lấy danh sách lịch hẹn thành công</span>                                                       \n",
       "</pre>\n"
      ],
      "text/plain": [
       "\u001b[2;36m                   \u001b[0m\u001b[2;36m \u001b[0m\u001b[34mINFO    \u001b[0m ℹ️  \u001b[95mLấy danh sách lịch hẹn thành công\u001b[0m                                                       \n"
      ]
     },
     "metadata": {},
     "output_type": "display_data"
    },
    {
     "name": "stdout",
     "output_type": "stream",
     "text": [
      "=================================\u001b[1m Tool Message \u001b[0m=================================\n",
      "Name: get_all_editable_booking\n",
      "\n",
      "Đây là danh sách các lịch hẹn mà khách có thể chỉnh sửa:\n",
      "Đơn thứ 1:\n",
      "Thời gian đặt: 2025-09-18\n",
      "Thơi gian bắt đầu: 16:00:00\n",
      "Thời gian kết thúc: 17:00:00\n",
      "\n",
      "Tên khách: Long\n",
      "SĐT khách: 123\n",
      "Email khách: Không có\n",
      "\n",
      "Nhân viên thực hiện: Pham Van Nhan\n",
      "Phòng: Phòng 101\n",
      "\n",
      "Các dịch vụ khách đã đăng ký:\n",
      "STT: 1\n",
      "Loại dịch vụ: nam\n",
      "Tên dịch vụ: Massage Thư Giãn Toàn Thân\n",
      "Thời gian: 60\n",
      "Giá: 500000\n",
      "\n",
      "Tổng giá tiền: 500000\n",
      "\n",
      "\n",
      "Đơn thứ 2:\n",
      "Thời gian đặt: 2025-09-20\n",
      "Thơi gian bắt đầu: 15:00:00\n",
      "Thời gian kết thúc: 15:45:00\n",
      "\n",
      "Tên khách: Long\n",
      "SĐT khách: 123\n",
      "Email khách: Không có\n",
      "\n",
      "Nhân viên thực hiện: Pham Van Nhan\n",
      "Phòng: Phòng 101\n",
      "\n",
      "Các dịch vụ khách đã đăng ký:\n",
      "STT: 1\n",
      "Loại dịch vụ: nam\n",
      "Tên dịch vụ: Chăm Sóc Da Mặt Nam\n",
      "Thời gian: 45\n",
      "Giá: 400000\n",
      "\n",
      "Tổng giá tiền: 400000\n",
      "\n",
      "\n",
      "Đơn thứ 3:\n",
      "Thời gian đặt: 2025-09-21\n",
      "Thơi gian bắt đầu: 15:00:00\n",
      "Thời gian kết thúc: 15:45:00\n",
      "\n",
      "Tên khách: Long\n",
      "SĐT khách: 123\n",
      "Email khách: Không có\n",
      "\n",
      "Nhân viên thực hiện: Pham Van Nhan\n",
      "Phòng: Phòng 101\n",
      "\n",
      "Các dịch vụ khách đã đăng ký:\n",
      "STT: 1\n",
      "Loại dịch vụ: nam\n",
      "Tên dịch vụ: Chăm Sóc Da Mặt Nam\n",
      "Thời gian: 45\n",
      "Giá: 400000\n",
      "\n",
      "Tổng giá tiền: 400000\n",
      "\n",
      "\n",
      "Đơn thứ 4:\n",
      "Thời gian đặt: 2025-09-21\n",
      "Thơi gian bắt đầu: 15:00:00\n",
      "Thời gian kết thúc: 16:15:00\n",
      "\n",
      "Tên khách: Long\n",
      "SĐT khách: 123\n",
      "Email khách: Không có\n",
      "\n",
      "Nhân viên thực hiện: Nguyen Thi Lan\n",
      "Phòng: Phòng 101\n",
      "\n",
      "Các dịch vụ khách đã đăng ký:\n",
      "STT: 1\n",
      "Loại dịch vụ: nam\n",
      "Tên dịch vụ: Massage Đá Nóng\n",
      "Thời gian: 75\n",
      "Giá: 650000\n",
      "\n",
      "Tổng giá tiền: 650000\n",
      "\n",
      "\n",
      "\n",
      "None\n",
      "==================================\u001b[1m Ai Message \u001b[0m==================================\n",
      "\n",
      "Anh Long ơi, hiện tại anh có 4 lịch hẹn như sau:\n",
      "\n",
      "1. Ngày 18-09-2025, 16:00 - 17:00, dịch vụ Massage Thư Giãn Toàn Thân.\n",
      "2. Ngày 20-09-2025, 15:00 - 15:45, dịch vụ Chăm Sóc Da Mặt Nam.\n",
      "3. Ngày 21-09-2025, 15:00 - 15:45, dịch vụ Chăm Sóc Da Mặt Nam.\n",
      "4. Ngày 21-09-2025, 15:00 - 16:15, dịch vụ Massage Đá Nóng.\n",
      "\n",
      "Anh vui lòng cho em biết anh muốn hủy lịch nào để em hỗ trợ hủy giúp anh nhé?\n",
      "None\n",
      "==================================\u001b[1m Ai Message \u001b[0m==================================\n",
      "Name: modify_order_agent\n",
      "\n",
      "Anh Long ơi, hiện tại anh có 4 lịch hẹn như sau:\n",
      "\n",
      "1. Ngày 18-09-2025, 16:00 - 17:00, dịch vụ Massage Thư Giãn Toàn Thân.\n",
      "2. Ngày 20-09-2025, 15:00 - 15:45, dịch vụ Chăm Sóc Da Mặt Nam.\n",
      "3. Ngày 21-09-2025, 15:00 - 15:45, dịch vụ Chăm Sóc Da Mặt Nam.\n",
      "4. Ngày 21-09-2025, 15:00 - 16:15, dịch vụ Massage Đá Nóng.\n",
      "\n",
      "Anh vui lòng cho em biết anh muốn hủy lịch nào để em hỗ trợ hủy giúp anh nhé?\n",
      "None\n"
     ]
    }
   ],
   "source": [
    "state[\"user_input\"] = (\n",
    "    \"anh muốn huỷ cái lịch bữa anh đặt\"\n",
    ")\n",
    "state[\"chat_id\"] = \"10\"\n",
    "\n",
    "await test_bot(graph, state, config, \"updates\")"
   ]
  },
  {
   "cell_type": "code",
   "execution_count": 3,
   "metadata": {},
   "outputs": [
    {
     "data": {
      "text/html": [
       "<pre style=\"white-space:pre;overflow-x:auto;line-height:normal;font-family:Menlo,'DejaVu Sans Mono',consolas,'Courier New',monospace\"><span style=\"color: #7fbfbf; text-decoration-color: #7fbfbf\">[09/16/25 15:48:30] </span><span style=\"color: #000080; text-decoration-color: #000080\">INFO    </span> ℹ️  <span style=\"color: #ff00ff; text-decoration-color: #ff00ff\">Thông tin của khách: - Tên: Long | - Số điện thoại: </span><span style=\"color: #008080; text-decoration-color: #008080; font-weight: bold\">123</span><span style=\"color: #ff00ff; text-decoration-color: #ff00ff\"> | - Email: </span><span style=\"color: #800080; text-decoration-color: #800080; font-style: italic\">None</span>                 \n",
       "</pre>\n"
      ],
      "text/plain": [
       "\u001b[2;36m[09/16/25 15:48:30]\u001b[0m\u001b[2;36m \u001b[0m\u001b[34mINFO    \u001b[0m ℹ️  \u001b[95mThông tin của khách: - Tên: Long | - Số điện thoại: \u001b[0m\u001b[1;36m123\u001b[0m\u001b[95m | - Email: \u001b[0m\u001b[3;35mNone\u001b[0m                 \n"
      ]
     },
     "metadata": {},
     "output_type": "display_data"
    },
    {
     "data": {
      "text/html": [
       "<pre style=\"white-space:pre;overflow-x:auto;line-height:normal;font-family:Menlo,'DejaVu Sans Mono',consolas,'Courier New',monospace\"><span style=\"color: #7fbfbf; text-decoration-color: #7fbfbf\">                    </span><span style=\"color: #000080; text-decoration-color: #000080\">INFO    </span> ℹ️  <span style=\"color: #ff00ff; text-decoration-color: #ff00ff\">Yêu cầu của khách: cái lịch </span><span style=\"color: #008080; text-decoration-color: #008080; font-weight: bold\">21</span><span style=\"color: #ff00ff; text-decoration-color: #ff00ff\">/</span><span style=\"color: #008080; text-decoration-color: #008080; font-weight: bold\">09</span><span style=\"color: #ff00ff; text-decoration-color: #ff00ff\"> mà có Massage Đá Nóng á em</span>                            \n",
       "</pre>\n"
      ],
      "text/plain": [
       "\u001b[2;36m                   \u001b[0m\u001b[2;36m \u001b[0m\u001b[34mINFO    \u001b[0m ℹ️  \u001b[95mYêu cầu của khách: cái lịch \u001b[0m\u001b[1;36m21\u001b[0m\u001b[95m/\u001b[0m\u001b[1;36m09\u001b[0m\u001b[95m mà có Massage Đá Nóng á em\u001b[0m                            \n"
      ]
     },
     "metadata": {},
     "output_type": "display_data"
    },
    {
     "data": {
      "text/html": [
       "<pre style=\"white-space:pre;overflow-x:auto;line-height:normal;font-family:Menlo,'DejaVu Sans Mono',consolas,'Courier New',monospace\"><span style=\"color: #7fbfbf; text-decoration-color: #7fbfbf\">                    </span><span style=\"color: #000080; text-decoration-color: #000080\">INFO    </span> ℹ️  <span style=\"color: #ff00ff; text-decoration-color: #ff00ff\">Agent tiếp theo: modify_booking_agent</span>                                                   \n",
       "</pre>\n"
      ],
      "text/plain": [
       "\u001b[2;36m                   \u001b[0m\u001b[2;36m \u001b[0m\u001b[34mINFO    \u001b[0m ℹ️  \u001b[95mAgent tiếp theo: modify_booking_agent\u001b[0m                                                   \n"
      ]
     },
     "metadata": {},
     "output_type": "display_data"
    },
    {
     "name": "stdout",
     "output_type": "stream",
     "text": [
      "================================\u001b[1m Human Message \u001b[0m=================================\n",
      "\n",
      "cái lịch 21/09 mà có Massage Đá Nóng á em\n",
      "None\n"
     ]
    },
    {
     "data": {
      "text/html": [
       "<pre style=\"white-space:pre;overflow-x:auto;line-height:normal;font-family:Menlo,'DejaVu Sans Mono',consolas,'Courier New',monospace\"><span style=\"color: #7fbfbf; text-decoration-color: #7fbfbf\">[09/16/25 15:48:31] </span><span style=\"color: #000080; text-decoration-color: #000080\">INFO    </span> ℹ️  <span style=\"color: #ff00ff; text-decoration-color: #ff00ff\">cancel_booking_tool được gọi</span>                                                            \n",
       "</pre>\n"
      ],
      "text/plain": [
       "\u001b[2;36m[09/16/25 15:48:31]\u001b[0m\u001b[2;36m \u001b[0m\u001b[34mINFO    \u001b[0m ℹ️  \u001b[95mcancel_booking_tool được gọi\u001b[0m                                                            \n"
      ]
     },
     "metadata": {},
     "output_type": "display_data"
    },
    {
     "name": "stdout",
     "output_type": "stream",
     "text": [
      "==================================\u001b[1m Ai Message \u001b[0m==================================\n",
      "Tool Calls:\n",
      "  cancel_booking_tool (call_vPTKuBh8csmgY5d0MRhyjyBe)\n",
      " Call ID: call_vPTKuBh8csmgY5d0MRhyjyBe\n",
      "  Args:\n",
      "    appointment_id: 23\n",
      "None\n"
     ]
    },
    {
     "data": {
      "text/html": [
       "<pre style=\"white-space:pre;overflow-x:auto;line-height:normal;font-family:Menlo,'DejaVu Sans Mono',consolas,'Courier New',monospace\"><span style=\"color: #7fbfbf; text-decoration-color: #7fbfbf\">[09/16/25 15:48:32] </span><span style=\"color: #000080; text-decoration-color: #000080\">INFO    </span> ℹ️  <span style=\"color: #ff00ff; text-decoration-color: #ff00ff\">Huỷ lịch hẹn với ID </span><span style=\"color: #008080; text-decoration-color: #008080; font-weight: bold\">23</span><span style=\"color: #ff00ff; text-decoration-color: #ff00ff\"> thành công</span>                                                       \n",
       "</pre>\n"
      ],
      "text/plain": [
       "\u001b[2;36m[09/16/25 15:48:32]\u001b[0m\u001b[2;36m \u001b[0m\u001b[34mINFO    \u001b[0m ℹ️  \u001b[95mHuỷ lịch hẹn với ID \u001b[0m\u001b[1;36m23\u001b[0m\u001b[95m thành công\u001b[0m                                                       \n"
      ]
     },
     "metadata": {},
     "output_type": "display_data"
    },
    {
     "name": "stdout",
     "output_type": "stream",
     "text": [
      "=================================\u001b[1m Tool Message \u001b[0m=================================\n",
      "Name: cancel_booking_tool\n",
      "\n",
      "Đã huỷ lịch hẹn thành công. ID lịch hẹn: 23.\n",
      "None\n",
      "==================================\u001b[1m Ai Message \u001b[0m==================================\n",
      "\n",
      "Anh Long ơi, lịch hẹn ngày 21/09 với dịch vụ Massage Đá Nóng đã được em hủy thành công rồi ạ. Anh cần em hỗ trợ gì thêm không ạ?\n",
      "None\n",
      "==================================\u001b[1m Ai Message \u001b[0m==================================\n",
      "Name: modify_order_agent\n",
      "\n",
      "Anh Long ơi, lịch hẹn ngày 21/09 với dịch vụ Massage Đá Nóng đã được em hủy thành công rồi ạ. Anh cần em hỗ trợ gì thêm không ạ?\n",
      "None\n"
     ]
    }
   ],
   "source": [
    "state[\"user_input\"] = (\n",
    "    \"cái lịch 21/09 mà có Massage Đá Nóng á em\"\n",
    ")\n",
    "state[\"chat_id\"] = \"10\"\n",
    "\n",
    "await test_bot(graph, state, config, \"updates\")"
   ]
  },
  {
   "cell_type": "code",
   "execution_count": null,
   "metadata": {},
   "outputs": [],
   "source": [
    "state[\"user_input\"] = (\n",
    "    \"uk đặt lịch cho anh đi em\"\n",
    ")\n",
    "state[\"chat_id\"] = \"10\"\n",
    "\n",
    "await test_bot(graph, state, config, \"updates\")"
   ]
  },
  {
   "cell_type": "code",
   "execution_count": null,
   "metadata": {},
   "outputs": [],
   "source": [
    "state[\"user_input\"] = (\n",
    "    \"uk cho anh cái đó đi\"\n",
    ")\n",
    "state[\"chat_id\"] = \"10\"\n",
    "\n",
    "await test_bot(graph, state, config, \"updates\")"
   ]
  },
  {
   "cell_type": "code",
   "execution_count": null,
   "metadata": {},
   "outputs": [],
   "source": [
    "state[\"user_input\"] = (\n",
    "    \"đặt lịch đi\"\n",
    ")\n",
    "state[\"chat_id\"] = \"10\"\n",
    "\n",
    "await test_bot(graph, state, config, \"updates\")"
   ]
  },
  {
   "cell_type": "code",
   "execution_count": 4,
   "metadata": {},
   "outputs": [
    {
     "data": {
      "text/plain": [
       "{'messages': [HumanMessage(content='anh muốn huỷ cái lịch bữa anh đặt', additional_kwargs={}, response_metadata={}, id='5c45a06c-639c-476d-b903-1ce063553105'),\n",
       "  AIMessage(content='Anh Long ơi, hiện tại anh có 4 lịch hẹn như sau:\\n\\n1. Ngày 18-09-2025, 16:00 - 17:00, dịch vụ Massage Thư Giãn Toàn Thân.\\n2. Ngày 20-09-2025, 15:00 - 15:45, dịch vụ Chăm Sóc Da Mặt Nam.\\n3. Ngày 21-09-2025, 15:00 - 15:45, dịch vụ Chăm Sóc Da Mặt Nam.\\n4. Ngày 21-09-2025, 15:00 - 16:15, dịch vụ Massage Đá Nóng.\\n\\nAnh vui lòng cho em biết anh muốn hủy lịch nào để em hỗ trợ hủy giúp anh nhé?', additional_kwargs={}, response_metadata={}, name='modify_order_agent', id='e07ce48f-4ca4-47ac-badd-1e97774968f4'),\n",
       "  HumanMessage(content='cái lịch 21/09 mà có Massage Đá Nóng á em', additional_kwargs={}, response_metadata={}, id='11596e76-9fc9-46b8-b573-86d833d1dba5'),\n",
       "  AIMessage(content='Anh Long ơi, lịch hẹn ngày 21/09 với dịch vụ Massage Đá Nóng đã được em hủy thành công rồi ạ. Anh cần em hỗ trợ gì thêm không ạ?', additional_kwargs={}, response_metadata={}, name='modify_order_agent', id='551c4a59-c36f-4299-8c44-0a35d84729f4')],\n",
       " 'user_input': 'cái lịch 21/09 mà có Massage Đá Nóng á em',\n",
       " 'chat_id': '10',\n",
       " 'next': '__end__',\n",
       " 'current_date': 'Tuesday, 16-09-2025',\n",
       " 'customer_id': 8,\n",
       " 'name': 'Long',\n",
       " 'phone': '123',\n",
       " 'email': None,\n",
       " 'seen_services': None,\n",
       " 'services': None,\n",
       " 'staff_id': None,\n",
       " 'staff_name': None,\n",
       " 'room_id': None,\n",
       " 'room_name': None,\n",
       " 'booking_date': None,\n",
       " 'start_time': None,\n",
       " 'end_time': None,\n",
       " 'total_time': None,\n",
       " 'total_price': None,\n",
       " 'book_info': {25: {'appointment_id': 25,\n",
       "   'booking_date': '2025-09-18',\n",
       "   'start_time': '16:00:00',\n",
       "   'end_time': '17:00:00',\n",
       "   'status': 'booked',\n",
       "   'total_price': 500000,\n",
       "   'create_date': '2025-09-16T03:45:37.926245+00:00',\n",
       "   'services': {1: {'service_id': 1,\n",
       "     'service_type': 'nam',\n",
       "     'service_name': 'Massage Thư Giãn Toàn Thân',\n",
       "     'duration_minutes': 60,\n",
       "     'price': 500000}},\n",
       "   'customer': {'customer_id': 8, 'name': 'Long', 'phone': '123', 'email': ''},\n",
       "   'staff': {'staff_id': 1, 'name': 'Pham Van Nhan'},\n",
       "   'room': {'room_id': 1, 'room_name': 'Phòng 101'}},\n",
       "  21: {'appointment_id': 21,\n",
       "   'booking_date': '2025-09-20',\n",
       "   'start_time': '15:00:00',\n",
       "   'end_time': '15:45:00',\n",
       "   'status': 'booked',\n",
       "   'total_price': 400000,\n",
       "   'create_date': '2025-09-15T15:35:52.615169+00:00',\n",
       "   'services': {2: {'service_id': 2,\n",
       "     'service_type': 'nam',\n",
       "     'service_name': 'Chăm Sóc Da Mặt Nam',\n",
       "     'duration_minutes': 45,\n",
       "     'price': 400000}},\n",
       "   'customer': {'customer_id': 8, 'name': 'Long', 'phone': '123', 'email': ''},\n",
       "   'staff': {'staff_id': 1, 'name': 'Pham Van Nhan'},\n",
       "   'room': {'room_id': 1, 'room_name': 'Phòng 101'}},\n",
       "  22: {'appointment_id': 22,\n",
       "   'booking_date': '2025-09-21',\n",
       "   'start_time': '15:00:00',\n",
       "   'end_time': '15:45:00',\n",
       "   'status': 'booked',\n",
       "   'total_price': 400000,\n",
       "   'create_date': '2025-09-15T15:46:38.419886+00:00',\n",
       "   'services': {2: {'service_id': 2,\n",
       "     'service_type': 'nam',\n",
       "     'service_name': 'Chăm Sóc Da Mặt Nam',\n",
       "     'duration_minutes': 45,\n",
       "     'price': 400000}},\n",
       "   'customer': {'customer_id': 8, 'name': 'Long', 'phone': '123', 'email': ''},\n",
       "   'staff': {'staff_id': 1, 'name': 'Pham Van Nhan'},\n",
       "   'room': {'room_id': 1, 'room_name': 'Phòng 101'}}}}"
      ]
     },
     "execution_count": 4,
     "metadata": {},
     "output_type": "execute_result"
    }
   ],
   "source": [
    "graph.get_state(config).values"
   ]
  },
  {
   "cell_type": "code",
   "execution_count": 1,
   "metadata": {},
   "outputs": [],
   "source": [
    "from database.connection import supabase_client, embeddings_model\n",
    "from repository.sync_repo import AppointmentRepo, RoomRepo, StaffRepo, ServiceRepo\n",
    "\n",
    "appointment_repo = AppointmentRepo(supabase_client=supabase_client)\n",
    "room_repo = RoomRepo(supabase_client=supabase_client)\n",
    "staff_repo = StaffRepo(supabase_client=supabase_client)\n",
    "service_repo = ServiceRepo(supabase_client=supabase_client)"
   ]
  },
  {
   "cell_type": "code",
   "execution_count": 2,
   "metadata": {},
   "outputs": [],
   "source": [
    "from core.tools.booking_tool import _update_book_info, _return_appoointments\n",
    "\n",
    "booked_appointments = appointment_repo.get_all_booked_appointments(\n",
    "    customer_id=8\n",
    ")\n",
    "book_info = {}\n",
    "formatted_appointments = \"\"\n",
    "index = 1\n",
    "\n",
    "for booked in booked_appointments:\n",
    "    book_info[booked[\"id\"]] = _update_book_info(\n",
    "        book_info=book_info,\n",
    "        appointment_details=booked\n",
    "    )\n",
    "\n",
    "    formatted_appointments += (\n",
    "        f\"Đơn thứ {index}:\\n\"\n",
    "        f\"{_return_appoointments(appointment_details=booked)}\\n\\n\"\n",
    "    )\n",
    "    \n",
    "    index += 1\n",
    "        "
   ]
  }
 ],
 "metadata": {
  "kernelspec": {
   "display_name": ".sellbot",
   "language": "python",
   "name": "python3"
  },
  "language_info": {
   "codemirror_mode": {
    "name": "ipython",
    "version": 3
   },
   "file_extension": ".py",
   "mimetype": "text/x-python",
   "name": "python",
   "nbconvert_exporter": "python",
   "pygments_lexer": "ipython3",
   "version": "3.12.5"
  }
 },
 "nbformat": 4,
 "nbformat_minor": 2
}
