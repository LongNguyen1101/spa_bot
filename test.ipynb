{
 "cells": [
  {
   "cell_type": "code",
   "execution_count": 1,
   "metadata": {},
   "outputs": [],
   "source": [
    "from core.graph.build_graph import create_main_graph\n",
    "from core.graph.state import init_state\n",
    "from core.utils.function import test_bot\n",
    "\n",
    "\n",
    "graph = create_main_graph()\n",
    "state = init_state()\n",
    "\n",
    "config = {\n",
    "    \"configurable\": \n",
    "    {\n",
    "        \"thread_id\": \"1\"\n",
    "    }\n",
    "}"
   ]
  },
  {
   "cell_type": "code",
   "execution_count": 2,
   "metadata": {},
   "outputs": [
    {
     "data": {
      "text/html": [
       "<pre style=\"white-space:pre;overflow-x:auto;line-height:normal;font-family:Menlo,'DejaVu Sans Mono',consolas,'Courier New',monospace\"><span style=\"color: #7fbfbf; text-decoration-color: #7fbfbf\">[09/11/25 10:56:45] </span><span style=\"color: #000080; text-decoration-color: #000080\">INFO    </span> ℹ️  <span style=\"color: #ff00ff; text-decoration-color: #ff00ff\">Tạo mới hoặc lấy thông tin khách: </span><span style=\"color: #ff00ff; text-decoration-color: #ff00ff; font-weight: bold\">{</span><span style=\"color: #008000; text-decoration-color: #008000\">'customer_id'</span><span style=\"color: #ff00ff; text-decoration-color: #ff00ff\">: </span><span style=\"color: #008080; text-decoration-color: #008080; font-weight: bold\">420</span><span style=\"color: #ff00ff; text-decoration-color: #ff00ff\">, </span><span style=\"color: #008000; text-decoration-color: #008000\">'name'</span><span style=\"color: #ff00ff; text-decoration-color: #ff00ff\">: </span><span style=\"color: #800080; text-decoration-color: #800080; font-style: italic\">None</span><span style=\"color: #ff00ff; text-decoration-color: #ff00ff\">, </span><span style=\"color: #008000; text-decoration-color: #008000\">'phone_number'</span><span style=\"color: #ff00ff; text-decoration-color: #ff00ff\">: </span>   \n",
       "<span style=\"color: #7fbfbf; text-decoration-color: #7fbfbf\">                    </span>         <span style=\"color: #800080; text-decoration-color: #800080; font-style: italic\">None</span><span style=\"color: #ff00ff; text-decoration-color: #ff00ff\">, </span><span style=\"color: #008000; text-decoration-color: #008000\">'address'</span><span style=\"color: #ff00ff; text-decoration-color: #ff00ff\">: </span><span style=\"color: #800080; text-decoration-color: #800080; font-style: italic\">None</span><span style=\"color: #ff00ff; text-decoration-color: #ff00ff\">, </span><span style=\"color: #008000; text-decoration-color: #008000\">'created_at'</span><span style=\"color: #ff00ff; text-decoration-color: #ff00ff\">: </span><span style=\"color: #008000; text-decoration-color: #008000\">'2025-09-10T09:14:15.007695+00:00'</span><span style=\"color: #ff00ff; text-decoration-color: #ff00ff\">, </span><span style=\"color: #008000; text-decoration-color: #008000\">'chat_id'</span><span style=\"color: #ff00ff; text-decoration-color: #ff00ff\">: </span><span style=\"color: #008000; text-decoration-color: #008000\">'10'</span><span style=\"color: #ff00ff; text-decoration-color: #ff00ff\">, </span> \n",
       "<span style=\"color: #7fbfbf; text-decoration-color: #7fbfbf\">                    </span>         <span style=\"color: #008000; text-decoration-color: #008000\">'state'</span><span style=\"color: #ff00ff; text-decoration-color: #ff00ff\">: </span><span style=\"color: #ff00ff; text-decoration-color: #ff00ff; font-weight: bold\">{</span><span style=\"color: #008000; text-decoration-color: #008000\">'cart'</span><span style=\"color: #ff00ff; text-decoration-color: #ff00ff\">: </span><span style=\"color: #ff00ff; text-decoration-color: #ff00ff; font-weight: bold\">{</span><span style=\"color: #008000; text-decoration-color: #008000\">'982'</span><span style=\"color: #ff00ff; text-decoration-color: #ff00ff\">: </span><span style=\"color: #ff00ff; text-decoration-color: #ff00ff; font-weight: bold\">{</span><span style=\"color: #008000; text-decoration-color: #008000\">'price'</span><span style=\"color: #ff00ff; text-decoration-color: #ff00ff\">: </span><span style=\"color: #008080; text-decoration-color: #008080; font-weight: bold\">19000</span><span style=\"color: #ff00ff; text-decoration-color: #ff00ff\">, </span><span style=\"color: #008000; text-decoration-color: #008000\">'quantity'</span><span style=\"color: #ff00ff; text-decoration-color: #ff00ff\">: </span><span style=\"color: #008080; text-decoration-color: #008080; font-weight: bold\">3</span><span style=\"color: #ff00ff; text-decoration-color: #ff00ff\">, </span><span style=\"color: #008000; text-decoration-color: #008000\">'subtotal'</span><span style=\"color: #ff00ff; text-decoration-color: #ff00ff\">: </span><span style=\"color: #008080; text-decoration-color: #008080; font-weight: bold\">57000</span><span style=\"color: #ff00ff; text-decoration-color: #ff00ff\">, </span>              \n",
       "<span style=\"color: #7fbfbf; text-decoration-color: #7fbfbf\">                    </span>         <span style=\"color: #008000; text-decoration-color: #008000\">'product_des_id'</span><span style=\"color: #ff00ff; text-decoration-color: #ff00ff\">: </span><span style=\"color: #008080; text-decoration-color: #008080; font-weight: bold\">982</span><span style=\"color: #ff00ff; text-decoration-color: #ff00ff; font-weight: bold\">}}</span><span style=\"color: #ff00ff; text-decoration-color: #ff00ff\">, </span><span style=\"color: #008000; text-decoration-color: #008000\">'name'</span><span style=\"color: #ff00ff; text-decoration-color: #ff00ff\">: </span><span style=\"color: #800080; text-decoration-color: #800080; font-style: italic\">None</span><span style=\"color: #ff00ff; text-decoration-color: #ff00ff\">, </span><span style=\"color: #008000; text-decoration-color: #008000\">'next'</span><span style=\"color: #ff00ff; text-decoration-color: #ff00ff\">: </span><span style=\"color: #008000; text-decoration-color: #008000\">'__end__'</span><span style=\"color: #ff00ff; text-decoration-color: #ff00ff\">, </span><span style=\"color: #008000; text-decoration-color: #008000\">'order'</span><span style=\"color: #ff00ff; text-decoration-color: #ff00ff\">: </span><span style=\"color: #800080; text-decoration-color: #800080; font-style: italic\">None</span><span style=\"color: #ff00ff; text-decoration-color: #ff00ff\">, </span><span style=\"color: #008000; text-decoration-color: #008000\">'address'</span><span style=\"color: #ff00ff; text-decoration-color: #ff00ff\">: </span><span style=\"color: #800080; text-decoration-color: #800080; font-style: italic\">None</span><span style=\"color: #ff00ff; text-decoration-color: #ff00ff\">, </span> \n",
       "<span style=\"color: #7fbfbf; text-decoration-color: #7fbfbf\">                    </span>         <span style=\"color: #008000; text-decoration-color: #008000\">'chat_id'</span><span style=\"color: #ff00ff; text-decoration-color: #ff00ff\">: </span><span style=\"color: #008000; text-decoration-color: #008000\">'10'</span><span style=\"color: #ff00ff; text-decoration-color: #ff00ff\">, </span><span style=\"color: #008000; text-decoration-color: #008000\">'messages'</span><span style=\"color: #ff00ff; text-decoration-color: #ff00ff\">: </span><span style=\"color: #ff00ff; text-decoration-color: #ff00ff; font-weight: bold\">[{</span><span style=\"color: #008000; text-decoration-color: #008000\">'type'</span><span style=\"color: #ff00ff; text-decoration-color: #ff00ff\">: </span><span style=\"color: #008000; text-decoration-color: #008000\">'human'</span><span style=\"color: #ff00ff; text-decoration-color: #ff00ff\">, </span><span style=\"color: #008000; text-decoration-color: #008000\">'content'</span><span style=\"color: #ff00ff; text-decoration-color: #ff00ff\">: </span><span style=\"color: #008000; text-decoration-color: #008000\">'Lấy a 3 cái Bút Thử Điện 2 Đầu </span>\n",
       "<span style=\"color: #7fbfbf; text-decoration-color: #7fbfbf\">                    </span>         <span style=\"color: #008000; text-decoration-color: #008000\">Nanoco NEP1502 Panasonic'</span><span style=\"color: #ff00ff; text-decoration-color: #ff00ff; font-weight: bold\">}</span><span style=\"color: #ff00ff; text-decoration-color: #ff00ff\">, </span><span style=\"color: #ff00ff; text-decoration-color: #ff00ff; font-weight: bold\">{</span><span style=\"color: #008000; text-decoration-color: #008000\">'type'</span><span style=\"color: #ff00ff; text-decoration-color: #ff00ff\">: </span><span style=\"color: #008000; text-decoration-color: #008000\">'ai'</span><span style=\"color: #ff00ff; text-decoration-color: #ff00ff\">, </span><span style=\"color: #008000; text-decoration-color: #008000\">'content'</span><span style=\"color: #ff00ff; text-decoration-color: #ff00ff\">: </span><span style=\"color: #008000; text-decoration-color: #008000\">'Dạ em đã thêm 3 cái Bút Thử Điện 2 </span> \n",
       "<span style=\"color: #7fbfbf; text-decoration-color: #7fbfbf\">                    </span>         <span style=\"color: #008000; text-decoration-color: #008000\">Đầu Nanoco NEP1502 Panasonic vào đơn hàng của anh/chị rồi ạ. \\n\\nThông tin đơn hàng hiện </span>  \n",
       "<span style=\"color: #7fbfbf; text-decoration-color: #7fbfbf\">                    </span>         <span style=\"color: #008000; text-decoration-color: #008000\">tại như sau:\\n- Sản phẩm: Bút Thử Điện 2 Đầu Nanoco NEP1502 Panasonic\\n- Số lượng: 3\\n- </span>   \n",
       "<span style=\"color: #7fbfbf; text-decoration-color: #7fbfbf\">                    </span>         <span style=\"color: #008000; text-decoration-color: #008000\">Tổng tiền sản phẩm: 57.000 VNĐ\\n- Phí ship: 50.000 VNĐ\\n- Tổng giá trị đơn hàng: 107.000 </span>  \n",
       "<span style=\"color: #7fbfbf; text-decoration-color: #7fbfbf\">                    </span>         <span style=\"color: #008000; text-decoration-color: #008000\">VNĐ\\n- Tên người nhận: Chưa có\\n- Số điện thoại người nhận: Chưa có\\n- Địa chỉ người nhận: </span>\n",
       "<span style=\"color: #7fbfbf; text-decoration-color: #7fbfbf\">                    </span>         <span style=\"color: #008000; text-decoration-color: #008000\">Chưa có\\n\\nAnh/chị vui lòng cho em xin số điện thoại để em hoàn tất đơn hàng nhé?'</span><span style=\"color: #ff00ff; text-decoration-color: #ff00ff; font-weight: bold\">}]</span><span style=\"color: #ff00ff; text-decoration-color: #ff00ff\">, </span>     \n",
       "<span style=\"color: #7fbfbf; text-decoration-color: #7fbfbf\">                    </span>         <span style=\"color: #008000; text-decoration-color: #008000\">'user_input'</span><span style=\"color: #ff00ff; text-decoration-color: #ff00ff\">: </span><span style=\"color: #008000; text-decoration-color: #008000\">'Lấy a 3 cái Bút Thử Điện 2 Đầu Nanoco NEP1502 Panasonic'</span><span style=\"color: #ff00ff; text-decoration-color: #ff00ff\">, </span><span style=\"color: #008000; text-decoration-color: #008000\">'customer_id'</span><span style=\"color: #ff00ff; text-decoration-color: #ff00ff\">: </span>   \n",
       "<span style=\"color: #7fbfbf; text-decoration-color: #7fbfbf\">                    </span>         <span style=\"color: #008080; text-decoration-color: #008080; font-weight: bold\">420</span><span style=\"color: #ff00ff; text-decoration-color: #ff00ff\">, </span><span style=\"color: #008000; text-decoration-color: #008000\">'phone_number'</span><span style=\"color: #ff00ff; text-decoration-color: #ff00ff\">: </span><span style=\"color: #800080; text-decoration-color: #800080; font-style: italic\">None</span><span style=\"color: #ff00ff; text-decoration-color: #ff00ff\">, </span><span style=\"color: #008000; text-decoration-color: #008000\">'seen_products'</span><span style=\"color: #ff00ff; text-decoration-color: #ff00ff\">: </span><span style=\"color: #ff00ff; text-decoration-color: #ff00ff; font-weight: bold\">{</span><span style=\"color: #008000; text-decoration-color: #008000\">'982'</span><span style=\"color: #ff00ff; text-decoration-color: #ff00ff\">: </span><span style=\"color: #ff00ff; text-decoration-color: #ff00ff; font-weight: bold\">{</span><span style=\"color: #008000; text-decoration-color: #008000\">'sku'</span><span style=\"color: #ff00ff; text-decoration-color: #ff00ff\">: </span><span style=\"color: #008000; text-decoration-color: #008000\">'SH301'</span><span style=\"color: #ff00ff; text-decoration-color: #ff00ff\">, </span><span style=\"color: #008000; text-decoration-color: #008000\">'price'</span><span style=\"color: #ff00ff; text-decoration-color: #ff00ff\">: </span><span style=\"color: #008080; text-decoration-color: #008080; font-weight: bold\">19000</span><span style=\"color: #ff00ff; text-decoration-color: #ff00ff\">, </span>      \n",
       "<span style=\"color: #7fbfbf; text-decoration-color: #7fbfbf\">                    </span>         <span style=\"color: #008000; text-decoration-color: #008000\">'brief_des'</span><span style=\"color: #ff00ff; text-decoration-color: #ff00ff\">: </span><span style=\"color: #008000; text-decoration-color: #008000\">'Nhựa ABS Bền Bỉ An Toàn Tiện Dụng'</span><span style=\"color: #ff00ff; text-decoration-color: #ff00ff\">, </span><span style=\"color: #008000; text-decoration-color: #008000\">'inventory'</span><span style=\"color: #ff00ff; text-decoration-color: #ff00ff\">: </span><span style=\"color: #008080; text-decoration-color: #008080; font-weight: bold\">69</span><span style=\"color: #ff00ff; text-decoration-color: #ff00ff\">, </span><span style=\"color: #008000; text-decoration-color: #008000\">'product_id'</span><span style=\"color: #ff00ff; text-decoration-color: #ff00ff\">: </span>          \n",
       "<span style=\"color: #7fbfbf; text-decoration-color: #7fbfbf\">                    </span>         <span style=\"color: #008080; text-decoration-color: #008080; font-weight: bold\">26204583541</span><span style=\"color: #ff00ff; text-decoration-color: #ff00ff\">, </span><span style=\"color: #008000; text-decoration-color: #008000\">'product_name'</span><span style=\"color: #ff00ff; text-decoration-color: #ff00ff\">: </span><span style=\"color: #008000; text-decoration-color: #008000\">'Bút Thử Điện 2 Đầu Nanoco NEP1502 Panasonic'</span><span style=\"color: #ff00ff; text-decoration-color: #ff00ff\">, </span><span style=\"color: #008000; text-decoration-color: #008000\">'variance_des'</span><span style=\"color: #ff00ff; text-decoration-color: #ff00ff\">:</span>\n",
       "<span style=\"color: #7fbfbf; text-decoration-color: #7fbfbf\">                    </span>         <span style=\"color: #008000; text-decoration-color: #008000\">''</span><span style=\"color: #ff00ff; text-decoration-color: #ff00ff\">, </span><span style=\"color: #008000; text-decoration-color: #008000\">'product_des_id'</span><span style=\"color: #ff00ff; text-decoration-color: #ff00ff\">: </span><span style=\"color: #008080; text-decoration-color: #008080; font-weight: bold\">982</span><span style=\"color: #ff00ff; text-decoration-color: #ff00ff; font-weight: bold\">}}}</span><span style=\"color: #ff00ff; text-decoration-color: #ff00ff\">, </span><span style=\"color: #008000; text-decoration-color: #008000\">'uuid'</span><span style=\"color: #ff00ff; text-decoration-color: #ff00ff\">: </span><span style=\"color: #008000; text-decoration-color: #008000\">'49dd9219-c37c-4f0a-a5ea-1dcde9eb46c6'</span><span style=\"color: #ff00ff; text-decoration-color: #ff00ff; font-weight: bold\">}</span>              \n",
       "</pre>\n"
      ],
      "text/plain": [
       "\u001b[2;36m[09/11/25 10:56:45]\u001b[0m\u001b[2;36m \u001b[0m\u001b[34mINFO    \u001b[0m ℹ️  \u001b[95mTạo mới hoặc lấy thông tin khách: \u001b[0m\u001b[1;95m{\u001b[0m\u001b[32m'customer_id'\u001b[0m\u001b[95m: \u001b[0m\u001b[1;36m420\u001b[0m\u001b[95m, \u001b[0m\u001b[32m'name'\u001b[0m\u001b[95m: \u001b[0m\u001b[3;35mNone\u001b[0m\u001b[95m, \u001b[0m\u001b[32m'phone_number'\u001b[0m\u001b[95m: \u001b[0m   \n",
       "\u001b[2;36m                    \u001b[0m         \u001b[3;35mNone\u001b[0m\u001b[95m, \u001b[0m\u001b[32m'address'\u001b[0m\u001b[95m: \u001b[0m\u001b[3;35mNone\u001b[0m\u001b[95m, \u001b[0m\u001b[32m'created_at'\u001b[0m\u001b[95m: \u001b[0m\u001b[32m'2025-09-10T09:14:15.007695+00:00'\u001b[0m\u001b[95m, \u001b[0m\u001b[32m'chat_id'\u001b[0m\u001b[95m: \u001b[0m\u001b[32m'10'\u001b[0m\u001b[95m, \u001b[0m \n",
       "\u001b[2;36m                    \u001b[0m         \u001b[32m'state'\u001b[0m\u001b[95m: \u001b[0m\u001b[1;95m{\u001b[0m\u001b[32m'cart'\u001b[0m\u001b[95m: \u001b[0m\u001b[1;95m{\u001b[0m\u001b[32m'982'\u001b[0m\u001b[95m: \u001b[0m\u001b[1;95m{\u001b[0m\u001b[32m'price'\u001b[0m\u001b[95m: \u001b[0m\u001b[1;36m19000\u001b[0m\u001b[95m, \u001b[0m\u001b[32m'quantity'\u001b[0m\u001b[95m: \u001b[0m\u001b[1;36m3\u001b[0m\u001b[95m, \u001b[0m\u001b[32m'subtotal'\u001b[0m\u001b[95m: \u001b[0m\u001b[1;36m57000\u001b[0m\u001b[95m, \u001b[0m              \n",
       "\u001b[2;36m                    \u001b[0m         \u001b[32m'product_des_id'\u001b[0m\u001b[95m: \u001b[0m\u001b[1;36m982\u001b[0m\u001b[1;95m}\u001b[0m\u001b[1;95m}\u001b[0m\u001b[95m, \u001b[0m\u001b[32m'name'\u001b[0m\u001b[95m: \u001b[0m\u001b[3;35mNone\u001b[0m\u001b[95m, \u001b[0m\u001b[32m'next'\u001b[0m\u001b[95m: \u001b[0m\u001b[32m'__end__'\u001b[0m\u001b[95m, \u001b[0m\u001b[32m'order'\u001b[0m\u001b[95m: \u001b[0m\u001b[3;35mNone\u001b[0m\u001b[95m, \u001b[0m\u001b[32m'address'\u001b[0m\u001b[95m: \u001b[0m\u001b[3;35mNone\u001b[0m\u001b[95m, \u001b[0m \n",
       "\u001b[2;36m                    \u001b[0m         \u001b[32m'chat_id'\u001b[0m\u001b[95m: \u001b[0m\u001b[32m'10'\u001b[0m\u001b[95m, \u001b[0m\u001b[32m'messages'\u001b[0m\u001b[95m: \u001b[0m\u001b[1;95m[\u001b[0m\u001b[1;95m{\u001b[0m\u001b[32m'type'\u001b[0m\u001b[95m: \u001b[0m\u001b[32m'human'\u001b[0m\u001b[95m, \u001b[0m\u001b[32m'content'\u001b[0m\u001b[95m: \u001b[0m\u001b[32m'Lấy a 3 cái Bút Thử Điện 2 Đầu \u001b[0m\n",
       "\u001b[2;36m                    \u001b[0m         \u001b[32mNanoco NEP1502 Panasonic'\u001b[0m\u001b[1;95m}\u001b[0m\u001b[95m, \u001b[0m\u001b[1;95m{\u001b[0m\u001b[32m'type'\u001b[0m\u001b[95m: \u001b[0m\u001b[32m'ai'\u001b[0m\u001b[95m, \u001b[0m\u001b[32m'content'\u001b[0m\u001b[95m: \u001b[0m\u001b[32m'Dạ em đã thêm 3 cái Bút Thử Điện 2 \u001b[0m \n",
       "\u001b[2;36m                    \u001b[0m         \u001b[32mĐầu Nanoco NEP1502 Panasonic vào đơn hàng của anh/chị rồi ạ. \\n\\nThông tin đơn hàng hiện \u001b[0m  \n",
       "\u001b[2;36m                    \u001b[0m         \u001b[32mtại như sau:\\n- Sản phẩm: Bút Thử Điện 2 Đầu Nanoco NEP1502 Panasonic\\n- Số lượng: 3\\n- \u001b[0m   \n",
       "\u001b[2;36m                    \u001b[0m         \u001b[32mTổng tiền sản phẩm: 57.000 VNĐ\\n- Phí ship: 50.000 VNĐ\\n- Tổng giá trị đơn hàng: 107.000 \u001b[0m  \n",
       "\u001b[2;36m                    \u001b[0m         \u001b[32mVNĐ\\n- Tên người nhận: Chưa có\\n- Số điện thoại người nhận: Chưa có\\n- Địa chỉ người nhận: \u001b[0m\n",
       "\u001b[2;36m                    \u001b[0m         \u001b[32mChưa có\\n\\nAnh/chị vui lòng cho em xin số điện thoại để em hoàn tất đơn hàng nhé?'\u001b[0m\u001b[1;95m}\u001b[0m\u001b[1;95m]\u001b[0m\u001b[95m, \u001b[0m     \n",
       "\u001b[2;36m                    \u001b[0m         \u001b[32m'user_input'\u001b[0m\u001b[95m: \u001b[0m\u001b[32m'Lấy a 3 cái Bút Thử Điện 2 Đầu Nanoco NEP1502 Panasonic'\u001b[0m\u001b[95m, \u001b[0m\u001b[32m'customer_id'\u001b[0m\u001b[95m: \u001b[0m   \n",
       "\u001b[2;36m                    \u001b[0m         \u001b[1;36m420\u001b[0m\u001b[95m, \u001b[0m\u001b[32m'phone_number'\u001b[0m\u001b[95m: \u001b[0m\u001b[3;35mNone\u001b[0m\u001b[95m, \u001b[0m\u001b[32m'seen_products'\u001b[0m\u001b[95m: \u001b[0m\u001b[1;95m{\u001b[0m\u001b[32m'982'\u001b[0m\u001b[95m: \u001b[0m\u001b[1;95m{\u001b[0m\u001b[32m'sku'\u001b[0m\u001b[95m: \u001b[0m\u001b[32m'SH301'\u001b[0m\u001b[95m, \u001b[0m\u001b[32m'price'\u001b[0m\u001b[95m: \u001b[0m\u001b[1;36m19000\u001b[0m\u001b[95m, \u001b[0m      \n",
       "\u001b[2;36m                    \u001b[0m         \u001b[32m'brief_des'\u001b[0m\u001b[95m: \u001b[0m\u001b[32m'Nhựa ABS Bền Bỉ An Toàn Tiện Dụng'\u001b[0m\u001b[95m, \u001b[0m\u001b[32m'inventory'\u001b[0m\u001b[95m: \u001b[0m\u001b[1;36m69\u001b[0m\u001b[95m, \u001b[0m\u001b[32m'product_id'\u001b[0m\u001b[95m: \u001b[0m          \n",
       "\u001b[2;36m                    \u001b[0m         \u001b[1;36m26204583541\u001b[0m\u001b[95m, \u001b[0m\u001b[32m'product_name'\u001b[0m\u001b[95m: \u001b[0m\u001b[32m'Bút Thử Điện 2 Đầu Nanoco NEP1502 Panasonic'\u001b[0m\u001b[95m, \u001b[0m\u001b[32m'variance_des'\u001b[0m\u001b[95m:\u001b[0m\n",
       "\u001b[2;36m                    \u001b[0m         \u001b[32m''\u001b[0m\u001b[95m, \u001b[0m\u001b[32m'product_des_id'\u001b[0m\u001b[95m: \u001b[0m\u001b[1;36m982\u001b[0m\u001b[1;95m}\u001b[0m\u001b[1;95m}\u001b[0m\u001b[1;95m}\u001b[0m\u001b[95m, \u001b[0m\u001b[32m'uuid'\u001b[0m\u001b[95m: \u001b[0m\u001b[32m'49dd9219-c37c-4f0a-a5ea-1dcde9eb46c6'\u001b[0m\u001b[1;95m}\u001b[0m              \n"
      ]
     },
     "metadata": {},
     "output_type": "display_data"
    },
    {
     "data": {
      "text/html": [
       "<pre style=\"white-space:pre;overflow-x:auto;line-height:normal;font-family:Menlo,'DejaVu Sans Mono',consolas,'Courier New',monospace\"><span style=\"color: #7fbfbf; text-decoration-color: #7fbfbf\">                    </span><span style=\"color: #000080; text-decoration-color: #000080\">INFO    </span> ℹ️  <span style=\"color: #ff00ff; text-decoration-color: #ff00ff\">Yêu cầu của khách: Lấy a </span><span style=\"color: #008080; text-decoration-color: #008080; font-weight: bold\">3</span><span style=\"color: #ff00ff; text-decoration-color: #ff00ff\"> cái Bút Thử Điện </span><span style=\"color: #008080; text-decoration-color: #008080; font-weight: bold\">2</span><span style=\"color: #ff00ff; text-decoration-color: #ff00ff\"> Đầu Nanoco NEP1502 Panasonic</span>              \n",
       "</pre>\n"
      ],
      "text/plain": [
       "\u001b[2;36m                   \u001b[0m\u001b[2;36m \u001b[0m\u001b[34mINFO    \u001b[0m ℹ️  \u001b[95mYêu cầu của khách: Lấy a \u001b[0m\u001b[1;36m3\u001b[0m\u001b[95m cái Bút Thử Điện \u001b[0m\u001b[1;36m2\u001b[0m\u001b[95m Đầu Nanoco NEP1502 Panasonic\u001b[0m              \n"
      ]
     },
     "metadata": {},
     "output_type": "display_data"
    },
    {
     "data": {
      "text/html": [
       "<pre style=\"white-space:pre;overflow-x:auto;line-height:normal;font-family:Menlo,'DejaVu Sans Mono',consolas,'Courier New',monospace\"><span style=\"color: #7fbfbf; text-decoration-color: #7fbfbf\">[09/11/25 10:56:46] </span><span style=\"color: #000080; text-decoration-color: #000080\">INFO    </span> ℹ️  <span style=\"color: #ff00ff; text-decoration-color: #ff00ff\">Agent tiếp theo: order_agent</span>                                                            \n",
       "</pre>\n"
      ],
      "text/plain": [
       "\u001b[2;36m[09/11/25 10:56:46]\u001b[0m\u001b[2;36m \u001b[0m\u001b[34mINFO    \u001b[0m ℹ️  \u001b[95mAgent tiếp theo: order_agent\u001b[0m                                                            \n"
      ]
     },
     "metadata": {},
     "output_type": "display_data"
    },
    {
     "name": "stdout",
     "output_type": "stream",
     "text": [
      "================================\u001b[1m Human Message \u001b[0m=================================\n",
      "\n",
      "Lấy a 3 cái Bút Thử Điện 2 Đầu Nanoco NEP1502 Panasonic\n",
      "None\n",
      "==================================\u001b[1m Ai Message \u001b[0m==================================\n",
      "Tool Calls:\n",
      "  get_products_tool (call_GIYx70BkB4cfj9tbDWnFo3XJ)\n",
      " Call ID: call_GIYx70BkB4cfj9tbDWnFo3XJ\n",
      "  Args:\n",
      "    keyword: Bút Thử Điện 2 Đầu Nanoco NEP1502 Panasonic"
     ]
    },
    {
     "data": {
      "text/html": [
       "<pre style=\"white-space:pre;overflow-x:auto;line-height:normal;font-family:Menlo,'DejaVu Sans Mono',consolas,'Courier New',monospace\"><span style=\"color: #7fbfbf; text-decoration-color: #7fbfbf\">[09/11/25 10:56:47] </span><span style=\"color: #000080; text-decoration-color: #000080\">INFO    </span> ℹ️  <span style=\"color: #ff00ff; text-decoration-color: #ff00ff\">get_products_tool được gọi với keywords: Bút Thử Điện </span><span style=\"color: #008080; text-decoration-color: #008080; font-weight: bold\">2</span><span style=\"color: #ff00ff; text-decoration-color: #ff00ff\"> Đầu Nanoco NEP1502 Panasonic</span>    \n",
       "</pre>\n"
      ],
      "text/plain": [
       "\u001b[2;36m[09/11/25 10:56:47]\u001b[0m\u001b[2;36m \u001b[0m\u001b[34mINFO    \u001b[0m ℹ️  \u001b[95mget_products_tool được gọi với keywords: Bút Thử Điện \u001b[0m\u001b[1;36m2\u001b[0m\u001b[95m Đầu Nanoco NEP1502 Panasonic\u001b[0m    \n"
      ]
     },
     "metadata": {},
     "output_type": "display_data"
    },
    {
     "name": "stdout",
     "output_type": "stream",
     "text": [
      "\n",
      "None\n",
      "==================================\u001b[1m Ai Message \u001b[0m==================================\n",
      "Tool Calls:\n",
      "  get_products_tool (call_NRfC9wN2DMP5byDUS3HKEMxp)\n",
      " Call ID: call_NRfC9wN2DMP5byDUS3HKEMxp\n",
      "  Args:\n",
      "    keyword: Bút Thử Điện 2 Đầu Nanoco NEP1502 Panasonic\n",
      "None\n"
     ]
    },
    {
     "data": {
      "text/html": [
       "<pre style=\"white-space:pre;overflow-x:auto;line-height:normal;font-family:Menlo,'DejaVu Sans Mono',consolas,'Courier New',monospace\"><span style=\"color: #7fbfbf; text-decoration-color: #7fbfbf\">[09/11/25 10:56:48] </span><span style=\"color: #000080; text-decoration-color: #000080\">INFO    </span> ℹ️  <span style=\"color: #ff00ff; text-decoration-color: #ff00ff\">get_products_tool được gọi với keywords: Bút Thử Điện </span><span style=\"color: #008080; text-decoration-color: #008080; font-weight: bold\">2</span><span style=\"color: #ff00ff; text-decoration-color: #ff00ff\"> Đầu Nanoco NEP1502 Panasonic</span>    \n",
       "</pre>\n"
      ],
      "text/plain": [
       "\u001b[2;36m[09/11/25 10:56:48]\u001b[0m\u001b[2;36m \u001b[0m\u001b[34mINFO    \u001b[0m ℹ️  \u001b[95mget_products_tool được gọi với keywords: Bút Thử Điện \u001b[0m\u001b[1;36m2\u001b[0m\u001b[95m Đầu Nanoco NEP1502 Panasonic\u001b[0m    \n"
      ]
     },
     "metadata": {},
     "output_type": "display_data"
    },
    {
     "data": {
      "text/html": [
       "<pre style=\"white-space:pre;overflow-x:auto;line-height:normal;font-family:Menlo,'DejaVu Sans Mono',consolas,'Courier New',monospace\"><span style=\"color: #7fbfbf; text-decoration-color: #7fbfbf\">[09/11/25 10:56:48] </span><span style=\"color: #000080; text-decoration-color: #000080\">INFO    </span> ℹ️  <span style=\"color: #ff00ff; text-decoration-color: #ff00ff\">get_customer_orders_tool được gọi</span>                                                       \n",
       "</pre>\n"
      ],
      "text/plain": [
       "\u001b[2;36m[09/11/25 10:56:48]\u001b[0m\u001b[2;36m \u001b[0m\u001b[34mINFO    \u001b[0m ℹ️  \u001b[95mget_customer_orders_tool được gọi\u001b[0m                                                       \n"
      ]
     },
     "metadata": {},
     "output_type": "display_data"
    },
    {
     "name": "stdout",
     "output_type": "stream",
     "text": [
      "==================================\u001b[1m Ai Message \u001b[0m==================================\n",
      "Tool Calls:\n",
      "  get_customer_orders_tool (call_6BbJpazhQs8ldZFs9QCv7Qmr)\n",
      " Call ID: call_6BbJpazhQs8ldZFs9QCv7Qmr\n",
      "  Args:\n",
      "None\n"
     ]
    },
    {
     "data": {
      "text/html": [
       "<pre style=\"white-space:pre;overflow-x:auto;line-height:normal;font-family:Menlo,'DejaVu Sans Mono',consolas,'Courier New',monospace\"><span style=\"color: #7fbfbf; text-decoration-color: #7fbfbf\">                    </span><span style=\"color: #000080; text-decoration-color: #000080\">INFO    </span> ℹ️  <span style=\"color: #ff00ff; text-decoration-color: #ff00ff\">Tìm thấy customer_id: </span><span style=\"color: #008080; text-decoration-color: #008080; font-weight: bold\">420</span>                                                               \n",
       "</pre>\n"
      ],
      "text/plain": [
       "\u001b[2;36m                   \u001b[0m\u001b[2;36m \u001b[0m\u001b[34mINFO    \u001b[0m ℹ️  \u001b[95mTìm thấy customer_id: \u001b[0m\u001b[1;36m420\u001b[0m                                                               \n"
      ]
     },
     "metadata": {},
     "output_type": "display_data"
    },
    {
     "data": {
      "text/html": [
       "<pre style=\"white-space:pre;overflow-x:auto;line-height:normal;font-family:Menlo,'DejaVu Sans Mono',consolas,'Courier New',monospace\"><span style=\"color: #7fbfbf; text-decoration-color: #7fbfbf\">[09/11/25 10:56:49] </span><span style=\"color: #000080; text-decoration-color: #000080\">INFO    </span> ℹ️  <span style=\"color: #ff00ff; text-decoration-color: #ff00ff\">Có dữ liệu trả về từ SQL</span>                                                                \n",
       "</pre>\n"
      ],
      "text/plain": [
       "\u001b[2;36m[09/11/25 10:56:49]\u001b[0m\u001b[2;36m \u001b[0m\u001b[34mINFO    \u001b[0m ℹ️  \u001b[95mCó dữ liệu trả về từ SQL\u001b[0m                                                                \n"
      ]
     },
     "metadata": {},
     "output_type": "display_data"
    },
    {
     "data": {
      "text/html": [
       "<pre style=\"white-space:pre;overflow-x:auto;line-height:normal;font-family:Menlo,'DejaVu Sans Mono',consolas,'Courier New',monospace\"><span style=\"color: #7fbfbf; text-decoration-color: #7fbfbf\">                    </span><span style=\"color: #000080; text-decoration-color: #000080\">INFO    </span> ℹ️  <span style=\"color: #ff00ff; text-decoration-color: #ff00ff\">Trả về kết quả từ SQL</span>                                                                   \n",
       "</pre>\n"
      ],
      "text/plain": [
       "\u001b[2;36m                   \u001b[0m\u001b[2;36m \u001b[0m\u001b[34mINFO    \u001b[0m ℹ️  \u001b[95mTrả về kết quả từ SQL\u001b[0m                                                                   \n"
      ]
     },
     "metadata": {},
     "output_type": "display_data"
    },
    {
     "name": "stdout",
     "output_type": "stream",
     "text": [
      "=================================\u001b[1m Tool Message \u001b[0m=================================\n",
      "Name: get_products_tool\n",
      "\n",
      "Đây là các sản phẩm tìm thấy dựa trên yêu cầu của khách:\n",
      "[{'product_des_id': 982, 'product_name': 'Bút Thử Điện 2 Đầu Nanoco NEP1502 Panasonic', 'brief_des': 'Nhựa ABS Bền Bỉ An Toàn Tiện Dụng', 'full_des': 'Bút thử điện 2 dầu Nanoco NEP1502\\n \\nBút thử điện Nanoco – một thương hiệu chuyên phân phối và sản xuất các thiết bị điện Panasonic và Nanoco. Hơn 30 năm thành lập và phát triển, Nanoco được đánh giá cao với công nghệ hiện đại và mức chi phí đa dạng, phù hợp với mọi đối tượng sử dụng hiện nay tại Việt Nam và bút thử điện Nanoco là một ví dụ điển hình.\\n\\nBút thử điện Nanoco với kiểu dáng nhỏ gọn và tích hợp nhiều chức năng ấn tượng hứa hẹn sẽ là sự lựa chọn hàng đầu hiện nay cho mỗi người thợ sửa điện hay gia đình sử dụng để kiểm tra nhanh thiết bị hoặc ổ cắm, phích cắm có điện hay không.\\n\\nBút thử điện Nanoco NEP1501 với tay cầm được thiết kế chống trượt và được làm bằng nhựa ABS chịu va đập, độ dai tốt và có khả năng cách điện rất tốt. \\nĐặc biệt với thiết kế cán nhựa bao trùm gần hết chân bút, nên rất an toàn. \\nĐầu tiếp điện làm bằng thép cực kỳ chắc chắn, khả năng chống gỉ sét cực kỳ cao và đặc biệt có thể đổi 2 đầu linh hoạt. \\nĐiều này sẽ đảm bảo độ chính xác, cũng như là độ an toàn cho quá trình sử dụng khi người dùng tiếp xúc với dòng điện lúc gặp sự cố về điện hoặc sửa chữa điện. \\nPhù hợp sử dụng để kiểm tra nguồn điện trong phạm vi từ 100V ~ 500V, là sự lựa chọn phổ biến của nhiều gia đình Việt Nam hiện nay.\\n\\nThông số kỹ thuật\\n- Kiểm tra điện áp nhanh, từ AC 100 - 500V\\n- Nhựa ABS bền bỉ\\n- Tích hợp 2 dạng đầu thử\\n- Thiết kế nhỏ gọn, dễ bỏ túi, có cài vắt túi tiện lợi\\n- Tay cầm chống trượt\\n\\n🏡 6SHOME – Giúp Ngôi Nhà Của Bạn Trở Nên Thông Minh Hơn\\n📩 Nếu bạn có bất kỳ câu hỏi, xin vui lòng inbox trực tiếp tại Shop hoặc liên hệ hotline để được hỗ trợ.\\n🚚 Đơn hàng luôn luôn được gửi đi trong vòng 24 giờ.\\n💻 Hỗ trợ online từ xa.\\n✅ Cam Kết Khi Mua Hàng Tại “6SHOME – Thiết Bị Thông Minh”:\\n\\n⭐️ Cam kết sản phẩm mới, chính hãng 100%.\\n⭐️ Hỗ trợ tư vấn online, giải đáp mọi thắc mắc.\\n⭐️ Giao hàng đúng và đủ theo nhu cầu của khách hàng.\\n⭐️ Bảo hành đúng theo chính sách của sản phẩm.\"', 'sku': 'SH301', 'variance_des': '', 'price': 19000, 'inventory': 69, 'created_at': '2025-08-26T09:39:07.746728+00:00', 'product_id': 26204583541}]\n",
      "Tóm gọn lại thông tin sản phẩm một cách ngắn gọn và dễ hiểu nhưng khách vẫn nắm được các ý chính\n",
      "Khách chưa có số điện thoại, xin số điện thoại của khách\n",
      "None\n"
     ]
    },
    {
     "data": {
      "text/html": [
       "<pre style=\"white-space:pre;overflow-x:auto;line-height:normal;font-family:Menlo,'DejaVu Sans Mono',consolas,'Courier New',monospace\"><span style=\"color: #7fbfbf; text-decoration-color: #7fbfbf\">                    </span><span style=\"color: #000080; text-decoration-color: #000080\">INFO    </span> ℹ️  <span style=\"color: #ff00ff; text-decoration-color: #ff00ff\">Có dữ liệu trả về từ SQL</span>                                                                \n",
       "</pre>\n"
      ],
      "text/plain": [
       "\u001b[2;36m                   \u001b[0m\u001b[2;36m \u001b[0m\u001b[34mINFO    \u001b[0m ℹ️  \u001b[95mCó dữ liệu trả về từ SQL\u001b[0m                                                                \n"
      ]
     },
     "metadata": {},
     "output_type": "display_data"
    },
    {
     "data": {
      "text/html": [
       "<pre style=\"white-space:pre;overflow-x:auto;line-height:normal;font-family:Menlo,'DejaVu Sans Mono',consolas,'Courier New',monospace\"><span style=\"color: #7fbfbf; text-decoration-color: #7fbfbf\">[09/11/25 10:56:49] </span><span style=\"color: #000080; text-decoration-color: #000080\">INFO    </span> ℹ️  <span style=\"color: #ff00ff; text-decoration-color: #ff00ff\">Không tìm thấy đơn hàng nào cho customer_id: </span><span style=\"color: #008080; text-decoration-color: #008080; font-weight: bold\">420</span>                                        \n",
       "</pre>\n"
      ],
      "text/plain": [
       "\u001b[2;36m[09/11/25 10:56:49]\u001b[0m\u001b[2;36m \u001b[0m\u001b[34mINFO    \u001b[0m ℹ️  \u001b[95mKhông tìm thấy đơn hàng nào cho customer_id: \u001b[0m\u001b[1;36m420\u001b[0m                                        \n"
      ]
     },
     "metadata": {},
     "output_type": "display_data"
    },
    {
     "data": {
      "text/html": [
       "<pre style=\"white-space:pre;overflow-x:auto;line-height:normal;font-family:Menlo,'DejaVu Sans Mono',consolas,'Courier New',monospace\"><span style=\"color: #7fbfbf; text-decoration-color: #7fbfbf\">                    </span><span style=\"color: #000080; text-decoration-color: #000080\">INFO    </span> ℹ️  <span style=\"color: #ff00ff; text-decoration-color: #ff00ff\">Trả về kết quả từ SQL</span>                                                                   \n",
       "</pre>\n"
      ],
      "text/plain": [
       "\u001b[2;36m                   \u001b[0m\u001b[2;36m \u001b[0m\u001b[34mINFO    \u001b[0m ℹ️  \u001b[95mTrả về kết quả từ SQL\u001b[0m                                                                   \n"
      ]
     },
     "metadata": {},
     "output_type": "display_data"
    },
    {
     "name": "stdout",
     "output_type": "stream",
     "text": [
      "=================================\u001b[1m Tool Message \u001b[0m=================================\n",
      "Name: get_customer_orders_tool\n",
      "\n",
      "Thông báo khách chưa đặt đơn hàng nào\n",
      "None\n",
      "=================================\u001b[1m Tool Message \u001b[0m=================================\n",
      "Name: get_products_tool\n",
      "\n",
      "Đây là các sản phẩm tìm thấy dựa trên yêu cầu của khách:\n",
      "[{'product_des_id': 982, 'product_name': 'Bút Thử Điện 2 Đầu Nanoco NEP1502 Panasonic', 'brief_des': 'Nhựa ABS Bền Bỉ An Toàn Tiện Dụng', 'full_des': 'Bút thử điện 2 dầu Nanoco NEP1502\\n \\nBút thử điện Nanoco – một thương hiệu chuyên phân phối và sản xuất các thiết bị điện Panasonic và Nanoco. Hơn 30 năm thành lập và phát triển, Nanoco được đánh giá cao với công nghệ hiện đại và mức chi phí đa dạng, phù hợp với mọi đối tượng sử dụng hiện nay tại Việt Nam và bút thử điện Nanoco là một ví dụ điển hình.\\n\\nBút thử điện Nanoco với kiểu dáng nhỏ gọn và tích hợp nhiều chức năng ấn tượng hứa hẹn sẽ là sự lựa chọn hàng đầu hiện nay cho mỗi người thợ sửa điện hay gia đình sử dụng để kiểm tra nhanh thiết bị hoặc ổ cắm, phích cắm có điện hay không.\\n\\nBút thử điện Nanoco NEP1501 với tay cầm được thiết kế chống trượt và được làm bằng nhựa ABS chịu va đập, độ dai tốt và có khả năng cách điện rất tốt. \\nĐặc biệt với thiết kế cán nhựa bao trùm gần hết chân bút, nên rất an toàn. \\nĐầu tiếp điện làm bằng thép cực kỳ chắc chắn, khả năng chống gỉ sét cực kỳ cao và đặc biệt có thể đổi 2 đầu linh hoạt. \\nĐiều này sẽ đảm bảo độ chính xác, cũng như là độ an toàn cho quá trình sử dụng khi người dùng tiếp xúc với dòng điện lúc gặp sự cố về điện hoặc sửa chữa điện. \\nPhù hợp sử dụng để kiểm tra nguồn điện trong phạm vi từ 100V ~ 500V, là sự lựa chọn phổ biến của nhiều gia đình Việt Nam hiện nay.\\n\\nThông số kỹ thuật\\n- Kiểm tra điện áp nhanh, từ AC 100 - 500V\\n- Nhựa ABS bền bỉ\\n- Tích hợp 2 dạng đầu thử\\n- Thiết kế nhỏ gọn, dễ bỏ túi, có cài vắt túi tiện lợi\\n- Tay cầm chống trượt\\n\\n🏡 6SHOME – Giúp Ngôi Nhà Của Bạn Trở Nên Thông Minh Hơn\\n📩 Nếu bạn có bất kỳ câu hỏi, xin vui lòng inbox trực tiếp tại Shop hoặc liên hệ hotline để được hỗ trợ.\\n🚚 Đơn hàng luôn luôn được gửi đi trong vòng 24 giờ.\\n💻 Hỗ trợ online từ xa.\\n✅ Cam Kết Khi Mua Hàng Tại “6SHOME – Thiết Bị Thông Minh”:\\n\\n⭐️ Cam kết sản phẩm mới, chính hãng 100%.\\n⭐️ Hỗ trợ tư vấn online, giải đáp mọi thắc mắc.\\n⭐️ Giao hàng đúng và đủ theo nhu cầu của khách hàng.\\n⭐️ Bảo hành đúng theo chính sách của sản phẩm.\"', 'sku': 'SH301', 'variance_des': '', 'price': 19000, 'inventory': 69, 'created_at': '2025-08-26T09:39:07.746728+00:00', 'product_id': 26204583541}]\n",
      "Tóm gọn lại thông tin sản phẩm một cách ngắn gọn và dễ hiểu nhưng khách vẫn nắm được các ý chính\n",
      "Khách chưa có số điện thoại, xin số điện thoại của khách\n",
      "None\n",
      "==================================\u001b[1m Ai Message \u001b[0m==================================\n",
      "Tool Calls:\n",
      "  add_item_cart_tool (call_d6K3XdtgOD6vfYfVzlVP5hvr)\n",
      " Call ID: call_d6K3XdtgOD6vfYfVzlVP5hvr\n",
      "  Args:\n",
      "    product_des_id: 982\n",
      "    quantity: 3\n",
      "None\n"
     ]
    },
    {
     "data": {
      "text/html": [
       "<pre style=\"white-space:pre;overflow-x:auto;line-height:normal;font-family:Menlo,'DejaVu Sans Mono',consolas,'Courier New',monospace\"><span style=\"color: #7fbfbf; text-decoration-color: #7fbfbf\">[09/11/25 10:56:50] </span><span style=\"color: #000080; text-decoration-color: #000080\">INFO    </span> ℹ️  <span style=\"color: #ff00ff; text-decoration-color: #ff00ff\">add_item_cart_tool được gọi</span>                                                             \n",
       "</pre>\n"
      ],
      "text/plain": [
       "\u001b[2;36m[09/11/25 10:56:50]\u001b[0m\u001b[2;36m \u001b[0m\u001b[34mINFO    \u001b[0m ℹ️  \u001b[95madd_item_cart_tool được gọi\u001b[0m                                                             \n"
      ]
     },
     "metadata": {},
     "output_type": "display_data"
    },
    {
     "data": {
      "text/html": [
       "<pre style=\"white-space:pre;overflow-x:auto;line-height:normal;font-family:Menlo,'DejaVu Sans Mono',consolas,'Courier New',monospace\"><span style=\"color: #7fbfbf; text-decoration-color: #7fbfbf\">                    </span><span style=\"color: #000080; text-decoration-color: #000080\">INFO    </span> ℹ️  <span style=\"color: #ff00ff; text-decoration-color: #ff00ff\">seen_products có sản phẩm và xác định được product_des_id</span>                               \n",
       "</pre>\n"
      ],
      "text/plain": [
       "\u001b[2;36m                   \u001b[0m\u001b[2;36m \u001b[0m\u001b[34mINFO    \u001b[0m ℹ️  \u001b[95mseen_products có sản phẩm và xác định được product_des_id\u001b[0m                               \n"
      ]
     },
     "metadata": {},
     "output_type": "display_data"
    },
    {
     "data": {
      "text/html": [
       "<pre style=\"white-space:pre;overflow-x:auto;line-height:normal;font-family:Menlo,'DejaVu Sans Mono',consolas,'Courier New',monospace\"><span style=\"color: #7fbfbf; text-decoration-color: #7fbfbf\">                    </span><span style=\"color: #000080; text-decoration-color: #000080\">INFO    </span> ℹ️  <span style=\"color: #ff00ff; text-decoration-color: #ff00ff\">Thêm sản phẩm </span><span style=\"color: #008080; text-decoration-color: #008080; font-weight: bold\">982</span><span style=\"color: #ff00ff; text-decoration-color: #ff00ff\"> vào giỏ hàng thành công</span>                                               \n",
       "</pre>\n"
      ],
      "text/plain": [
       "\u001b[2;36m                   \u001b[0m\u001b[2;36m \u001b[0m\u001b[34mINFO    \u001b[0m ℹ️  \u001b[95mThêm sản phẩm \u001b[0m\u001b[1;36m982\u001b[0m\u001b[95m vào giỏ hàng thành công\u001b[0m                                               \n"
      ]
     },
     "metadata": {},
     "output_type": "display_data"
    },
    {
     "name": "stdout",
     "output_type": "stream",
     "text": [
      "=================================\u001b[1m Tool Message \u001b[0m=================================\n",
      "Name: add_item_cart_tool\n",
      "\n",
      "Thêm sản phẩm <bạn hãy tự điền tên> vào giỏ hàng thành công, đây là giỏ hàng:\n",
      "STT: 1\n",
      "Tên sản phẩm: Bút Thử Điện 2 Đầu Nanoco NEP1502 Panasonic.\n",
      "Mã sản phẩm: 26204583541.\n",
      "SKU sản phẩm: SH301.\n",
      "Tên phân loại: Không có.\n",
      "Giá 1 sản phẩm: 19000 VNĐ.\n",
      "Số lượng: 3.\n",
      "Tổng giá: 57000 VNĐ.\n",
      "\n",
      "Tổng cộng giỏ hàng: 57000 VNĐ.\n",
      "Phí ship: 50.000 VNĐ.\n",
      "Tổng giá trị sau khi thêm phí ship: 107000 VNĐ.\n",
      "Tên người nhận: Không có.\n",
      "Số điện thoại người nhận: Không có.\n",
      "Địa chỉ người nhận: Không có.\n",
      "\n",
      "Bạn phải liệt kê đầy đủ, không được rút gọn hay bịa đặt thông tin mới\n",
      "Nếu trong 3 thông tin name, phone_number, hoặc address thiếu thông tin nào thì hỏi khách thông tin đó\n",
      "Nếu khách có yêu cầu khác thì gọi tool thực hiện yêu cầu đó\n",
      "Nếu khách không có yêu cầu khác thì BẮT BUỘC KHÔNG được gọi tool nào nữa và phải dừng lại và tạo phản hồi để khách xác nhận.\n",
      "\n",
      "None\n",
      "==================================\u001b[1m Ai Message \u001b[0m==================================\n",
      "\n",
      "Dạ, sản phẩm Bút Thử Điện 2 Đầu Nanoco NEP1502 Panasonic bên em có giá 19.000đ/cái, chất liệu nhựa ABS bền bỉ, an toàn, có thể kiểm tra điện áp nhanh từ 100V đến 500V, thiết kế nhỏ gọn, dễ sử dụng và có 2 đầu thử linh hoạt. Hiện bên em còn 69 cái trong kho ạ.\n",
      "\n",
      "Anh cho em xin số điện thoại để em hỗ trợ đặt hàng và giao hàng nhanh chóng nhé!\n",
      "None\n",
      "==================================\u001b[1m Ai Message \u001b[0m==================================\n",
      "Name: product_agent\n",
      "\n",
      "Dạ, sản phẩm Bút Thử Điện 2 Đầu Nanoco NEP1502 Panasonic bên em có giá 19.000đ/cái, chất liệu nhựa ABS bền bỉ, an toàn, có thể kiểm tra điện áp nhanh từ 100V đến 500V, thiết kế nhỏ gọn, dễ sử dụng và có 2 đầu thử linh hoạt. Hiện bên em còn 69 cái trong kho ạ.\n",
      "\n",
      "Anh cho em xin số điện thoại để em hỗ trợ đặt hàng và giao hàng nhanh chóng nhé!\n",
      "None\n",
      "==================================\u001b[1m Ai Message \u001b[0m==================================\n",
      "\n",
      "Anh/chị hiện chưa có đơn hàng nào trong hệ thống, nên em chưa thể thêm sản phẩm vào đơn được ạ. Anh/chị có muốn em hỗ trợ đặt hàng mới sản phẩm \"Bút Thử Điện 2 Đầu Nanoco NEP1502 Panasonic\" không ạ?\n",
      "None\n",
      "==================================\u001b[1m Ai Message \u001b[0m==================================\n",
      "Name: product_agent\n",
      "\n",
      "Anh/chị hiện chưa có đơn hàng nào trong hệ thống, nên em chưa thể thêm sản phẩm vào đơn được ạ. Anh/chị có muốn em hỗ trợ đặt hàng mới sản phẩm \"Bút Thử Điện 2 Đầu Nanoco NEP1502 Panasonic\" không ạ?\n",
      "None\n",
      "==================================\u001b[1m Ai Message \u001b[0m==================================\n",
      "\n",
      "Dạ em đã thêm 3 cái Bút Thử Điện 2 Đầu Nanoco NEP1502 Panasonic vào đơn hàng rồi ạ. Anh/chị vui lòng cho em xin số điện thoại để em hoàn tất đơn hàng nhé? Hiện tại đơn hàng của mình có:\n",
      "\n",
      "- Sản phẩm: Bút Thử Điện 2 Đầu Nanoco NEP1502 Panasonic\n",
      "- Số lượng: 3 cái\n",
      "- Tổng giá sản phẩm: 57,000 VNĐ\n",
      "- Phí ship: 50,000 VNĐ\n",
      "- Tổng giá trị đơn hàng: 107,000 VNĐ\n",
      "- Tên người nhận: Chưa có\n",
      "- Số điện thoại người nhận: Chưa có\n",
      "- Địa chỉ người nhận: Chưa có\n",
      "\n",
      "Anh/chị vui lòng cung cấp số điện thoại giúp em ạ.\n",
      "None\n",
      "==================================\u001b[1m Ai Message \u001b[0m==================================\n",
      "Name: order_agent\n",
      "\n",
      "Dạ em đã thêm 3 cái Bút Thử Điện 2 Đầu Nanoco NEP1502 Panasonic vào đơn hàng rồi ạ. Anh/chị vui lòng cho em xin số điện thoại để em hoàn tất đơn hàng nhé? Hiện tại đơn hàng của mình có:\n",
      "\n",
      "- Sản phẩm: Bút Thử Điện 2 Đầu Nanoco NEP1502 Panasonic\n",
      "- Số lượng: 3 cái\n",
      "- Tổng giá sản phẩm: 57,000 VNĐ\n",
      "- Phí ship: 50,000 VNĐ\n",
      "- Tổng giá trị đơn hàng: 107,000 VNĐ\n",
      "- Tên người nhận: Chưa có\n",
      "- Số điện thoại người nhận: Chưa có\n",
      "- Địa chỉ người nhận: Chưa có\n",
      "\n",
      "Anh/chị vui lòng cung cấp số điện thoại giúp em ạ.\n",
      "None\n"
     ]
    }
   ],
   "source": [
    "state[\"user_input\"] = (\n",
    "    \"Lấy a 3 cái Bút Thử Điện 2 Đầu Nanoco NEP1502 Panasonic\"\n",
    ")\n",
    "state[\"chat_id\"] = \"10\"\n",
    "\n",
    "await test_bot(graph, state, config, \"updates\")"
   ]
  },
  {
   "cell_type": "code",
   "execution_count": null,
   "metadata": {},
   "outputs": [],
   "source": [
    "state[\"user_input\"] = (\n",
    "    \"cái đơn thứ 2 á\"\n",
    ")\n",
    "state[\"chat_id\"] = \"10\"\n",
    "\n",
    "await test_bot(graph, state, config, \"updates\")"
   ]
  },
  {
   "cell_type": "code",
   "execution_count": null,
   "metadata": {},
   "outputs": [],
   "source": [
    "state[\"user_input\"] = (\n",
    "    \"uk đr\"\n",
    ")\n",
    "state[\"chat_id\"] = \"10\"\n",
    "\n",
    "await test_bot(graph, state, config, \"updates\")"
   ]
  },
  {
   "cell_type": "code",
   "execution_count": null,
   "metadata": {},
   "outputs": [],
   "source": [
    "state[\"user_input\"] = \"uk nó á em\"\n",
    "state[\"chat_id\"] = \"10\"\n",
    "\n",
    "await test_bot(graph, state, config, \"updates\")"
   ]
  },
  {
   "cell_type": "code",
   "execution_count": null,
   "metadata": {},
   "outputs": [],
   "source": [
    "state[\"user_input\"] = \"cho anh xin tổng giá cái giỏ hàng của anh đi\"\n",
    "state[\"chat_id\"] = \"10\"\n",
    "\n",
    "await test_bot(graph, state, config, \"updates\")"
   ]
  },
  {
   "cell_type": "code",
   "execution_count": null,
   "metadata": {},
   "outputs": [],
   "source": [
    "state[\"user_input\"] = \"ok em tạo đơn đi\"\n",
    "state[\"chat_id\"] = \"10\"\n",
    "\n",
    "await test_bot(graph, state, config, \"updates\")"
   ]
  },
  {
   "cell_type": "code",
   "execution_count": 9,
   "metadata": {},
   "outputs": [],
   "source": [
    "test = graph.get_state(config).values"
   ]
  },
  {
   "cell_type": "code",
   "execution_count": 10,
   "metadata": {},
   "outputs": [
    {
     "data": {
      "text/plain": [
       "{'messages': [HumanMessage(content='Lấy a 3 cái Bút Thử Điện 2 Đầu Nanoco NEP1502 Panasonic', additional_kwargs={}, response_metadata={}, id='f4d361cf-75a4-4d1f-9f25-b1b1083cffe9'),\n",
       "  AIMessage(content='Anh/chị hiện chưa có đơn hàng nào trong hệ thống, nên em chưa thể thêm sản phẩm vào đơn được ạ. Anh/chị có muốn em hỗ trợ đặt hàng mới sản phẩm \"Bút Thử Điện 2 Đầu Nanoco NEP1502 Panasonic\" không ạ?', additional_kwargs={}, response_metadata={}, name='product_agent', id='1119bd79-2233-4dd9-aacd-198dcf2ab9db'),\n",
       "  AIMessage(content='Dạ em đã thêm 3 cái Bút Thử Điện 2 Đầu Nanoco NEP1502 Panasonic vào đơn hàng rồi ạ. Anh/chị vui lòng cho em xin số điện thoại để em hoàn tất đơn hàng nhé? Hiện tại đơn hàng của mình có:\\n\\n- Sản phẩm: Bút Thử Điện 2 Đầu Nanoco NEP1502 Panasonic\\n- Số lượng: 3 cái\\n- Tổng giá sản phẩm: 57,000 VNĐ\\n- Phí ship: 50,000 VNĐ\\n- Tổng giá trị đơn hàng: 107,000 VNĐ\\n- Tên người nhận: Chưa có\\n- Số điện thoại người nhận: Chưa có\\n- Địa chỉ người nhận: Chưa có\\n\\nAnh/chị vui lòng cung cấp số điện thoại giúp em ạ.', additional_kwargs={}, response_metadata={}, name='order_agent', id='6bb264bc-a62d-4a11-8d9b-2d85a2b7cca1'),\n",
       "  AIMessage(content='Dạ, sản phẩm Bút Thử Điện 2 Đầu Nanoco NEP1502 Panasonic bên em có giá 19.000đ/cái, chất liệu nhựa ABS bền bỉ, an toàn, có thể kiểm tra điện áp nhanh từ 100V đến 500V, thiết kế nhỏ gọn, dễ sử dụng và có 2 đầu thử linh hoạt. Hiện bên em còn 69 cái trong kho ạ.\\n\\nAnh cho em xin số điện thoại để em hỗ trợ đặt hàng và giao hàng nhanh chóng nhé!', additional_kwargs={}, response_metadata={}, name='product_agent', id='46cc41d4-58a1-459e-96b0-36c807078668')],\n",
       " 'user_input': 'Lấy a 3 cái Bút Thử Điện 2 Đầu Nanoco NEP1502 Panasonic',\n",
       " 'chat_id': '10',\n",
       " 'next': '__end__',\n",
       " 'customer_id': 420,\n",
       " 'name': None,\n",
       " 'phone_number': None,\n",
       " 'address': None,\n",
       " 'seen_products': {982: {'product_des_id': 982,\n",
       "   'product_name': 'Bút Thử Điện 2 Đầu Nanoco NEP1502 Panasonic',\n",
       "   'product_id': 26204583541,\n",
       "   'sku': 'SH301',\n",
       "   'variance_des': '',\n",
       "   'brief_des': 'Nhựa ABS Bền Bỉ An Toàn Tiện Dụng',\n",
       "   'price': 19000,\n",
       "   'inventory': 69}},\n",
       " 'cart': {982: {'product_des_id': 982,\n",
       "   'quantity': 3,\n",
       "   'price': 19000,\n",
       "   'subtotal': 57000}},\n",
       " 'order': None}"
      ]
     },
     "execution_count": 10,
     "metadata": {},
     "output_type": "execute_result"
    }
   ],
   "source": [
    "test"
   ]
  },
  {
   "cell_type": "code",
   "execution_count": 1,
   "metadata": {},
   "outputs": [],
   "source": [
    "from database.connection import supabase_client\n",
    "from repository.sync_repo import AppointmentRepo, RoomRepo, StaffRepo\n",
    "\n",
    "appointment_repo = AppointmentRepo(supabase_client=supabase_client)\n",
    "room_repo = RoomRepo(supabase_client=supabase_client)\n",
    "staff_repo = StaffRepo(supabase_client=supabase_client)"
   ]
  },
  {
   "cell_type": "code",
   "execution_count": 2,
   "metadata": {},
   "outputs": [
    {
     "data": {
      "text/plain": [
       "{1: 'Pham Van Nhan',\n",
       " 2: 'Nguyen Thi Lan',\n",
       " 3: 'Hoang Van Binh',\n",
       " 4: 'Tran Van Dung',\n",
       " 5: 'Pham Thi Hoa',\n",
       " 6: 'Do Van Kien',\n",
       " 7: 'Nguyen Van Tuan',\n",
       " 8: 'Tran Thi Mai',\n",
       " 9: 'Le Van Phuc',\n",
       " 10: 'Pham Van Quang',\n",
       " 11: 'Nguyen Thi Bich',\n",
       " 12: 'Tran Van Khoa',\n",
       " 13: 'Do Thi Lan',\n",
       " 14: 'Le Van Son',\n",
       " 15: 'Hoang Thi Hanh',\n",
       " 16: 'Nguyen Van Minh',\n",
       " 17: 'Tran Van Duc',\n",
       " 18: 'Pham Thi Hong',\n",
       " 19: 'Hoang Van Hung',\n",
       " 20: 'Nguyen Thi Thu'}"
      ]
     },
     "execution_count": 2,
     "metadata": {},
     "output_type": "execute_result"
    }
   ],
   "source": [
    "staffs = staff_repo.get_all_staff_return_dict()\n",
    "staffs"
   ]
  },
  {
   "cell_type": "code",
   "execution_count": 2,
   "metadata": {},
   "outputs": [
    {
     "data": {
      "text/plain": [
       "[{'id': 1,\n",
       "  'customer_id': 1,\n",
       "  'staff_id': 1,\n",
       "  'room_id': 1,\n",
       "  'booking_date': '2025-09-15',\n",
       "  'start_time': '09:00:00',\n",
       "  'end_time': '10:00:00',\n",
       "  'status': 'booked',\n",
       "  'total_price': 500000}]"
      ]
     },
     "execution_count": 2,
     "metadata": {},
     "output_type": "execute_result"
    }
   ],
   "source": [
    "overlap_ap = appointment_repo.get_overlap_appointments(\n",
    "    booking_date_new=\"15-09-2025\",\n",
    "    start_time_new=\"8:00:00\",\n",
    "    end_time_new=\"10:00:00\"\n",
    ")\n",
    "overlap_ap"
   ]
  },
  {
   "cell_type": "code",
   "execution_count": 4,
   "metadata": {},
   "outputs": [
    {
     "data": {
      "text/plain": [
       "{1: 2, 2: 4, 3: 6}"
      ]
     },
     "execution_count": 4,
     "metadata": {},
     "output_type": "execute_result"
    }
   ],
   "source": [
    "rooms = room_repo.get_all_rooms_return_dict()\n",
    "rooms"
   ]
  },
  {
   "cell_type": "code",
   "execution_count": 7,
   "metadata": {},
   "outputs": [],
   "source": [
    "for ap in overlap_ap:\n",
    "    # Check room overlap\n",
    "    if rooms.get(ap[\"room_id\"], None) is not None:\n",
    "        rooms[ap[\"room_id\"]] = rooms[ap[\"room_id\"]] - 1\n",
    "    \n",
    "        # Delete room overlap\n",
    "        if rooms[ap[\"room_id\"]] == 0:\n",
    "            del rooms[ap[\"room_id\"]]\n",
    "        \n",
    "    # Delete staff overlap\n",
    "    if staffs.get(ap[\"staff_id\"], None) is not None:\n",
    "        del staffs[ap[\"staff_id\"]]"
   ]
  },
  {
   "cell_type": "code",
   "execution_count": 8,
   "metadata": {},
   "outputs": [
    {
     "data": {
      "text/plain": [
       "({2: 4, 3: 6},\n",
       " {2: 'Nguyen Thi Lan',\n",
       "  3: 'Hoang Van Binh',\n",
       "  4: 'Tran Van Dung',\n",
       "  5: 'Pham Thi Hoa',\n",
       "  6: 'Do Van Kien',\n",
       "  7: 'Nguyen Van Tuan',\n",
       "  8: 'Tran Thi Mai',\n",
       "  9: 'Le Van Phuc',\n",
       "  10: 'Pham Van Quang',\n",
       "  11: 'Nguyen Thi Bich',\n",
       "  12: 'Tran Van Khoa',\n",
       "  13: 'Do Thi Lan',\n",
       "  14: 'Le Van Son',\n",
       "  15: 'Hoang Thi Hanh',\n",
       "  16: 'Nguyen Van Minh',\n",
       "  17: 'Tran Van Duc',\n",
       "  18: 'Pham Thi Hong',\n",
       "  19: 'Hoang Van Hung',\n",
       "  20: 'Nguyen Thi Thu'})"
      ]
     },
     "execution_count": 8,
     "metadata": {},
     "output_type": "execute_result"
    }
   ],
   "source": [
    "rooms, staffs\n"
   ]
  },
  {
   "cell_type": "code",
   "execution_count": 8,
   "metadata": {},
   "outputs": [
    {
     "ename": "TypeError",
     "evalue": "unsupported operand type(s) for +: 'datetime.time' and 'int'",
     "output_type": "error",
     "traceback": [
      "\u001b[31m---------------------------------------------------------------------------\u001b[39m",
      "\u001b[31mTypeError\u001b[39m                                 Traceback (most recent call last)",
      "\u001b[36mCell\u001b[39m\u001b[36m \u001b[39m\u001b[32mIn[8]\u001b[39m\u001b[32m, line 7\u001b[39m\n\u001b[32m      5\u001b[39m day = datetime.strptime(booking_date_new, \u001b[33m\"\u001b[39m\u001b[33m%\u001b[39m\u001b[33mY-\u001b[39m\u001b[33m%\u001b[39m\u001b[33mm-\u001b[39m\u001b[38;5;132;01m%d\u001b[39;00m\u001b[33m\"\u001b[39m).date()\n\u001b[32m      6\u001b[39m time = datetime.strptime(start_time_new, \u001b[33m\"\u001b[39m\u001b[33m%\u001b[39m\u001b[33mH:\u001b[39m\u001b[33m%\u001b[39m\u001b[33mM:\u001b[39m\u001b[33m%\u001b[39m\u001b[33mS\u001b[39m\u001b[33m\"\u001b[39m).time()\n\u001b[32m----> \u001b[39m\u001b[32m7\u001b[39m \u001b[43mtime\u001b[49m\u001b[43m \u001b[49m\u001b[43m+\u001b[49m\u001b[43m \u001b[49m\u001b[32;43m5\u001b[39;49m\n\u001b[32m      8\u001b[39m time\n",
      "\u001b[31mTypeError\u001b[39m: unsupported operand type(s) for +: 'datetime.time' and 'int'"
     ]
    }
   ],
   "source": [
    "from datetime import datetime, timedelta\n",
    "\n",
    "booking_date_new = \"2025-09-15\"\n",
    "start_time_new = \"8:00:00\"\n",
    "day = datetime.strptime(booking_date_new, \"%Y-%m-%d\").date()\n",
    "time = datetime.strptime(start_time_new, \"%H:%M:%S\").time()\n",
    "time + timedelta(minutes=5.0)\n",
    "time"
   ]
  }
 ],
 "metadata": {
  "kernelspec": {
   "display_name": ".sellbot",
   "language": "python",
   "name": "python3"
  },
  "language_info": {
   "codemirror_mode": {
    "name": "ipython",
    "version": 3
   },
   "file_extension": ".py",
   "mimetype": "text/x-python",
   "name": "python",
   "nbconvert_exporter": "python",
   "pygments_lexer": "ipython3",
   "version": "3.12.5"
  }
 },
 "nbformat": 4,
 "nbformat_minor": 2
}
