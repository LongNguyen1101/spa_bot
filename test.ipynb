{
 "cells": [
  {
   "cell_type": "code",
   "execution_count": 1,
   "metadata": {},
   "outputs": [],
   "source": [
    "from core.graph.build_graph import create_main_graph\n",
    "from core.graph.state import init_state\n",
    "from core.utils.function import test_bot\n",
    "\n",
    "\n",
    "graph = create_main_graph()\n",
    "state = init_state()\n",
    "\n",
    "config = {\n",
    "    \"configurable\": \n",
    "    {\n",
    "        \"thread_id\": \"1\"\n",
    "    }\n",
    "}"
   ]
  },
  {
   "cell_type": "code",
   "execution_count": 3,
   "metadata": {},
   "outputs": [
    {
     "data": {
      "text/html": [
       "<pre style=\"white-space:pre;overflow-x:auto;line-height:normal;font-family:Menlo,'DejaVu Sans Mono',consolas,'Courier New',monospace\"><span style=\"color: #7fbfbf; text-decoration-color: #7fbfbf\">[09/16/25 14:38:23] </span><span style=\"color: #000080; text-decoration-color: #000080\">INFO    </span> ℹ️  <span style=\"color: #ff00ff; text-decoration-color: #ff00ff\">Thông tin của khách: - Tên: Long | - Số điện thoại: </span><span style=\"color: #008080; text-decoration-color: #008080; font-weight: bold\">123</span><span style=\"color: #ff00ff; text-decoration-color: #ff00ff\"> | - Email: </span><span style=\"color: #800080; text-decoration-color: #800080; font-style: italic\">None</span>                 \n",
       "</pre>\n"
      ],
      "text/plain": [
       "\u001b[2;36m[09/16/25 14:38:23]\u001b[0m\u001b[2;36m \u001b[0m\u001b[34mINFO    \u001b[0m ℹ️  \u001b[95mThông tin của khách: - Tên: Long | - Số điện thoại: \u001b[0m\u001b[1;36m123\u001b[0m\u001b[95m | - Email: \u001b[0m\u001b[3;35mNone\u001b[0m                 \n"
      ]
     },
     "metadata": {},
     "output_type": "display_data"
    },
    {
     "data": {
      "text/html": [
       "<pre style=\"white-space:pre;overflow-x:auto;line-height:normal;font-family:Menlo,'DejaVu Sans Mono',consolas,'Courier New',monospace\"><span style=\"color: #7fbfbf; text-decoration-color: #7fbfbf\">                    </span><span style=\"color: #000080; text-decoration-color: #000080\">INFO    </span> ℹ️  <span style=\"color: #ff00ff; text-decoration-color: #ff00ff\">Yêu cầu của khách: </span><span style=\"color: #008080; text-decoration-color: #008080; font-weight: bold\">20</span><span style=\"color: #ff00ff; text-decoration-color: #ff00ff\"> tháng </span><span style=\"color: #008080; text-decoration-color: #008080; font-weight: bold\">9</span><span style=\"color: #ff00ff; text-decoration-color: #ff00ff\"> này em còn lịch ko</span>                                        \n",
       "</pre>\n"
      ],
      "text/plain": [
       "\u001b[2;36m                   \u001b[0m\u001b[2;36m \u001b[0m\u001b[34mINFO    \u001b[0m ℹ️  \u001b[95mYêu cầu của khách: \u001b[0m\u001b[1;36m20\u001b[0m\u001b[95m tháng \u001b[0m\u001b[1;36m9\u001b[0m\u001b[95m này em còn lịch ko\u001b[0m                                        \n"
      ]
     },
     "metadata": {},
     "output_type": "display_data"
    },
    {
     "data": {
      "text/html": [
       "<pre style=\"white-space:pre;overflow-x:auto;line-height:normal;font-family:Menlo,'DejaVu Sans Mono',consolas,'Courier New',monospace\"><span style=\"color: #7fbfbf; text-decoration-color: #7fbfbf\">[09/16/25 14:38:25] </span><span style=\"color: #000080; text-decoration-color: #000080\">INFO    </span> ℹ️  <span style=\"color: #ff00ff; text-decoration-color: #ff00ff\">Agent tiếp theo: booking_agent</span>                                                          \n",
       "</pre>\n"
      ],
      "text/plain": [
       "\u001b[2;36m[09/16/25 14:38:25]\u001b[0m\u001b[2;36m \u001b[0m\u001b[34mINFO    \u001b[0m ℹ️  \u001b[95mAgent tiếp theo: booking_agent\u001b[0m                                                          \n"
      ]
     },
     "metadata": {},
     "output_type": "display_data"
    },
    {
     "name": "stdout",
     "output_type": "stream",
     "text": [
      "================================\u001b[1m Human Message \u001b[0m=================================\n",
      "\n",
      "20 tháng 9 này em còn lịch ko\n",
      "None\n",
      "==================================\u001b[1m Ai Message \u001b[0m==================================\n",
      "Tool Calls:\n",
      "  check_available_booking_tool (call_FbCbYG3XLa94PVXaQG3rBTVR)\n",
      " Call ID: call_FbCbYG3XLa94PVXaQG3rBTVR\n",
      "  Args:\n",
      "    booking_date_new: 2025-09-20\n",
      "    start_time_new: 16:00:00\n",
      "None\n"
     ]
    },
    {
     "data": {
      "text/html": [
       "<pre style=\"white-space:pre;overflow-x:auto;line-height:normal;font-family:Menlo,'DejaVu Sans Mono',consolas,'Courier New',monospace\"><span style=\"color: #7fbfbf; text-decoration-color: #7fbfbf\">[09/16/25 14:38:27] </span><span style=\"color: #000080; text-decoration-color: #000080\">INFO    </span> ℹ️  <span style=\"color: #ff00ff; text-decoration-color: #ff00ff\">check_available_booking được gọi</span>                                                        \n",
       "</pre>\n"
      ],
      "text/plain": [
       "\u001b[2;36m[09/16/25 14:38:27]\u001b[0m\u001b[2;36m \u001b[0m\u001b[34mINFO    \u001b[0m ℹ️  \u001b[95mcheck_available_booking được gọi\u001b[0m                                                        \n"
      ]
     },
     "metadata": {},
     "output_type": "display_data"
    },
    {
     "data": {
      "text/html": [
       "<pre style=\"white-space:pre;overflow-x:auto;line-height:normal;font-family:Menlo,'DejaVu Sans Mono',consolas,'Courier New',monospace\"><span style=\"color: #7fbfbf; text-decoration-color: #7fbfbf\">                    </span><span style=\"color: #000080; text-decoration-color: #000080\">INFO    </span> ℹ️  <span style=\"color: #ff00ff; text-decoration-color: #ff00ff\">Khách đặt ngày: </span><span style=\"color: #008080; text-decoration-color: #008080; font-weight: bold\">2025</span><span style=\"color: #ff00ff; text-decoration-color: #ff00ff\">-</span><span style=\"color: #008080; text-decoration-color: #008080; font-weight: bold\">09</span><span style=\"color: #ff00ff; text-decoration-color: #ff00ff\">-</span><span style=\"color: #008080; text-decoration-color: #008080; font-weight: bold\">20</span><span style=\"color: #ff00ff; text-decoration-color: #ff00ff\"> vào lúc: </span><span style=\"color: #00ff00; text-decoration-color: #00ff00; font-weight: bold\">16:00:00</span>                                            \n",
       "</pre>\n"
      ],
      "text/plain": [
       "\u001b[2;36m                   \u001b[0m\u001b[2;36m \u001b[0m\u001b[34mINFO    \u001b[0m ℹ️  \u001b[95mKhách đặt ngày: \u001b[0m\u001b[1;36m2025\u001b[0m\u001b[95m-\u001b[0m\u001b[1;36m09\u001b[0m\u001b[95m-\u001b[0m\u001b[1;36m20\u001b[0m\u001b[95m vào lúc: \u001b[0m\u001b[1;92m16:00:00\u001b[0m                                            \n"
      ]
     },
     "metadata": {},
     "output_type": "display_data"
    },
    {
     "data": {
      "text/html": [
       "<pre style=\"white-space:pre;overflow-x:auto;line-height:normal;font-family:Menlo,'DejaVu Sans Mono',consolas,'Courier New',monospace\"><span style=\"color: #7fbfbf; text-decoration-color: #7fbfbf\">[09/16/25 14:38:29] </span><span style=\"color: #000080; text-decoration-color: #000080\">INFO    </span> ℹ️  <span style=\"color: #ff00ff; text-decoration-color: #ff00ff\">Tìm thấy phòng và nhân viên khả dụng</span>                                                    \n",
       "</pre>\n"
      ],
      "text/plain": [
       "\u001b[2;36m[09/16/25 14:38:29]\u001b[0m\u001b[2;36m \u001b[0m\u001b[34mINFO    \u001b[0m ℹ️  \u001b[95mTìm thấy phòng và nhân viên khả dụng\u001b[0m                                                    \n"
      ]
     },
     "metadata": {},
     "output_type": "display_data"
    },
    {
     "data": {
      "text/html": [
       "<pre style=\"white-space:pre;overflow-x:auto;line-height:normal;font-family:Menlo,'DejaVu Sans Mono',consolas,'Courier New',monospace\"><span style=\"color: #7fbfbf; text-decoration-color: #7fbfbf\">                    </span><span style=\"color: #000080; text-decoration-color: #000080\">INFO    </span> ℹ️  <span style=\"color: #ff00ff; text-decoration-color: #ff00ff\">ID phòng khả dụng: </span><span style=\"color: #008080; text-decoration-color: #008080; font-weight: bold\">1</span><span style=\"color: #ff00ff; text-decoration-color: #ff00ff\"> | ID nhân viên khả dụng: </span><span style=\"color: #008080; text-decoration-color: #008080; font-weight: bold\">1</span>                                         \n",
       "</pre>\n"
      ],
      "text/plain": [
       "\u001b[2;36m                   \u001b[0m\u001b[2;36m \u001b[0m\u001b[34mINFO    \u001b[0m ℹ️  \u001b[95mID phòng khả dụng: \u001b[0m\u001b[1;36m1\u001b[0m\u001b[95m | ID nhân viên khả dụng: \u001b[0m\u001b[1;36m1\u001b[0m                                         \n"
      ]
     },
     "metadata": {},
     "output_type": "display_data"
    },
    {
     "data": {
      "text/html": [
       "<pre style=\"white-space:pre;overflow-x:auto;line-height:normal;font-family:Menlo,'DejaVu Sans Mono',consolas,'Courier New',monospace\"><span style=\"color: #7fbfbf; text-decoration-color: #7fbfbf\">                    </span><span style=\"color: #000080; text-decoration-color: #000080\">INFO    </span> ℹ️  <span style=\"color: #ff00ff; text-decoration-color: #ff00ff\">Kiểm tra phòng và nhân viên thành công</span>                                                  \n",
       "</pre>\n"
      ],
      "text/plain": [
       "\u001b[2;36m                   \u001b[0m\u001b[2;36m \u001b[0m\u001b[34mINFO    \u001b[0m ℹ️  \u001b[95mKiểm tra phòng và nhân viên thành công\u001b[0m                                                  \n"
      ]
     },
     "metadata": {},
     "output_type": "display_data"
    },
    {
     "name": "stdout",
     "output_type": "stream",
     "text": [
      "=================================\u001b[1m Tool Message \u001b[0m=================================\n",
      "Name: check_available_booking_tool\n",
      "\n",
      "Thông báo khách có lịch trống\n",
      "Đây là tên phòng của khách: Phòng 101\n",
      "Đây là tên nhân viên: Pham Van Nhan\n",
      "None\n",
      "==================================\u001b[1m Ai Message \u001b[0m==================================\n",
      "\n",
      "Dạ, ngày 20 tháng 9 lúc 16h bên em còn lịch trống ạ. Anh/chị có muốn chọn dịch vụ nào để em hỗ trợ đặt lịch luôn không ạ?\n",
      "None\n",
      "==================================\u001b[1m Ai Message \u001b[0m==================================\n",
      "Name: booking_agent_node\n",
      "\n",
      "Dạ, ngày 20 tháng 9 lúc 16h bên em còn lịch trống ạ. Anh/chị có muốn chọn dịch vụ nào để em hỗ trợ đặt lịch luôn không ạ?\n",
      "None\n"
     ]
    }
   ],
   "source": [
    "state[\"user_input\"] = (\n",
    "    \"20 tháng 9 này em còn lịch ko\"\n",
    ")\n",
    "state[\"chat_id\"] = \"10\"\n",
    "\n",
    "await test_bot(graph, state, config, \"updates\")"
   ]
  },
  {
   "cell_type": "code",
   "execution_count": null,
   "metadata": {},
   "outputs": [],
   "source": [
    "state[\"user_input\"] = (\n",
    "    \"cho anh massage thư giãn cho nam\"\n",
    ")\n",
    "state[\"chat_id\"] = \"10\"\n",
    "\n",
    "await test_bot(graph, state, config, \"updates\")"
   ]
  },
  {
   "cell_type": "code",
   "execution_count": null,
   "metadata": {},
   "outputs": [],
   "source": [
    "state[\"user_input\"] = (\n",
    "    \"uk đặt lịch cho anh đi em\"\n",
    ")\n",
    "state[\"chat_id\"] = \"10\"\n",
    "\n",
    "await test_bot(graph, state, config, \"updates\")"
   ]
  },
  {
   "cell_type": "code",
   "execution_count": null,
   "metadata": {},
   "outputs": [],
   "source": [
    "state[\"user_input\"] = (\n",
    "    \"uk cho anh cái đó đi\"\n",
    ")\n",
    "state[\"chat_id\"] = \"10\"\n",
    "\n",
    "await test_bot(graph, state, config, \"updates\")"
   ]
  },
  {
   "cell_type": "code",
   "execution_count": null,
   "metadata": {},
   "outputs": [],
   "source": [
    "state[\"user_input\"] = (\n",
    "    \"đặt lịch đi\"\n",
    ")\n",
    "state[\"chat_id\"] = \"10\"\n",
    "\n",
    "await test_bot(graph, state, config, \"updates\")"
   ]
  },
  {
   "cell_type": "code",
   "execution_count": 4,
   "metadata": {},
   "outputs": [
    {
     "data": {
      "text/plain": [
       "{'messages': [HumanMessage(content='t7 tuần sau nữa 4h bên em có trống ko', additional_kwargs={}, response_metadata={}, id='a5f170e6-5d6d-4690-80db-3089dd57b27f'),\n",
       "  AIMessage(content='Chào anh/chị, bên em còn lịch trống vào lúc 4 giờ chiều thứ 7 tuần sau (27-09-2025) tại phòng 101 với nhân viên Phạm Văn Nhân ạ. Anh/chị có muốn đặt lịch vào thời gian này không ạ? Nếu có, anh/chị vui lòng cho em biết dịch vụ muốn sử dụng để em hỗ trợ đặt lịch nhé!', additional_kwargs={}, response_metadata={}, name='booking_agent_node', id='068773ed-a0d1-4f01-957d-f71aa927beab'),\n",
       "  HumanMessage(content='t5 tuần sau nữa 4h bên em có trống ko', additional_kwargs={}, response_metadata={}, id='d56ca0c8-c6ab-41c9-bd8e-8cdebf26aca9'),\n",
       "  AIMessage(content='Dạ, bên em còn lịch trống vào lúc 4 giờ chiều thứ 5 tuần sau nữa (02-10-2025) tại phòng 101 với nhân viên Phạm Văn Nhân ạ. Anh/chị có muốn đặt lịch vào thời gian này không ạ? Nếu có, anh/chị vui lòng cho em biết dịch vụ muốn sử dụng để em hỗ trợ đặt lịch nhé!', additional_kwargs={}, response_metadata={}, name='booking_agent_node', id='397affe4-e660-4c32-9df9-0113447bac8c')],\n",
       " 'user_input': 't5 tuần sau nữa 4h bên em có trống ko',\n",
       " 'chat_id': '10',\n",
       " 'next': '__end__',\n",
       " 'current_date': 'Tuesday, 16-09-2025',\n",
       " 'customer_id': 8,\n",
       " 'name': 'Long',\n",
       " 'phone': '123',\n",
       " 'email': None,\n",
       " 'seen_services': None,\n",
       " 'services': None,\n",
       " 'staff_id': 1,\n",
       " 'staff_name': 'Pham Van Nhan',\n",
       " 'room_id': 1,\n",
       " 'room_name': 'Phòng 101',\n",
       " 'booking_date': datetime.date(2025, 10, 2),\n",
       " 'start_time': datetime.time(16, 0),\n",
       " 'end_time': datetime.time(17, 0),\n",
       " 'total_time': None,\n",
       " 'total_price': None,\n",
       " 'book_info': None}"
      ]
     },
     "execution_count": 4,
     "metadata": {},
     "output_type": "execute_result"
    }
   ],
   "source": [
    "graph.get_state(config).values"
   ]
  },
  {
   "cell_type": "code",
   "execution_count": 1,
   "metadata": {},
   "outputs": [],
   "source": [
    "from database.connection import supabase_client, embeddings_model\n",
    "from repository.sync_repo import AppointmentRepo, RoomRepo, StaffRepo, ServiceRepo\n",
    "\n",
    "appointment_repo = AppointmentRepo(supabase_client=supabase_client)\n",
    "room_repo = RoomRepo(supabase_client=supabase_client)\n",
    "staff_repo = StaffRepo(supabase_client=supabase_client)\n",
    "service_repo = ServiceRepo(supabase_client=supabase_client)"
   ]
  },
  {
   "cell_type": "code",
   "execution_count": 2,
   "metadata": {},
   "outputs": [],
   "source": [
    "from core.tools.booking_tool import _update_book_info, _return_appoointments\n",
    "\n",
    "booked_appointments = appointment_repo.get_all_booked_appointments(\n",
    "    customer_id=8\n",
    ")\n",
    "book_info = {}\n",
    "formatted_appointments = \"\"\n",
    "index = 1\n",
    "\n",
    "for booked in booked_appointments:\n",
    "    book_info[booked[\"id\"]] = _update_book_info(\n",
    "        book_info=book_info,\n",
    "        appointment_details=booked\n",
    "    )\n",
    "\n",
    "    formatted_appointments += (\n",
    "        f\"Đơn thứ {index}:\\n\"\n",
    "        f\"{_return_appoointments(appointment_details=booked)}\\n\\n\"\n",
    "    )\n",
    "    \n",
    "    index += 1\n",
    "        "
   ]
  }
 ],
 "metadata": {
  "kernelspec": {
   "display_name": ".sellbot",
   "language": "python",
   "name": "python3"
  },
  "language_info": {
   "codemirror_mode": {
    "name": "ipython",
    "version": 3
   },
   "file_extension": ".py",
   "mimetype": "text/x-python",
   "name": "python",
   "nbconvert_exporter": "python",
   "pygments_lexer": "ipython3",
   "version": "3.12.5"
  }
 },
 "nbformat": 4,
 "nbformat_minor": 2
}
