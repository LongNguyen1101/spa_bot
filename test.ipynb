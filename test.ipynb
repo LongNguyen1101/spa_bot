{
 "cells": [
  {
   "cell_type": "code",
   "execution_count": 1,
   "metadata": {},
   "outputs": [],
   "source": [
    "from core.graph.build_graph import create_main_graph\n",
    "from core.graph.state import init_state\n",
    "from core.utils.function import test_bot\n",
    "from langchain_core.messages import HumanMessage, AIMessage\n",
    "\n",
    "\n",
    "graph = create_main_graph()\n",
    "state = init_state()\n",
    "\n",
    "config = {\n",
    "    \"configurable\": \n",
    "    {\n",
    "        \"thread_id\": \"1\"\n",
    "    }\n",
    "}"
   ]
  },
  {
   "cell_type": "code",
   "execution_count": 2,
   "metadata": {},
   "outputs": [
    {
     "data": {
      "text/html": [
       "<pre style=\"white-space:pre;overflow-x:auto;line-height:normal;font-family:Menlo,'DejaVu Sans Mono',consolas,'Courier New',monospace\"><span style=\"color: #7fbfbf; text-decoration-color: #7fbfbf\">[09/30/25 15:07:59] </span><span style=\"color: #000080; text-decoration-color: #000080\">INFO    </span> ℹ️  <span style=\"color: #ff00ff; text-decoration-color: #ff00ff\">Tạo mới hoặc lấy thông tin khách: </span><span style=\"color: #ff00ff; text-decoration-color: #ff00ff; font-weight: bold\">{</span><span style=\"color: #008000; text-decoration-color: #008000\">'id'</span><span style=\"color: #ff00ff; text-decoration-color: #ff00ff\">: </span><span style=\"color: #008080; text-decoration-color: #008080; font-weight: bold\">387</span><span style=\"color: #ff00ff; text-decoration-color: #ff00ff\">, </span><span style=\"color: #008000; text-decoration-color: #008000\">'name'</span><span style=\"color: #ff00ff; text-decoration-color: #ff00ff\">: </span><span style=\"color: #008000; text-decoration-color: #008000\">'Long'</span><span style=\"color: #ff00ff; text-decoration-color: #ff00ff\">, </span><span style=\"color: #008000; text-decoration-color: #008000\">'phone'</span><span style=\"color: #ff00ff; text-decoration-color: #ff00ff\">: </span><span style=\"color: #008000; text-decoration-color: #008000\">'123'</span><span style=\"color: #ff00ff; text-decoration-color: #ff00ff\">, </span><span style=\"color: #008000; text-decoration-color: #008000\">'email'</span><span style=\"color: #ff00ff; text-decoration-color: #ff00ff\">: </span> \n",
       "<span style=\"color: #7fbfbf; text-decoration-color: #7fbfbf\">                    </span>         <span style=\"color: #800080; text-decoration-color: #800080; font-style: italic\">None</span><span style=\"color: #ff00ff; text-decoration-color: #ff00ff\">, </span><span style=\"color: #008000; text-decoration-color: #008000\">'chat_id'</span><span style=\"color: #ff00ff; text-decoration-color: #ff00ff\">: </span><span style=\"color: #008000; text-decoration-color: #008000\">'10'</span><span style=\"color: #ff00ff; text-decoration-color: #ff00ff\">, </span><span style=\"color: #008000; text-decoration-color: #008000\">'uuid'</span><span style=\"color: #ff00ff; text-decoration-color: #ff00ff\">: </span><span style=\"color: #800080; text-decoration-color: #800080; font-style: italic\">None</span><span style=\"color: #ff00ff; text-decoration-color: #ff00ff; font-weight: bold\">}</span>                                                       \n",
       "</pre>\n"
      ],
      "text/plain": [
       "\u001b[2;36m[09/30/25 15:07:59]\u001b[0m\u001b[2;36m \u001b[0m\u001b[34mINFO    \u001b[0m ℹ️  \u001b[95mTạo mới hoặc lấy thông tin khách: \u001b[0m\u001b[1;95m{\u001b[0m\u001b[32m'id'\u001b[0m\u001b[95m: \u001b[0m\u001b[1;36m387\u001b[0m\u001b[95m, \u001b[0m\u001b[32m'name'\u001b[0m\u001b[95m: \u001b[0m\u001b[32m'Long'\u001b[0m\u001b[95m, \u001b[0m\u001b[32m'phone'\u001b[0m\u001b[95m: \u001b[0m\u001b[32m'123'\u001b[0m\u001b[95m, \u001b[0m\u001b[32m'email'\u001b[0m\u001b[95m: \u001b[0m \n",
       "\u001b[2;36m                    \u001b[0m         \u001b[3;35mNone\u001b[0m\u001b[95m, \u001b[0m\u001b[32m'chat_id'\u001b[0m\u001b[95m: \u001b[0m\u001b[32m'10'\u001b[0m\u001b[95m, \u001b[0m\u001b[32m'uuid'\u001b[0m\u001b[95m: \u001b[0m\u001b[3;35mNone\u001b[0m\u001b[1;95m}\u001b[0m                                                       \n"
      ]
     },
     "metadata": {},
     "output_type": "display_data"
    },
    {
     "data": {
      "text/html": [
       "<pre style=\"white-space:pre;overflow-x:auto;line-height:normal;font-family:Menlo,'DejaVu Sans Mono',consolas,'Courier New',monospace\"><span style=\"color: #7fbfbf; text-decoration-color: #7fbfbf\">                    </span><span style=\"color: #000080; text-decoration-color: #000080\">INFO    </span> ℹ️  <span style=\"color: #ff00ff; text-decoration-color: #ff00ff\">New customer: </span><span style=\"color: #ff0000; text-decoration-color: #ff0000; font-style: italic\">False</span>                                                                     \n",
       "</pre>\n"
      ],
      "text/plain": [
       "\u001b[2;36m                   \u001b[0m\u001b[2;36m \u001b[0m\u001b[34mINFO    \u001b[0m ℹ️  \u001b[95mNew customer: \u001b[0m\u001b[3;91mFalse\u001b[0m                                                                     \n"
      ]
     },
     "metadata": {},
     "output_type": "display_data"
    },
    {
     "data": {
      "text/html": [
       "<pre style=\"white-space:pre;overflow-x:auto;line-height:normal;font-family:Menlo,'DejaVu Sans Mono',consolas,'Courier New',monospace\"><span style=\"color: #7fbfbf; text-decoration-color: #7fbfbf\">                    </span><span style=\"color: #000080; text-decoration-color: #000080\">INFO    </span> ℹ️  <span style=\"color: #ff00ff; text-decoration-color: #ff00ff\">Yêu cầu của khách: anh bị đau lưng, bên em có dịch vụ nào không</span>                         \n",
       "</pre>\n"
      ],
      "text/plain": [
       "\u001b[2;36m                   \u001b[0m\u001b[2;36m \u001b[0m\u001b[34mINFO    \u001b[0m ℹ️  \u001b[95mYêu cầu của khách: anh bị đau lưng, bên em có dịch vụ nào không\u001b[0m                         \n"
      ]
     },
     "metadata": {},
     "output_type": "display_data"
    },
    {
     "data": {
      "text/html": [
       "<pre style=\"white-space:pre;overflow-x:auto;line-height:normal;font-family:Menlo,'DejaVu Sans Mono',consolas,'Courier New',monospace\"><span style=\"color: #7fbfbf; text-decoration-color: #7fbfbf\">[09/30/25 15:08:00] </span><span style=\"color: #000080; text-decoration-color: #000080\">INFO    </span> ℹ️  <span style=\"color: #ff00ff; text-decoration-color: #ff00ff\">Agent tiếp theo: service_agent</span>                                                          \n",
       "</pre>\n"
      ],
      "text/plain": [
       "\u001b[2;36m[09/30/25 15:08:00]\u001b[0m\u001b[2;36m \u001b[0m\u001b[34mINFO    \u001b[0m ℹ️  \u001b[95mAgent tiếp theo: service_agent\u001b[0m                                                          \n"
      ]
     },
     "metadata": {},
     "output_type": "display_data"
    },
    {
     "name": "stdout",
     "output_type": "stream",
     "text": [
      "================================ Human Message =================================\n",
      "\n",
      "anh bị đau lưng, bên em có dịch vụ nào không\n",
      "None\n",
      "=================================="
     ]
    },
    {
     "data": {
      "text/html": [
       "<pre style=\"white-space:pre;overflow-x:auto;line-height:normal;font-family:Menlo,'DejaVu Sans Mono',consolas,'Courier New',monospace\"><span style=\"color: #7fbfbf; text-decoration-color: #7fbfbf\">[09/30/25 15:08:01] </span><span style=\"color: #000080; text-decoration-color: #000080\">INFO    </span> ℹ️  <span style=\"color: #ff00ff; text-decoration-color: #ff00ff\">get_services_tool called with keyword: đau lưng</span>                                         \n",
       "</pre>\n"
      ],
      "text/plain": [
       "\u001b[2;36m[09/30/25 15:08:01]\u001b[0m\u001b[2;36m \u001b[0m\u001b[34mINFO    \u001b[0m ℹ️  \u001b[95mget_services_tool called with keyword: đau lưng\u001b[0m                                         \n"
      ]
     },
     "metadata": {},
     "output_type": "display_data"
    },
    {
     "name": "stdout",
     "output_type": "stream",
     "text": [
      " Ai Message ==================================\n",
      "Tool Calls:\n",
      "  get_services_tool (call_MYqsvwzeKifQHejY5KOqQUXo)\n",
      " Call ID: call_MYqsvwzeKifQHejY5KOqQUXo\n",
      "  Args:\n",
      "    keyword: đau lưng\n",
      "None\n"
     ]
    },
    {
     "data": {
      "text/html": [
       "<pre style=\"white-space:pre;overflow-x:auto;line-height:normal;font-family:Menlo,'DejaVu Sans Mono',consolas,'Courier New',monospace\"><span style=\"color: #7fbfbf; text-decoration-color: #7fbfbf\">                    </span><span style=\"color: #000080; text-decoration-color: #000080\">INFO    </span> ℹ️  <span style=\"color: #ff00ff; text-decoration-color: #ff00ff\">No results from SQL, switching to RAG search</span>                                            \n",
       "</pre>\n"
      ],
      "text/plain": [
       "\u001b[2;36m                   \u001b[0m\u001b[2;36m \u001b[0m\u001b[34mINFO    \u001b[0m ℹ️  \u001b[95mNo results from SQL, switching to RAG search\u001b[0m                                            \n"
      ]
     },
     "metadata": {},
     "output_type": "display_data"
    },
    {
     "data": {
      "text/html": [
       "<pre style=\"white-space:pre;overflow-x:auto;line-height:normal;font-family:Menlo,'DejaVu Sans Mono',consolas,'Courier New',monospace\"><span style=\"color: #7fbfbf; text-decoration-color: #7fbfbf\">[09/30/25 15:08:03] </span><span style=\"color: #000080; text-decoration-color: #000080\">INFO    </span> ℹ️  <span style=\"color: #ff00ff; text-decoration-color: #ff00ff\">Results returned from RAG</span>                                                               \n",
       "</pre>\n"
      ],
      "text/plain": [
       "\u001b[2;36m[09/30/25 15:08:03]\u001b[0m\u001b[2;36m \u001b[0m\u001b[34mINFO    \u001b[0m ℹ️  \u001b[95mResults returned from RAG\u001b[0m                                                               \n"
      ]
     },
     "metadata": {},
     "output_type": "display_data"
    },
    {
     "data": {
      "text/html": [
       "<pre style=\"white-space:pre;overflow-x:auto;line-height:normal;font-family:Menlo,'DejaVu Sans Mono',consolas,'Courier New',monospace\"><span style=\"color: #7fbfbf; text-decoration-color: #7fbfbf\">                    </span><span style=\"color: #000080; text-decoration-color: #000080\">INFO    </span> ℹ️  <span style=\"color: #ff00ff; text-decoration-color: #ff00ff\">Returning results from RAG</span>                                                              \n",
       "</pre>\n"
      ],
      "text/plain": [
       "\u001b[2;36m                   \u001b[0m\u001b[2;36m \u001b[0m\u001b[34mINFO    \u001b[0m ℹ️  \u001b[95mReturning results from RAG\u001b[0m                                                              \n"
      ]
     },
     "metadata": {},
     "output_type": "display_data"
    },
    {
     "name": "stdout",
     "output_type": "stream",
     "text": [
      "================================= Tool Message =================================\n",
      "Name: get_services_tool\n",
      "\n",
      "Here are the services returned based on the customer's request:\n",
      "\n",
      "[{'id': 21, 'type': 'nam', 'name': 'Trị liệu giác quan bằng mùi hương', 'duration_minutes': 60, 'price': 400000, 'description': 'Massage với tinh dầu thơm + kích thích khứu giác, giảm stress', 'long_description': 'Bản 60 phút bao gồm lựa chọn tinh dầu thiên nhiên được ưa thích, massage nhẹ nhàng toàn thân để thư giãn khứu giác, giảm căng thẳng thần kinh.\\\\n\\nTập trung vào vùng vai, lưng, cổ để giúp khởi động quy trình thư giãn.\\\\n\\nThời gian 60 phút phù hợp nếu muốn thư giãn ngắn, có lịch làm việc dày đặc; hiệu ứng thư giãn sẽ đạt ở mức cơ bản nhưng vẫn rõ rệt.\\\\n\\nCác kỹ thuật áp lực được điều chỉnh nhẹ nhàng để không gây mỏi khi kết thúc liệu trình.\\n', 'service_discounts': [{'discount_value': 10.0}]}, {'id': 23, 'type': 'nam', 'name': 'Trị liệu thư giãn đôi chân', 'duration_minutes': 60, 'price': 250000, 'description': 'Ngâm chân & massage chân nhẹ, giảm mỏi', 'long_description': 'Ngâm chân với muối biển, sả, gừng, trà xanh + massage nhẹ và bấm huyệt cơ bản để giảm đau mỏi.\\\\n\\nTập trung vào phần bàn chân, mắt cá chân; loại bỏ cảm giác căng, mỏi nhanh.\\\\n\\nHiệu quả rõ sau một ngày làm việc nhiều, đi lại nhiều; phù hợp với ai muốn thư giãn nhẹ mà không mất nhiều thời gian.\\\\n\\nKhông có các bước như tẩy tế bào chết hay massage sâu vùng cẳng chân, hạn chế kích ứng nếu da nhạy cảm.\\n', 'service_discounts': [{'discount_value': 15.0}]}, {'id': 24, 'type': 'nam', 'name': 'Trị liệu thư giãn đôi chân', 'duration_minutes': 90, 'price': 350000, 'description': 'Massage chân + bấm huyệt sâu hơn & kéo dài', 'long_description': 'Bao gồm toàn bộ bước của bản 60 phút + massage sâu vùng cẳng chân, bắp chân, ngâm chân lâu hơn để gia tăng hiệu ứng thải độc.\\\\n\\nThêm bước tẩy tế bào chết nhẹ và chăm sóc da chân để làm mềm da và tăng cảm giác thoải mái.\\\\n\\nThời gian kéo dài giúp các cơ chân được thư giãn sâu hơn, giảm sưng mắt cá, hỗ trợ phục hồi nếu bạn đứng/ đi nhiều.\\\\n\\nDành cho người muốn trải nghiệm thư giãn trọn vẹn, không chỉ đơn thuần thư giãn nhanh.\\n', 'service_discounts': [{'discount_value': 5.0}]}, {'id': 25, 'type': 'nam', 'name': 'Liệu pháp đả thông kinh mạch', 'duration_minutes': 60, 'price': 500000, 'description': 'Day ấn huyệt + kéo cơ cơ bản, giảm nhức mỏi nhanh', 'long_description': 'Thực hiện các kỹ thuật day, ấn huyệt và căng cơ vùng lưng, vai cơ bản giúp khai thông huyệt lớn, giảm đau mỏi nhanh.\\\\n\\nTập trung vào vùng vai – cổ – lưng; áp lực vừa phải, phù hợp với người mới trải nghiệm hoặc muốn giải tỏa stress nhẹ.\\\\n\\nThời gian 60 phút đủ để cảm nhận được sự thư giãn, giảm nhức mỏi nhưng không quá sâu để tránh mệt sau liệu trình.\\\\n\\nKhông bao gồm massage chuyên sâu vùng chân/hông hoặc các bước bổ trợ kéo dãn mạnh hơn.\\n', 'service_discounts': [{'discount_value': 8.75}]}, {'id': 34, 'type': 'nữ', 'name': 'Trị liệu đàn hồi Thạch anh', 'duration_minutes': 90, 'price': 600000, 'description': 'Massage lâu hơn + chăm sóc vùng mắt cổ sâu hơn', 'long_description': 'Bao gồm massage mặt, cổ, vai gáy với đá thạch anh ấm; kết hợp thêm mặt nạ chuyên sâu và serum dưỡng cao cấp.\\\\n\\nBản kéo dài giúp tăng lưu thông máu vùng cổ vai, giảm mỏi cơ và làm săn chắc da vùng khó tiếp cận.\\\\n\\nThời gian lâu hơn cũng cho phép có bước thư giãn sâu giữa các bước để da được nghỉ ngơi và hấp thu tốt hơn.\\\\n\\nRất phù hợp nếu bạn muốn liệu trình tổng thể chăm sóc da vùng mặt + cổ + vai với hiệu quả rõ rệt hơn.\\n', 'service_discounts': [{'discount_value': 16.2}]}]\n",
      "\n",
      "None\n",
      "================================== Ai Message ==================================\n",
      "\n",
      "Chào anh Long, bên em có một số dịch vụ phù hợp để giảm đau lưng như sau:\n",
      "\n",
      "1. Liệu pháp đả thông kinh mạch (60 phút, giá 500.000đ, giảm còn 456.250đ): Day ấn huyệt và kéo cơ vùng lưng, vai giúp giảm nhức mỏi nhanh, áp lực vừa phải phù hợp người mới trải nghiệm.\n",
      "\n",
      "2. Trị liệu giác quan bằng mùi hương (60 phút, giá 400.000đ, giảm còn 360.000đ): Massage nhẹ nhàng toàn thân tập trung vùng vai, lưng, cổ giúp thư giãn và giảm căng thẳng.\n",
      "\n",
      "Anh muốn em tư vấn kỹ hơn về dịch vụ nào không ạ?\n",
      "None\n",
      "================================== Ai Message ==================================\n",
      "Name: services_agent_node\n",
      "\n",
      "Chào anh Long, bên em có một số dịch vụ phù hợp để giảm đau lưng như sau:\n",
      "\n",
      "1. Liệu pháp đả thông kinh mạch (60 phút, giá 500.000đ, giảm còn 456.250đ): Day ấn huyệt và kéo cơ vùng lưng, vai giúp giảm nhức mỏi nhanh, áp lực vừa phải phù hợp người mới trải nghiệm.\n",
      "\n",
      "2. Trị liệu giác quan bằng mùi hương (60 phút, giá 400.000đ, giảm còn 360.000đ): Massage nhẹ nhàng toàn thân tập trung vùng vai, lưng, cổ giúp thư giãn và giảm căng thẳng.\n",
      "\n",
      "Anh muốn em tư vấn kỹ hơn về dịch vụ nào không ạ?\n",
      "None\n"
     ]
    }
   ],
   "source": [
    "state[\"user_input\"] = (\n",
    "    \"anh bị đau lưng, bên em có dịch vụ nào không\"\n",
    ")\n",
    "state[\"chat_id\"] = \"10\"\n",
    "\n",
    "await test_bot(graph, state, config, \"updates\")"
   ]
  },
  {
   "cell_type": "code",
   "execution_count": 3,
   "metadata": {},
   "outputs": [
    {
     "data": {
      "text/html": [
       "<pre style=\"white-space:pre;overflow-x:auto;line-height:normal;font-family:Menlo,'DejaVu Sans Mono',consolas,'Courier New',monospace\"><span style=\"color: #7fbfbf; text-decoration-color: #7fbfbf\">[09/30/25 15:08:07] </span><span style=\"color: #000080; text-decoration-color: #000080\">INFO    </span> ℹ️  <span style=\"color: #ff00ff; text-decoration-color: #ff00ff\">Thông tin của khách: - Tên: Long | - Số điện thoại: </span><span style=\"color: #008080; text-decoration-color: #008080; font-weight: bold\">123</span><span style=\"color: #ff00ff; text-decoration-color: #ff00ff\"> | - Email: </span><span style=\"color: #800080; text-decoration-color: #800080; font-style: italic\">None</span>                 \n",
       "</pre>\n"
      ],
      "text/plain": [
       "\u001b[2;36m[09/30/25 15:08:07]\u001b[0m\u001b[2;36m \u001b[0m\u001b[34mINFO    \u001b[0m ℹ️  \u001b[95mThông tin của khách: - Tên: Long | - Số điện thoại: \u001b[0m\u001b[1;36m123\u001b[0m\u001b[95m | - Email: \u001b[0m\u001b[3;35mNone\u001b[0m                 \n"
      ]
     },
     "metadata": {},
     "output_type": "display_data"
    },
    {
     "data": {
      "text/html": [
       "<pre style=\"white-space:pre;overflow-x:auto;line-height:normal;font-family:Menlo,'DejaVu Sans Mono',consolas,'Courier New',monospace\"><span style=\"color: #7fbfbf; text-decoration-color: #7fbfbf\">                    </span><span style=\"color: #000080; text-decoration-color: #000080\">INFO    </span> ℹ️  <span style=\"color: #ff00ff; text-decoration-color: #ff00ff\">New customer: </span><span style=\"color: #ff0000; text-decoration-color: #ff0000; font-style: italic\">False</span>                                                                     \n",
       "</pre>\n"
      ],
      "text/plain": [
       "\u001b[2;36m                   \u001b[0m\u001b[2;36m \u001b[0m\u001b[34mINFO    \u001b[0m ℹ️  \u001b[95mNew customer: \u001b[0m\u001b[3;91mFalse\u001b[0m                                                                     \n"
      ]
     },
     "metadata": {},
     "output_type": "display_data"
    },
    {
     "data": {
      "text/html": [
       "<pre style=\"white-space:pre;overflow-x:auto;line-height:normal;font-family:Menlo,'DejaVu Sans Mono',consolas,'Courier New',monospace\"><span style=\"color: #7fbfbf; text-decoration-color: #7fbfbf\">                    </span><span style=\"color: #000080; text-decoration-color: #000080\">INFO    </span> ℹ️  <span style=\"color: #ff00ff; text-decoration-color: #ff00ff\">Yêu cầu của khách: cho anh trị liệu giác quan bằng mùi hương, cho anh 60p</span>               \n",
       "</pre>\n"
      ],
      "text/plain": [
       "\u001b[2;36m                   \u001b[0m\u001b[2;36m \u001b[0m\u001b[34mINFO    \u001b[0m ℹ️  \u001b[95mYêu cầu của khách: cho anh trị liệu giác quan bằng mùi hương, cho anh 60p\u001b[0m               \n"
      ]
     },
     "metadata": {},
     "output_type": "display_data"
    },
    {
     "data": {
      "text/html": [
       "<pre style=\"white-space:pre;overflow-x:auto;line-height:normal;font-family:Menlo,'DejaVu Sans Mono',consolas,'Courier New',monospace\"><span style=\"color: #7fbfbf; text-decoration-color: #7fbfbf\">[09/30/25 15:08:08] </span><span style=\"color: #000080; text-decoration-color: #000080\">INFO    </span> ℹ️  <span style=\"color: #ff00ff; text-decoration-color: #ff00ff\">Agent tiếp theo: booking_agent</span>                                                          \n",
       "</pre>\n"
      ],
      "text/plain": [
       "\u001b[2;36m[09/30/25 15:08:08]\u001b[0m\u001b[2;36m \u001b[0m\u001b[34mINFO    \u001b[0m ℹ️  \u001b[95mAgent tiếp theo: booking_agent\u001b[0m                                                          \n"
      ]
     },
     "metadata": {},
     "output_type": "display_data"
    },
    {
     "name": "stdout",
     "output_type": "stream",
     "text": [
      "================================ Human Message =================================\n",
      "\n",
      "cho anh trị liệu giác quan bằng mùi hương, cho anh 60p\n",
      "None\n",
      "=================================="
     ]
    },
    {
     "data": {
      "text/html": [
       "<pre style=\"white-space:pre;overflow-x:auto;line-height:normal;font-family:Menlo,'DejaVu Sans Mono',consolas,'Courier New',monospace\"><span style=\"color: #7fbfbf; text-decoration-color: #7fbfbf\">[09/30/25 15:08:09] </span><span style=\"color: #000080; text-decoration-color: #000080\">INFO    </span> ℹ️  <span style=\"color: #ff00ff; text-decoration-color: #ff00ff\">add_service_tool được gọi</span>                                                               \n",
       "</pre>\n"
      ],
      "text/plain": [
       "\u001b[2;36m[09/30/25 15:08:09]\u001b[0m\u001b[2;36m \u001b[0m\u001b[34mINFO    \u001b[0m ℹ️  \u001b[95madd_service_tool được gọi\u001b[0m                                                               \n"
      ]
     },
     "metadata": {},
     "output_type": "display_data"
    },
    {
     "name": "stdout",
     "output_type": "stream",
     "text": [
      " Ai Message ==================================\n",
      "Tool Calls:\n",
      "  add_service_tool (call_Rpim3sT7gmy4wFY3NyfaIqcT)\n",
      " Call ID: call_Rpim3sT7gmy4wFY3NyfaIqcT\n",
      "  Args:\n",
      "    service_id_list: [21]"
     ]
    },
    {
     "data": {
      "text/html": [
       "<pre style=\"white-space:pre;overflow-x:auto;line-height:normal;font-family:Menlo,'DejaVu Sans Mono',consolas,'Courier New',monospace\"><span style=\"color: #7fbfbf; text-decoration-color: #7fbfbf\">                    </span><span style=\"color: #000080; text-decoration-color: #000080\">INFO    </span> ℹ️  <span style=\"color: #ff00ff; text-decoration-color: #ff00ff\">Thêm dịch vụ khách chọn vào state thành công</span>                                            \n",
       "</pre>\n"
      ],
      "text/plain": [
       "\u001b[2;36m                   \u001b[0m\u001b[2;36m \u001b[0m\u001b[34mINFO    \u001b[0m ℹ️  \u001b[95mThêm dịch vụ khách chọn vào state thành công\u001b[0m                                            \n"
      ]
     },
     "metadata": {},
     "output_type": "display_data"
    },
    {
     "name": "stdout",
     "output_type": "stream",
     "text": [
      "\n",
      "None\n",
      "================================= Tool Message =================================\n",
      "Name: add_service_tool\n",
      "\n",
      "Đây là thông tin các dịch vụ mà khách chọn:\n",
      "STT: 1\n",
      "Loại dịch vụ: nam\n",
      "Tên dịch vụ: Trị liệu giác quan bằng mùi hương\n",
      "Thời gian: 60\n",
      "Giá: 400000 VNĐ\n",
      "Giảm giá: 10.0%\n",
      "Giá sau giảm: 360000 VNĐ\n",
      "\n",
      "Tổng thời gian: 60\n",
      "Tổng giá tiền: 360000 VNĐ\n",
      "\n",
      "\n",
      "None\n",
      "================================== Ai Message ==================================\n",
      "\n",
      "Anh đã chọn dịch vụ Trị liệu giác quan bằng mùi hương trong 60 phút với giá sau giảm là 360.000đ. Anh muốn đặt lịch vào ngày nào và giờ nào ạ? Để em kiểm tra lịch trống giúp anh nhé!\n",
      "None\n",
      "================================== Ai Message ==================================\n",
      "Name: booking_agent_node\n",
      "\n",
      "Anh đã chọn dịch vụ Trị liệu giác quan bằng mùi hương trong 60 phút với giá sau giảm là 360.000đ. Anh muốn đặt lịch vào ngày nào và giờ nào ạ? Để em kiểm tra lịch trống giúp anh nhé!\n",
      "None\n"
     ]
    }
   ],
   "source": [
    "state[\"user_input\"] = (\n",
    "    \"cho anh trị liệu giác quan bằng mùi hương, cho anh 60p\"\n",
    ")\n",
    "state[\"chat_id\"] = \"10\"\n",
    "\n",
    "await test_bot(graph, state, config, \"updates\")"
   ]
  },
  {
   "cell_type": "code",
   "execution_count": null,
   "metadata": {},
   "outputs": [],
   "source": [
    "state[\"user_input\"] = (\n",
    "    \"tên Long, sđt là 123\"\n",
    ")\n",
    "state[\"chat_id\"] = \"10\"\n",
    "\n",
    "await test_bot(graph, state, config, \"updates\")"
   ]
  },
  {
   "cell_type": "code",
   "execution_count": 4,
   "metadata": {},
   "outputs": [
    {
     "data": {
      "text/html": [
       "<pre style=\"white-space:pre;overflow-x:auto;line-height:normal;font-family:Menlo,'DejaVu Sans Mono',consolas,'Courier New',monospace\"><span style=\"color: #7fbfbf; text-decoration-color: #7fbfbf\">[09/30/25 15:08:16] </span><span style=\"color: #000080; text-decoration-color: #000080\">INFO    </span> ℹ️  <span style=\"color: #ff00ff; text-decoration-color: #ff00ff\">Thông tin của khách: - Tên: Long | - Số điện thoại: </span><span style=\"color: #008080; text-decoration-color: #008080; font-weight: bold\">123</span><span style=\"color: #ff00ff; text-decoration-color: #ff00ff\"> | - Email: </span><span style=\"color: #800080; text-decoration-color: #800080; font-style: italic\">None</span>                 \n",
       "</pre>\n"
      ],
      "text/plain": [
       "\u001b[2;36m[09/30/25 15:08:16]\u001b[0m\u001b[2;36m \u001b[0m\u001b[34mINFO    \u001b[0m ℹ️  \u001b[95mThông tin của khách: - Tên: Long | - Số điện thoại: \u001b[0m\u001b[1;36m123\u001b[0m\u001b[95m | - Email: \u001b[0m\u001b[3;35mNone\u001b[0m                 \n"
      ]
     },
     "metadata": {},
     "output_type": "display_data"
    },
    {
     "data": {
      "text/html": [
       "<pre style=\"white-space:pre;overflow-x:auto;line-height:normal;font-family:Menlo,'DejaVu Sans Mono',consolas,'Courier New',monospace\"><span style=\"color: #7fbfbf; text-decoration-color: #7fbfbf\">                    </span><span style=\"color: #000080; text-decoration-color: #000080\">INFO    </span> ℹ️  <span style=\"color: #ff00ff; text-decoration-color: #ff00ff\">New customer: </span><span style=\"color: #ff0000; text-decoration-color: #ff0000; font-style: italic\">False</span>                                                                     \n",
       "</pre>\n"
      ],
      "text/plain": [
       "\u001b[2;36m                   \u001b[0m\u001b[2;36m \u001b[0m\u001b[34mINFO    \u001b[0m ℹ️  \u001b[95mNew customer: \u001b[0m\u001b[3;91mFalse\u001b[0m                                                                     \n"
      ]
     },
     "metadata": {},
     "output_type": "display_data"
    },
    {
     "data": {
      "text/html": [
       "<pre style=\"white-space:pre;overflow-x:auto;line-height:normal;font-family:Menlo,'DejaVu Sans Mono',consolas,'Courier New',monospace\"><span style=\"color: #7fbfbf; text-decoration-color: #7fbfbf\">                    </span><span style=\"color: #000080; text-decoration-color: #000080\">INFO    </span> ℹ️  <span style=\"color: #ff00ff; text-decoration-color: #ff00ff\">Yêu cầu của khách: cho anh chiều cn 3h nhe</span>                                              \n",
       "</pre>\n"
      ],
      "text/plain": [
       "\u001b[2;36m                   \u001b[0m\u001b[2;36m \u001b[0m\u001b[34mINFO    \u001b[0m ℹ️  \u001b[95mYêu cầu của khách: cho anh chiều cn 3h nhe\u001b[0m                                              \n"
      ]
     },
     "metadata": {},
     "output_type": "display_data"
    },
    {
     "data": {
      "text/html": [
       "<pre style=\"white-space:pre;overflow-x:auto;line-height:normal;font-family:Menlo,'DejaVu Sans Mono',consolas,'Courier New',monospace\"><span style=\"color: #7fbfbf; text-decoration-color: #7fbfbf\">[09/30/25 15:08:17] </span><span style=\"color: #000080; text-decoration-color: #000080\">INFO    </span> ℹ️  <span style=\"color: #ff00ff; text-decoration-color: #ff00ff\">Agent tiếp theo: booking_agent</span>                                                          \n",
       "</pre>\n"
      ],
      "text/plain": [
       "\u001b[2;36m[09/30/25 15:08:17]\u001b[0m\u001b[2;36m \u001b[0m\u001b[34mINFO    \u001b[0m ℹ️  \u001b[95mAgent tiếp theo: booking_agent\u001b[0m                                                          \n"
      ]
     },
     "metadata": {},
     "output_type": "display_data"
    },
    {
     "name": "stdout",
     "output_type": "stream",
     "text": [
      "================================ Human Message =================================\n",
      "\n",
      "cho anh chiều cn 3h nhe\n",
      "None\n",
      "=================================="
     ]
    },
    {
     "data": {
      "text/html": [
       "<pre style=\"white-space:pre;overflow-x:auto;line-height:normal;font-family:Menlo,'DejaVu Sans Mono',consolas,'Courier New',monospace\"><span style=\"color: #7fbfbf; text-decoration-color: #7fbfbf\">[09/30/25 15:08:18] </span><span style=\"color: #000080; text-decoration-color: #000080\">INFO    </span> ℹ️  <span style=\"color: #ff00ff; text-decoration-color: #ff00ff\">Ngày khách đặt: </span><span style=\"color: #008080; text-decoration-color: #008080; font-weight: bold\">2025</span><span style=\"color: #ff00ff; text-decoration-color: #ff00ff\">-</span><span style=\"color: #008080; text-decoration-color: #008080; font-weight: bold\">10</span><span style=\"color: #ff00ff; text-decoration-color: #ff00ff\">-</span><span style=\"color: #008080; text-decoration-color: #008080; font-weight: bold\">05</span>                                                              \n",
       "</pre>\n"
      ],
      "text/plain": [
       "\u001b[2;36m[09/30/25 15:08:18]\u001b[0m\u001b[2;36m \u001b[0m\u001b[34mINFO    \u001b[0m ℹ️  \u001b[95mNgày khách đặt: \u001b[0m\u001b[1;36m2025\u001b[0m\u001b[95m-\u001b[0m\u001b[1;36m10\u001b[0m\u001b[95m-\u001b[0m\u001b[1;36m05\u001b[0m                                                              \n"
      ]
     },
     "metadata": {},
     "output_type": "display_data"
    },
    {
     "name": "stdout",
     "output_type": "stream",
     "text": [
      " Ai Message ==================================\n",
      "Tool Calls:\n",
      "  resolve_weekday_to_date_tool (call_oadEtqOnbSBRUguXvxevlqNX)\n",
      " Call ID: call_oadEtqOnbSBRUguXvxevlqNX\n",
      "  Args:\n",
      "    weekday: Sunday\n",
      "    next_week: 1\n",
      "None\n",
      "================================= Tool Message =================================\n",
      "Name: resolve_weekday_to_date_tool\n",
      "\n",
      "Ngày khách đặt: 2025-10-05\n",
      "None\n"
     ]
    },
    {
     "data": {
      "text/html": [
       "<pre style=\"white-space:pre;overflow-x:auto;line-height:normal;font-family:Menlo,'DejaVu Sans Mono',consolas,'Courier New',monospace\"><span style=\"color: #7fbfbf; text-decoration-color: #7fbfbf\">[09/30/25 15:08:19] </span><span style=\"color: #000080; text-decoration-color: #000080\">INFO    </span> ℹ️  <span style=\"color: #ff00ff; text-decoration-color: #ff00ff\">check_available_booking được gọi</span>                                                        \n",
       "</pre>\n"
      ],
      "text/plain": [
       "\u001b[2;36m[09/30/25 15:08:19]\u001b[0m\u001b[2;36m \u001b[0m\u001b[34mINFO    \u001b[0m ℹ️  \u001b[95mcheck_available_booking được gọi\u001b[0m                                                        \n"
      ]
     },
     "metadata": {},
     "output_type": "display_data"
    },
    {
     "name": "stdout",
     "output_type": "stream",
     "text": [
      "================================== Ai Message ==================================\n",
      "Tool Calls:\n",
      "  check_available_booking_tool (call_5wXbq4KxSIYOsRLa8arc53gJ)\n",
      " Call ID: call_5wXbq4KxSIYOsRLa8arc53gJ\n",
      "  Args:\n",
      "    booking_date_new: 2025-10-05\n",
      "    start_time_new: 15:00:00\n",
      "    total_time: 60\n",
      "    k: 1\n",
      "None\n"
     ]
    },
    {
     "data": {
      "text/html": [
       "<pre style=\"white-space:pre;overflow-x:auto;line-height:normal;font-family:Menlo,'DejaVu Sans Mono',consolas,'Courier New',monospace\"><span style=\"color: #7fbfbf; text-decoration-color: #7fbfbf\">[09/30/25 15:08:20] </span><span style=\"color: #000080; text-decoration-color: #000080\">INFO    </span> ℹ️  <span style=\"color: #ff00ff; text-decoration-color: #ff00ff\">Khách đặt ngày: </span><span style=\"color: #008080; text-decoration-color: #008080; font-weight: bold\">2025</span><span style=\"color: #ff00ff; text-decoration-color: #ff00ff\">-</span><span style=\"color: #008080; text-decoration-color: #008080; font-weight: bold\">10</span><span style=\"color: #ff00ff; text-decoration-color: #ff00ff\">-</span><span style=\"color: #008080; text-decoration-color: #008080; font-weight: bold\">05</span><span style=\"color: #ff00ff; text-decoration-color: #ff00ff\"> vào lúc: </span><span style=\"color: #00ff00; text-decoration-color: #00ff00; font-weight: bold\">15:00:00</span>                                            \n",
       "</pre>\n"
      ],
      "text/plain": [
       "\u001b[2;36m[09/30/25 15:08:20]\u001b[0m\u001b[2;36m \u001b[0m\u001b[34mINFO    \u001b[0m ℹ️  \u001b[95mKhách đặt ngày: \u001b[0m\u001b[1;36m2025\u001b[0m\u001b[95m-\u001b[0m\u001b[1;36m10\u001b[0m\u001b[95m-\u001b[0m\u001b[1;36m05\u001b[0m\u001b[95m vào lúc: \u001b[0m\u001b[1;92m15:00:00\u001b[0m                                            \n"
      ]
     },
     "metadata": {},
     "output_type": "display_data"
    },
    {
     "data": {
      "text/html": [
       "<pre style=\"white-space:pre;overflow-x:auto;line-height:normal;font-family:Menlo,'DejaVu Sans Mono',consolas,'Courier New',monospace\"><span style=\"color: #7fbfbf; text-decoration-color: #7fbfbf\">                    </span><span style=\"color: #000080; text-decoration-color: #000080\">INFO    </span> ℹ️  <span style=\"color: #ff00ff; text-decoration-color: #ff00ff\">Thời gian kết thúc: </span><span style=\"color: #00ff00; text-decoration-color: #00ff00; font-weight: bold\">16:00:00</span>                                                            \n",
       "</pre>\n"
      ],
      "text/plain": [
       "\u001b[2;36m                   \u001b[0m\u001b[2;36m \u001b[0m\u001b[34mINFO    \u001b[0m ℹ️  \u001b[95mThời gian kết thúc: \u001b[0m\u001b[1;92m16:00:00\u001b[0m                                                            \n"
      ]
     },
     "metadata": {},
     "output_type": "display_data"
    },
    {
     "data": {
      "text/html": [
       "<pre style=\"white-space:pre;overflow-x:auto;line-height:normal;font-family:Menlo,'DejaVu Sans Mono',consolas,'Courier New',monospace\"><span style=\"color: #7fbfbf; text-decoration-color: #7fbfbf\">                    </span><span style=\"color: #000080; text-decoration-color: #000080\">INFO    </span> ℹ️  <span style=\"color: #ff00ff; text-decoration-color: #ff00ff\">Tìm thấy phòng và nhân viên khả dụng</span>                                                    \n",
       "</pre>\n"
      ],
      "text/plain": [
       "\u001b[2;36m                   \u001b[0m\u001b[2;36m \u001b[0m\u001b[34mINFO    \u001b[0m ℹ️  \u001b[95mTìm thấy phòng và nhân viên khả dụng\u001b[0m                                                    \n"
      ]
     },
     "metadata": {},
     "output_type": "display_data"
    },
    {
     "data": {
      "text/html": [
       "<pre style=\"white-space:pre;overflow-x:auto;line-height:normal;font-family:Menlo,'DejaVu Sans Mono',consolas,'Courier New',monospace\"><span style=\"color: #7fbfbf; text-decoration-color: #7fbfbf\">                    </span><span style=\"color: #000080; text-decoration-color: #000080\">INFO    </span> ℹ️  <span style=\"color: #ff00ff; text-decoration-color: #ff00ff\">ID phòng khả dụng: </span><span style=\"color: #008080; text-decoration-color: #008080; font-weight: bold\">1</span><span style=\"color: #ff00ff; text-decoration-color: #ff00ff\"> | ID nhân viên khả dụng: </span><span style=\"color: #008080; text-decoration-color: #008080; font-weight: bold\">4</span>                                         \n",
       "</pre>\n"
      ],
      "text/plain": [
       "\u001b[2;36m                   \u001b[0m\u001b[2;36m \u001b[0m\u001b[34mINFO    \u001b[0m ℹ️  \u001b[95mID phòng khả dụng: \u001b[0m\u001b[1;36m1\u001b[0m\u001b[95m | ID nhân viên khả dụng: \u001b[0m\u001b[1;36m4\u001b[0m                                         \n"
      ]
     },
     "metadata": {},
     "output_type": "display_data"
    },
    {
     "data": {
      "text/html": [
       "<pre style=\"white-space:pre;overflow-x:auto;line-height:normal;font-family:Menlo,'DejaVu Sans Mono',consolas,'Courier New',monospace\"><span style=\"color: #7fbfbf; text-decoration-color: #7fbfbf\">                    </span><span style=\"color: #000080; text-decoration-color: #000080\">INFO    </span> ℹ️  <span style=\"color: #ff00ff; text-decoration-color: #ff00ff\">Kiểm tra phòng và nhân viên thành công</span>                                                  \n",
       "</pre>\n"
      ],
      "text/plain": [
       "\u001b[2;36m                   \u001b[0m\u001b[2;36m \u001b[0m\u001b[34mINFO    \u001b[0m ℹ️  \u001b[95mKiểm tra phòng và nhân viên thành công\u001b[0m                                                  \n"
      ]
     },
     "metadata": {},
     "output_type": "display_data"
    },
    {
     "name": "stdout",
     "output_type": "stream",
     "text": [
      "================================= Tool Message =================================\n",
      "Name: check_available_booking_tool\n",
      "\n",
      "Thông báo khách có lịch trống\n",
      "None\n",
      "================================== Ai Message ==================================\n",
      "\n",
      "Anh Long muốn đặt dịch vụ Trị liệu giác quan bằng mùi hương vào chiều Chủ nhật, ngày 05/10/2025 lúc 15h, thời gian 60 phút. Lịch bên em hiện đang còn trống ạ.\n",
      "\n",
      "Anh có muốn em giữ lịch cho anh luôn không ạ? Nếu có, anh có muốn ghi chú gì thêm cho lịch hẹn không?\n",
      "None\n",
      "================================== Ai Message ==================================\n",
      "Name: booking_agent_node\n",
      "\n",
      "Anh Long muốn đặt dịch vụ Trị liệu giác quan bằng mùi hương vào chiều Chủ nhật, ngày 05/10/2025 lúc 15h, thời gian 60 phút. Lịch bên em hiện đang còn trống ạ.\n",
      "\n",
      "Anh có muốn em giữ lịch cho anh luôn không ạ? Nếu có, anh có muốn ghi chú gì thêm cho lịch hẹn không?\n",
      "None\n"
     ]
    }
   ],
   "source": [
    "state[\"user_input\"] = (\n",
    "    \"cho anh chiều cn 3h nhe\"\n",
    ")\n",
    "state[\"chat_id\"] = \"10\"\n",
    "\n",
    "await test_bot(graph, state, config, \"updates\")"
   ]
  },
  {
   "cell_type": "code",
   "execution_count": 5,
   "metadata": {},
   "outputs": [
    {
     "data": {
      "text/html": [
       "<pre style=\"white-space:pre;overflow-x:auto;line-height:normal;font-family:Menlo,'DejaVu Sans Mono',consolas,'Courier New',monospace\"><span style=\"color: #7fbfbf; text-decoration-color: #7fbfbf\">[09/30/25 15:08:24] </span><span style=\"color: #000080; text-decoration-color: #000080\">INFO    </span> ℹ️  <span style=\"color: #ff00ff; text-decoration-color: #ff00ff\">Thông tin của khách: - Tên: Long | - Số điện thoại: </span><span style=\"color: #008080; text-decoration-color: #008080; font-weight: bold\">123</span><span style=\"color: #ff00ff; text-decoration-color: #ff00ff\"> | - Email: </span><span style=\"color: #800080; text-decoration-color: #800080; font-style: italic\">None</span>                 \n",
       "</pre>\n"
      ],
      "text/plain": [
       "\u001b[2;36m[09/30/25 15:08:24]\u001b[0m\u001b[2;36m \u001b[0m\u001b[34mINFO    \u001b[0m ℹ️  \u001b[95mThông tin của khách: - Tên: Long | - Số điện thoại: \u001b[0m\u001b[1;36m123\u001b[0m\u001b[95m | - Email: \u001b[0m\u001b[3;35mNone\u001b[0m                 \n"
      ]
     },
     "metadata": {},
     "output_type": "display_data"
    },
    {
     "data": {
      "text/html": [
       "<pre style=\"white-space:pre;overflow-x:auto;line-height:normal;font-family:Menlo,'DejaVu Sans Mono',consolas,'Courier New',monospace\"><span style=\"color: #7fbfbf; text-decoration-color: #7fbfbf\">                    </span><span style=\"color: #000080; text-decoration-color: #000080\">INFO    </span> ℹ️  <span style=\"color: #ff00ff; text-decoration-color: #ff00ff\">New customer: </span><span style=\"color: #ff0000; text-decoration-color: #ff0000; font-style: italic\">False</span>                                                                     \n",
       "</pre>\n"
      ],
      "text/plain": [
       "\u001b[2;36m                   \u001b[0m\u001b[2;36m \u001b[0m\u001b[34mINFO    \u001b[0m ℹ️  \u001b[95mNew customer: \u001b[0m\u001b[3;91mFalse\u001b[0m                                                                     \n"
      ]
     },
     "metadata": {},
     "output_type": "display_data"
    },
    {
     "data": {
      "text/html": [
       "<pre style=\"white-space:pre;overflow-x:auto;line-height:normal;font-family:Menlo,'DejaVu Sans Mono',consolas,'Courier New',monospace\"><span style=\"color: #7fbfbf; text-decoration-color: #7fbfbf\">                    </span><span style=\"color: #000080; text-decoration-color: #000080\">INFO    </span> ℹ️  <span style=\"color: #ff00ff; text-decoration-color: #ff00ff\">Yêu cầu của khách: ko anh ko có ghi chú gì</span>                                              \n",
       "</pre>\n"
      ],
      "text/plain": [
       "\u001b[2;36m                   \u001b[0m\u001b[2;36m \u001b[0m\u001b[34mINFO    \u001b[0m ℹ️  \u001b[95mYêu cầu của khách: ko anh ko có ghi chú gì\u001b[0m                                              \n"
      ]
     },
     "metadata": {},
     "output_type": "display_data"
    },
    {
     "data": {
      "text/html": [
       "<pre style=\"white-space:pre;overflow-x:auto;line-height:normal;font-family:Menlo,'DejaVu Sans Mono',consolas,'Courier New',monospace\"><span style=\"color: #7fbfbf; text-decoration-color: #7fbfbf\">[09/30/25 15:08:25] </span><span style=\"color: #000080; text-decoration-color: #000080\">INFO    </span> ℹ️  <span style=\"color: #ff00ff; text-decoration-color: #ff00ff\">Agent tiếp theo: booking_agent</span>                                                          \n",
       "</pre>\n"
      ],
      "text/plain": [
       "\u001b[2;36m[09/30/25 15:08:25]\u001b[0m\u001b[2;36m \u001b[0m\u001b[34mINFO    \u001b[0m ℹ️  \u001b[95mAgent tiếp theo: booking_agent\u001b[0m                                                          \n"
      ]
     },
     "metadata": {},
     "output_type": "display_data"
    },
    {
     "name": "stdout",
     "output_type": "stream",
     "text": [
      "================================ Human Message =================================\n",
      "\n",
      "ko anh ko có ghi chú gì\n",
      "None\n",
      "================================== Ai Message ==================================\n",
      "Tool Calls:\n",
      "  create_appointment_tool (call_fH4rOqHCug69fxuCdBV1ydhA)\n",
      " Call ID: call_fH4rOqHCug69fxuCdBV1ydhA\n",
      "  Args:\n",
      "    note: Không có\n",
      "    companion_name: None\n",
      "    companion_phone: None"
     ]
    },
    {
     "data": {
      "text/html": [
       "<pre style=\"white-space:pre;overflow-x:auto;line-height:normal;font-family:Menlo,'DejaVu Sans Mono',consolas,'Courier New',monospace\"><span style=\"color: #7fbfbf; text-decoration-color: #7fbfbf\">[09/30/25 15:08:26] </span><span style=\"color: #000080; text-decoration-color: #000080\">INFO    </span> ℹ️  <span style=\"color: #ff00ff; text-decoration-color: #ff00ff\">create_appointment_tool được gọi</span>                                                        \n",
       "</pre>\n"
      ],
      "text/plain": [
       "\u001b[2;36m[09/30/25 15:08:26]\u001b[0m\u001b[2;36m \u001b[0m\u001b[34mINFO    \u001b[0m ℹ️  \u001b[95mcreate_appointment_tool được gọi\u001b[0m                                                        \n"
      ]
     },
     "metadata": {},
     "output_type": "display_data"
    },
    {
     "name": "stdout",
     "output_type": "stream",
     "text": [
      "\n",
      "None"
     ]
    },
    {
     "data": {
      "text/html": [
       "<pre style=\"white-space:pre;overflow-x:auto;line-height:normal;font-family:Menlo,'DejaVu Sans Mono',consolas,'Courier New',monospace\"><span style=\"color: #7fbfbf; text-decoration-color: #7fbfbf\">                    </span><span style=\"color: #000080; text-decoration-color: #000080\">INFO    </span> ℹ️  <span style=\"color: #ff00ff; text-decoration-color: #ff00ff\">Service có thông tin</span>                                                                    \n",
       "</pre>\n"
      ],
      "text/plain": [
       "\u001b[2;36m                   \u001b[0m\u001b[2;36m \u001b[0m\u001b[34mINFO    \u001b[0m ℹ️  \u001b[95mService có thông tin\u001b[0m                                                                    \n"
      ]
     },
     "metadata": {},
     "output_type": "display_data"
    },
    {
     "name": "stdout",
     "output_type": "stream",
     "text": [
      "\n"
     ]
    },
    {
     "data": {
      "text/html": [
       "<pre style=\"white-space:pre;overflow-x:auto;line-height:normal;font-family:Menlo,'DejaVu Sans Mono',consolas,'Courier New',monospace\"><span style=\"color: #7fbfbf; text-decoration-color: #7fbfbf\">                    </span><span style=\"color: #000080; text-decoration-color: #000080\">INFO    </span> ℹ️  <span style=\"color: #ff00ff; text-decoration-color: #ff00ff\">Đã đủ thông tin của khách -&gt; tạo lịch hẹn</span>                                               \n",
       "</pre>\n"
      ],
      "text/plain": [
       "\u001b[2;36m                   \u001b[0m\u001b[2;36m \u001b[0m\u001b[34mINFO    \u001b[0m ℹ️  \u001b[95mĐã đủ thông tin của khách -> tạo lịch hẹn\u001b[0m                                               \n"
      ]
     },
     "metadata": {},
     "output_type": "display_data"
    },
    {
     "data": {
      "text/html": [
       "<pre style=\"white-space:pre;overflow-x:auto;line-height:normal;font-family:Menlo,'DejaVu Sans Mono',consolas,'Courier New',monospace\"><span style=\"color: #7fbfbf; text-decoration-color: #7fbfbf\">                    </span><span style=\"color: #000080; text-decoration-color: #000080\">INFO    </span> ℹ️  <span style=\"color: #ff00ff; text-decoration-color: #ff00ff\">Tạo bản ghi trong appointments thành công với ID: </span><span style=\"color: #008080; text-decoration-color: #008080; font-weight: bold\">49</span>                                    \n",
       "</pre>\n"
      ],
      "text/plain": [
       "\u001b[2;36m                   \u001b[0m\u001b[2;36m \u001b[0m\u001b[34mINFO    \u001b[0m ℹ️  \u001b[95mTạo bản ghi trong appointments thành công với ID: \u001b[0m\u001b[1;36m49\u001b[0m                                    \n"
      ]
     },
     "metadata": {},
     "output_type": "display_data"
    },
    {
     "data": {
      "text/html": [
       "<pre style=\"white-space:pre;overflow-x:auto;line-height:normal;font-family:Menlo,'DejaVu Sans Mono',consolas,'Courier New',monospace\"><span style=\"color: #7fbfbf; text-decoration-color: #7fbfbf\">                    </span><span style=\"color: #000080; text-decoration-color: #000080\">INFO    </span> ℹ️  <span style=\"color: #ff00ff; text-decoration-color: #ff00ff\">Thêm các bản ghi vào trong appointment_services thành công</span>                              \n",
       "</pre>\n"
      ],
      "text/plain": [
       "\u001b[2;36m                   \u001b[0m\u001b[2;36m \u001b[0m\u001b[34mINFO    \u001b[0m ℹ️  \u001b[95mThêm các bản ghi vào trong appointment_services thành công\u001b[0m                              \n"
      ]
     },
     "metadata": {},
     "output_type": "display_data"
    },
    {
     "data": {
      "text/html": [
       "<pre style=\"white-space:pre;overflow-x:auto;line-height:normal;font-family:Menlo,'DejaVu Sans Mono',consolas,'Courier New',monospace\"><span style=\"color: #7fbfbf; text-decoration-color: #7fbfbf\">[09/30/25 15:08:27] </span><span style=\"color: #000080; text-decoration-color: #000080\">INFO    </span> ℹ️  <span style=\"color: #ff00ff; text-decoration-color: #ff00ff\">Đặt lịch thành công</span>                                                                     \n",
       "</pre>\n"
      ],
      "text/plain": [
       "\u001b[2;36m[09/30/25 15:08:27]\u001b[0m\u001b[2;36m \u001b[0m\u001b[34mINFO    \u001b[0m ℹ️  \u001b[95mĐặt lịch thành công\u001b[0m                                                                     \n"
      ]
     },
     "metadata": {},
     "output_type": "display_data"
    },
    {
     "name": "stdout",
     "output_type": "stream",
     "text": [
      "================================= Tool Message =================================\n",
      "Name: create_appointment_tool\n",
      "\n",
      "Đặt lịch cho khách thành công, đây là chi tiết đặt lịch của khách:\n",
      "Thời gian đặt: 2025-10-05\n",
      "Thơi gian bắt đầu: 15:00:00\n",
      "Thời gian kết thúc: 16:00:00\n",
      "Tổng thời gian: 60 phút\n",
      "Ghi chú: Không có\n",
      "\n",
      "Tên khách: Long\n",
      "SĐT khách: 123\n",
      "Email khách: Không có\n",
      "\n",
      "Nhân viên thực hiện: Lê Minh Châu\n",
      "Phòng: Phòng 101\n",
      "\n",
      "Các dịch vụ khách đã đăng ký:\n",
      "STT: 1\n",
      "Loại dịch vụ: nam\n",
      "Tên dịch vụ: Trị liệu giác quan bằng mùi hương\n",
      "Thời gian: 60\n",
      "Giá: 400000VNĐ\n",
      "Giảm giá: 10.0%\n",
      "Giá sau giảm: 360000VNĐ\n",
      "\n",
      "Tổng giá tiền: 360000VNĐ\n",
      "Giảm giá: 0%\n",
      "Tổng tiền sau giảm: 360000VNĐ\n",
      "\n",
      "\n",
      "None\n",
      "================================== Ai Message ==================================\n",
      "\n",
      "Anh Long ơi, lịch hẹn dịch vụ Trị liệu giác quan bằng mùi hương vào chiều Chủ nhật, ngày 05/10/2025 lúc 15h đã được đặt thành công rồi ạ. Thời gian thực hiện 60 phút, tổng chi phí sau giảm là 360.000đ. \n",
      "\n",
      "Nếu anh cần hỗ trợ thêm gì hoặc muốn thay đổi lịch, anh cứ nhắn em nhé! Chúc anh sớm khỏe và thư giãn vui vẻ tại SPA AnVie!\n",
      "None\n",
      "================================== Ai Message ==================================\n",
      "Name: booking_agent_node\n",
      "\n",
      "Anh Long ơi, lịch hẹn dịch vụ Trị liệu giác quan bằng mùi hương vào chiều Chủ nhật, ngày 05/10/2025 lúc 15h đã được đặt thành công rồi ạ. Thời gian thực hiện 60 phút, tổng chi phí sau giảm là 360.000đ. \n",
      "\n",
      "Nếu anh cần hỗ trợ thêm gì hoặc muốn thay đổi lịch, anh cứ nhắn em nhé! Chúc anh sớm khỏe và thư giãn vui vẻ tại SPA AnVie!\n",
      "None\n"
     ]
    }
   ],
   "source": [
    "state[\"user_input\"] = (\n",
    "    \"ko anh ko có ghi chú gì\"\n",
    ")\n",
    "state[\"chat_id\"] = \"10\"\n",
    "\n",
    "await test_bot(graph, state, config, \"updates\")"
   ]
  },
  {
   "cell_type": "code",
   "execution_count": null,
   "metadata": {},
   "outputs": [],
   "source": [
    "state[\"user_input\"] = (\n",
    "    \"à hay cho anh đổi bể sục nóng lạnh 30p thành 60p đi em\"\n",
    ")\n",
    "state[\"chat_id\"] = \"10\"\n",
    "\n",
    "await test_bot(graph, state, config, \"updates\")"
   ]
  },
  {
   "cell_type": "code",
   "execution_count": null,
   "metadata": {},
   "outputs": [],
   "source": [
    "state[\"user_input\"] = (\n",
    "    \"chiều t7 tuần này 3h được không em\"\n",
    ")\n",
    "state[\"chat_id\"] = \"10\"\n",
    "\n",
    "await test_bot(graph, state, config, \"updates\")"
   ]
  },
  {
   "cell_type": "code",
   "execution_count": null,
   "metadata": {},
   "outputs": [],
   "source": [
    "state[\"user_input\"] = (\n",
    "    \"ok em\"\n",
    ")\n",
    "state[\"chat_id\"] = \"10\"\n",
    "\n",
    "await test_bot(graph, state, config, \"updates\")"
   ]
  },
  {
   "cell_type": "code",
   "execution_count": null,
   "metadata": {},
   "outputs": [],
   "source": [
    "graph.get_state(config).values"
   ]
  },
  {
   "cell_type": "markdown",
   "metadata": {},
   "source": [
    "----"
   ]
  },
  {
   "cell_type": "code",
   "execution_count": 1,
   "metadata": {},
   "outputs": [],
   "source": [
    "from database.connection import supabase_client, embeddings_model\n",
    "from repository.sync_repo import AppointmentRepo, CustomerRepo, RoomRepo, StaffRepo, ServiceRepo\n",
    "from core.utils.function import free_slots_with_staff\n",
    "from dotenv import load_dotenv\n",
    "from datetime import date, time, datetime\n",
    "import random\n",
    "import os\n",
    "\n",
    "load_dotenv(override=True)\n",
    "\n",
    "appointment_repo = AppointmentRepo(supabase_client=supabase_client)\n",
    "room_repo = RoomRepo(supabase_client=supabase_client)\n",
    "staff_repo = StaffRepo(supabase_client=supabase_client)\n",
    "service_repo = ServiceRepo(supabase_client=supabase_client)\n",
    "customer_repo = CustomerRepo(supabase_client=supabase_client)\n",
    "\n",
    "OPEN_TIME_STR = os.getenv(\"OPEN_TIME_STR\", \"08:00:00\")\n",
    "CLOSE_TIME_STR = os.getenv(\"CLOSE_TIME_STR\", \"21:00:00\")"
   ]
  },
  {
   "cell_type": "code",
   "execution_count": null,
   "metadata": {},
   "outputs": [],
   "source": [
    "data = appointment_repo.get_appointment_details(45)\n",
    "data"
   ]
  }
 ],
 "metadata": {
  "kernelspec": {
   "display_name": ".sellbot",
   "language": "python",
   "name": "python3"
  },
  "language_info": {
   "codemirror_mode": {
    "name": "ipython",
    "version": 3
   },
   "file_extension": ".py",
   "mimetype": "text/x-python",
   "name": "python",
   "nbconvert_exporter": "python",
   "pygments_lexer": "ipython3",
   "version": "3.12.5"
  }
 },
 "nbformat": 4,
 "nbformat_minor": 2
}
