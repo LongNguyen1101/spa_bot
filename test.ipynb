{
 "cells": [
  {
   "cell_type": "code",
   "execution_count": 1,
   "metadata": {},
   "outputs": [],
   "source": [
    "from core.graph.build_graph import create_main_graph\n",
    "from core.graph.state import init_state\n",
    "from core.utils.function import test_bot\n",
    "\n",
    "\n",
    "graph = create_main_graph()\n",
    "state = init_state()\n",
    "\n",
    "config = {\n",
    "    \"configurable\": \n",
    "    {\n",
    "        \"thread_id\": \"1\"\n",
    "    }\n",
    "}"
   ]
  },
  {
   "cell_type": "code",
   "execution_count": 2,
   "metadata": {},
   "outputs": [
    {
     "data": {
      "text/html": [
       "<pre style=\"white-space:pre;overflow-x:auto;line-height:normal;font-family:Menlo,'DejaVu Sans Mono',consolas,'Courier New',monospace\"><span style=\"color: #7fbfbf; text-decoration-color: #7fbfbf\">[09/23/25 11:49:31] </span><span style=\"color: #000080; text-decoration-color: #000080\">INFO    </span> ℹ️  <span style=\"color: #ff00ff; text-decoration-color: #ff00ff\">Tạo mới hoặc lấy thông tin khách: </span><span style=\"color: #ff00ff; text-decoration-color: #ff00ff; font-weight: bold\">{</span><span style=\"color: #008000; text-decoration-color: #008000\">'id'</span><span style=\"color: #ff00ff; text-decoration-color: #ff00ff\">: </span><span style=\"color: #008080; text-decoration-color: #008080; font-weight: bold\">210</span><span style=\"color: #ff00ff; text-decoration-color: #ff00ff\">, </span><span style=\"color: #008000; text-decoration-color: #008000\">'name'</span><span style=\"color: #ff00ff; text-decoration-color: #ff00ff\">: </span><span style=\"color: #008000; text-decoration-color: #008000\">'Long'</span><span style=\"color: #ff00ff; text-decoration-color: #ff00ff\">, </span><span style=\"color: #008000; text-decoration-color: #008000\">'phone'</span><span style=\"color: #ff00ff; text-decoration-color: #ff00ff\">: </span><span style=\"color: #008000; text-decoration-color: #008000\">'123'</span><span style=\"color: #ff00ff; text-decoration-color: #ff00ff\">, </span><span style=\"color: #008000; text-decoration-color: #008000\">'email'</span><span style=\"color: #ff00ff; text-decoration-color: #ff00ff\">: </span> \n",
       "<span style=\"color: #7fbfbf; text-decoration-color: #7fbfbf\">                    </span>         <span style=\"color: #800080; text-decoration-color: #800080; font-style: italic\">None</span><span style=\"color: #ff00ff; text-decoration-color: #ff00ff\">, </span><span style=\"color: #008000; text-decoration-color: #008000\">'chat_id'</span><span style=\"color: #ff00ff; text-decoration-color: #ff00ff\">: </span><span style=\"color: #008000; text-decoration-color: #008000\">'10'</span><span style=\"color: #ff00ff; text-decoration-color: #ff00ff\">, </span><span style=\"color: #008000; text-decoration-color: #008000\">'uuid'</span><span style=\"color: #ff00ff; text-decoration-color: #ff00ff\">: </span><span style=\"color: #800080; text-decoration-color: #800080; font-style: italic\">None</span><span style=\"color: #ff00ff; text-decoration-color: #ff00ff; font-weight: bold\">}</span>                                                       \n",
       "</pre>\n"
      ],
      "text/plain": [
       "\u001b[2;36m[09/23/25 11:49:31]\u001b[0m\u001b[2;36m \u001b[0m\u001b[34mINFO    \u001b[0m ℹ️  \u001b[95mTạo mới hoặc lấy thông tin khách: \u001b[0m\u001b[1;95m{\u001b[0m\u001b[32m'id'\u001b[0m\u001b[95m: \u001b[0m\u001b[1;36m210\u001b[0m\u001b[95m, \u001b[0m\u001b[32m'name'\u001b[0m\u001b[95m: \u001b[0m\u001b[32m'Long'\u001b[0m\u001b[95m, \u001b[0m\u001b[32m'phone'\u001b[0m\u001b[95m: \u001b[0m\u001b[32m'123'\u001b[0m\u001b[95m, \u001b[0m\u001b[32m'email'\u001b[0m\u001b[95m: \u001b[0m \n",
       "\u001b[2;36m                    \u001b[0m         \u001b[3;35mNone\u001b[0m\u001b[95m, \u001b[0m\u001b[32m'chat_id'\u001b[0m\u001b[95m: \u001b[0m\u001b[32m'10'\u001b[0m\u001b[95m, \u001b[0m\u001b[32m'uuid'\u001b[0m\u001b[95m: \u001b[0m\u001b[3;35mNone\u001b[0m\u001b[1;95m}\u001b[0m                                                       \n"
      ]
     },
     "metadata": {},
     "output_type": "display_data"
    },
    {
     "data": {
      "text/html": [
       "<pre style=\"white-space:pre;overflow-x:auto;line-height:normal;font-family:Menlo,'DejaVu Sans Mono',consolas,'Courier New',monospace\"><span style=\"color: #7fbfbf; text-decoration-color: #7fbfbf\">                    </span><span style=\"color: #000080; text-decoration-color: #000080\">INFO    </span> ℹ️  <span style=\"color: #ff00ff; text-decoration-color: #ff00ff\">Yêu cầu của khách: hôm qua anh có ghé qua cơ sở bên nguyễn văn cù nhưng nhân viên không</span> \n",
       "<span style=\"color: #7fbfbf; text-decoration-color: #7fbfbf\">                    </span>         <span style=\"color: #ff00ff; text-decoration-color: #ff00ff\">nhiệt tình</span>                                                                                 \n",
       "</pre>\n"
      ],
      "text/plain": [
       "\u001b[2;36m                   \u001b[0m\u001b[2;36m \u001b[0m\u001b[34mINFO    \u001b[0m ℹ️  \u001b[95mYêu cầu của khách: hôm qua anh có ghé qua cơ sở bên nguyễn văn cù nhưng nhân viên không\u001b[0m \n",
       "\u001b[2;36m                    \u001b[0m         \u001b[95mnhiệt tình\u001b[0m                                                                                 \n"
      ]
     },
     "metadata": {},
     "output_type": "display_data"
    },
    {
     "data": {
      "text/html": [
       "<pre style=\"white-space:pre;overflow-x:auto;line-height:normal;font-family:Menlo,'DejaVu Sans Mono',consolas,'Courier New',monospace\"><span style=\"color: #7fbfbf; text-decoration-color: #7fbfbf\">[09/23/25 11:49:33] </span><span style=\"color: #000080; text-decoration-color: #000080\">INFO    </span> ℹ️  <span style=\"color: #ff00ff; text-decoration-color: #ff00ff\">Agent tiếp theo: complaint_agent</span>                                                        \n",
       "</pre>\n"
      ],
      "text/plain": [
       "\u001b[2;36m[09/23/25 11:49:33]\u001b[0m\u001b[2;36m \u001b[0m\u001b[34mINFO    \u001b[0m ℹ️  \u001b[95mAgent tiếp theo: complaint_agent\u001b[0m                                                        \n"
      ]
     },
     "metadata": {},
     "output_type": "display_data"
    },
    {
     "name": "stdout",
     "output_type": "stream",
     "text": [
      "================================\u001b[1m Human Message \u001b[0m=================================\n",
      "\n",
      "hôm qua anh có ghé qua cơ sở bên nguyễn văn cù nhưng nhân viên không nhiệt tình\n",
      "None\n"
     ]
    },
    {
     "data": {
      "text/html": [
       "<pre style=\"white-space:pre;overflow-x:auto;line-height:normal;font-family:Menlo,'DejaVu Sans Mono',consolas,'Courier New',monospace\"><span style=\"color: #7fbfbf; text-decoration-color: #7fbfbf\">[09/23/25 11:49:34] </span><span style=\"color: #000080; text-decoration-color: #000080\">INFO    </span> ℹ️  <span style=\"color: #ff00ff; text-decoration-color: #ff00ff\">send_complaint_tool được gọi</span>                                                            \n",
       "</pre>\n"
      ],
      "text/plain": [
       "\u001b[2;36m[09/23/25 11:49:34]\u001b[0m\u001b[2;36m \u001b[0m\u001b[34mINFO    \u001b[0m ℹ️  \u001b[95msend_complaint_tool được gọi\u001b[0m                                                            \n"
      ]
     },
     "metadata": {},
     "output_type": "display_data"
    },
    {
     "name": "stdout",
     "output_type": "stream",
     "text": [
      "==================================\u001b[1m Ai Message \u001b[0m==================================\n",
      "Tool Calls:\n",
      "  send_complaint_tool (call_CtXgvGHIlsX9nkJw0k6j5jU5)\n",
      " Call ID: call_CtXgvGHIlsX9nkJw0k6j5jU5\n",
      "  Args:\n",
      "    summary: Khách hàng Long phản ánh nhân viên tại cơ sở Nguyễn Văn Cù không nhiệt tình khi khách ghé qua ngày hôm qua.\n",
      "    type: staff_behavior\n",
      "    priority: medium\n",
      "    appointment_id: None\n",
      "None\n"
     ]
    },
    {
     "data": {
      "text/html": [
       "<pre style=\"white-space:pre;overflow-x:auto;line-height:normal;font-family:Menlo,'DejaVu Sans Mono',consolas,'Courier New',monospace\"><span style=\"color: #7fbfbf; text-decoration-color: #7fbfbf\">[09/23/25 11:49:37] </span><span style=\"color: #000080; text-decoration-color: #000080\">INFO    </span> ℹ️  <span style=\"color: #ff00ff; text-decoration-color: #ff00ff\">Send to google sheet successfully</span>                                                       \n",
       "</pre>\n"
      ],
      "text/plain": [
       "\u001b[2;36m[09/23/25 11:49:37]\u001b[0m\u001b[2;36m \u001b[0m\u001b[34mINFO    \u001b[0m ℹ️  \u001b[95mSend to google sheet successfully\u001b[0m                                                       \n"
      ]
     },
     "metadata": {},
     "output_type": "display_data"
    },
    {
     "name": "stdout",
     "output_type": "stream",
     "text": [
      "=================================\u001b[1m Tool Message \u001b[0m=================================\n",
      "Name: send_complaint_tool\n",
      "\n",
      "Khiếu nại đã được gửi đi, thông báo cho khách\n",
      "None\n",
      "==================================\u001b[1m Ai Message \u001b[0m==================================\n",
      "\n",
      "Cảm ơn anh Long đã phản ánh. Em đã ghi nhận khiếu nại về việc nhân viên tại cơ sở Nguyễn Văn Cù không nhiệt tình và sẽ chuyển thông tin này cho bộ phận chăm sóc khách hàng xem xét và xử lý sớm nhất. Anh còn cần em hỗ trợ gì thêm không ạ?\n",
      "None\n",
      "==================================\u001b[1m Ai Message \u001b[0m==================================\n",
      "Name: complaint_agent_node\n",
      "\n",
      "Cảm ơn anh Long đã phản ánh. Em đã ghi nhận khiếu nại về việc nhân viên tại cơ sở Nguyễn Văn Cù không nhiệt tình và sẽ chuyển thông tin này cho bộ phận chăm sóc khách hàng xem xét và xử lý sớm nhất. Anh còn cần em hỗ trợ gì thêm không ạ?\n",
      "None\n"
     ]
    }
   ],
   "source": [
    "state[\"user_input\"] = (\n",
    "    \"hôm qua anh có ghé qua cơ sở bên nguyễn văn cù nhưng nhân viên không nhiệt tình\"\n",
    ")\n",
    "state[\"chat_id\"] = \"10\"\n",
    "\n",
    "await test_bot(graph, state, config, \"updates\")"
   ]
  },
  {
   "cell_type": "code",
   "execution_count": 3,
   "metadata": {},
   "outputs": [
    {
     "data": {
      "text/html": [
       "<pre style=\"white-space:pre;overflow-x:auto;line-height:normal;font-family:Menlo,'DejaVu Sans Mono',consolas,'Courier New',monospace\"><span style=\"color: #7fbfbf; text-decoration-color: #7fbfbf\">[09/23/25 11:47:01] </span><span style=\"color: #000080; text-decoration-color: #000080\">INFO    </span> ℹ️  <span style=\"color: #ff00ff; text-decoration-color: #ff00ff\">Thông tin của khách: - Tên: </span><span style=\"color: #800080; text-decoration-color: #800080; font-style: italic\">None</span><span style=\"color: #ff00ff; text-decoration-color: #ff00ff\"> | - Số điện thoại: </span><span style=\"color: #800080; text-decoration-color: #800080; font-style: italic\">None</span><span style=\"color: #ff00ff; text-decoration-color: #ff00ff\"> | - Email: </span><span style=\"color: #800080; text-decoration-color: #800080; font-style: italic\">None</span>                \n",
       "</pre>\n"
      ],
      "text/plain": [
       "\u001b[2;36m[09/23/25 11:47:01]\u001b[0m\u001b[2;36m \u001b[0m\u001b[34mINFO    \u001b[0m ℹ️  \u001b[95mThông tin của khách: - Tên: \u001b[0m\u001b[3;35mNone\u001b[0m\u001b[95m | - Số điện thoại: \u001b[0m\u001b[3;35mNone\u001b[0m\u001b[95m | - Email: \u001b[0m\u001b[3;35mNone\u001b[0m                \n"
      ]
     },
     "metadata": {},
     "output_type": "display_data"
    },
    {
     "data": {
      "text/html": [
       "<pre style=\"white-space:pre;overflow-x:auto;line-height:normal;font-family:Menlo,'DejaVu Sans Mono',consolas,'Courier New',monospace\"><span style=\"color: #7fbfbf; text-decoration-color: #7fbfbf\">                    </span><span style=\"color: #000080; text-decoration-color: #000080\">INFO    </span> ℹ️  <span style=\"color: #ff00ff; text-decoration-color: #ff00ff\">Yêu cầu của khách: tên Long, sđt là </span><span style=\"color: #008080; text-decoration-color: #008080; font-weight: bold\">123</span>                                                 \n",
       "</pre>\n"
      ],
      "text/plain": [
       "\u001b[2;36m                   \u001b[0m\u001b[2;36m \u001b[0m\u001b[34mINFO    \u001b[0m ℹ️  \u001b[95mYêu cầu của khách: tên Long, sđt là \u001b[0m\u001b[1;36m123\u001b[0m                                                 \n"
      ]
     },
     "metadata": {},
     "output_type": "display_data"
    },
    {
     "data": {
      "text/html": [
       "<pre style=\"white-space:pre;overflow-x:auto;line-height:normal;font-family:Menlo,'DejaVu Sans Mono',consolas,'Courier New',monospace\"><span style=\"color: #7fbfbf; text-decoration-color: #7fbfbf\">[09/23/25 11:47:02] </span><span style=\"color: #000080; text-decoration-color: #000080\">INFO    </span> ℹ️  <span style=\"color: #ff00ff; text-decoration-color: #ff00ff\">Agent tiếp theo: complaint_agent</span>                                                        \n",
       "</pre>\n"
      ],
      "text/plain": [
       "\u001b[2;36m[09/23/25 11:47:02]\u001b[0m\u001b[2;36m \u001b[0m\u001b[34mINFO    \u001b[0m ℹ️  \u001b[95mAgent tiếp theo: complaint_agent\u001b[0m                                                        \n"
      ]
     },
     "metadata": {},
     "output_type": "display_data"
    },
    {
     "name": "stdout",
     "output_type": "stream",
     "text": [
      "================================\u001b[1m Human Message \u001b[0m=================================\n",
      "\n",
      "tên Long, sđt là 123\n",
      "None\n"
     ]
    },
    {
     "data": {
      "text/html": [
       "<pre style=\"white-space:pre;overflow-x:auto;line-height:normal;font-family:Menlo,'DejaVu Sans Mono',consolas,'Courier New',monospace\"><span style=\"color: #7fbfbf; text-decoration-color: #7fbfbf\">[09/23/25 11:47:04] </span><span style=\"color: #000080; text-decoration-color: #000080\">INFO    </span> ℹ️  <span style=\"color: #ff00ff; text-decoration-color: #ff00ff\">modify_customer_tool được gọi</span>                                                           \n",
       "</pre>\n"
      ],
      "text/plain": [
       "\u001b[2;36m[09/23/25 11:47:04]\u001b[0m\u001b[2;36m \u001b[0m\u001b[34mINFO    \u001b[0m ℹ️  \u001b[95mmodify_customer_tool được gọi\u001b[0m                                                           \n"
      ]
     },
     "metadata": {},
     "output_type": "display_data"
    },
    {
     "name": "stdout",
     "output_type": "stream",
     "text": [
      "==================================\u001b[1m Ai Message \u001b[0m==================================\n",
      "Tool Calls:\n",
      "  modify_customer_tool (call_KUZpTIJkWaYYLcnCOycedYmM)\n",
      " Call ID: call_KUZpTIJkWaYYLcnCOycedYmM\n",
      "  Args:\n",
      "    new_name: Long\n",
      "    new_phone: 123\n",
      "    new_email: None\n",
      "None\n"
     ]
    },
    {
     "data": {
      "text/html": [
       "<pre style=\"white-space:pre;overflow-x:auto;line-height:normal;font-family:Menlo,'DejaVu Sans Mono',consolas,'Courier New',monospace\"><span style=\"color: #7fbfbf; text-decoration-color: #7fbfbf\">                    </span><span style=\"color: #000080; text-decoration-color: #000080\">INFO    </span> ℹ️  <span style=\"color: #ff00ff; text-decoration-color: #ff00ff\">Kiểm tra khách hàng</span>                                                                     \n",
       "</pre>\n"
      ],
      "text/plain": [
       "\u001b[2;36m                   \u001b[0m\u001b[2;36m \u001b[0m\u001b[34mINFO    \u001b[0m ℹ️  \u001b[95mKiểm tra khách hàng\u001b[0m                                                                     \n"
      ]
     },
     "metadata": {},
     "output_type": "display_data"
    },
    {
     "data": {
      "text/html": [
       "<pre style=\"white-space:pre;overflow-x:auto;line-height:normal;font-family:Menlo,'DejaVu Sans Mono',consolas,'Courier New',monospace\"><span style=\"color: #7fbfbf; text-decoration-color: #7fbfbf\">                    </span><span style=\"color: #000080; text-decoration-color: #000080\">INFO    </span> ℹ️  <span style=\"color: #ff00ff; text-decoration-color: #ff00ff\">Thấy thông tin khách hàng</span>                                                               \n",
       "</pre>\n"
      ],
      "text/plain": [
       "\u001b[2;36m                   \u001b[0m\u001b[2;36m \u001b[0m\u001b[34mINFO    \u001b[0m ℹ️  \u001b[95mThấy thông tin khách hàng\u001b[0m                                                               \n"
      ]
     },
     "metadata": {},
     "output_type": "display_data"
    },
    {
     "data": {
      "text/html": [
       "<pre style=\"white-space:pre;overflow-x:auto;line-height:normal;font-family:Menlo,'DejaVu Sans Mono',consolas,'Courier New',monospace\"><span style=\"color: #7fbfbf; text-decoration-color: #7fbfbf\">                    </span><span style=\"color: #000080; text-decoration-color: #000080\">INFO    </span> ℹ️  <span style=\"color: #ff00ff; text-decoration-color: #ff00ff\">Cập nhật thông tin khách tên: Long | SĐT: </span><span style=\"color: #008080; text-decoration-color: #008080; font-weight: bold\">123</span><span style=\"color: #ff00ff; text-decoration-color: #ff00ff\"> | email: </span><span style=\"color: #800080; text-decoration-color: #800080; font-style: italic\">None</span>                             \n",
       "</pre>\n"
      ],
      "text/plain": [
       "\u001b[2;36m                   \u001b[0m\u001b[2;36m \u001b[0m\u001b[34mINFO    \u001b[0m ℹ️  \u001b[95mCập nhật thông tin khách tên: Long | SĐT: \u001b[0m\u001b[1;36m123\u001b[0m\u001b[95m | email: \u001b[0m\u001b[3;35mNone\u001b[0m                             \n"
      ]
     },
     "metadata": {},
     "output_type": "display_data"
    },
    {
     "data": {
      "text/html": [
       "<pre style=\"white-space:pre;overflow-x:auto;line-height:normal;font-family:Menlo,'DejaVu Sans Mono',consolas,'Courier New',monospace\"><span style=\"color: #7fbfbf; text-decoration-color: #7fbfbf\">[09/23/25 11:47:05] </span><span style=\"color: #000080; text-decoration-color: #000080\">INFO    </span> ℹ️  <span style=\"color: #ff00ff; text-decoration-color: #ff00ff\">Cập nhật thông tin khách thành công</span>                                                     \n",
       "</pre>\n"
      ],
      "text/plain": [
       "\u001b[2;36m[09/23/25 11:47:05]\u001b[0m\u001b[2;36m \u001b[0m\u001b[34mINFO    \u001b[0m ℹ️  \u001b[95mCập nhật thông tin khách thành công\u001b[0m                                                     \n"
      ]
     },
     "metadata": {},
     "output_type": "display_data"
    },
    {
     "name": "stdout",
     "output_type": "stream",
     "text": [
      "=================================\u001b[1m Tool Message \u001b[0m=================================\n",
      "Name: modify_customer_tool\n",
      "\n",
      "Đã cập nhật thông tin khách thành công:\n",
      "- Tên khách hàng: Long\n",
      "- Số điện thoại khách hàng 123\n",
      "- Email khách hàng: None\n",
      "\n",
      "None\n"
     ]
    },
    {
     "data": {
      "text/html": [
       "<pre style=\"white-space:pre;overflow-x:auto;line-height:normal;font-family:Menlo,'DejaVu Sans Mono',consolas,'Courier New',monospace\"><span style=\"color: #7fbfbf; text-decoration-color: #7fbfbf\">[09/23/25 11:47:07] </span><span style=\"color: #000080; text-decoration-color: #000080\">INFO    </span> ℹ️  <span style=\"color: #ff00ff; text-decoration-color: #ff00ff\">send_complaint_tool được gọi</span>                                                            \n",
       "</pre>\n"
      ],
      "text/plain": [
       "\u001b[2;36m[09/23/25 11:47:07]\u001b[0m\u001b[2;36m \u001b[0m\u001b[34mINFO    \u001b[0m ℹ️  \u001b[95msend_complaint_tool được gọi\u001b[0m                                                            \n"
      ]
     },
     "metadata": {},
     "output_type": "display_data"
    },
    {
     "name": "stdout",
     "output_type": "stream",
     "text": [
      "==================================\u001b[1m Ai Message \u001b[0m==================================\n",
      "Tool Calls:\n",
      "  send_complaint_tool (call_2XseuAFWwhyzjVltkFeJaqPq)\n",
      " Call ID: call_2XseuAFWwhyzjVltkFeJaqPq\n",
      "  Args:\n",
      "    summary: Khách Long phản ánh nhân viên tại cơ sở Nguyễn Văn Cù không nhiệt tình khi khách đến sử dụng dịch vụ.\n",
      "    type: staff_behavior\n",
      "    priority: medium\n",
      "    appointment_id: None\n",
      "None\n"
     ]
    },
    {
     "data": {
      "text/html": [
       "<pre style=\"white-space:pre;overflow-x:auto;line-height:normal;font-family:Menlo,'DejaVu Sans Mono',consolas,'Courier New',monospace\"><span style=\"color: #7fbfbf; text-decoration-color: #7fbfbf\">[09/23/25 11:47:08] </span><span style=\"color: #000080; text-decoration-color: #000080\">INFO    </span> ℹ️  <span style=\"color: #ff00ff; text-decoration-color: #ff00ff\">Send to google sheet successfully</span>                                                       \n",
       "</pre>\n"
      ],
      "text/plain": [
       "\u001b[2;36m[09/23/25 11:47:08]\u001b[0m\u001b[2;36m \u001b[0m\u001b[34mINFO    \u001b[0m ℹ️  \u001b[95mSend to google sheet successfully\u001b[0m                                                       \n"
      ]
     },
     "metadata": {},
     "output_type": "display_data"
    },
    {
     "name": "stdout",
     "output_type": "stream",
     "text": [
      "=================================\u001b[1m Tool Message \u001b[0m=================================\n",
      "Name: send_complaint_tool\n",
      "\n",
      "Khiếu nại đã được gửi đi, thông báo cho khách\n",
      "None\n",
      "==================================\u001b[1m Ai Message \u001b[0m==================================\n",
      "\n",
      "Cảm ơn anh Long đã chia sẻ. Khiếu nại về thái độ nhân viên tại cơ sở Nguyễn Văn Cù của anh đã được em ghi nhận và chuyển đến bộ phận chăm sóc khách hàng để xem xét và xử lý. Nếu anh cần hỗ trợ thêm, anh cứ thoải mái phản hồi nhé!\n",
      "None\n",
      "==================================\u001b[1m Ai Message \u001b[0m==================================\n",
      "Name: complaint_agent_node\n",
      "\n",
      "Cảm ơn anh Long đã chia sẻ. Khiếu nại về thái độ nhân viên tại cơ sở Nguyễn Văn Cù của anh đã được em ghi nhận và chuyển đến bộ phận chăm sóc khách hàng để xem xét và xử lý. Nếu anh cần hỗ trợ thêm, anh cứ thoải mái phản hồi nhé!\n",
      "None\n"
     ]
    }
   ],
   "source": [
    "state[\"user_input\"] = (\n",
    "    \"tên Long, sđt là 123\"\n",
    ")\n",
    "state[\"chat_id\"] = \"10\"\n",
    "\n",
    "await test_bot(graph, state, config, \"updates\")"
   ]
  },
  {
   "cell_type": "code",
   "execution_count": null,
   "metadata": {},
   "outputs": [],
   "source": [
    "state[\"user_input\"] = (\n",
    "    \"giá cả sao em\"\n",
    ")\n",
    "state[\"chat_id\"] = \"10\"\n",
    "\n",
    "await test_bot(graph, state, config, \"updates\")"
   ]
  },
  {
   "cell_type": "code",
   "execution_count": null,
   "metadata": {},
   "outputs": [],
   "source": [
    "state[\"user_input\"] = (\n",
    "    \"cho chị cái gói 90p đi em, chiều t7 3h nhé\"\n",
    ")\n",
    "state[\"chat_id\"] = \"10\"\n",
    "\n",
    "await test_bot(graph, state, config, \"updates\")"
   ]
  },
  {
   "cell_type": "code",
   "execution_count": null,
   "metadata": {},
   "outputs": [],
   "source": [
    "state[\"user_input\"] = (\n",
    "    \"ko có ghi chú gì nhe em\"\n",
    ")\n",
    "state[\"chat_id\"] = \"10\"\n",
    "\n",
    "await test_bot(graph, state, config, \"updates\")"
   ]
  },
  {
   "cell_type": "code",
   "execution_count": 4,
   "metadata": {},
   "outputs": [
    {
     "data": {
      "text/plain": [
       "{'messages': [HumanMessage(content='chị muốn phàn nàn về thái độ của nhân viên trong lần đi vừa rồi', additional_kwargs={}, response_metadata={}, id='9c2fa347-053f-4fc1-aab7-e561f7d84e24'),\n",
       "  AIMessage(content='Em rất xin lỗi vì anh/chị đã có trải nghiệm không tốt với thái độ của nhân viên trong lần đến spa vừa rồi. Để em ghi nhận và chuyển phản ánh của anh/chị đến bộ phận chăm sóc khách hàng, anh/chị có thể cho em biết thêm chi tiết về sự việc được không ạ? Ví dụ như nhân viên nào, thời gian, hoặc cụ thể thái độ không hài lòng như thế nào ạ?', additional_kwargs={}, response_metadata={}, name='complaint_agent_node', id='a064e01b-25e2-4829-b243-2a867fe9e1cc'),\n",
       "  HumanMessage(content='nhân viên tên Hoài Thương, không hỗ trợ nhiệt tình, có thái độ lồi lõm, đã vậy còn nói chuyện với chị rất thiếu tôn trọng', additional_kwargs={}, response_metadata={}, id='bd9d37d8-3c49-4f3e-b4d3-c3e077d7d74c'),\n",
       "  AIMessage(content='Em đã ghi nhận khiếu nại của chị về thái độ của nhân viên Hoài Thương, với phản ánh là không nhiệt tình, lồi lõm và thiếu tôn trọng. Bộ phận chăm sóc khách hàng sẽ xem xét và liên hệ lại với chị sớm nhất. Em rất cảm ơn chị đã chia sẻ để spa có thể cải thiện dịch vụ ạ.', additional_kwargs={}, response_metadata={}, name='complaint_agent_node', id='79dce4bd-23e6-45ab-9d0d-3c0cd44805de')],\n",
       " 'user_input': 'nhân viên tên Hoài Thương, không hỗ trợ nhiệt tình, có thái độ lồi lõm, đã vậy còn nói chuyện với chị rất thiếu tôn trọng',\n",
       " 'chat_id': '10',\n",
       " 'next': '__end__',\n",
       " 'current_date': 'Tuesday, 23-09-2025',\n",
       " 'customer_id': 185,\n",
       " 'name': 'Mai',\n",
       " 'phone': '123',\n",
       " 'email': None,\n",
       " 'seen_services': None,\n",
       " 'services': None,\n",
       " 'staff_id': None,\n",
       " 'staff_name': None,\n",
       " 'room_id': None,\n",
       " 'room_name': None,\n",
       " 'booking_date': None,\n",
       " 'start_time': None,\n",
       " 'end_time': None,\n",
       " 'total_time': None,\n",
       " 'total_price': None,\n",
       " 'note': None,\n",
       " 'pre_bookings': None,\n",
       " 'book_info': None}"
      ]
     },
     "execution_count": 4,
     "metadata": {},
     "output_type": "execute_result"
    }
   ],
   "source": [
    "graph.get_state(config).values"
   ]
  },
  {
   "cell_type": "markdown",
   "metadata": {},
   "source": [
    "----"
   ]
  },
  {
   "cell_type": "code",
   "execution_count": 2,
   "metadata": {},
   "outputs": [],
   "source": [
    "from database.connection import supabase_client, embeddings_model\n",
    "from repository.sync_repo import AppointmentRepo, CustomerRepo, RoomRepo, StaffRepo, ServiceRepo\n",
    "from core.utils.function import free_slots_with_staff\n",
    "from dotenv import load_dotenv\n",
    "from datetime import date, time, datetime\n",
    "import random\n",
    "import os\n",
    "\n",
    "load_dotenv(override=True)\n",
    "\n",
    "appointment_repo = AppointmentRepo(supabase_client=supabase_client)\n",
    "room_repo = RoomRepo(supabase_client=supabase_client)\n",
    "staff_repo = StaffRepo(supabase_client=supabase_client)\n",
    "service_repo = ServiceRepo(supabase_client=supabase_client)\n",
    "customer_repo = CustomerRepo(supabase_client=supabase_client)\n",
    "\n",
    "OPEN_TIME_STR = os.getenv(\"OPEN_TIME_STR\", \"08:00:00\")\n",
    "CLOSE_TIME_STR = os.getenv(\"CLOSE_TIME_STR\", \"21:00:00\")"
   ]
  },
  {
   "cell_type": "code",
   "execution_count": null,
   "metadata": {},
   "outputs": [],
   "source": [
    "test = customer_repo.delete_customer(\"10\")\n",
    "test"
   ]
  },
  {
   "cell_type": "code",
   "execution_count": 13,
   "metadata": {},
   "outputs": [],
   "source": [
    "staffs = staff_repo.get_all_staff_return_dict()\n",
    "rooms = room_repo.get_all_rooms_return_dict()\n",
    "orders = appointment_repo.get_appointment_by_booking_date(\n",
    "    booking_date=\"2025-09-20\"\n",
    ")"
   ]
  },
  {
   "cell_type": "code",
   "execution_count": null,
   "metadata": {},
   "outputs": [],
   "source": [
    "pre_booking_info = {\n",
    "    1: \n",
    "        {\n",
    "            \"booking_date\": \"abc\",\n",
    "            \"start_time\": \"abc\",\n",
    "            \"end_time\": \"abc\",\n",
    "            \"total_time\": 80,\n",
    "            \"total_price\": 850000,\n",
    "            \"note\": None,\n",
    "            \n",
    "            \"customer\": \n",
    "                {\n",
    "                    \"name\": \"abc\",\n",
    "                    \"phone\": \"123\",\n",
    "                    \"email\": None\n",
    "                },\n",
    "            \"staff\": \n",
    "                {\n",
    "                    \"staff_id\": 1,\n",
    "                    \"staff_name\": \"abc\"\n",
    "                },\n",
    "            \"room\":\n",
    "                {\n",
    "                    \"room_id\": 1,\n",
    "                    \"room_name\": \"101\"\n",
    "                },\n",
    "            \n",
    "            \"services\": \n",
    "                {\n",
    "                    15: \n",
    "                        {\n",
    "                            'service_id': 15,\n",
    "                            'service_type': 'nam',\n",
    "                            'service_name': 'massage',\n",
    "                            'duration_minutes': 80,\n",
    "                            'price': 850000\n",
    "                        }\n",
    "                }\n",
    "        },\n",
    "    2: \n",
    "        {\n",
    "            \"customer\": \n",
    "                {\n",
    "                    \"name\": \"abc\",\n",
    "                    \"phone\": \"123\",\n",
    "                    \"email\": None\n",
    "                },\n",
    "            \n",
    "            \"staff_id\": 2,\n",
    "            \"staff_name\": \"abc\",\n",
    "            \"room_id\": 1,\n",
    "            \"room_name\": \"101\",\n",
    "            \"start_time\": \"abc\",\n",
    "            \"end_time\": \"abc\",\n",
    "            \"total_time\": 80,\n",
    "            \"total_price\": 850000,\n",
    "            \"note\": None,\n",
    "            \"services\": \n",
    "                {\n",
    "                    16: \n",
    "                        {\n",
    "                            'service_id': 16,\n",
    "                            'service_type': 'nữ',\n",
    "                            'service_name': 'Chăm Sóc Body Cao Cấp',\n",
    "                            'duration_minutes': 80,\n",
    "                            'price': 850000\n",
    "                        }\n",
    "                }\n",
    "        }\n",
    "}"
   ]
  },
  {
   "cell_type": "code",
   "execution_count": 19,
   "metadata": {},
   "outputs": [],
   "source": [
    "from langchain_core.messages import HumanMessage, AIMessage\n",
    "\n",
    "chats = [\n",
    "    HumanMessage(content='bên em có dịch vụ nào', additional_kwargs={}, response_metadata={}, id='63b9a63e-fc00-4718-93a7-ea3037cdf7cc'),\n",
    "    AIMessage(content='Chào chị Mai, bên AnVie Spa có các dịch vụ dành cho cả nam và nữ như sau:\\n\\nDành cho nam:\\n- Trị liệu giác quan bằng mùi hương (60 phút, 90 phút)\\n- Trị liệu thư giãn đôi chân (60 phút, 90 phút)\\n- Liệu pháp đả thông kinh mạch (60 phút, 90 phút)\\n- Trị liệu bóng thảo dược (90 phút)\\n- Bể sục nóng lạnh (30 phút, 60 phút)\\n- Trị liệu đôi chân với đá nóng (90 phút)\\n\\nDành cho nữ:\\n- Trị liệu oxy tươi tinh khiết (60 phút, 90 phút)\\n- Trị liệu đàn hồi Thạch anh (60 phút, 90 phút)\\n- Trắng sáng tảo thiên nhiên (60 phút, 90 phút)\\n- Dưỡng ẩm Linseed chuyên sâu (60 phút, 90 phút)\\n- Chăm sóc da thiên nhiên (60 phút, 90 phút)\\n\\nNgoài ra, spa cũng có dịch vụ tẩy tế bào chết thân (body scrub) kết hợp dưỡng da, thời gian khoảng 75 phút.\\n\\nAnh/chị quan tâm dịch vụ nào để em tư vấn chi tiết hơn nhé?', additional_kwargs={}, response_metadata={}, name='services_agent_node', id='3c026bd7-e6a0-4bb1-ab99-b9d02f77b112'),\n",
    "    HumanMessage(content='ủa cái Trị liệu thư giãn đôi chân 60p với 90p khác nhau gì em', additional_kwargs={}, response_metadata={}, id='d0dc35d1-5087-49d7-9da7-98d9bb7a6c5d'),\n",
    "    AIMessage(content='Dạ, dịch vụ \"Trị liệu thư giãn đôi chân\" 60 phút là ngâm chân với muối biển, sả, gừng, trà xanh kết hợp massage nhẹ và bấm huyệt cơ bản để giảm đau mỏi, tập trung vào bàn chân và mắt cá chân, phù hợp cho thư giãn nhẹ, không mất nhiều thời gian.\\n\\nCòn dịch vụ 90 phút bao gồm toàn bộ bước của bản 60 phút, nhưng massage sâu hơn vùng cẳng chân, bắp chân, ngâm chân lâu hơn để thải độc, thêm bước tẩy tế bào chết nhẹ và chăm sóc da chân, giúp thư giãn sâu hơn, giảm sưng mắt cá và hỗ trợ phục hồi cho người đứng hoặc đi nhiều.\\n\\nAnh/chị muốn đặt dịch vụ nào ạ?', additional_kwargs={}, response_metadata={}, name='services_agent_node', id='1c35ac02-7e04-48e4-a550-cb4219d7fafe')\n",
    "]"
   ]
  },
  {
   "cell_type": "code",
   "execution_count": null,
   "metadata": {},
   "outputs": [],
   "source": [
    "formatted_histories = []\n",
    "for chat in chats:\n",
    "    formatted_histories.append({\n",
    "        \"type\": chat.type,\n",
    "        \"content\": chat.content\n",
    "    })\n",
    "\n",
    "formatted_histories"
   ]
  }
 ],
 "metadata": {
  "kernelspec": {
   "display_name": ".sellbot",
   "language": "python",
   "name": "python3"
  },
  "language_info": {
   "codemirror_mode": {
    "name": "ipython",
    "version": 3
   },
   "file_extension": ".py",
   "mimetype": "text/x-python",
   "name": "python",
   "nbconvert_exporter": "python",
   "pygments_lexer": "ipython3",
   "version": "3.12.5"
  }
 },
 "nbformat": 4,
 "nbformat_minor": 2
}
