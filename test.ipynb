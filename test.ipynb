{
 "cells": [
  {
   "cell_type": "code",
   "execution_count": 1,
   "metadata": {},
   "outputs": [],
   "source": [
    "from core.graph.build_graph import create_main_graph\n",
    "from core.graph.state import init_state\n",
    "from core.utils.function import test_bot\n",
    "\n",
    "\n",
    "graph = create_main_graph()\n",
    "state = init_state()\n",
    "\n",
    "config = {\n",
    "    \"configurable\": \n",
    "    {\n",
    "        \"thread_id\": \"1\"\n",
    "    }\n",
    "}"
   ]
  },
  {
   "cell_type": "code",
   "execution_count": 2,
   "metadata": {},
   "outputs": [
    {
     "data": {
      "text/html": [
       "<pre style=\"white-space:pre;overflow-x:auto;line-height:normal;font-family:Menlo,'DejaVu Sans Mono',consolas,'Courier New',monospace\"><span style=\"color: #7fbfbf; text-decoration-color: #7fbfbf\">[09/22/25 15:21:52] </span><span style=\"color: #000080; text-decoration-color: #000080\">INFO    </span> ℹ️  <span style=\"color: #ff00ff; text-decoration-color: #ff00ff\">Tạo mới hoặc lấy thông tin khách: </span><span style=\"color: #ff00ff; text-decoration-color: #ff00ff; font-weight: bold\">{</span><span style=\"color: #008000; text-decoration-color: #008000\">'id'</span><span style=\"color: #ff00ff; text-decoration-color: #ff00ff\">: </span><span style=\"color: #008080; text-decoration-color: #008080; font-weight: bold\">185</span><span style=\"color: #ff00ff; text-decoration-color: #ff00ff\">, </span><span style=\"color: #008000; text-decoration-color: #008000\">'name'</span><span style=\"color: #ff00ff; text-decoration-color: #ff00ff\">: </span><span style=\"color: #008000; text-decoration-color: #008000\">'Mai'</span><span style=\"color: #ff00ff; text-decoration-color: #ff00ff\">, </span><span style=\"color: #008000; text-decoration-color: #008000\">'phone'</span><span style=\"color: #ff00ff; text-decoration-color: #ff00ff\">: </span><span style=\"color: #008000; text-decoration-color: #008000\">'123'</span><span style=\"color: #ff00ff; text-decoration-color: #ff00ff\">, </span><span style=\"color: #008000; text-decoration-color: #008000\">'email'</span><span style=\"color: #ff00ff; text-decoration-color: #ff00ff\">: </span>  \n",
       "<span style=\"color: #7fbfbf; text-decoration-color: #7fbfbf\">                    </span>         <span style=\"color: #800080; text-decoration-color: #800080; font-style: italic\">None</span><span style=\"color: #ff00ff; text-decoration-color: #ff00ff\">, </span><span style=\"color: #008000; text-decoration-color: #008000\">'chat_id'</span><span style=\"color: #ff00ff; text-decoration-color: #ff00ff\">: </span><span style=\"color: #008000; text-decoration-color: #008000\">'10'</span><span style=\"color: #ff00ff; text-decoration-color: #ff00ff\">, </span><span style=\"color: #008000; text-decoration-color: #008000\">'uuid'</span><span style=\"color: #ff00ff; text-decoration-color: #ff00ff\">: </span><span style=\"color: #800080; text-decoration-color: #800080; font-style: italic\">None</span><span style=\"color: #ff00ff; text-decoration-color: #ff00ff; font-weight: bold\">}</span>                                                       \n",
       "</pre>\n"
      ],
      "text/plain": [
       "\u001b[2;36m[09/22/25 15:21:52]\u001b[0m\u001b[2;36m \u001b[0m\u001b[34mINFO    \u001b[0m ℹ️  \u001b[95mTạo mới hoặc lấy thông tin khách: \u001b[0m\u001b[1;95m{\u001b[0m\u001b[32m'id'\u001b[0m\u001b[95m: \u001b[0m\u001b[1;36m185\u001b[0m\u001b[95m, \u001b[0m\u001b[32m'name'\u001b[0m\u001b[95m: \u001b[0m\u001b[32m'Mai'\u001b[0m\u001b[95m, \u001b[0m\u001b[32m'phone'\u001b[0m\u001b[95m: \u001b[0m\u001b[32m'123'\u001b[0m\u001b[95m, \u001b[0m\u001b[32m'email'\u001b[0m\u001b[95m: \u001b[0m  \n",
       "\u001b[2;36m                    \u001b[0m         \u001b[3;35mNone\u001b[0m\u001b[95m, \u001b[0m\u001b[32m'chat_id'\u001b[0m\u001b[95m: \u001b[0m\u001b[32m'10'\u001b[0m\u001b[95m, \u001b[0m\u001b[32m'uuid'\u001b[0m\u001b[95m: \u001b[0m\u001b[3;35mNone\u001b[0m\u001b[1;95m}\u001b[0m                                                       \n"
      ]
     },
     "metadata": {},
     "output_type": "display_data"
    },
    {
     "data": {
      "text/html": [
       "<pre style=\"white-space:pre;overflow-x:auto;line-height:normal;font-family:Menlo,'DejaVu Sans Mono',consolas,'Courier New',monospace\"><span style=\"color: #7fbfbf; text-decoration-color: #7fbfbf\">                    </span><span style=\"color: #000080; text-decoration-color: #000080\">INFO    </span> ℹ️  <span style=\"color: #ff00ff; text-decoration-color: #ff00ff\">Yêu cầu của khách: bên em có dịch vụ nào</span>                                                \n",
       "</pre>\n"
      ],
      "text/plain": [
       "\u001b[2;36m                   \u001b[0m\u001b[2;36m \u001b[0m\u001b[34mINFO    \u001b[0m ℹ️  \u001b[95mYêu cầu của khách: bên em có dịch vụ nào\u001b[0m                                                \n"
      ]
     },
     "metadata": {},
     "output_type": "display_data"
    },
    {
     "data": {
      "text/html": [
       "<pre style=\"white-space:pre;overflow-x:auto;line-height:normal;font-family:Menlo,'DejaVu Sans Mono',consolas,'Courier New',monospace\"><span style=\"color: #7fbfbf; text-decoration-color: #7fbfbf\">[09/22/25 15:21:53] </span><span style=\"color: #000080; text-decoration-color: #000080\">INFO    </span> ℹ️  <span style=\"color: #ff00ff; text-decoration-color: #ff00ff\">Agent tiếp theo: service_agent</span>                                                          \n",
       "</pre>\n"
      ],
      "text/plain": [
       "\u001b[2;36m[09/22/25 15:21:53]\u001b[0m\u001b[2;36m \u001b[0m\u001b[34mINFO    \u001b[0m ℹ️  \u001b[95mAgent tiếp theo: service_agent\u001b[0m                                                          \n"
      ]
     },
     "metadata": {},
     "output_type": "display_data"
    },
    {
     "name": "stdout",
     "output_type": "stream",
     "text": [
      "================================\u001b[1m Human Message \u001b[0m=================================\n",
      "\n",
      "bên em có dịch vụ nào\n",
      "None\n"
     ]
    },
    {
     "data": {
      "text/html": [
       "<pre style=\"white-space:pre;overflow-x:auto;line-height:normal;font-family:Menlo,'DejaVu Sans Mono',consolas,'Courier New',monospace\"><span style=\"color: #7fbfbf; text-decoration-color: #7fbfbf\">[09/22/25 15:21:53] </span><span style=\"color: #000080; text-decoration-color: #000080\">INFO    </span> ℹ️  <span style=\"color: #ff00ff; text-decoration-color: #ff00ff\">get_qna_tool called with query: bên em có dịch vụ nào</span>                                   \n",
       "</pre>\n"
      ],
      "text/plain": [
       "\u001b[2;36m[09/22/25 15:21:53]\u001b[0m\u001b[2;36m \u001b[0m\u001b[34mINFO    \u001b[0m ℹ️  \u001b[95mget_qna_tool called with query: bên em có dịch vụ nào\u001b[0m                                   \n"
      ]
     },
     "metadata": {},
     "output_type": "display_data"
    },
    {
     "name": "stdout",
     "output_type": "stream",
     "text": [
      "==================================\u001b[1m Ai Message \u001b[0m==================================\n",
      "Tool Calls:\n",
      "  get_qna_tool (call_wI6ypx5J0l9yh6fRsce0EKnI)\n",
      " Call ID: call_wI6ypx5J0l9yh6fRsce0EKnI\n",
      "  Args:\n",
      "None\n"
     ]
    },
    {
     "data": {
      "text/html": [
       "<pre style=\"white-space:pre;overflow-x:auto;line-height:normal;font-family:Menlo,'DejaVu Sans Mono',consolas,'Courier New',monospace\"><span style=\"color: #7fbfbf; text-decoration-color: #7fbfbf\">[09/22/25 15:21:55] </span><span style=\"color: #000080; text-decoration-color: #000080\">INFO    </span> ℹ️  <span style=\"color: #ff00ff; text-decoration-color: #ff00ff\">Found </span><span style=\"color: #008080; text-decoration-color: #008080; font-weight: bold\">3</span><span style=\"color: #ff00ff; text-decoration-color: #ff00ff\"> Q&amp;A documents</span>                                                                   \n",
       "</pre>\n"
      ],
      "text/plain": [
       "\u001b[2;36m[09/22/25 15:21:55]\u001b[0m\u001b[2;36m \u001b[0m\u001b[34mINFO    \u001b[0m ℹ️  \u001b[95mFound \u001b[0m\u001b[1;36m3\u001b[0m\u001b[95m Q&A documents\u001b[0m                                                                   \n"
      ]
     },
     "metadata": {},
     "output_type": "display_data"
    },
    {
     "name": "stdout",
     "output_type": "stream",
     "text": [
      "=================================\u001b[1m Tool Message \u001b[0m=================================\n",
      "Name: get_qna_tool\n",
      "\n",
      "Here is the information found related to the customer's question: \n",
      "[{'id': 14, 'question': 'Cung cấp dịch vụ', 'answer': '**Danh sách dịch vụ AnVie Spa**\\n\\n---\\n\\n**Dành cho nam:**\\n\\n* Trị liệu giác quan bằng mùi hương (60 phút, 90 phút)\\n* Trị liệu thư giãn đôi chân (60 phút, 90 phút)\\n* Liệu pháp đả thông kinh mạch (60 phút, 90 phút)\\n* Trị liệu bóng thảo dược (90 phút)\\n* Bể sục nóng lạnh (30 phút, 60 phút)\\n* Trị liệu đôi chân với đá nóng (90 phút)\\n\\n---\\n\\n**Dành cho nữ:**\\n\\n* Trị liệu oxy tươi tinh khiết (60 phút, 90 phút)\\n* Trị liệu đàn hồi Thạch anh (60 phút, 90 phút)\\n* Trắng sáng tảo thiên nhiên (60 phút, 90 phút)\\n* Dưỡng ẩm Linseed chuyên sâu (60 phút, 90 phút)\\n* Chăm sóc da thiên nhiên (60 phút, 90 phút)\\n'}, {'id': 6, 'question': 'Có dịch vụ tẩy tế bào chết thân (body scrub) không?', 'answer': 'Có, spa có dịch vụ Body Scrub + dưỡng da, thời gian khoảng 75 phút.'}, {'id': 8, 'question': 'Nếu đến muộn lịch hẹn thì có bị trừ thời gian dịch vụ không?', 'answer': 'Có, nếu bạn đến muộn, thời gian dịch vụ sẽ bị rút ngắn tương ứng để đảm bảo lịch kế tiếp.'}]\n",
      "None\n",
      "==================================\u001b[1m Ai Message \u001b[0m==================================\n",
      "\n",
      "Chào chị Mai, bên AnVie Spa có các dịch vụ dành cho cả nam và nữ như sau:\n",
      "\n",
      "Dành cho nam:\n",
      "- Trị liệu giác quan bằng mùi hương (60 phút, 90 phút)\n",
      "- Trị liệu thư giãn đôi chân (60 phút, 90 phút)\n",
      "- Liệu pháp đả thông kinh mạch (60 phút, 90 phút)\n",
      "- Trị liệu bóng thảo dược (90 phút)\n",
      "- Bể sục nóng lạnh (30 phút, 60 phút)\n",
      "- Trị liệu đôi chân với đá nóng (90 phút)\n",
      "\n",
      "Dành cho nữ:\n",
      "- Trị liệu oxy tươi tinh khiết (60 phút, 90 phút)\n",
      "- Trị liệu đàn hồi Thạch anh (60 phút, 90 phút)\n",
      "- Trắng sáng tảo thiên nhiên (60 phút, 90 phút)\n",
      "- Dưỡng ẩm Linseed chuyên sâu (60 phút, 90 phút)\n",
      "- Chăm sóc da thiên nhiên (60 phút, 90 phút)\n",
      "\n",
      "Ngoài ra, spa cũng có dịch vụ tẩy tế bào chết thân (body scrub) kết hợp dưỡng da, thời gian khoảng 75 phút.\n",
      "\n",
      "Anh/chị quan tâm dịch vụ nào để em tư vấn chi tiết hơn nhé?\n",
      "None\n",
      "==================================\u001b[1m Ai Message \u001b[0m==================================\n",
      "Name: services_agent_node\n",
      "\n",
      "Chào chị Mai, bên AnVie Spa có các dịch vụ dành cho cả nam và nữ như sau:\n",
      "\n",
      "Dành cho nam:\n",
      "- Trị liệu giác quan bằng mùi hương (60 phút, 90 phút)\n",
      "- Trị liệu thư giãn đôi chân (60 phút, 90 phút)\n",
      "- Liệu pháp đả thông kinh mạch (60 phút, 90 phút)\n",
      "- Trị liệu bóng thảo dược (90 phút)\n",
      "- Bể sục nóng lạnh (30 phút, 60 phút)\n",
      "- Trị liệu đôi chân với đá nóng (90 phút)\n",
      "\n",
      "Dành cho nữ:\n",
      "- Trị liệu oxy tươi tinh khiết (60 phút, 90 phút)\n",
      "- Trị liệu đàn hồi Thạch anh (60 phút, 90 phút)\n",
      "- Trắng sáng tảo thiên nhiên (60 phút, 90 phút)\n",
      "- Dưỡng ẩm Linseed chuyên sâu (60 phút, 90 phút)\n",
      "- Chăm sóc da thiên nhiên (60 phút, 90 phút)\n",
      "\n",
      "Ngoài ra, spa cũng có dịch vụ tẩy tế bào chết thân (body scrub) kết hợp dưỡng da, thời gian khoảng 75 phút.\n",
      "\n",
      "Anh/chị quan tâm dịch vụ nào để em tư vấn chi tiết hơn nhé?\n",
      "None\n"
     ]
    }
   ],
   "source": [
    "state[\"user_input\"] = (\n",
    "    \"bên em có dịch vụ nào\"\n",
    ")\n",
    "state[\"chat_id\"] = \"10\"\n",
    "\n",
    "await test_bot(graph, state, config, \"updates\")"
   ]
  },
  {
   "cell_type": "code",
   "execution_count": 3,
   "metadata": {},
   "outputs": [
    {
     "data": {
      "text/html": [
       "<pre style=\"white-space:pre;overflow-x:auto;line-height:normal;font-family:Menlo,'DejaVu Sans Mono',consolas,'Courier New',monospace\"><span style=\"color: #7fbfbf; text-decoration-color: #7fbfbf\">[09/22/25 15:22:39] </span><span style=\"color: #000080; text-decoration-color: #000080\">INFO    </span> ℹ️  <span style=\"color: #ff00ff; text-decoration-color: #ff00ff\">Thông tin của khách: - Tên: Mai | - Số điện thoại: </span><span style=\"color: #008080; text-decoration-color: #008080; font-weight: bold\">123</span><span style=\"color: #ff00ff; text-decoration-color: #ff00ff\"> | - Email: </span><span style=\"color: #800080; text-decoration-color: #800080; font-style: italic\">None</span>                  \n",
       "</pre>\n"
      ],
      "text/plain": [
       "\u001b[2;36m[09/22/25 15:22:39]\u001b[0m\u001b[2;36m \u001b[0m\u001b[34mINFO    \u001b[0m ℹ️  \u001b[95mThông tin của khách: - Tên: Mai | - Số điện thoại: \u001b[0m\u001b[1;36m123\u001b[0m\u001b[95m | - Email: \u001b[0m\u001b[3;35mNone\u001b[0m                  \n"
      ]
     },
     "metadata": {},
     "output_type": "display_data"
    },
    {
     "data": {
      "text/html": [
       "<pre style=\"white-space:pre;overflow-x:auto;line-height:normal;font-family:Menlo,'DejaVu Sans Mono',consolas,'Courier New',monospace\"><span style=\"color: #7fbfbf; text-decoration-color: #7fbfbf\">                    </span><span style=\"color: #000080; text-decoration-color: #000080\">INFO    </span> ℹ️  <span style=\"color: #ff00ff; text-decoration-color: #ff00ff\">Yêu cầu của khách: ủa cái Trị liệu thư giãn đôi chân 60p với 90p khác nhau gì em</span>        \n",
       "</pre>\n"
      ],
      "text/plain": [
       "\u001b[2;36m                   \u001b[0m\u001b[2;36m \u001b[0m\u001b[34mINFO    \u001b[0m ℹ️  \u001b[95mYêu cầu của khách: ủa cái Trị liệu thư giãn đôi chân 60p với 90p khác nhau gì em\u001b[0m        \n"
      ]
     },
     "metadata": {},
     "output_type": "display_data"
    },
    {
     "data": {
      "text/html": [
       "<pre style=\"white-space:pre;overflow-x:auto;line-height:normal;font-family:Menlo,'DejaVu Sans Mono',consolas,'Courier New',monospace\"><span style=\"color: #7fbfbf; text-decoration-color: #7fbfbf\">[09/22/25 15:22:40] </span><span style=\"color: #000080; text-decoration-color: #000080\">INFO    </span> ℹ️  <span style=\"color: #ff00ff; text-decoration-color: #ff00ff\">Agent tiếp theo: service_agent</span>                                                          \n",
       "</pre>\n"
      ],
      "text/plain": [
       "\u001b[2;36m[09/22/25 15:22:40]\u001b[0m\u001b[2;36m \u001b[0m\u001b[34mINFO    \u001b[0m ℹ️  \u001b[95mAgent tiếp theo: service_agent\u001b[0m                                                          \n"
      ]
     },
     "metadata": {},
     "output_type": "display_data"
    },
    {
     "name": "stdout",
     "output_type": "stream",
     "text": [
      "================================\u001b[1m Human Message \u001b[0m=================================\n",
      "\n",
      "ủa cái Trị liệu thư giãn đôi chân 60p với 90p khác nhau gì em\n",
      "None\n",
      "==================================\u001b[1m Ai Message \u001b[0m==================================\n",
      "Tool Calls:\n",
      "  get_services_tool (call_DmcTXyB8qZNyxcW7qTsLIlp8)\n",
      " Call ID: call_DmcTXyB8qZNyxcW7qTsLIlp8\n",
      "  Args:\n",
      "    keyword: Trị liệu thư giãn đôi chân\n",
      "None\n"
     ]
    },
    {
     "data": {
      "text/html": [
       "<pre style=\"white-space:pre;overflow-x:auto;line-height:normal;font-family:Menlo,'DejaVu Sans Mono',consolas,'Courier New',monospace\"><span style=\"color: #7fbfbf; text-decoration-color: #7fbfbf\">[09/22/25 15:22:41] </span><span style=\"color: #000080; text-decoration-color: #000080\">INFO    </span> ℹ️  <span style=\"color: #ff00ff; text-decoration-color: #ff00ff\">get_services_tool called with keyword: Trị liệu thư giãn đôi chân</span>                       \n",
       "</pre>\n"
      ],
      "text/plain": [
       "\u001b[2;36m[09/22/25 15:22:41]\u001b[0m\u001b[2;36m \u001b[0m\u001b[34mINFO    \u001b[0m ℹ️  \u001b[95mget_services_tool called with keyword: Trị liệu thư giãn đôi chân\u001b[0m                       \n"
      ]
     },
     "metadata": {},
     "output_type": "display_data"
    },
    {
     "data": {
      "text/html": [
       "<pre style=\"white-space:pre;overflow-x:auto;line-height:normal;font-family:Menlo,'DejaVu Sans Mono',consolas,'Courier New',monospace\"><span style=\"color: #7fbfbf; text-decoration-color: #7fbfbf\">[09/22/25 15:22:42] </span><span style=\"color: #000080; text-decoration-color: #000080\">INFO    </span> ℹ️  <span style=\"color: #ff00ff; text-decoration-color: #ff00ff\">Data returned from SQL</span>                                                                  \n",
       "</pre>\n"
      ],
      "text/plain": [
       "\u001b[2;36m[09/22/25 15:22:42]\u001b[0m\u001b[2;36m \u001b[0m\u001b[34mINFO    \u001b[0m ℹ️  \u001b[95mData returned from SQL\u001b[0m                                                                  \n"
      ]
     },
     "metadata": {},
     "output_type": "display_data"
    },
    {
     "data": {
      "text/html": [
       "<pre style=\"white-space:pre;overflow-x:auto;line-height:normal;font-family:Menlo,'DejaVu Sans Mono',consolas,'Courier New',monospace\"><span style=\"color: #7fbfbf; text-decoration-color: #7fbfbf\">                    </span><span style=\"color: #000080; text-decoration-color: #000080\">INFO    </span> ℹ️  <span style=\"color: #ff00ff; text-decoration-color: #ff00ff\">Returning results from SQL</span>                                                              \n",
       "</pre>\n"
      ],
      "text/plain": [
       "\u001b[2;36m                   \u001b[0m\u001b[2;36m \u001b[0m\u001b[34mINFO    \u001b[0m ℹ️  \u001b[95mReturning results from SQL\u001b[0m                                                              \n"
      ]
     },
     "metadata": {},
     "output_type": "display_data"
    },
    {
     "name": "stdout",
     "output_type": "stream",
     "text": [
      "=================================\u001b[1m Tool Message \u001b[0m=================================\n",
      "Name: get_services_tool\n",
      "\n",
      "Here are the services found based on the customer's request:\n",
      "[{'id': 23, 'type': 'nam', 'name': 'Trị liệu thư giãn đôi chân', 'duration_minutes': 60, 'price': 250000, 'description': 'Ngâm chân & massage chân nhẹ, giảm mỏi', 'long_description': 'Ngâm chân với muối biển, sả, gừng, trà xanh + massage nhẹ và bấm huyệt cơ bản để giảm đau mỏi.\\\\n\\nTập trung vào phần bàn chân, mắt cá chân; loại bỏ cảm giác căng, mỏi nhanh.\\\\n\\nHiệu quả rõ sau một ngày làm việc nhiều, đi lại nhiều; phù hợp với ai muốn thư giãn nhẹ mà không mất nhiều thời gian.\\\\n\\nKhông có các bước như tẩy tế bào chết hay massage sâu vùng cẳng chân, hạn chế kích ứng nếu da nhạy cảm.\\n'}, {'id': 24, 'type': 'nam', 'name': 'Trị liệu thư giãn đôi chân', 'duration_minutes': 90, 'price': 350000, 'description': 'Massage chân + bấm huyệt sâu hơn & kéo dài', 'long_description': 'Bao gồm toàn bộ bước của bản 60 phút + massage sâu vùng cẳng chân, bắp chân, ngâm chân lâu hơn để gia tăng hiệu ứng thải độc.\\\\n\\nThêm bước tẩy tế bào chết nhẹ và chăm sóc da chân để làm mềm da và tăng cảm giác thoải mái.\\\\n\\nThời gian kéo dài giúp các cơ chân được thư giãn sâu hơn, giảm sưng mắt cá, hỗ trợ phục hồi nếu bạn đứng/ đi nhiều.\\\\n\\nDành cho người muốn trải nghiệm thư giãn trọn vẹn, không chỉ đơn thuần thư giãn nhanh.\\n'}]\n",
      "\n",
      "None\n",
      "==================================\u001b[1m Ai Message \u001b[0m==================================\n",
      "\n",
      "Dạ, dịch vụ \"Trị liệu thư giãn đôi chân\" 60 phút là ngâm chân với muối biển, sả, gừng, trà xanh kết hợp massage nhẹ và bấm huyệt cơ bản để giảm đau mỏi, tập trung vào bàn chân và mắt cá chân, phù hợp cho thư giãn nhẹ, không mất nhiều thời gian.\n",
      "\n",
      "Còn dịch vụ 90 phút bao gồm toàn bộ bước của bản 60 phút, nhưng massage sâu hơn vùng cẳng chân, bắp chân, ngâm chân lâu hơn để thải độc, thêm bước tẩy tế bào chết nhẹ và chăm sóc da chân, giúp thư giãn sâu hơn, giảm sưng mắt cá và hỗ trợ phục hồi cho người đứng hoặc đi nhiều.\n",
      "\n",
      "Anh/chị muốn đặt dịch vụ nào ạ?\n",
      "None\n",
      "==================================\u001b[1m Ai Message \u001b[0m==================================\n",
      "Name: services_agent_node\n",
      "\n",
      "Dạ, dịch vụ \"Trị liệu thư giãn đôi chân\" 60 phút là ngâm chân với muối biển, sả, gừng, trà xanh kết hợp massage nhẹ và bấm huyệt cơ bản để giảm đau mỏi, tập trung vào bàn chân và mắt cá chân, phù hợp cho thư giãn nhẹ, không mất nhiều thời gian.\n",
      "\n",
      "Còn dịch vụ 90 phút bao gồm toàn bộ bước của bản 60 phút, nhưng massage sâu hơn vùng cẳng chân, bắp chân, ngâm chân lâu hơn để thải độc, thêm bước tẩy tế bào chết nhẹ và chăm sóc da chân, giúp thư giãn sâu hơn, giảm sưng mắt cá và hỗ trợ phục hồi cho người đứng hoặc đi nhiều.\n",
      "\n",
      "Anh/chị muốn đặt dịch vụ nào ạ?\n",
      "None\n"
     ]
    }
   ],
   "source": [
    "state[\"user_input\"] = (\n",
    "    \"ủa cái Trị liệu thư giãn đôi chân 60p với 90p khác nhau gì em\"\n",
    ")\n",
    "state[\"chat_id\"] = \"10\"\n",
    "\n",
    "await test_bot(graph, state, config, \"updates\")"
   ]
  },
  {
   "cell_type": "code",
   "execution_count": 5,
   "metadata": {},
   "outputs": [
    {
     "data": {
      "text/html": [
       "<pre style=\"white-space:pre;overflow-x:auto;line-height:normal;font-family:Menlo,'DejaVu Sans Mono',consolas,'Courier New',monospace\"><span style=\"color: #7fbfbf; text-decoration-color: #7fbfbf\">[09/22/25 15:24:01] </span><span style=\"color: #000080; text-decoration-color: #000080\">INFO    </span> ℹ️  <span style=\"color: #ff00ff; text-decoration-color: #ff00ff\">Thông tin của khách: - Tên: Mai | - Số điện thoại: </span><span style=\"color: #008080; text-decoration-color: #008080; font-weight: bold\">123</span><span style=\"color: #ff00ff; text-decoration-color: #ff00ff\"> | - Email: </span><span style=\"color: #800080; text-decoration-color: #800080; font-style: italic\">None</span>                  \n",
       "</pre>\n"
      ],
      "text/plain": [
       "\u001b[2;36m[09/22/25 15:24:01]\u001b[0m\u001b[2;36m \u001b[0m\u001b[34mINFO    \u001b[0m ℹ️  \u001b[95mThông tin của khách: - Tên: Mai | - Số điện thoại: \u001b[0m\u001b[1;36m123\u001b[0m\u001b[95m | - Email: \u001b[0m\u001b[3;35mNone\u001b[0m                  \n"
      ]
     },
     "metadata": {},
     "output_type": "display_data"
    },
    {
     "data": {
      "text/html": [
       "<pre style=\"white-space:pre;overflow-x:auto;line-height:normal;font-family:Menlo,'DejaVu Sans Mono',consolas,'Courier New',monospace\"><span style=\"color: #7fbfbf; text-decoration-color: #7fbfbf\">                    </span><span style=\"color: #000080; text-decoration-color: #000080\">INFO    </span> ℹ️  <span style=\"color: #ff00ff; text-decoration-color: #ff00ff\">Yêu cầu của khách: giá cả sao em</span>                                                        \n",
       "</pre>\n"
      ],
      "text/plain": [
       "\u001b[2;36m                   \u001b[0m\u001b[2;36m \u001b[0m\u001b[34mINFO    \u001b[0m ℹ️  \u001b[95mYêu cầu của khách: giá cả sao em\u001b[0m                                                        \n"
      ]
     },
     "metadata": {},
     "output_type": "display_data"
    },
    {
     "data": {
      "text/html": [
       "<pre style=\"white-space:pre;overflow-x:auto;line-height:normal;font-family:Menlo,'DejaVu Sans Mono',consolas,'Courier New',monospace\"><span style=\"color: #7fbfbf; text-decoration-color: #7fbfbf\">[09/22/25 15:24:02] </span><span style=\"color: #000080; text-decoration-color: #000080\">INFO    </span> ℹ️  <span style=\"color: #ff00ff; text-decoration-color: #ff00ff\">Agent tiếp theo: service_agent</span>                                                          \n",
       "</pre>\n"
      ],
      "text/plain": [
       "\u001b[2;36m[09/22/25 15:24:02]\u001b[0m\u001b[2;36m \u001b[0m\u001b[34mINFO    \u001b[0m ℹ️  \u001b[95mAgent tiếp theo: service_agent\u001b[0m                                                          \n"
      ]
     },
     "metadata": {},
     "output_type": "display_data"
    },
    {
     "name": "stdout",
     "output_type": "stream",
     "text": [
      "================================\u001b[1m Human Message \u001b[0m=================================\n",
      "\n",
      "giá cả sao em\n",
      "None\n",
      "==================================\u001b[1m Ai Message \u001b[0m==================================\n",
      "\n",
      "Dạ, giá dịch vụ \"Trị liệu thư giãn đôi chân\" bên em như sau ạ:\n",
      "\n",
      "- Gói 60 phút: 250.000 đồng\n",
      "- Gói 90 phút: 350.000 đồng\n",
      "\n",
      "Anh/chị muốn em hỗ trợ đặt lịch hay tư vấn thêm gì không ạ?\n",
      "None\n",
      "==================================\u001b[1m Ai Message \u001b[0m==================================\n",
      "Name: services_agent_node\n",
      "\n",
      "Dạ, giá dịch vụ \"Trị liệu thư giãn đôi chân\" bên em như sau ạ:\n",
      "\n",
      "- Gói 60 phút: 250.000 đồng\n",
      "- Gói 90 phút: 350.000 đồng\n",
      "\n",
      "Anh/chị muốn em hỗ trợ đặt lịch hay tư vấn thêm gì không ạ?\n",
      "None\n"
     ]
    }
   ],
   "source": [
    "state[\"user_input\"] = (\n",
    "    \"giá cả sao em\"\n",
    ")\n",
    "state[\"chat_id\"] = \"10\"\n",
    "\n",
    "await test_bot(graph, state, config, \"updates\")"
   ]
  },
  {
   "cell_type": "code",
   "execution_count": 6,
   "metadata": {},
   "outputs": [
    {
     "data": {
      "text/html": [
       "<pre style=\"white-space:pre;overflow-x:auto;line-height:normal;font-family:Menlo,'DejaVu Sans Mono',consolas,'Courier New',monospace\"><span style=\"color: #7fbfbf; text-decoration-color: #7fbfbf\">[09/22/25 15:24:27] </span><span style=\"color: #000080; text-decoration-color: #000080\">INFO    </span> ℹ️  <span style=\"color: #ff00ff; text-decoration-color: #ff00ff\">Thông tin của khách: - Tên: Mai | - Số điện thoại: </span><span style=\"color: #008080; text-decoration-color: #008080; font-weight: bold\">123</span><span style=\"color: #ff00ff; text-decoration-color: #ff00ff\"> | - Email: </span><span style=\"color: #800080; text-decoration-color: #800080; font-style: italic\">None</span>                  \n",
       "</pre>\n"
      ],
      "text/plain": [
       "\u001b[2;36m[09/22/25 15:24:27]\u001b[0m\u001b[2;36m \u001b[0m\u001b[34mINFO    \u001b[0m ℹ️  \u001b[95mThông tin của khách: - Tên: Mai | - Số điện thoại: \u001b[0m\u001b[1;36m123\u001b[0m\u001b[95m | - Email: \u001b[0m\u001b[3;35mNone\u001b[0m                  \n"
      ]
     },
     "metadata": {},
     "output_type": "display_data"
    },
    {
     "data": {
      "text/html": [
       "<pre style=\"white-space:pre;overflow-x:auto;line-height:normal;font-family:Menlo,'DejaVu Sans Mono',consolas,'Courier New',monospace\"><span style=\"color: #7fbfbf; text-decoration-color: #7fbfbf\">                    </span><span style=\"color: #000080; text-decoration-color: #000080\">INFO    </span> ℹ️  <span style=\"color: #ff00ff; text-decoration-color: #ff00ff\">Yêu cầu của khách: cho chị cái gói 90p đi em, chiều t7 3h nhé</span>                           \n",
       "</pre>\n"
      ],
      "text/plain": [
       "\u001b[2;36m                   \u001b[0m\u001b[2;36m \u001b[0m\u001b[34mINFO    \u001b[0m ℹ️  \u001b[95mYêu cầu của khách: cho chị cái gói 90p đi em, chiều t7 3h nhé\u001b[0m                           \n"
      ]
     },
     "metadata": {},
     "output_type": "display_data"
    },
    {
     "data": {
      "text/html": [
       "<pre style=\"white-space:pre;overflow-x:auto;line-height:normal;font-family:Menlo,'DejaVu Sans Mono',consolas,'Courier New',monospace\"><span style=\"color: #7fbfbf; text-decoration-color: #7fbfbf\">[09/22/25 15:24:28] </span><span style=\"color: #000080; text-decoration-color: #000080\">INFO    </span> ℹ️  <span style=\"color: #ff00ff; text-decoration-color: #ff00ff\">Agent tiếp theo: booking_agent</span>                                                          \n",
       "</pre>\n"
      ],
      "text/plain": [
       "\u001b[2;36m[09/22/25 15:24:28]\u001b[0m\u001b[2;36m \u001b[0m\u001b[34mINFO    \u001b[0m ℹ️  \u001b[95mAgent tiếp theo: booking_agent\u001b[0m                                                          \n"
      ]
     },
     "metadata": {},
     "output_type": "display_data"
    },
    {
     "name": "stdout",
     "output_type": "stream",
     "text": [
      "================================\u001b[1m Human Message \u001b[0m=================================\n",
      "\n",
      "cho chị cái gói 90p đi em, chiều t7 3h nhé\n",
      "None\n"
     ]
    },
    {
     "data": {
      "text/html": [
       "<pre style=\"white-space:pre;overflow-x:auto;line-height:normal;font-family:Menlo,'DejaVu Sans Mono',consolas,'Courier New',monospace\"><span style=\"color: #7fbfbf; text-decoration-color: #7fbfbf\">[09/22/25 15:24:29] </span><span style=\"color: #000080; text-decoration-color: #000080\">INFO    </span> ℹ️  <span style=\"color: #ff00ff; text-decoration-color: #ff00ff\">add_service_tool được gọi</span>                                                               \n",
       "</pre>\n"
      ],
      "text/plain": [
       "\u001b[2;36m[09/22/25 15:24:29]\u001b[0m\u001b[2;36m \u001b[0m\u001b[34mINFO    \u001b[0m ℹ️  \u001b[95madd_service_tool được gọi\u001b[0m                                                               \n"
      ]
     },
     "metadata": {},
     "output_type": "display_data"
    },
    {
     "name": "stdout",
     "output_type": "stream",
     "text": [
      "==================================\u001b[1m Ai Message \u001b[0m==================================\n",
      "Tool Calls:\n",
      "  add_service_tool (call_qcUZyDdPCrw5RSdwLBb8ULlI)\n",
      " Call ID: call_qcUZyDdPCrw5RSdwLBb8ULlI\n",
      "  Args:\n",
      "    service_id_list: [24]\n",
      "None\n"
     ]
    },
    {
     "data": {
      "text/html": [
       "<pre style=\"white-space:pre;overflow-x:auto;line-height:normal;font-family:Menlo,'DejaVu Sans Mono',consolas,'Courier New',monospace\"><span style=\"color: #7fbfbf; text-decoration-color: #7fbfbf\">                    </span><span style=\"color: #000080; text-decoration-color: #000080\">INFO    </span> ℹ️  <span style=\"color: #ff00ff; text-decoration-color: #ff00ff\">Thêm dịch vụ khách chọn vào state thành công</span>                                            \n",
       "</pre>\n"
      ],
      "text/plain": [
       "\u001b[2;36m                   \u001b[0m\u001b[2;36m \u001b[0m\u001b[34mINFO    \u001b[0m ℹ️  \u001b[95mThêm dịch vụ khách chọn vào state thành công\u001b[0m                                            \n"
      ]
     },
     "metadata": {},
     "output_type": "display_data"
    },
    {
     "name": "stdout",
     "output_type": "stream",
     "text": [
      "=================================\u001b[1m Tool Message \u001b[0m=================================\n",
      "Name: add_service_tool\n",
      "\n",
      "Đây là thông tin các dịch vụ mà khách chọn:\n",
      "STT: 1\n",
      "Loại dịch vụ: nam\n",
      "Tên dịch vụ: Trị liệu thư giãn đôi chân\n",
      "Thời gian: 90\n",
      "Giá: 350000\n",
      "Tổng thời gian: 90\n",
      "Tổng giá tiền: 350000\n",
      "\n",
      "\n",
      "None\n",
      "==================================\u001b[1m Ai Message \u001b[0m==================================\n",
      "Tool Calls:\n",
      "  resolve_weekday_to_date_tool (call_d2cItXWUbgswLFl18BSre8h4)\n",
      " Call ID: call_d2cItXWUbgswLFl18BSre8h4\n",
      "  Args:\n",
      "    weekday: Saturday\n",
      "    next_week: 1\n",
      "None\n",
      "=================================\u001b[1m Tool Message \u001b[0m=================================\n",
      "Name: resolve_weekday_to_date_tool\n",
      "\n",
      "Ngày khách đặt: 2025-09-27\n",
      "None\n",
      "==================================\u001b[1m Ai Message \u001b[0m==================================\n",
      "Tool Calls:\n",
      "  check_available_booking_tool (call_bw2D2IXN7BGYocaEvNehA04h)\n",
      " Call ID: call_bw2D2IXN7BGYocaEvNehA04h\n",
      "  Args:\n",
      "    booking_date_new: 2025-09-27\n",
      "    start_time_new: 15:00:00\n",
      "    total_time: 90\n",
      "    k: 1\n",
      "None\n"
     ]
    },
    {
     "data": {
      "text/html": [
       "<pre style=\"white-space:pre;overflow-x:auto;line-height:normal;font-family:Menlo,'DejaVu Sans Mono',consolas,'Courier New',monospace\"><span style=\"color: #7fbfbf; text-decoration-color: #7fbfbf\">[09/22/25 15:24:32] </span><span style=\"color: #000080; text-decoration-color: #000080\">INFO    </span> ℹ️  <span style=\"color: #ff00ff; text-decoration-color: #ff00ff\">check_available_booking được gọi</span>                                                        \n",
       "</pre>\n"
      ],
      "text/plain": [
       "\u001b[2;36m[09/22/25 15:24:32]\u001b[0m\u001b[2;36m \u001b[0m\u001b[34mINFO    \u001b[0m ℹ️  \u001b[95mcheck_available_booking được gọi\u001b[0m                                                        \n"
      ]
     },
     "metadata": {},
     "output_type": "display_data"
    },
    {
     "data": {
      "text/html": [
       "<pre style=\"white-space:pre;overflow-x:auto;line-height:normal;font-family:Menlo,'DejaVu Sans Mono',consolas,'Courier New',monospace\"><span style=\"color: #7fbfbf; text-decoration-color: #7fbfbf\">[09/22/25 15:24:35] </span><span style=\"color: #000080; text-decoration-color: #000080\">INFO    </span> ℹ️  <span style=\"color: #ff00ff; text-decoration-color: #ff00ff\">Khách đặt ngày: </span><span style=\"color: #008080; text-decoration-color: #008080; font-weight: bold\">2025</span><span style=\"color: #ff00ff; text-decoration-color: #ff00ff\">-</span><span style=\"color: #008080; text-decoration-color: #008080; font-weight: bold\">09</span><span style=\"color: #ff00ff; text-decoration-color: #ff00ff\">-</span><span style=\"color: #008080; text-decoration-color: #008080; font-weight: bold\">27</span><span style=\"color: #ff00ff; text-decoration-color: #ff00ff\"> vào lúc: </span><span style=\"color: #00ff00; text-decoration-color: #00ff00; font-weight: bold\">15:00:00</span>                                            \n",
       "</pre>\n"
      ],
      "text/plain": [
       "\u001b[2;36m[09/22/25 15:24:35]\u001b[0m\u001b[2;36m \u001b[0m\u001b[34mINFO    \u001b[0m ℹ️  \u001b[95mKhách đặt ngày: \u001b[0m\u001b[1;36m2025\u001b[0m\u001b[95m-\u001b[0m\u001b[1;36m09\u001b[0m\u001b[95m-\u001b[0m\u001b[1;36m27\u001b[0m\u001b[95m vào lúc: \u001b[0m\u001b[1;92m15:00:00\u001b[0m                                            \n"
      ]
     },
     "metadata": {},
     "output_type": "display_data"
    },
    {
     "data": {
      "text/html": [
       "<pre style=\"white-space:pre;overflow-x:auto;line-height:normal;font-family:Menlo,'DejaVu Sans Mono',consolas,'Courier New',monospace\"><span style=\"color: #7fbfbf; text-decoration-color: #7fbfbf\">                    </span><span style=\"color: #000080; text-decoration-color: #000080\">INFO    </span> ℹ️  <span style=\"color: #ff00ff; text-decoration-color: #ff00ff\">Tổng thời gian khách muốn đặt: </span><span style=\"color: #008080; text-decoration-color: #008080; font-weight: bold\">2025</span><span style=\"color: #ff00ff; text-decoration-color: #ff00ff\">-</span><span style=\"color: #008080; text-decoration-color: #008080; font-weight: bold\">09</span><span style=\"color: #ff00ff; text-decoration-color: #ff00ff\">-</span><span style=\"color: #008080; text-decoration-color: #008080; font-weight: bold\">27</span><span style=\"color: #ff00ff; text-decoration-color: #ff00ff\"> </span><span style=\"color: #00ff00; text-decoration-color: #00ff00; font-weight: bold\">16:30:00</span><span style=\"color: #ff00ff; text-decoration-color: #ff00ff\"> phút</span>                                 \n",
       "</pre>\n"
      ],
      "text/plain": [
       "\u001b[2;36m                   \u001b[0m\u001b[2;36m \u001b[0m\u001b[34mINFO    \u001b[0m ℹ️  \u001b[95mTổng thời gian khách muốn đặt: \u001b[0m\u001b[1;36m2025\u001b[0m\u001b[95m-\u001b[0m\u001b[1;36m09\u001b[0m\u001b[95m-\u001b[0m\u001b[1;36m27\u001b[0m\u001b[95m \u001b[0m\u001b[1;92m16:30:00\u001b[0m\u001b[95m phút\u001b[0m                                 \n"
      ]
     },
     "metadata": {},
     "output_type": "display_data"
    },
    {
     "data": {
      "text/html": [
       "<pre style=\"white-space:pre;overflow-x:auto;line-height:normal;font-family:Menlo,'DejaVu Sans Mono',consolas,'Courier New',monospace\"><span style=\"color: #7fbfbf; text-decoration-color: #7fbfbf\">                    </span><span style=\"color: #000080; text-decoration-color: #000080\">INFO    </span> ℹ️  <span style=\"color: #ff00ff; text-decoration-color: #ff00ff\">Tìm thấy phòng và nhân viên khả dụng</span>                                                    \n",
       "</pre>\n"
      ],
      "text/plain": [
       "\u001b[2;36m                   \u001b[0m\u001b[2;36m \u001b[0m\u001b[34mINFO    \u001b[0m ℹ️  \u001b[95mTìm thấy phòng và nhân viên khả dụng\u001b[0m                                                    \n"
      ]
     },
     "metadata": {},
     "output_type": "display_data"
    },
    {
     "data": {
      "text/html": [
       "<pre style=\"white-space:pre;overflow-x:auto;line-height:normal;font-family:Menlo,'DejaVu Sans Mono',consolas,'Courier New',monospace\"><span style=\"color: #7fbfbf; text-decoration-color: #7fbfbf\">                    </span><span style=\"color: #000080; text-decoration-color: #000080\">INFO    </span> ℹ️  <span style=\"color: #ff00ff; text-decoration-color: #ff00ff\">ID phòng khả dụng: </span><span style=\"color: #008080; text-decoration-color: #008080; font-weight: bold\">1</span><span style=\"color: #ff00ff; text-decoration-color: #ff00ff\"> | ID nhân viên khả dụng: </span><span style=\"color: #008080; text-decoration-color: #008080; font-weight: bold\">1</span>                                         \n",
       "</pre>\n"
      ],
      "text/plain": [
       "\u001b[2;36m                   \u001b[0m\u001b[2;36m \u001b[0m\u001b[34mINFO    \u001b[0m ℹ️  \u001b[95mID phòng khả dụng: \u001b[0m\u001b[1;36m1\u001b[0m\u001b[95m | ID nhân viên khả dụng: \u001b[0m\u001b[1;36m1\u001b[0m                                         \n"
      ]
     },
     "metadata": {},
     "output_type": "display_data"
    },
    {
     "data": {
      "text/html": [
       "<pre style=\"white-space:pre;overflow-x:auto;line-height:normal;font-family:Menlo,'DejaVu Sans Mono',consolas,'Courier New',monospace\"><span style=\"color: #7fbfbf; text-decoration-color: #7fbfbf\">                    </span><span style=\"color: #000080; text-decoration-color: #000080\">INFO    </span> ℹ️  <span style=\"color: #ff00ff; text-decoration-color: #ff00ff\">Kiểm tra phòng và nhân viên thành công</span>                                                  \n",
       "</pre>\n"
      ],
      "text/plain": [
       "\u001b[2;36m                   \u001b[0m\u001b[2;36m \u001b[0m\u001b[34mINFO    \u001b[0m ℹ️  \u001b[95mKiểm tra phòng và nhân viên thành công\u001b[0m                                                  \n"
      ]
     },
     "metadata": {},
     "output_type": "display_data"
    },
    {
     "name": "stdout",
     "output_type": "stream",
     "text": [
      "=================================\u001b[1m Tool Message \u001b[0m=================================\n",
      "Name: check_available_booking_tool\n",
      "\n",
      "Thông báo khách có lịch trống\n",
      "None\n",
      "==================================\u001b[1m Ai Message \u001b[0m==================================\n",
      "\n",
      "Dạ chị Mai đã chọn dịch vụ Trị liệu thư giãn đôi chân 90 phút vào lúc 15h ngày thứ 7, 27/09/2025. Lịch này bên em còn trống ạ. Chị có muốn để lại ghi chú gì cho lịch hẹn không ạ? Nếu không có thì em sẽ ghi là \"Không có\" giúp chị nhé.\n",
      "None\n",
      "==================================\u001b[1m Ai Message \u001b[0m==================================\n",
      "Name: booking_agent_node\n",
      "\n",
      "Dạ chị Mai đã chọn dịch vụ Trị liệu thư giãn đôi chân 90 phút vào lúc 15h ngày thứ 7, 27/09/2025. Lịch này bên em còn trống ạ. Chị có muốn để lại ghi chú gì cho lịch hẹn không ạ? Nếu không có thì em sẽ ghi là \"Không có\" giúp chị nhé.\n",
      "None\n"
     ]
    }
   ],
   "source": [
    "state[\"user_input\"] = (\n",
    "    \"cho chị cái gói 90p đi em, chiều t7 3h nhé\"\n",
    ")\n",
    "state[\"chat_id\"] = \"10\"\n",
    "\n",
    "await test_bot(graph, state, config, \"updates\")"
   ]
  },
  {
   "cell_type": "code",
   "execution_count": 7,
   "metadata": {},
   "outputs": [
    {
     "data": {
      "text/html": [
       "<pre style=\"white-space:pre;overflow-x:auto;line-height:normal;font-family:Menlo,'DejaVu Sans Mono',consolas,'Courier New',monospace\"><span style=\"color: #7fbfbf; text-decoration-color: #7fbfbf\">[09/22/25 15:24:47] </span><span style=\"color: #000080; text-decoration-color: #000080\">INFO    </span> ℹ️  <span style=\"color: #ff00ff; text-decoration-color: #ff00ff\">Thông tin của khách: - Tên: Mai | - Số điện thoại: </span><span style=\"color: #008080; text-decoration-color: #008080; font-weight: bold\">123</span><span style=\"color: #ff00ff; text-decoration-color: #ff00ff\"> | - Email: </span><span style=\"color: #800080; text-decoration-color: #800080; font-style: italic\">None</span>                  \n",
       "</pre>\n"
      ],
      "text/plain": [
       "\u001b[2;36m[09/22/25 15:24:47]\u001b[0m\u001b[2;36m \u001b[0m\u001b[34mINFO    \u001b[0m ℹ️  \u001b[95mThông tin của khách: - Tên: Mai | - Số điện thoại: \u001b[0m\u001b[1;36m123\u001b[0m\u001b[95m | - Email: \u001b[0m\u001b[3;35mNone\u001b[0m                  \n"
      ]
     },
     "metadata": {},
     "output_type": "display_data"
    },
    {
     "data": {
      "text/html": [
       "<pre style=\"white-space:pre;overflow-x:auto;line-height:normal;font-family:Menlo,'DejaVu Sans Mono',consolas,'Courier New',monospace\"><span style=\"color: #7fbfbf; text-decoration-color: #7fbfbf\">                    </span><span style=\"color: #000080; text-decoration-color: #000080\">INFO    </span> ℹ️  <span style=\"color: #ff00ff; text-decoration-color: #ff00ff\">Yêu cầu của khách: ko có ghi chú gì nhe em</span>                                              \n",
       "</pre>\n"
      ],
      "text/plain": [
       "\u001b[2;36m                   \u001b[0m\u001b[2;36m \u001b[0m\u001b[34mINFO    \u001b[0m ℹ️  \u001b[95mYêu cầu của khách: ko có ghi chú gì nhe em\u001b[0m                                              \n"
      ]
     },
     "metadata": {},
     "output_type": "display_data"
    },
    {
     "data": {
      "text/html": [
       "<pre style=\"white-space:pre;overflow-x:auto;line-height:normal;font-family:Menlo,'DejaVu Sans Mono',consolas,'Courier New',monospace\"><span style=\"color: #7fbfbf; text-decoration-color: #7fbfbf\">                    </span><span style=\"color: #000080; text-decoration-color: #000080\">INFO    </span> ℹ️  <span style=\"color: #ff00ff; text-decoration-color: #ff00ff\">Agent tiếp theo: booking_agent</span>                                                          \n",
       "</pre>\n"
      ],
      "text/plain": [
       "\u001b[2;36m                   \u001b[0m\u001b[2;36m \u001b[0m\u001b[34mINFO    \u001b[0m ℹ️  \u001b[95mAgent tiếp theo: booking_agent\u001b[0m                                                          \n"
      ]
     },
     "metadata": {},
     "output_type": "display_data"
    },
    {
     "name": "stdout",
     "output_type": "stream",
     "text": [
      "================================\u001b[1m Human Message \u001b[0m=================================\n",
      "\n",
      "ko có ghi chú gì nhe em\n",
      "None\n"
     ]
    },
    {
     "data": {
      "text/html": [
       "<pre style=\"white-space:pre;overflow-x:auto;line-height:normal;font-family:Menlo,'DejaVu Sans Mono',consolas,'Courier New',monospace\"><span style=\"color: #7fbfbf; text-decoration-color: #7fbfbf\">[09/22/25 15:24:48] </span><span style=\"color: #000080; text-decoration-color: #000080\">INFO    </span> ℹ️  <span style=\"color: #ff00ff; text-decoration-color: #ff00ff\">create_appointment_tool được gọi</span>                                                        \n",
       "</pre>\n"
      ],
      "text/plain": [
       "\u001b[2;36m[09/22/25 15:24:48]\u001b[0m\u001b[2;36m \u001b[0m\u001b[34mINFO    \u001b[0m ℹ️  \u001b[95mcreate_appointment_tool được gọi\u001b[0m                                                        \n"
      ]
     },
     "metadata": {},
     "output_type": "display_data"
    },
    {
     "name": "stdout",
     "output_type": "stream",
     "text": [
      "==================================\u001b[1m Ai Message \u001b[0m==================================\n",
      "Tool Calls:\n",
      "  create_appointment_tool (call_8pLf4j3HD2GYbX6QfIxW7mM0)\n",
      " Call ID: call_8pLf4j3HD2GYbX6QfIxW7mM0\n",
      "  Args:\n",
      "    note: Không có\n",
      "    companion_name: None\n",
      "    companion_phone: None\n",
      "None\n"
     ]
    },
    {
     "data": {
      "text/html": [
       "<pre style=\"white-space:pre;overflow-x:auto;line-height:normal;font-family:Menlo,'DejaVu Sans Mono',consolas,'Courier New',monospace\"><span style=\"color: #7fbfbf; text-decoration-color: #7fbfbf\">                    </span><span style=\"color: #000080; text-decoration-color: #000080\">INFO    </span> ℹ️  <span style=\"color: #ff00ff; text-decoration-color: #ff00ff\">Service có thông tin</span>                                                                    \n",
       "</pre>\n"
      ],
      "text/plain": [
       "\u001b[2;36m                   \u001b[0m\u001b[2;36m \u001b[0m\u001b[34mINFO    \u001b[0m ℹ️  \u001b[95mService có thông tin\u001b[0m                                                                    \n"
      ]
     },
     "metadata": {},
     "output_type": "display_data"
    },
    {
     "data": {
      "text/html": [
       "<pre style=\"white-space:pre;overflow-x:auto;line-height:normal;font-family:Menlo,'DejaVu Sans Mono',consolas,'Courier New',monospace\"><span style=\"color: #7fbfbf; text-decoration-color: #7fbfbf\">                    </span><span style=\"color: #000080; text-decoration-color: #000080\">INFO    </span> ℹ️  <span style=\"color: #ff00ff; text-decoration-color: #ff00ff\">Đã đủ thông tin của khách -&gt; tạo lịch hẹn</span>                                               \n",
       "</pre>\n"
      ],
      "text/plain": [
       "\u001b[2;36m                   \u001b[0m\u001b[2;36m \u001b[0m\u001b[34mINFO    \u001b[0m ℹ️  \u001b[95mĐã đủ thông tin của khách -> tạo lịch hẹn\u001b[0m                                               \n"
      ]
     },
     "metadata": {},
     "output_type": "display_data"
    },
    {
     "data": {
      "text/html": [
       "<pre style=\"white-space:pre;overflow-x:auto;line-height:normal;font-family:Menlo,'DejaVu Sans Mono',consolas,'Courier New',monospace\"><span style=\"color: #7fbfbf; text-decoration-color: #7fbfbf\">[09/22/25 15:24:49] </span><span style=\"color: #000080; text-decoration-color: #000080\">INFO    </span> ℹ️  <span style=\"color: #ff00ff; text-decoration-color: #ff00ff\">Tạo bản ghi trong appointments thành công với ID: </span><span style=\"color: #008080; text-decoration-color: #008080; font-weight: bold\">37</span>                                    \n",
       "</pre>\n"
      ],
      "text/plain": [
       "\u001b[2;36m[09/22/25 15:24:49]\u001b[0m\u001b[2;36m \u001b[0m\u001b[34mINFO    \u001b[0m ℹ️  \u001b[95mTạo bản ghi trong appointments thành công với ID: \u001b[0m\u001b[1;36m37\u001b[0m                                    \n"
      ]
     },
     "metadata": {},
     "output_type": "display_data"
    },
    {
     "data": {
      "text/html": [
       "<pre style=\"white-space:pre;overflow-x:auto;line-height:normal;font-family:Menlo,'DejaVu Sans Mono',consolas,'Courier New',monospace\"><span style=\"color: #7fbfbf; text-decoration-color: #7fbfbf\">                    </span><span style=\"color: #000080; text-decoration-color: #000080\">INFO    </span> ℹ️  <span style=\"color: #ff00ff; text-decoration-color: #ff00ff\">Thêm các bản ghi vào trong appointment_services thành công</span>                              \n",
       "</pre>\n"
      ],
      "text/plain": [
       "\u001b[2;36m                   \u001b[0m\u001b[2;36m \u001b[0m\u001b[34mINFO    \u001b[0m ℹ️  \u001b[95mThêm các bản ghi vào trong appointment_services thành công\u001b[0m                              \n"
      ]
     },
     "metadata": {},
     "output_type": "display_data"
    },
    {
     "data": {
      "text/html": [
       "<pre style=\"white-space:pre;overflow-x:auto;line-height:normal;font-family:Menlo,'DejaVu Sans Mono',consolas,'Courier New',monospace\"><span style=\"color: #7fbfbf; text-decoration-color: #7fbfbf\">[09/22/25 15:24:50] </span><span style=\"color: #000080; text-decoration-color: #000080\">INFO    </span> ℹ️  <span style=\"color: #ff00ff; text-decoration-color: #ff00ff\">Đặt lịch thành công</span>                                                                     \n",
       "</pre>\n"
      ],
      "text/plain": [
       "\u001b[2;36m[09/22/25 15:24:50]\u001b[0m\u001b[2;36m \u001b[0m\u001b[34mINFO    \u001b[0m ℹ️  \u001b[95mĐặt lịch thành công\u001b[0m                                                                     \n"
      ]
     },
     "metadata": {},
     "output_type": "display_data"
    },
    {
     "name": "stdout",
     "output_type": "stream",
     "text": [
      "=================================\u001b[1m Tool Message \u001b[0m=================================\n",
      "Name: create_appointment_tool\n",
      "\n",
      "Đặt lịch cho khách thành công, đây là chi tiết đặt lịch của khách:\n",
      "Thời gian đặt: 2025-09-27\n",
      "Thơi gian bắt đầu: 15:00:00\n",
      "Thời gian kết thúc: 16:30:00\n",
      "Tổng thời gian: 90 phút\n",
      "Ghi chú: Không có\n",
      "\n",
      "Tên khách: Mai\n",
      "SĐT khách: 123\n",
      "Email khách: Không có\n",
      "\n",
      "Nhân viên thực hiện: Nguyễn Thảo Linh\n",
      "Phòng: Phòng 101\n",
      "\n",
      "Các dịch vụ khách đã đăng ký:\n",
      "STT: 1\n",
      "Loại dịch vụ: nam\n",
      "Tên dịch vụ: Trị liệu thư giãn đôi chân\n",
      "Thời gian: 90\n",
      "Giá: 350000\n",
      "\n",
      "Tổng giá tiền: 350000\n",
      "\n",
      "\n",
      "None\n",
      "==================================\u001b[1m Ai Message \u001b[0m==================================\n",
      "\n",
      "Chị Mai ơi, lịch hẹn dịch vụ Trị liệu thư giãn đôi chân 90 phút vào lúc 15h ngày thứ 7, 27/09/2025 đã được đặt thành công rồi ạ. \n",
      "\n",
      "Thông tin chi tiết:\n",
      "- Tên khách: Mai\n",
      "- SĐT: 123\n",
      "- Dịch vụ: Trị liệu thư giãn đôi chân 90 phút\n",
      "- Thời gian: 15h00 - 16h30\n",
      "- Nhân viên thực hiện: Nguyễn Thảo Linh\n",
      "- Phòng: Phòng 101\n",
      "- Tổng giá: 350.000 đồng\n",
      "- Ghi chú: Không có\n",
      "\n",
      "Chị có cần hỗ trợ gì thêm không ạ?\n",
      "None\n",
      "==================================\u001b[1m Ai Message \u001b[0m==================================\n",
      "Name: booking_agent_node\n",
      "\n",
      "Chị Mai ơi, lịch hẹn dịch vụ Trị liệu thư giãn đôi chân 90 phút vào lúc 15h ngày thứ 7, 27/09/2025 đã được đặt thành công rồi ạ. \n",
      "\n",
      "Thông tin chi tiết:\n",
      "- Tên khách: Mai\n",
      "- SĐT: 123\n",
      "- Dịch vụ: Trị liệu thư giãn đôi chân 90 phút\n",
      "- Thời gian: 15h00 - 16h30\n",
      "- Nhân viên thực hiện: Nguyễn Thảo Linh\n",
      "- Phòng: Phòng 101\n",
      "- Tổng giá: 350.000 đồng\n",
      "- Ghi chú: Không có\n",
      "\n",
      "Chị có cần hỗ trợ gì thêm không ạ?\n",
      "None\n"
     ]
    }
   ],
   "source": [
    "state[\"user_input\"] = (\n",
    "    \"ko có ghi chú gì nhe em\"\n",
    ")\n",
    "state[\"chat_id\"] = \"10\"\n",
    "\n",
    "await test_bot(graph, state, config, \"updates\")"
   ]
  },
  {
   "cell_type": "code",
   "execution_count": 4,
   "metadata": {},
   "outputs": [
    {
     "data": {
      "text/plain": [
       "{'messages': [HumanMessage(content='bên em có dịch vụ nào', additional_kwargs={}, response_metadata={}, id='63b9a63e-fc00-4718-93a7-ea3037cdf7cc'),\n",
       "  AIMessage(content='Chào chị Mai, bên AnVie Spa có các dịch vụ dành cho cả nam và nữ như sau:\\n\\nDành cho nam:\\n- Trị liệu giác quan bằng mùi hương (60 phút, 90 phút)\\n- Trị liệu thư giãn đôi chân (60 phút, 90 phút)\\n- Liệu pháp đả thông kinh mạch (60 phút, 90 phút)\\n- Trị liệu bóng thảo dược (90 phút)\\n- Bể sục nóng lạnh (30 phút, 60 phút)\\n- Trị liệu đôi chân với đá nóng (90 phút)\\n\\nDành cho nữ:\\n- Trị liệu oxy tươi tinh khiết (60 phút, 90 phút)\\n- Trị liệu đàn hồi Thạch anh (60 phút, 90 phút)\\n- Trắng sáng tảo thiên nhiên (60 phút, 90 phút)\\n- Dưỡng ẩm Linseed chuyên sâu (60 phút, 90 phút)\\n- Chăm sóc da thiên nhiên (60 phút, 90 phút)\\n\\nNgoài ra, spa cũng có dịch vụ tẩy tế bào chết thân (body scrub) kết hợp dưỡng da, thời gian khoảng 75 phút.\\n\\nAnh/chị quan tâm dịch vụ nào để em tư vấn chi tiết hơn nhé?', additional_kwargs={}, response_metadata={}, name='services_agent_node', id='3c026bd7-e6a0-4bb1-ab99-b9d02f77b112'),\n",
       "  HumanMessage(content='ủa cái Trị liệu thư giãn đôi chân 60p với 90p khác nhau gì em', additional_kwargs={}, response_metadata={}, id='d0dc35d1-5087-49d7-9da7-98d9bb7a6c5d'),\n",
       "  AIMessage(content='Dạ, dịch vụ \"Trị liệu thư giãn đôi chân\" 60 phút là ngâm chân với muối biển, sả, gừng, trà xanh kết hợp massage nhẹ và bấm huyệt cơ bản để giảm đau mỏi, tập trung vào bàn chân và mắt cá chân, phù hợp cho thư giãn nhẹ, không mất nhiều thời gian.\\n\\nCòn dịch vụ 90 phút bao gồm toàn bộ bước của bản 60 phút, nhưng massage sâu hơn vùng cẳng chân, bắp chân, ngâm chân lâu hơn để thải độc, thêm bước tẩy tế bào chết nhẹ và chăm sóc da chân, giúp thư giãn sâu hơn, giảm sưng mắt cá và hỗ trợ phục hồi cho người đứng hoặc đi nhiều.\\n\\nAnh/chị muốn đặt dịch vụ nào ạ?', additional_kwargs={}, response_metadata={}, name='services_agent_node', id='1c35ac02-7e04-48e4-a550-cb4219d7fafe')],\n",
       " 'user_input': 'ủa cái Trị liệu thư giãn đôi chân 60p với 90p khác nhau gì em',\n",
       " 'chat_id': '10',\n",
       " 'next': '__end__',\n",
       " 'current_date': 'Monday, 22-09-2025',\n",
       " 'customer_id': 185,\n",
       " 'name': 'Mai',\n",
       " 'phone': '123',\n",
       " 'email': None,\n",
       " 'seen_services': {23: {'service_id': 23,\n",
       "   'service_type': 'nam',\n",
       "   'service_name': 'Trị liệu thư giãn đôi chân',\n",
       "   'duration_minutes': 60,\n",
       "   'price': 250000},\n",
       "  24: {'service_id': 24,\n",
       "   'service_type': 'nam',\n",
       "   'service_name': 'Trị liệu thư giãn đôi chân',\n",
       "   'duration_minutes': 90,\n",
       "   'price': 350000}},\n",
       " 'services': None,\n",
       " 'staff_id': None,\n",
       " 'staff_name': None,\n",
       " 'room_id': None,\n",
       " 'room_name': None,\n",
       " 'booking_date': None,\n",
       " 'start_time': None,\n",
       " 'end_time': None,\n",
       " 'total_time': None,\n",
       " 'total_price': None,\n",
       " 'note': None,\n",
       " 'pre_bookings': None,\n",
       " 'book_info': None}"
      ]
     },
     "execution_count": 4,
     "metadata": {},
     "output_type": "execute_result"
    }
   ],
   "source": [
    "graph.get_state(config).values"
   ]
  },
  {
   "cell_type": "markdown",
   "metadata": {},
   "source": [
    "----"
   ]
  },
  {
   "cell_type": "code",
   "execution_count": 2,
   "metadata": {},
   "outputs": [],
   "source": [
    "from database.connection import supabase_client, embeddings_model\n",
    "from repository.sync_repo import AppointmentRepo, CustomerRepo, RoomRepo, StaffRepo, ServiceRepo\n",
    "from core.utils.function import free_slots_with_staff\n",
    "from dotenv import load_dotenv\n",
    "from datetime import date, time, datetime\n",
    "import random\n",
    "import os\n",
    "\n",
    "load_dotenv(override=True)\n",
    "\n",
    "appointment_repo = AppointmentRepo(supabase_client=supabase_client)\n",
    "room_repo = RoomRepo(supabase_client=supabase_client)\n",
    "staff_repo = StaffRepo(supabase_client=supabase_client)\n",
    "service_repo = ServiceRepo(supabase_client=supabase_client)\n",
    "customer_repo = CustomerRepo(supabase_client=supabase_client)\n",
    "\n",
    "OPEN_TIME_STR = os.getenv(\"OPEN_TIME_STR\", \"08:00:00\")\n",
    "CLOSE_TIME_STR = os.getenv(\"CLOSE_TIME_STR\", \"21:00:00\")"
   ]
  },
  {
   "cell_type": "code",
   "execution_count": null,
   "metadata": {},
   "outputs": [],
   "source": [
    "test = customer_repo.delete_customer(\"10\")\n",
    "test"
   ]
  },
  {
   "cell_type": "code",
   "execution_count": 13,
   "metadata": {},
   "outputs": [],
   "source": [
    "staffs = staff_repo.get_all_staff_return_dict()\n",
    "rooms = room_repo.get_all_rooms_return_dict()\n",
    "orders = appointment_repo.get_appointment_by_booking_date(\n",
    "    booking_date=\"2025-09-20\"\n",
    ")"
   ]
  },
  {
   "cell_type": "code",
   "execution_count": null,
   "metadata": {},
   "outputs": [],
   "source": [
    "pre_booking_info = {\n",
    "    1: \n",
    "        {\n",
    "            \"booking_date\": \"abc\",\n",
    "            \"start_time\": \"abc\",\n",
    "            \"end_time\": \"abc\",\n",
    "            \"total_time\": 80,\n",
    "            \"total_price\": 850000,\n",
    "            \"note\": None,\n",
    "            \n",
    "            \"customer\": \n",
    "                {\n",
    "                    \"name\": \"abc\",\n",
    "                    \"phone\": \"123\",\n",
    "                    \"email\": None\n",
    "                },\n",
    "            \"staff\": \n",
    "                {\n",
    "                    \"staff_id\": 1,\n",
    "                    \"staff_name\": \"abc\"\n",
    "                },\n",
    "            \"room\":\n",
    "                {\n",
    "                    \"room_id\": 1,\n",
    "                    \"room_name\": \"101\"\n",
    "                },\n",
    "            \n",
    "            \"services\": \n",
    "                {\n",
    "                    15: \n",
    "                        {\n",
    "                            'service_id': 15,\n",
    "                            'service_type': 'nam',\n",
    "                            'service_name': 'massage',\n",
    "                            'duration_minutes': 80,\n",
    "                            'price': 850000\n",
    "                        }\n",
    "                }\n",
    "        },\n",
    "    2: \n",
    "        {\n",
    "            \"customer\": \n",
    "                {\n",
    "                    \"name\": \"abc\",\n",
    "                    \"phone\": \"123\",\n",
    "                    \"email\": None\n",
    "                },\n",
    "            \n",
    "            \"staff_id\": 2,\n",
    "            \"staff_name\": \"abc\",\n",
    "            \"room_id\": 1,\n",
    "            \"room_name\": \"101\",\n",
    "            \"start_time\": \"abc\",\n",
    "            \"end_time\": \"abc\",\n",
    "            \"total_time\": 80,\n",
    "            \"total_price\": 850000,\n",
    "            \"note\": None,\n",
    "            \"services\": \n",
    "                {\n",
    "                    16: \n",
    "                        {\n",
    "                            'service_id': 16,\n",
    "                            'service_type': 'nữ',\n",
    "                            'service_name': 'Chăm Sóc Body Cao Cấp',\n",
    "                            'duration_minutes': 80,\n",
    "                            'price': 850000\n",
    "                        }\n",
    "                }\n",
    "        }\n",
    "}"
   ]
  }
 ],
 "metadata": {
  "kernelspec": {
   "display_name": ".sellbot",
   "language": "python",
   "name": "python3"
  },
  "language_info": {
   "codemirror_mode": {
    "name": "ipython",
    "version": 3
   },
   "file_extension": ".py",
   "mimetype": "text/x-python",
   "name": "python",
   "nbconvert_exporter": "python",
   "pygments_lexer": "ipython3",
   "version": "3.12.5"
  }
 },
 "nbformat": 4,
 "nbformat_minor": 2
}
