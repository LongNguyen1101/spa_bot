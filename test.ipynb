{
 "cells": [
  {
   "cell_type": "code",
   "execution_count": 1,
   "metadata": {},
   "outputs": [],
   "source": [
    "from core.graph.build_graph import create_main_graph\n",
    "from core.graph.state import init_state\n",
    "from core.utils.function import test_bot\n",
    "\n",
    "\n",
    "graph = create_main_graph()\n",
    "state = init_state()\n",
    "\n",
    "config = {\n",
    "    \"configurable\": \n",
    "    {\n",
    "        \"thread_id\": \"1\"\n",
    "    }\n",
    "}"
   ]
  },
  {
   "cell_type": "code",
   "execution_count": 2,
   "metadata": {},
   "outputs": [
    {
     "data": {
      "text/html": [
       "<pre style=\"white-space:pre;overflow-x:auto;line-height:normal;font-family:Menlo,'DejaVu Sans Mono',consolas,'Courier New',monospace\"><span style=\"color: #7fbfbf; text-decoration-color: #7fbfbf\">[09/15/25 15:20:55] </span><span style=\"color: #000080; text-decoration-color: #000080\">INFO    </span> ℹ️  <span style=\"color: #ff00ff; text-decoration-color: #ff00ff\">Tạo mới hoặc lấy thông tin khách: </span><span style=\"color: #ff00ff; text-decoration-color: #ff00ff; font-weight: bold\">{</span><span style=\"color: #008000; text-decoration-color: #008000\">'id'</span><span style=\"color: #ff00ff; text-decoration-color: #ff00ff\">: </span><span style=\"color: #008080; text-decoration-color: #008080; font-weight: bold\">8</span><span style=\"color: #ff00ff; text-decoration-color: #ff00ff\">, </span><span style=\"color: #008000; text-decoration-color: #008000\">'name'</span><span style=\"color: #ff00ff; text-decoration-color: #ff00ff\">: </span><span style=\"color: #800080; text-decoration-color: #800080; font-style: italic\">None</span><span style=\"color: #ff00ff; text-decoration-color: #ff00ff\">, </span><span style=\"color: #008000; text-decoration-color: #008000\">'phone'</span><span style=\"color: #ff00ff; text-decoration-color: #ff00ff\">: </span><span style=\"color: #800080; text-decoration-color: #800080; font-style: italic\">None</span><span style=\"color: #ff00ff; text-decoration-color: #ff00ff\">, </span><span style=\"color: #008000; text-decoration-color: #008000\">'email'</span><span style=\"color: #ff00ff; text-decoration-color: #ff00ff\">: </span><span style=\"color: #800080; text-decoration-color: #800080; font-style: italic\">None</span><span style=\"color: #ff00ff; text-decoration-color: #ff00ff\">,</span> \n",
       "<span style=\"color: #7fbfbf; text-decoration-color: #7fbfbf\">                    </span>         <span style=\"color: #008000; text-decoration-color: #008000\">'chat_id'</span><span style=\"color: #ff00ff; text-decoration-color: #ff00ff\">: </span><span style=\"color: #008000; text-decoration-color: #008000\">'10'</span><span style=\"color: #ff00ff; text-decoration-color: #ff00ff; font-weight: bold\">}</span>                                                                           \n",
       "</pre>\n"
      ],
      "text/plain": [
       "\u001b[2;36m[09/15/25 15:20:55]\u001b[0m\u001b[2;36m \u001b[0m\u001b[34mINFO    \u001b[0m ℹ️  \u001b[95mTạo mới hoặc lấy thông tin khách: \u001b[0m\u001b[1;95m{\u001b[0m\u001b[32m'id'\u001b[0m\u001b[95m: \u001b[0m\u001b[1;36m8\u001b[0m\u001b[95m, \u001b[0m\u001b[32m'name'\u001b[0m\u001b[95m: \u001b[0m\u001b[3;35mNone\u001b[0m\u001b[95m, \u001b[0m\u001b[32m'phone'\u001b[0m\u001b[95m: \u001b[0m\u001b[3;35mNone\u001b[0m\u001b[95m, \u001b[0m\u001b[32m'email'\u001b[0m\u001b[95m: \u001b[0m\u001b[3;35mNone\u001b[0m\u001b[95m,\u001b[0m \n",
       "\u001b[2;36m                    \u001b[0m         \u001b[32m'chat_id'\u001b[0m\u001b[95m: \u001b[0m\u001b[32m'10'\u001b[0m\u001b[1;95m}\u001b[0m                                                                           \n"
      ]
     },
     "metadata": {},
     "output_type": "display_data"
    },
    {
     "data": {
      "text/html": [
       "<pre style=\"white-space:pre;overflow-x:auto;line-height:normal;font-family:Menlo,'DejaVu Sans Mono',consolas,'Courier New',monospace\"><span style=\"color: #7fbfbf; text-decoration-color: #7fbfbf\">                    </span><span style=\"color: #000080; text-decoration-color: #000080\">INFO    </span> ℹ️  <span style=\"color: #ff00ff; text-decoration-color: #ff00ff\">Yêu cầu của khách: bên em có dịch vụ j hót ko</span>                                           \n",
       "</pre>\n"
      ],
      "text/plain": [
       "\u001b[2;36m                   \u001b[0m\u001b[2;36m \u001b[0m\u001b[34mINFO    \u001b[0m ℹ️  \u001b[95mYêu cầu của khách: bên em có dịch vụ j hót ko\u001b[0m                                           \n"
      ]
     },
     "metadata": {},
     "output_type": "display_data"
    },
    {
     "data": {
      "text/html": [
       "<pre style=\"white-space:pre;overflow-x:auto;line-height:normal;font-family:Menlo,'DejaVu Sans Mono',consolas,'Courier New',monospace\"><span style=\"color: #7fbfbf; text-decoration-color: #7fbfbf\">[09/15/25 15:20:56] </span><span style=\"color: #000080; text-decoration-color: #000080\">INFO    </span> ℹ️  <span style=\"color: #ff00ff; text-decoration-color: #ff00ff\">Agent tiếp theo: service_agent</span>                                                          \n",
       "</pre>\n"
      ],
      "text/plain": [
       "\u001b[2;36m[09/15/25 15:20:56]\u001b[0m\u001b[2;36m \u001b[0m\u001b[34mINFO    \u001b[0m ℹ️  \u001b[95mAgent tiếp theo: service_agent\u001b[0m                                                          \n"
      ]
     },
     "metadata": {},
     "output_type": "display_data"
    },
    {
     "name": "stdout",
     "output_type": "stream",
     "text": [
      "================================\u001b[1m Human Message \u001b[0m=================================\n",
      "\n",
      "bên em có dịch vụ j hót ko\n",
      "None\n"
     ]
    },
    {
     "data": {
      "text/html": [
       "<pre style=\"white-space:pre;overflow-x:auto;line-height:normal;font-family:Menlo,'DejaVu Sans Mono',consolas,'Courier New',monospace\"><span style=\"color: #7fbfbf; text-decoration-color: #7fbfbf\">[09/15/25 15:20:57] </span><span style=\"color: #000080; text-decoration-color: #000080\">INFO    </span> ℹ️  <span style=\"color: #ff00ff; text-decoration-color: #ff00ff\">get_spa_info_tool được gọi</span>                                                              \n",
       "</pre>\n"
      ],
      "text/plain": [
       "\u001b[2;36m[09/15/25 15:20:57]\u001b[0m\u001b[2;36m \u001b[0m\u001b[34mINFO    \u001b[0m ℹ️  \u001b[95mget_spa_info_tool được gọi\u001b[0m                                                              \n"
      ]
     },
     "metadata": {},
     "output_type": "display_data"
    },
    {
     "name": "stdout",
     "output_type": "stream",
     "text": [
      "==================================\u001b[1m Ai Message \u001b[0m==================================\n",
      "Tool Calls:\n",
      "  get_spa_info_tool (call_Dg1PdLPzgxylxnEzsD6nyTuj)\n",
      " Call ID: call_Dg1PdLPzgxylxnEzsD6nyTuj\n",
      "  Args:\n",
      "None\n",
      "=================================\u001b[1m Tool Message \u001b[0m=================================\n",
      "Name: get_spa_info_tool\n",
      "\n",
      "Đây là thông tin của spa:\n",
      "# Thông tin về Spa AnVie\n",
      "\n",
      "AnVie Spa cung cấp trải nghiệm làm đẹp & thư giãn cao cấp cho cả nam và nữ. Chúng tôi mang lại dịch vụ chăm sóc toàn diện: từ massage thư giãn, chăm sóc da mặt, body đến liệu pháp trị liệu chuyên sâu. AnVie Spa luôn ưu tiên sự tinh tế trong từng chi tiết: không gian thoáng đãng, sản phẩm cao cấp, nhân viên chuyên môn cao, tư vấn tận tâm và minh bạch giá cả — để khách hàng không chỉ đẹp hơn, mà còn thoải mái tự tin từ trong ra ngoài.\n",
      "\n",
      "# Các dịch vụ nổi bật tại AnVie Spa:\n",
      "- Dành cho Nam: Massage Thư Giãn Toàn Thân, Chăm Sóc Da Mặt, Xông Hơi Thảo Dược, Massage Đá Nóng, Chăm Sóc Tóc & Da Đầu, Tẩy Tế Bào Chết Toàn Thân, Massage Thể Thao, Dưỡng Da Body, Ngâm Chân Thảo Dược, Liệu Trình Trị Liệu Cột Sống.\n",
      "- Dành cho Nữ: Massage Thư Giãn Aroma, Chăm Sóc Da Mặt Cao Cấp, Tắm Trắng Toàn Thân, Massage Đá Nóng Thư Giãn, Chăm Sóc Body Cao Cấp, Liệu Trình Trị Liệu Da Mụn, Massage Bầu, Ngâm Chân Hoa Hồng, Tẩy Da Chết Toàn Thân, Liệu Trình Chống Lão Hóa.\n",
      "None\n"
     ]
    },
    {
     "data": {
      "text/html": [
       "<pre style=\"white-space:pre;overflow-x:auto;line-height:normal;font-family:Menlo,'DejaVu Sans Mono',consolas,'Courier New',monospace\"><span style=\"color: #7fbfbf; text-decoration-color: #7fbfbf\">[09/15/25 15:20:58] </span><span style=\"color: #000080; text-decoration-color: #000080\">INFO    </span> ℹ️  <span style=\"color: #ff00ff; text-decoration-color: #ff00ff\">get_services_tool được gọi với keyword: hót</span>                                             \n",
       "</pre>\n"
      ],
      "text/plain": [
       "\u001b[2;36m[09/15/25 15:20:58]\u001b[0m\u001b[2;36m \u001b[0m\u001b[34mINFO    \u001b[0m ℹ️  \u001b[95mget_services_tool được gọi với keyword: hót\u001b[0m                                             \n"
      ]
     },
     "metadata": {},
     "output_type": "display_data"
    },
    {
     "name": "stdout",
     "output_type": "stream",
     "text": [
      "==================================\u001b[1m Ai Message \u001b[0m==================================\n",
      "Tool Calls:\n",
      "  get_services_tool (call_rld9nVL1uNlMpwlwucZrRznZ)\n",
      " Call ID: call_rld9nVL1uNlMpwlwucZrRznZ\n",
      "  Args:\n",
      "    keyword: hót\n",
      "None\n"
     ]
    },
    {
     "data": {
      "text/html": [
       "<pre style=\"white-space:pre;overflow-x:auto;line-height:normal;font-family:Menlo,'DejaVu Sans Mono',consolas,'Courier New',monospace\"><span style=\"color: #7fbfbf; text-decoration-color: #7fbfbf\">[09/15/25 15:20:59] </span><span style=\"color: #000080; text-decoration-color: #000080\">INFO    </span> ℹ️  <span style=\"color: #ff00ff; text-decoration-color: #ff00ff\">Không có kết quả từ SQL, chuyển sang tìm kiếm RAG</span>                                       \n",
       "</pre>\n"
      ],
      "text/plain": [
       "\u001b[2;36m[09/15/25 15:20:59]\u001b[0m\u001b[2;36m \u001b[0m\u001b[34mINFO    \u001b[0m ℹ️  \u001b[95mKhông có kết quả từ SQL, chuyển sang tìm kiếm RAG\u001b[0m                                       \n"
      ]
     },
     "metadata": {},
     "output_type": "display_data"
    },
    {
     "data": {
      "text/html": [
       "<pre style=\"white-space:pre;overflow-x:auto;line-height:normal;font-family:Menlo,'DejaVu Sans Mono',consolas,'Courier New',monospace\"><span style=\"color: #7fbfbf; text-decoration-color: #7fbfbf\">[09/15/25 15:21:01] </span><span style=\"color: #000080; text-decoration-color: #000080\">INFO    </span> ℹ️  <span style=\"color: #ff00ff; text-decoration-color: #ff00ff\">Kết quả RAG: </span><span style=\"color: #ff00ff; text-decoration-color: #ff00ff; font-weight: bold\">[{</span><span style=\"color: #008000; text-decoration-color: #008000\">'similarity'</span><span style=\"color: #ff00ff; text-decoration-color: #ff00ff\">: </span><span style=\"color: #008080; text-decoration-color: #008080; font-weight: bold\">0.451865052954551</span><span style=\"color: #ff00ff; text-decoration-color: #ff00ff\">, </span><span style=\"color: #008000; text-decoration-color: #008000\">'content'</span><span style=\"color: #ff00ff; text-decoration-color: #ff00ff\">: </span><span style=\"color: #ff00ff; text-decoration-color: #ff00ff; font-weight: bold\">{</span><span style=\"color: #008000; text-decoration-color: #008000\">'id'</span><span style=\"color: #ff00ff; text-decoration-color: #ff00ff\">: </span><span style=\"color: #008080; text-decoration-color: #008080; font-weight: bold\">18</span><span style=\"color: #ff00ff; text-decoration-color: #ff00ff\">, </span><span style=\"color: #008000; text-decoration-color: #008000\">'type'</span><span style=\"color: #ff00ff; text-decoration-color: #ff00ff\">: </span><span style=\"color: #008000; text-decoration-color: #008000\">'nữ'</span><span style=\"color: #ff00ff; text-decoration-color: #ff00ff\">, </span>    \n",
       "<span style=\"color: #7fbfbf; text-decoration-color: #7fbfbf\">                    </span>         <span style=\"color: #008000; text-decoration-color: #008000\">'name'</span><span style=\"color: #ff00ff; text-decoration-color: #ff00ff\">: </span><span style=\"color: #008000; text-decoration-color: #008000\">'Ngâm Chân Hoa Hồng'</span><span style=\"color: #ff00ff; text-decoration-color: #ff00ff\">, </span><span style=\"color: #008000; text-decoration-color: #008000\">'duration_minutes'</span><span style=\"color: #ff00ff; text-decoration-color: #ff00ff\">: </span><span style=\"color: #008080; text-decoration-color: #008080; font-weight: bold\">30</span><span style=\"color: #ff00ff; text-decoration-color: #ff00ff\">, </span><span style=\"color: #008000; text-decoration-color: #008000\">'price'</span><span style=\"color: #ff00ff; text-decoration-color: #ff00ff\">: </span><span style=\"color: #008080; text-decoration-color: #008080; font-weight: bold\">250000</span><span style=\"color: #ff00ff; text-decoration-color: #ff00ff\">, </span><span style=\"color: #008000; text-decoration-color: #008000\">'description'</span><span style=\"color: #ff00ff; text-decoration-color: #ff00ff\">: </span><span style=\"color: #008000; text-decoration-color: #008000\">'Dịch</span>\n",
       "<span style=\"color: #7fbfbf; text-decoration-color: #7fbfbf\">                    </span>         <span style=\"color: #008000; text-decoration-color: #008000\">vụ ngâm chân với tinh dầu hoa hồng kết hợp muối khoáng, giúp lưu thông máu, giảm mệt mỏi và</span>\n",
       "<span style=\"color: #7fbfbf; text-decoration-color: #7fbfbf\">                    </span>         <span style=\"color: #008000; text-decoration-color: #008000\">tạo cảm giác thư giãn nhẹ nhàng. Rất phù hợp sau những giờ làm việc hoặc di chuyển </span>        \n",
       "<span style=\"color: #7fbfbf; text-decoration-color: #7fbfbf\">                    </span>         <span style=\"color: #008000; text-decoration-color: #008000\">nhiều.'</span><span style=\"color: #ff00ff; text-decoration-color: #ff00ff; font-weight: bold\">}}</span><span style=\"color: #ff00ff; text-decoration-color: #ff00ff\">, </span><span style=\"color: #ff00ff; text-decoration-color: #ff00ff; font-weight: bold\">{</span><span style=\"color: #008000; text-decoration-color: #008000\">'similarity'</span><span style=\"color: #ff00ff; text-decoration-color: #ff00ff\">: </span><span style=\"color: #008080; text-decoration-color: #008080; font-weight: bold\">0.406136703674099</span><span style=\"color: #ff00ff; text-decoration-color: #ff00ff\">, </span><span style=\"color: #008000; text-decoration-color: #008000\">'content'</span><span style=\"color: #ff00ff; text-decoration-color: #ff00ff\">: </span><span style=\"color: #ff00ff; text-decoration-color: #ff00ff; font-weight: bold\">{</span><span style=\"color: #008000; text-decoration-color: #008000\">'id'</span><span style=\"color: #ff00ff; text-decoration-color: #ff00ff\">: </span><span style=\"color: #008080; text-decoration-color: #008080; font-weight: bold\">17</span><span style=\"color: #ff00ff; text-decoration-color: #ff00ff\">, </span><span style=\"color: #008000; text-decoration-color: #008000\">'type'</span><span style=\"color: #ff00ff; text-decoration-color: #ff00ff\">: </span><span style=\"color: #008000; text-decoration-color: #008000\">'nữ'</span><span style=\"color: #ff00ff; text-decoration-color: #ff00ff\">, </span><span style=\"color: #008000; text-decoration-color: #008000\">'name'</span><span style=\"color: #ff00ff; text-decoration-color: #ff00ff\">: </span>  \n",
       "<span style=\"color: #7fbfbf; text-decoration-color: #7fbfbf\">                    </span>         <span style=\"color: #008000; text-decoration-color: #008000\">'Massage Bầu Dành Cho Phụ Nữ Mang Thai'</span><span style=\"color: #ff00ff; text-decoration-color: #ff00ff\">, </span><span style=\"color: #008000; text-decoration-color: #008000\">'duration_minutes'</span><span style=\"color: #ff00ff; text-decoration-color: #ff00ff\">: </span><span style=\"color: #008080; text-decoration-color: #008080; font-weight: bold\">50</span><span style=\"color: #ff00ff; text-decoration-color: #ff00ff\">, </span><span style=\"color: #008000; text-decoration-color: #008000\">'price'</span><span style=\"color: #ff00ff; text-decoration-color: #ff00ff\">: </span><span style=\"color: #008080; text-decoration-color: #008080; font-weight: bold\">500000</span><span style=\"color: #ff00ff; text-decoration-color: #ff00ff\">, </span>         \n",
       "<span style=\"color: #7fbfbf; text-decoration-color: #7fbfbf\">                    </span>         <span style=\"color: #008000; text-decoration-color: #008000\">'description'</span><span style=\"color: #ff00ff; text-decoration-color: #ff00ff\">: </span><span style=\"color: #008000; text-decoration-color: #008000\">'Liệu trình massage nhẹ nhàng, an toàn cho phụ nữ mang thai, giúp giảm căng </span>\n",
       "<span style=\"color: #7fbfbf; text-decoration-color: #7fbfbf\">                    </span>         <span style=\"color: #008000; text-decoration-color: #008000\">thẳng, đau lưng và sưng phù. Đồng thời mang lại cảm giác thư giãn và cải thiện giấc </span>       \n",
       "<span style=\"color: #7fbfbf; text-decoration-color: #7fbfbf\">                    </span>         <span style=\"color: #008000; text-decoration-color: #008000\">ngủ.'</span><span style=\"color: #ff00ff; text-decoration-color: #ff00ff; font-weight: bold\">}}</span><span style=\"color: #ff00ff; text-decoration-color: #ff00ff\">, </span><span style=\"color: #ff00ff; text-decoration-color: #ff00ff; font-weight: bold\">{</span><span style=\"color: #008000; text-decoration-color: #008000\">'similarity'</span><span style=\"color: #ff00ff; text-decoration-color: #ff00ff\">: </span><span style=\"color: #008080; text-decoration-color: #008080; font-weight: bold\">0.40382723280679</span><span style=\"color: #ff00ff; text-decoration-color: #ff00ff\">, </span><span style=\"color: #008000; text-decoration-color: #008000\">'content'</span><span style=\"color: #ff00ff; text-decoration-color: #ff00ff\">: </span><span style=\"color: #ff00ff; text-decoration-color: #ff00ff; font-weight: bold\">{</span><span style=\"color: #008000; text-decoration-color: #008000\">'id'</span><span style=\"color: #ff00ff; text-decoration-color: #ff00ff\">: </span><span style=\"color: #008080; text-decoration-color: #008080; font-weight: bold\">8</span><span style=\"color: #ff00ff; text-decoration-color: #ff00ff\">, </span><span style=\"color: #008000; text-decoration-color: #008000\">'type'</span><span style=\"color: #ff00ff; text-decoration-color: #ff00ff\">: </span><span style=\"color: #008000; text-decoration-color: #008000\">'nam'</span><span style=\"color: #ff00ff; text-decoration-color: #ff00ff\">, </span><span style=\"color: #008000; text-decoration-color: #008000\">'name'</span><span style=\"color: #ff00ff; text-decoration-color: #ff00ff\">: </span>     \n",
       "<span style=\"color: #7fbfbf; text-decoration-color: #7fbfbf\">                    </span>         <span style=\"color: #008000; text-decoration-color: #008000\">'Dưỡng Da Body Nam'</span><span style=\"color: #ff00ff; text-decoration-color: #ff00ff\">, </span><span style=\"color: #008000; text-decoration-color: #008000\">'duration_minutes'</span><span style=\"color: #ff00ff; text-decoration-color: #ff00ff\">: </span><span style=\"color: #008080; text-decoration-color: #008080; font-weight: bold\">70</span><span style=\"color: #ff00ff; text-decoration-color: #ff00ff\">, </span><span style=\"color: #008000; text-decoration-color: #008000\">'price'</span><span style=\"color: #ff00ff; text-decoration-color: #ff00ff\">: </span><span style=\"color: #008080; text-decoration-color: #008080; font-weight: bold\">600000</span><span style=\"color: #ff00ff; text-decoration-color: #ff00ff\">, </span><span style=\"color: #008000; text-decoration-color: #008000\">'description'</span><span style=\"color: #ff00ff; text-decoration-color: #ff00ff\">: </span><span style=\"color: #008000; text-decoration-color: #008000\">'Dịch vụ dưỡng</span>\n",
       "<span style=\"color: #7fbfbf; text-decoration-color: #7fbfbf\">                    </span>         <span style=\"color: #008000; text-decoration-color: #008000\">da body giúp làm sáng, mềm mịn và cung cấp độ ẩm cho da. Kết hợp massage nhẹ nhàng và tinh </span>\n",
       "<span style=\"color: #7fbfbf; text-decoration-color: #7fbfbf\">                    </span>         <span style=\"color: #008000; text-decoration-color: #008000\">dầu cao cấp giúp nam giới có làn da khỏe mạnh và tự tin hơn.'</span><span style=\"color: #ff00ff; text-decoration-color: #ff00ff; font-weight: bold\">}}</span><span style=\"color: #ff00ff; text-decoration-color: #ff00ff\">, </span><span style=\"color: #ff00ff; text-decoration-color: #ff00ff; font-weight: bold\">{</span><span style=\"color: #008000; text-decoration-color: #008000\">'similarity'</span><span style=\"color: #ff00ff; text-decoration-color: #ff00ff\">: </span>           \n",
       "<span style=\"color: #7fbfbf; text-decoration-color: #7fbfbf\">                    </span>         <span style=\"color: #008080; text-decoration-color: #008080; font-weight: bold\">0.397662174632018</span><span style=\"color: #ff00ff; text-decoration-color: #ff00ff\">, </span><span style=\"color: #008000; text-decoration-color: #008000\">'content'</span><span style=\"color: #ff00ff; text-decoration-color: #ff00ff\">: </span><span style=\"color: #ff00ff; text-decoration-color: #ff00ff; font-weight: bold\">{</span><span style=\"color: #008000; text-decoration-color: #008000\">'id'</span><span style=\"color: #ff00ff; text-decoration-color: #ff00ff\">: </span><span style=\"color: #008080; text-decoration-color: #008080; font-weight: bold\">14</span><span style=\"color: #ff00ff; text-decoration-color: #ff00ff\">, </span><span style=\"color: #008000; text-decoration-color: #008000\">'type'</span><span style=\"color: #ff00ff; text-decoration-color: #ff00ff\">: </span><span style=\"color: #008000; text-decoration-color: #008000\">'nữ'</span><span style=\"color: #ff00ff; text-decoration-color: #ff00ff\">, </span><span style=\"color: #008000; text-decoration-color: #008000\">'name'</span><span style=\"color: #ff00ff; text-decoration-color: #ff00ff\">: </span><span style=\"color: #008000; text-decoration-color: #008000\">'Massage Đá Nóng Thư Giãn'</span><span style=\"color: #ff00ff; text-decoration-color: #ff00ff\">, </span>\n",
       "<span style=\"color: #7fbfbf; text-decoration-color: #7fbfbf\">                    </span>         <span style=\"color: #008000; text-decoration-color: #008000\">'duration_minutes'</span><span style=\"color: #ff00ff; text-decoration-color: #ff00ff\">: </span><span style=\"color: #008080; text-decoration-color: #008080; font-weight: bold\">75</span><span style=\"color: #ff00ff; text-decoration-color: #ff00ff\">, </span><span style=\"color: #008000; text-decoration-color: #008000\">'price'</span><span style=\"color: #ff00ff; text-decoration-color: #ff00ff\">: </span><span style=\"color: #008080; text-decoration-color: #008080; font-weight: bold\">650000</span><span style=\"color: #ff00ff; text-decoration-color: #ff00ff\">, </span><span style=\"color: #008000; text-decoration-color: #008000\">'description'</span><span style=\"color: #ff00ff; text-decoration-color: #ff00ff\">: </span><span style=\"color: #008000; text-decoration-color: #008000\">'Massage đá nóng đặc biệt dành cho </span>\n",
       "<span style=\"color: #7fbfbf; text-decoration-color: #7fbfbf\">                    </span>         <span style=\"color: #008000; text-decoration-color: #008000\">nữ giúp cải thiện lưu thông máu, giảm đau nhức cơ thể và mang lại sự cân bằng năng lượng. </span> \n",
       "<span style=\"color: #7fbfbf; text-decoration-color: #7fbfbf\">                    </span>         <span style=\"color: #008000; text-decoration-color: #008000\">Liệu trình mang lại sự thư thái và giấc ngủ ngon hơn.'</span><span style=\"color: #ff00ff; text-decoration-color: #ff00ff; font-weight: bold\">}}</span><span style=\"color: #ff00ff; text-decoration-color: #ff00ff\">, </span><span style=\"color: #ff00ff; text-decoration-color: #ff00ff; font-weight: bold\">{</span><span style=\"color: #008000; text-decoration-color: #008000\">'similarity'</span><span style=\"color: #ff00ff; text-decoration-color: #ff00ff\">: </span><span style=\"color: #008080; text-decoration-color: #008080; font-weight: bold\">0.393118185625295</span><span style=\"color: #ff00ff; text-decoration-color: #ff00ff\">,</span>\n",
       "<span style=\"color: #7fbfbf; text-decoration-color: #7fbfbf\">                    </span>         <span style=\"color: #008000; text-decoration-color: #008000\">'content'</span><span style=\"color: #ff00ff; text-decoration-color: #ff00ff\">: </span><span style=\"color: #ff00ff; text-decoration-color: #ff00ff; font-weight: bold\">{</span><span style=\"color: #008000; text-decoration-color: #008000\">'id'</span><span style=\"color: #ff00ff; text-decoration-color: #ff00ff\">: </span><span style=\"color: #008080; text-decoration-color: #008080; font-weight: bold\">7</span><span style=\"color: #ff00ff; text-decoration-color: #ff00ff\">, </span><span style=\"color: #008000; text-decoration-color: #008000\">'type'</span><span style=\"color: #ff00ff; text-decoration-color: #ff00ff\">: </span><span style=\"color: #008000; text-decoration-color: #008000\">'nam'</span><span style=\"color: #ff00ff; text-decoration-color: #ff00ff\">, </span><span style=\"color: #008000; text-decoration-color: #008000\">'name'</span><span style=\"color: #ff00ff; text-decoration-color: #ff00ff\">: </span><span style=\"color: #008000; text-decoration-color: #008000\">'Massage Thể Thao'</span><span style=\"color: #ff00ff; text-decoration-color: #ff00ff\">, </span><span style=\"color: #008000; text-decoration-color: #008000\">'duration_minutes'</span><span style=\"color: #ff00ff; text-decoration-color: #ff00ff\">: </span><span style=\"color: #008080; text-decoration-color: #008080; font-weight: bold\">60</span><span style=\"color: #ff00ff; text-decoration-color: #ff00ff\">, </span>   \n",
       "<span style=\"color: #7fbfbf; text-decoration-color: #7fbfbf\">                    </span>         <span style=\"color: #008000; text-decoration-color: #008000\">'price'</span><span style=\"color: #ff00ff; text-decoration-color: #ff00ff\">: </span><span style=\"color: #008080; text-decoration-color: #008080; font-weight: bold\">550000</span><span style=\"color: #ff00ff; text-decoration-color: #ff00ff\">, </span><span style=\"color: #008000; text-decoration-color: #008000\">'description'</span><span style=\"color: #ff00ff; text-decoration-color: #ff00ff\">: </span><span style=\"color: #008000; text-decoration-color: #008000\">'Phù hợp cho nam giới sau khi tập luyện thể thao, dịch vụ </span> \n",
       "<span style=\"color: #7fbfbf; text-decoration-color: #7fbfbf\">                    </span>         <span style=\"color: #008000; text-decoration-color: #008000\">massage này tập trung vào các nhóm cơ lớn, giúp giảm căng cơ, hỗ trợ phục hồi và nâng cao </span> \n",
       "<span style=\"color: #7fbfbf; text-decoration-color: #7fbfbf\">                    </span>         <span style=\"color: #008000; text-decoration-color: #008000\">hiệu suất luyện tập.'</span><span style=\"color: #ff00ff; text-decoration-color: #ff00ff; font-weight: bold\">}}]</span>                                                                   \n",
       "</pre>\n"
      ],
      "text/plain": [
       "\u001b[2;36m[09/15/25 15:21:01]\u001b[0m\u001b[2;36m \u001b[0m\u001b[34mINFO    \u001b[0m ℹ️  \u001b[95mKết quả RAG: \u001b[0m\u001b[1;95m[\u001b[0m\u001b[1;95m{\u001b[0m\u001b[32m'similarity'\u001b[0m\u001b[95m: \u001b[0m\u001b[1;36m0.451865052954551\u001b[0m\u001b[95m, \u001b[0m\u001b[32m'content'\u001b[0m\u001b[95m: \u001b[0m\u001b[1;95m{\u001b[0m\u001b[32m'id'\u001b[0m\u001b[95m: \u001b[0m\u001b[1;36m18\u001b[0m\u001b[95m, \u001b[0m\u001b[32m'type'\u001b[0m\u001b[95m: \u001b[0m\u001b[32m'nữ'\u001b[0m\u001b[95m, \u001b[0m    \n",
       "\u001b[2;36m                    \u001b[0m         \u001b[32m'name'\u001b[0m\u001b[95m: \u001b[0m\u001b[32m'Ngâm Chân Hoa Hồng'\u001b[0m\u001b[95m, \u001b[0m\u001b[32m'duration_minutes'\u001b[0m\u001b[95m: \u001b[0m\u001b[1;36m30\u001b[0m\u001b[95m, \u001b[0m\u001b[32m'price'\u001b[0m\u001b[95m: \u001b[0m\u001b[1;36m250000\u001b[0m\u001b[95m, \u001b[0m\u001b[32m'description'\u001b[0m\u001b[95m: \u001b[0m\u001b[32m'Dịch\u001b[0m\n",
       "\u001b[2;36m                    \u001b[0m         \u001b[32mvụ ngâm chân với tinh dầu hoa hồng kết hợp muối khoáng, giúp lưu thông máu, giảm mệt mỏi và\u001b[0m\n",
       "\u001b[2;36m                    \u001b[0m         \u001b[32mtạo cảm giác thư giãn nhẹ nhàng. Rất phù hợp sau những giờ làm việc hoặc di chuyển \u001b[0m        \n",
       "\u001b[2;36m                    \u001b[0m         \u001b[32mnhiều.'\u001b[0m\u001b[1;95m}\u001b[0m\u001b[1;95m}\u001b[0m\u001b[95m, \u001b[0m\u001b[1;95m{\u001b[0m\u001b[32m'similarity'\u001b[0m\u001b[95m: \u001b[0m\u001b[1;36m0.406136703674099\u001b[0m\u001b[95m, \u001b[0m\u001b[32m'content'\u001b[0m\u001b[95m: \u001b[0m\u001b[1;95m{\u001b[0m\u001b[32m'id'\u001b[0m\u001b[95m: \u001b[0m\u001b[1;36m17\u001b[0m\u001b[95m, \u001b[0m\u001b[32m'type'\u001b[0m\u001b[95m: \u001b[0m\u001b[32m'nữ'\u001b[0m\u001b[95m, \u001b[0m\u001b[32m'name'\u001b[0m\u001b[95m: \u001b[0m  \n",
       "\u001b[2;36m                    \u001b[0m         \u001b[32m'Massage Bầu Dành Cho Phụ Nữ Mang Thai'\u001b[0m\u001b[95m, \u001b[0m\u001b[32m'duration_minutes'\u001b[0m\u001b[95m: \u001b[0m\u001b[1;36m50\u001b[0m\u001b[95m, \u001b[0m\u001b[32m'price'\u001b[0m\u001b[95m: \u001b[0m\u001b[1;36m500000\u001b[0m\u001b[95m, \u001b[0m         \n",
       "\u001b[2;36m                    \u001b[0m         \u001b[32m'description'\u001b[0m\u001b[95m: \u001b[0m\u001b[32m'Liệu trình massage nhẹ nhàng, an toàn cho phụ nữ mang thai, giúp giảm căng \u001b[0m\n",
       "\u001b[2;36m                    \u001b[0m         \u001b[32mthẳng, đau lưng và sưng phù. Đồng thời mang lại cảm giác thư giãn và cải thiện giấc \u001b[0m       \n",
       "\u001b[2;36m                    \u001b[0m         \u001b[32mngủ.'\u001b[0m\u001b[1;95m}\u001b[0m\u001b[1;95m}\u001b[0m\u001b[95m, \u001b[0m\u001b[1;95m{\u001b[0m\u001b[32m'similarity'\u001b[0m\u001b[95m: \u001b[0m\u001b[1;36m0.40382723280679\u001b[0m\u001b[95m, \u001b[0m\u001b[32m'content'\u001b[0m\u001b[95m: \u001b[0m\u001b[1;95m{\u001b[0m\u001b[32m'id'\u001b[0m\u001b[95m: \u001b[0m\u001b[1;36m8\u001b[0m\u001b[95m, \u001b[0m\u001b[32m'type'\u001b[0m\u001b[95m: \u001b[0m\u001b[32m'nam'\u001b[0m\u001b[95m, \u001b[0m\u001b[32m'name'\u001b[0m\u001b[95m: \u001b[0m     \n",
       "\u001b[2;36m                    \u001b[0m         \u001b[32m'Dưỡng Da Body Nam'\u001b[0m\u001b[95m, \u001b[0m\u001b[32m'duration_minutes'\u001b[0m\u001b[95m: \u001b[0m\u001b[1;36m70\u001b[0m\u001b[95m, \u001b[0m\u001b[32m'price'\u001b[0m\u001b[95m: \u001b[0m\u001b[1;36m600000\u001b[0m\u001b[95m, \u001b[0m\u001b[32m'description'\u001b[0m\u001b[95m: \u001b[0m\u001b[32m'Dịch vụ dưỡng\u001b[0m\n",
       "\u001b[2;36m                    \u001b[0m         \u001b[32mda body giúp làm sáng, mềm mịn và cung cấp độ ẩm cho da. Kết hợp massage nhẹ nhàng và tinh \u001b[0m\n",
       "\u001b[2;36m                    \u001b[0m         \u001b[32mdầu cao cấp giúp nam giới có làn da khỏe mạnh và tự tin hơn.'\u001b[0m\u001b[1;95m}\u001b[0m\u001b[1;95m}\u001b[0m\u001b[95m, \u001b[0m\u001b[1;95m{\u001b[0m\u001b[32m'similarity'\u001b[0m\u001b[95m: \u001b[0m           \n",
       "\u001b[2;36m                    \u001b[0m         \u001b[1;36m0.397662174632018\u001b[0m\u001b[95m, \u001b[0m\u001b[32m'content'\u001b[0m\u001b[95m: \u001b[0m\u001b[1;95m{\u001b[0m\u001b[32m'id'\u001b[0m\u001b[95m: \u001b[0m\u001b[1;36m14\u001b[0m\u001b[95m, \u001b[0m\u001b[32m'type'\u001b[0m\u001b[95m: \u001b[0m\u001b[32m'nữ'\u001b[0m\u001b[95m, \u001b[0m\u001b[32m'name'\u001b[0m\u001b[95m: \u001b[0m\u001b[32m'Massage Đá Nóng Thư Giãn'\u001b[0m\u001b[95m, \u001b[0m\n",
       "\u001b[2;36m                    \u001b[0m         \u001b[32m'duration_minutes'\u001b[0m\u001b[95m: \u001b[0m\u001b[1;36m75\u001b[0m\u001b[95m, \u001b[0m\u001b[32m'price'\u001b[0m\u001b[95m: \u001b[0m\u001b[1;36m650000\u001b[0m\u001b[95m, \u001b[0m\u001b[32m'description'\u001b[0m\u001b[95m: \u001b[0m\u001b[32m'Massage đá nóng đặc biệt dành cho \u001b[0m\n",
       "\u001b[2;36m                    \u001b[0m         \u001b[32mnữ giúp cải thiện lưu thông máu, giảm đau nhức cơ thể và mang lại sự cân bằng năng lượng. \u001b[0m \n",
       "\u001b[2;36m                    \u001b[0m         \u001b[32mLiệu trình mang lại sự thư thái và giấc ngủ ngon hơn.'\u001b[0m\u001b[1;95m}\u001b[0m\u001b[1;95m}\u001b[0m\u001b[95m, \u001b[0m\u001b[1;95m{\u001b[0m\u001b[32m'similarity'\u001b[0m\u001b[95m: \u001b[0m\u001b[1;36m0.393118185625295\u001b[0m\u001b[95m,\u001b[0m\n",
       "\u001b[2;36m                    \u001b[0m         \u001b[32m'content'\u001b[0m\u001b[95m: \u001b[0m\u001b[1;95m{\u001b[0m\u001b[32m'id'\u001b[0m\u001b[95m: \u001b[0m\u001b[1;36m7\u001b[0m\u001b[95m, \u001b[0m\u001b[32m'type'\u001b[0m\u001b[95m: \u001b[0m\u001b[32m'nam'\u001b[0m\u001b[95m, \u001b[0m\u001b[32m'name'\u001b[0m\u001b[95m: \u001b[0m\u001b[32m'Massage Thể Thao'\u001b[0m\u001b[95m, \u001b[0m\u001b[32m'duration_minutes'\u001b[0m\u001b[95m: \u001b[0m\u001b[1;36m60\u001b[0m\u001b[95m, \u001b[0m   \n",
       "\u001b[2;36m                    \u001b[0m         \u001b[32m'price'\u001b[0m\u001b[95m: \u001b[0m\u001b[1;36m550000\u001b[0m\u001b[95m, \u001b[0m\u001b[32m'description'\u001b[0m\u001b[95m: \u001b[0m\u001b[32m'Phù hợp cho nam giới sau khi tập luyện thể thao, dịch vụ \u001b[0m \n",
       "\u001b[2;36m                    \u001b[0m         \u001b[32mmassage này tập trung vào các nhóm cơ lớn, giúp giảm căng cơ, hỗ trợ phục hồi và nâng cao \u001b[0m \n",
       "\u001b[2;36m                    \u001b[0m         \u001b[32mhiệu suất luyện tập.'\u001b[0m\u001b[1;95m}\u001b[0m\u001b[1;95m}\u001b[0m\u001b[1;95m]\u001b[0m                                                                   \n"
      ]
     },
     "metadata": {},
     "output_type": "display_data"
    },
    {
     "data": {
      "text/html": [
       "<pre style=\"white-space:pre;overflow-x:auto;line-height:normal;font-family:Menlo,'DejaVu Sans Mono',consolas,'Courier New',monospace\"><span style=\"color: #7fbfbf; text-decoration-color: #7fbfbf\">                    </span><span style=\"color: #000080; text-decoration-color: #000080\">INFO    </span> ℹ️  <span style=\"color: #ff00ff; text-decoration-color: #ff00ff\">Có kết quả trả về từ RAG</span>                                                                \n",
       "</pre>\n"
      ],
      "text/plain": [
       "\u001b[2;36m                   \u001b[0m\u001b[2;36m \u001b[0m\u001b[34mINFO    \u001b[0m ℹ️  \u001b[95mCó kết quả trả về từ RAG\u001b[0m                                                                \n"
      ]
     },
     "metadata": {},
     "output_type": "display_data"
    },
    {
     "data": {
      "text/html": [
       "<pre style=\"white-space:pre;overflow-x:auto;line-height:normal;font-family:Menlo,'DejaVu Sans Mono',consolas,'Courier New',monospace\"><span style=\"color: #7fbfbf; text-decoration-color: #7fbfbf\">                    </span><span style=\"color: #800000; text-decoration-color: #800000; font-weight: bold\">ERROR   </span> ❌ <span style=\"color: #ff0000; text-decoration-color: #ff0000\">Lỗi: the JSON object must be str, bytes or bytearray, not dict</span>                          \n",
       "</pre>\n"
      ],
      "text/plain": [
       "\u001b[2;36m                   \u001b[0m\u001b[2;36m \u001b[0m\u001b[1;31mERROR   \u001b[0m ❌ \u001b[91mLỗi: the JSON object must be str, bytes or bytearray, not dict\u001b[0m                          \n"
      ]
     },
     "metadata": {},
     "output_type": "display_data"
    },
    {
     "name": "stdout",
     "output_type": "stream",
     "text": [
      "=================================\u001b[1m Tool Message \u001b[0m=================================\n",
      "Name: get_services_tool\n",
      "\n",
      "Error: TypeError('the JSON object must be str, bytes or bytearray, not dict')\n",
      " Please fix your mistakes.\n",
      "None\n",
      "==================================\u001b[1m Ai Message \u001b[0m==================================\n",
      "\n",
      "Dạ em chưa hiểu rõ ý anh/chị muốn hỏi về dịch vụ nào ạ? Anh/chị có thể cho em biết cụ thể hơn hoặc tên dịch vụ anh/chị quan tâm để em kiểm tra và tư vấn chính xác nhé!\n",
      "None\n",
      "==================================\u001b[1m Ai Message \u001b[0m==================================\n",
      "Name: booking_agent_node\n",
      "\n",
      "Dạ em chưa hiểu rõ ý anh/chị muốn hỏi về dịch vụ nào ạ? Anh/chị có thể cho em biết cụ thể hơn hoặc tên dịch vụ anh/chị quan tâm để em kiểm tra và tư vấn chính xác nhé!\n",
      "None\n",
      "==================================\u001b[1m Ai Message \u001b[0m==================================\n",
      "\n",
      "Chào anh/chị, bên AnVie Spa hiện có nhiều dịch vụ nổi bật dành cho cả nam và nữ ạ. \n",
      "\n",
      "- Dành cho Nam có các dịch vụ như: Massage Thư Giãn Toàn Thân, Chăm Sóc Da Mặt, Xông Hơi Thảo Dược, Massage Đá Nóng, Chăm Sóc Tóc & Da Đầu, Tẩy Tế Bào Chết Toàn Thân, Massage Thể Thao, Dưỡng Da Body, Ngâm Chân Thảo Dược, Liệu Trình Trị Liệu Cột Sống.\n",
      "\n",
      "- Dành cho Nữ có các dịch vụ như: Massage Thư Giãn Aroma, Chăm Sóc Da Mặt Cao Cấp, Tắm Trắng Toàn Thân, Massage Đá Nóng Thư Giãn, Chăm Sóc Body Cao Cấp, Liệu Trình Trị Liệu Da Mụn, Massage Bầu, Ngâm Chân Hoa Hồng, Tẩy Da Chết Toàn Thân, Liệu Trình Chống Lão Hóa.\n",
      "\n",
      "Anh/chị quan tâm dịch vụ nào bên em sẽ tư vấn chi tiết hơn nhé!\n",
      "None\n",
      "==================================\u001b[1m Ai Message \u001b[0m==================================\n",
      "Name: services_agent_node\n",
      "\n",
      "Chào anh/chị, bên AnVie Spa hiện có nhiều dịch vụ nổi bật dành cho cả nam và nữ ạ. \n",
      "\n",
      "- Dành cho Nam có các dịch vụ như: Massage Thư Giãn Toàn Thân, Chăm Sóc Da Mặt, Xông Hơi Thảo Dược, Massage Đá Nóng, Chăm Sóc Tóc & Da Đầu, Tẩy Tế Bào Chết Toàn Thân, Massage Thể Thao, Dưỡng Da Body, Ngâm Chân Thảo Dược, Liệu Trình Trị Liệu Cột Sống.\n",
      "\n",
      "- Dành cho Nữ có các dịch vụ như: Massage Thư Giãn Aroma, Chăm Sóc Da Mặt Cao Cấp, Tắm Trắng Toàn Thân, Massage Đá Nóng Thư Giãn, Chăm Sóc Body Cao Cấp, Liệu Trình Trị Liệu Da Mụn, Massage Bầu, Ngâm Chân Hoa Hồng, Tẩy Da Chết Toàn Thân, Liệu Trình Chống Lão Hóa.\n",
      "\n",
      "Anh/chị quan tâm dịch vụ nào bên em sẽ tư vấn chi tiết hơn nhé!\n",
      "None\n"
     ]
    }
   ],
   "source": [
    "state[\"user_input\"] = (\n",
    "    \"bên em có dịch vụ j hót ko\"\n",
    ")\n",
    "state[\"chat_id\"] = \"10\"\n",
    "\n",
    "await test_bot(graph, state, config, \"updates\")"
   ]
  },
  {
   "cell_type": "code",
   "execution_count": null,
   "metadata": {},
   "outputs": [],
   "source": [
    "state[\"user_input\"] = (\n",
    "    \"cái đơn thứ 2 á\"\n",
    ")\n",
    "state[\"chat_id\"] = \"10\"\n",
    "\n",
    "await test_bot(graph, state, config, \"updates\")"
   ]
  },
  {
   "cell_type": "code",
   "execution_count": null,
   "metadata": {},
   "outputs": [],
   "source": [
    "state[\"user_input\"] = (\n",
    "    \"uk đr\"\n",
    ")\n",
    "state[\"chat_id\"] = \"10\"\n",
    "\n",
    "await test_bot(graph, state, config, \"updates\")"
   ]
  },
  {
   "cell_type": "code",
   "execution_count": null,
   "metadata": {},
   "outputs": [],
   "source": [
    "state[\"user_input\"] = \"uk nó á em\"\n",
    "state[\"chat_id\"] = \"10\"\n",
    "\n",
    "await test_bot(graph, state, config, \"updates\")"
   ]
  },
  {
   "cell_type": "code",
   "execution_count": null,
   "metadata": {},
   "outputs": [],
   "source": [
    "state[\"user_input\"] = \"cho anh xin tổng giá cái giỏ hàng của anh đi\"\n",
    "state[\"chat_id\"] = \"10\"\n",
    "\n",
    "await test_bot(graph, state, config, \"updates\")"
   ]
  },
  {
   "cell_type": "code",
   "execution_count": null,
   "metadata": {},
   "outputs": [],
   "source": [
    "state[\"user_input\"] = \"ok em tạo đơn đi\"\n",
    "state[\"chat_id\"] = \"10\"\n",
    "\n",
    "await test_bot(graph, state, config, \"updates\")"
   ]
  },
  {
   "cell_type": "code",
   "execution_count": 9,
   "metadata": {},
   "outputs": [],
   "source": [
    "test = graph.get_state(config).values"
   ]
  },
  {
   "cell_type": "code",
   "execution_count": null,
   "metadata": {},
   "outputs": [],
   "source": [
    "test"
   ]
  },
  {
   "cell_type": "code",
   "execution_count": 1,
   "metadata": {},
   "outputs": [],
   "source": [
    "from database.connection import supabase_client, embeddings_model\n",
    "from repository.sync_repo import AppointmentRepo, RoomRepo, StaffRepo, ServiceRepo\n",
    "\n",
    "appointment_repo = AppointmentRepo(supabase_client=supabase_client)\n",
    "room_repo = RoomRepo(supabase_client=supabase_client)\n",
    "staff_repo = StaffRepo(supabase_client=supabase_client)\n",
    "service_repo = ServiceRepo(supabase_client=supabase_client)"
   ]
  },
  {
   "cell_type": "code",
   "execution_count": 2,
   "metadata": {},
   "outputs": [],
   "source": [
    "query_embedding = embeddings_model.embed_query(\n",
    "    \"có massgae thư giãn nào dành cho nam không\"\n",
    ")"
   ]
  },
  {
   "cell_type": "code",
   "execution_count": null,
   "metadata": {},
   "outputs": [],
   "source": [
    "db_result = service_repo.get_services_by_embedding(\n",
    "    query_embedding=query_embedding,\n",
    "    \n",
    ")\n",
    "db_result"
   ]
  },
  {
   "cell_type": "code",
   "execution_count": null,
   "metadata": {},
   "outputs": [],
   "source": [
    "for service in db_result[\"appointment_services\"]:\n",
    "    print(service[\"services\"][\"name\"])"
   ]
  },
  {
   "cell_type": "code",
   "execution_count": 3,
   "metadata": {},
   "outputs": [],
   "source": [
    "booking_date_new=\"15-09-2025\"\n",
    "start_time_new=\"8:00:00\"\n",
    "end_time_new=\"10:00:00\"\n",
    "\n",
    "booking_date_new = datetime.strptime(booking_date_new, \"%d-%m-%Y\").date()\n",
    "start_time_new = datetime.strptime(start_time_new, \"%H:%M:%S\").time()\n",
    "end_time_new = datetime.strptime(end_time_new, \"%H:%M:%S\").time()\n",
    "\n",
    "rooms, staffs = _check_available_with_end_time(\n",
    "    booking_date_new=booking_date_new,\n",
    "    start_time_new=start_time_new,\n",
    "    end_time_new=end_time_new\n",
    ")"
   ]
  }
 ],
 "metadata": {
  "kernelspec": {
   "display_name": ".sellbot",
   "language": "python",
   "name": "python3"
  },
  "language_info": {
   "codemirror_mode": {
    "name": "ipython",
    "version": 3
   },
   "file_extension": ".py",
   "mimetype": "text/x-python",
   "name": "python",
   "nbconvert_exporter": "python",
   "pygments_lexer": "ipython3",
   "version": "3.12.5"
  }
 },
 "nbformat": 4,
 "nbformat_minor": 2
}
